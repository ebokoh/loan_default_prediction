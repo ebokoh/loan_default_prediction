{
  "nbformat": 4,
  "nbformat_minor": 0,
  "metadata": {
    "colab": {
      "provenance": [],
      "include_colab_link": true
    },
    "kernelspec": {
      "name": "python3",
      "display_name": "Python 3"
    },
    "language_info": {
      "name": "python"
    },
    "accelerator": "GPU",
    "gpuClass": "standard"
  },
  "cells": [
    {
      "cell_type": "markdown",
      "metadata": {
        "id": "view-in-github",
        "colab_type": "text"
      },
      "source": [
        "<a href=\"https://colab.research.google.com/github/ebokoh/loan_default_prediction/blob/main/loan_default.ipynb\" target=\"_parent\"><img src=\"https://colab.research.google.com/assets/colab-badge.svg\" alt=\"Open In Colab\"/></a>"
      ]
    },
    {
      "cell_type": "code",
      "execution_count": null,
      "metadata": {
        "colab": {
          "base_uri": "https://localhost:8080/",
          "height": 36
        },
        "id": "nfS2kjON2UL9",
        "outputId": "2c82059a-4035-4bbc-d2ff-09a5d74b024b"
      },
      "outputs": [
        {
          "output_type": "execute_result",
          "data": {
            "text/plain": [
              "'2.9.2'"
            ],
            "application/vnd.google.colaboratory.intrinsic+json": {
              "type": "string"
            }
          },
          "metadata": {},
          "execution_count": 95
        }
      ],
      "source": [
        "import warnings\n",
        "import numpy as np\n",
        "import pandas as pd\n",
        "import tensorflow as tf\n",
        "import matplotlib.pyplot as plt\n",
        "import seaborn as sns\n",
        "from sklearn.preprocessing import StandardScaler, LabelEncoder, OneHotEncoder\n",
        "warnings.filterwarnings(\"ignore\")\n",
        "\n",
        "from sklearn.model_selection import train_test_split, GridSearchCV\n",
        "\n",
        "# Import machine learning libraries\n",
        "from sklearn.ensemble import RandomForestClassifier\n",
        "from sklearn.linear_model import LogisticRegression\n",
        "from sklearn.discriminant_analysis import LinearDiscriminantAnalysis\n",
        "from sklearn.neighbors import KNeighborsClassifier\n",
        "from sklearn.naive_bayes import GaussianNB\n",
        "from sklearn.ensemble import BaggingClassifier\n",
        "from sklearn.ensemble import GradientBoostingClassifier\n",
        "from sklearn.ensemble import AdaBoostClassifier\n",
        "from imblearn.over_sampling import SMOTE\n",
        "from sklearn.tree import DecisionTreeClassifier\n",
        "from sklearn.ensemble import VotingClassifier\n",
        "from sklearn.svm import SVC\n",
        "from sklearn.metrics import classification_report, confusion_matrix, plot_confusion_matrix,roc_curve, roc_auc_score,accuracy_score\n",
        "\n",
        "%matplotlib inline\n",
        "tf.__version__"
      ]
    },
    {
      "cell_type": "code",
      "source": [
        "from google.colab import drive\n",
        "drive.mount('/content/drive')"
      ],
      "metadata": {
        "colab": {
          "base_uri": "https://localhost:8080/"
        },
        "id": "UtXUgmIK2bwj",
        "outputId": "aae6b181-cbc5-434c-a664-78b8bb0dca32"
      },
      "execution_count": null,
      "outputs": [
        {
          "output_type": "stream",
          "name": "stdout",
          "text": [
            "Mounted at /content/drive\n"
          ]
        }
      ]
    },
    {
      "cell_type": "code",
      "source": [
        "tf.test.gpu_device_name()"
      ],
      "metadata": {
        "colab": {
          "base_uri": "https://localhost:8080/",
          "height": 36
        },
        "id": "UbbnOF292kca",
        "outputId": "7895fa12-40d9-4dcb-ca9f-920eb1dd1f04"
      },
      "execution_count": null,
      "outputs": [
        {
          "output_type": "execute_result",
          "data": {
            "text/plain": [
              "'/device:GPU:0'"
            ],
            "application/vnd.google.colaboratory.intrinsic+json": {
              "type": "string"
            }
          },
          "metadata": {},
          "execution_count": 3
        }
      ]
    },
    {
      "cell_type": "code",
      "source": [
        "df_train = pd.read_csv(\"/content/drive/MyDrive/myData/loan_default/training_data.csv\")\n",
        "df_test = pd.read_csv(\"/content/drive/MyDrive/myData/loan_default/testing_data.csv\")"
      ],
      "metadata": {
        "id": "iwa5JtZp4Hs-"
      },
      "execution_count": null,
      "outputs": []
    },
    {
      "cell_type": "code",
      "source": [
        "df_train.head()"
      ],
      "metadata": {
        "colab": {
          "base_uri": "https://localhost:8080/",
          "height": 438
        },
        "id": "VrhtBCHU5_S_",
        "outputId": "3c7d5093-6c45-4ab1-9aa2-902fe680663b"
      },
      "execution_count": null,
      "outputs": [
        {
          "output_type": "execute_result",
          "data": {
            "text/plain": [
              "   ID Date_Of_Disbursement  Business  Jobs_Reatained  Jobs_Created   \\\n",
              "0   0            31-Jul-91  Existing               0              0   \n",
              "1   1            30-Apr-06       New               0              6   \n",
              "2   2            30-Jun-04  Existing               4              0   \n",
              "3   3            31-Jan-06       New               9              1   \n",
              "4   4            31-Dec-04  Existing               4              0   \n",
              "\n",
              "  Year_Of_Commitment  Guaranteed_Approved _Loan  \\\n",
              "0                1991             Rs.33121600.0   \n",
              "1                2006             Rs.32735520.0   \n",
              "2                2004              Rs.1422400.0   \n",
              "3                2006              Rs.2032000.0   \n",
              "4                2005             Rs.22981920.0   \n",
              "\n",
              "                   Borrower_Name  Low_Documentation_Loan Demography  ...  \\\n",
              "0      STANDARD PARTS CORPORATION                     No  Undefined  ...   \n",
              "1            FRANK & KERI AMESTOY                     No      Urban  ...   \n",
              "2                TELECOMMQC L L C                     No      Urban  ...   \n",
              "3  K & A AUTOMOTIVE, INC. DBA MUF                     No      Urban  ...   \n",
              "4                    SUNBEAM DELI                     No      Urban  ...   \n",
              "\n",
              "  Classification_Code  Loan_Approved_Gross Gross_Amount_Disbursed   Loan_Term  \\\n",
              "0                    0       Rs.40640000.0            Rs.40640000.0       126   \n",
              "1               451120       Rs.43647360.0            Rs.43647360.0       123   \n",
              "2               541618        Rs.2844800.0            Rs.5961400.32        90   \n",
              "3               811112        Rs.4064000.0             Rs.4064000.0       126   \n",
              "4               722211       Rs.30642560.0            Rs.30642560.0       104   \n",
              "\n",
              "  Commitment_Date  Primary_Loan_Digit  Code_Franchise          Name_Of_Bank  \\\n",
              "0        2-Apr-91          4419763001               1        Axis Bank Ltd.   \n",
              "1       10-Apr-06          1709796003               1     Bandhan Bank Ltd.   \n",
              "2       25-May-04          7464754008               1      CSB Bank Limited   \n",
              "3       21-Dec-05          1588745006               0  City Union Bank Ltd.   \n",
              "4        2-Nov-04          8037734002               1         DCB Bank Ltd.   \n",
              "\n",
              "  Revolving_Credit_Line  Default  \n",
              "0                    No        0  \n",
              "1                     0        1  \n",
              "2                   Yes        0  \n",
              "3                   Yes        0  \n",
              "4                     0        1  \n",
              "\n",
              "[5 rows x 26 columns]"
            ],
            "text/html": [
              "\n",
              "  <div id=\"df-20ab98a0-0515-45dc-987d-66b48f027467\">\n",
              "    <div class=\"colab-df-container\">\n",
              "      <div>\n",
              "<style scoped>\n",
              "    .dataframe tbody tr th:only-of-type {\n",
              "        vertical-align: middle;\n",
              "    }\n",
              "\n",
              "    .dataframe tbody tr th {\n",
              "        vertical-align: top;\n",
              "    }\n",
              "\n",
              "    .dataframe thead th {\n",
              "        text-align: right;\n",
              "    }\n",
              "</style>\n",
              "<table border=\"1\" class=\"dataframe\">\n",
              "  <thead>\n",
              "    <tr style=\"text-align: right;\">\n",
              "      <th></th>\n",
              "      <th>ID</th>\n",
              "      <th>Date_Of_Disbursement</th>\n",
              "      <th>Business</th>\n",
              "      <th>Jobs_Reatained</th>\n",
              "      <th>Jobs_Created</th>\n",
              "      <th>Year_Of_Commitment</th>\n",
              "      <th>Guaranteed_Approved _Loan</th>\n",
              "      <th>Borrower_Name</th>\n",
              "      <th>Low_Documentation_Loan</th>\n",
              "      <th>Demography</th>\n",
              "      <th>...</th>\n",
              "      <th>Classification_Code</th>\n",
              "      <th>Loan_Approved_Gross</th>\n",
              "      <th>Gross_Amount_Disbursed</th>\n",
              "      <th>Loan_Term</th>\n",
              "      <th>Commitment_Date</th>\n",
              "      <th>Primary_Loan_Digit</th>\n",
              "      <th>Code_Franchise</th>\n",
              "      <th>Name_Of_Bank</th>\n",
              "      <th>Revolving_Credit_Line</th>\n",
              "      <th>Default</th>\n",
              "    </tr>\n",
              "  </thead>\n",
              "  <tbody>\n",
              "    <tr>\n",
              "      <th>0</th>\n",
              "      <td>0</td>\n",
              "      <td>31-Jul-91</td>\n",
              "      <td>Existing</td>\n",
              "      <td>0</td>\n",
              "      <td>0</td>\n",
              "      <td>1991</td>\n",
              "      <td>Rs.33121600.0</td>\n",
              "      <td>STANDARD PARTS CORPORATION</td>\n",
              "      <td>No</td>\n",
              "      <td>Undefined</td>\n",
              "      <td>...</td>\n",
              "      <td>0</td>\n",
              "      <td>Rs.40640000.0</td>\n",
              "      <td>Rs.40640000.0</td>\n",
              "      <td>126</td>\n",
              "      <td>2-Apr-91</td>\n",
              "      <td>4419763001</td>\n",
              "      <td>1</td>\n",
              "      <td>Axis Bank Ltd.</td>\n",
              "      <td>No</td>\n",
              "      <td>0</td>\n",
              "    </tr>\n",
              "    <tr>\n",
              "      <th>1</th>\n",
              "      <td>1</td>\n",
              "      <td>30-Apr-06</td>\n",
              "      <td>New</td>\n",
              "      <td>0</td>\n",
              "      <td>6</td>\n",
              "      <td>2006</td>\n",
              "      <td>Rs.32735520.0</td>\n",
              "      <td>FRANK &amp; KERI AMESTOY</td>\n",
              "      <td>No</td>\n",
              "      <td>Urban</td>\n",
              "      <td>...</td>\n",
              "      <td>451120</td>\n",
              "      <td>Rs.43647360.0</td>\n",
              "      <td>Rs.43647360.0</td>\n",
              "      <td>123</td>\n",
              "      <td>10-Apr-06</td>\n",
              "      <td>1709796003</td>\n",
              "      <td>1</td>\n",
              "      <td>Bandhan Bank Ltd.</td>\n",
              "      <td>0</td>\n",
              "      <td>1</td>\n",
              "    </tr>\n",
              "    <tr>\n",
              "      <th>2</th>\n",
              "      <td>2</td>\n",
              "      <td>30-Jun-04</td>\n",
              "      <td>Existing</td>\n",
              "      <td>4</td>\n",
              "      <td>0</td>\n",
              "      <td>2004</td>\n",
              "      <td>Rs.1422400.0</td>\n",
              "      <td>TELECOMMQC L L C</td>\n",
              "      <td>No</td>\n",
              "      <td>Urban</td>\n",
              "      <td>...</td>\n",
              "      <td>541618</td>\n",
              "      <td>Rs.2844800.0</td>\n",
              "      <td>Rs.5961400.32</td>\n",
              "      <td>90</td>\n",
              "      <td>25-May-04</td>\n",
              "      <td>7464754008</td>\n",
              "      <td>1</td>\n",
              "      <td>CSB Bank Limited</td>\n",
              "      <td>Yes</td>\n",
              "      <td>0</td>\n",
              "    </tr>\n",
              "    <tr>\n",
              "      <th>3</th>\n",
              "      <td>3</td>\n",
              "      <td>31-Jan-06</td>\n",
              "      <td>New</td>\n",
              "      <td>9</td>\n",
              "      <td>1</td>\n",
              "      <td>2006</td>\n",
              "      <td>Rs.2032000.0</td>\n",
              "      <td>K &amp; A AUTOMOTIVE, INC. DBA MUF</td>\n",
              "      <td>No</td>\n",
              "      <td>Urban</td>\n",
              "      <td>...</td>\n",
              "      <td>811112</td>\n",
              "      <td>Rs.4064000.0</td>\n",
              "      <td>Rs.4064000.0</td>\n",
              "      <td>126</td>\n",
              "      <td>21-Dec-05</td>\n",
              "      <td>1588745006</td>\n",
              "      <td>0</td>\n",
              "      <td>City Union Bank Ltd.</td>\n",
              "      <td>Yes</td>\n",
              "      <td>0</td>\n",
              "    </tr>\n",
              "    <tr>\n",
              "      <th>4</th>\n",
              "      <td>4</td>\n",
              "      <td>31-Dec-04</td>\n",
              "      <td>Existing</td>\n",
              "      <td>4</td>\n",
              "      <td>0</td>\n",
              "      <td>2005</td>\n",
              "      <td>Rs.22981920.0</td>\n",
              "      <td>SUNBEAM DELI</td>\n",
              "      <td>No</td>\n",
              "      <td>Urban</td>\n",
              "      <td>...</td>\n",
              "      <td>722211</td>\n",
              "      <td>Rs.30642560.0</td>\n",
              "      <td>Rs.30642560.0</td>\n",
              "      <td>104</td>\n",
              "      <td>2-Nov-04</td>\n",
              "      <td>8037734002</td>\n",
              "      <td>1</td>\n",
              "      <td>DCB Bank Ltd.</td>\n",
              "      <td>0</td>\n",
              "      <td>1</td>\n",
              "    </tr>\n",
              "  </tbody>\n",
              "</table>\n",
              "<p>5 rows × 26 columns</p>\n",
              "</div>\n",
              "      <button class=\"colab-df-convert\" onclick=\"convertToInteractive('df-20ab98a0-0515-45dc-987d-66b48f027467')\"\n",
              "              title=\"Convert this dataframe to an interactive table.\"\n",
              "              style=\"display:none;\">\n",
              "        \n",
              "  <svg xmlns=\"http://www.w3.org/2000/svg\" height=\"24px\"viewBox=\"0 0 24 24\"\n",
              "       width=\"24px\">\n",
              "    <path d=\"M0 0h24v24H0V0z\" fill=\"none\"/>\n",
              "    <path d=\"M18.56 5.44l.94 2.06.94-2.06 2.06-.94-2.06-.94-.94-2.06-.94 2.06-2.06.94zm-11 1L8.5 8.5l.94-2.06 2.06-.94-2.06-.94L8.5 2.5l-.94 2.06-2.06.94zm10 10l.94 2.06.94-2.06 2.06-.94-2.06-.94-.94-2.06-.94 2.06-2.06.94z\"/><path d=\"M17.41 7.96l-1.37-1.37c-.4-.4-.92-.59-1.43-.59-.52 0-1.04.2-1.43.59L10.3 9.45l-7.72 7.72c-.78.78-.78 2.05 0 2.83L4 21.41c.39.39.9.59 1.41.59.51 0 1.02-.2 1.41-.59l7.78-7.78 2.81-2.81c.8-.78.8-2.07 0-2.86zM5.41 20L4 18.59l7.72-7.72 1.47 1.35L5.41 20z\"/>\n",
              "  </svg>\n",
              "      </button>\n",
              "      \n",
              "  <style>\n",
              "    .colab-df-container {\n",
              "      display:flex;\n",
              "      flex-wrap:wrap;\n",
              "      gap: 12px;\n",
              "    }\n",
              "\n",
              "    .colab-df-convert {\n",
              "      background-color: #E8F0FE;\n",
              "      border: none;\n",
              "      border-radius: 50%;\n",
              "      cursor: pointer;\n",
              "      display: none;\n",
              "      fill: #1967D2;\n",
              "      height: 32px;\n",
              "      padding: 0 0 0 0;\n",
              "      width: 32px;\n",
              "    }\n",
              "\n",
              "    .colab-df-convert:hover {\n",
              "      background-color: #E2EBFA;\n",
              "      box-shadow: 0px 1px 2px rgba(60, 64, 67, 0.3), 0px 1px 3px 1px rgba(60, 64, 67, 0.15);\n",
              "      fill: #174EA6;\n",
              "    }\n",
              "\n",
              "    [theme=dark] .colab-df-convert {\n",
              "      background-color: #3B4455;\n",
              "      fill: #D2E3FC;\n",
              "    }\n",
              "\n",
              "    [theme=dark] .colab-df-convert:hover {\n",
              "      background-color: #434B5C;\n",
              "      box-shadow: 0px 1px 3px 1px rgba(0, 0, 0, 0.15);\n",
              "      filter: drop-shadow(0px 1px 2px rgba(0, 0, 0, 0.3));\n",
              "      fill: #FFFFFF;\n",
              "    }\n",
              "  </style>\n",
              "\n",
              "      <script>\n",
              "        const buttonEl =\n",
              "          document.querySelector('#df-20ab98a0-0515-45dc-987d-66b48f027467 button.colab-df-convert');\n",
              "        buttonEl.style.display =\n",
              "          google.colab.kernel.accessAllowed ? 'block' : 'none';\n",
              "\n",
              "        async function convertToInteractive(key) {\n",
              "          const element = document.querySelector('#df-20ab98a0-0515-45dc-987d-66b48f027467');\n",
              "          const dataTable =\n",
              "            await google.colab.kernel.invokeFunction('convertToInteractive',\n",
              "                                                     [key], {});\n",
              "          if (!dataTable) return;\n",
              "\n",
              "          const docLinkHtml = 'Like what you see? Visit the ' +\n",
              "            '<a target=\"_blank\" href=https://colab.research.google.com/notebooks/data_table.ipynb>data table notebook</a>'\n",
              "            + ' to learn more about interactive tables.';\n",
              "          element.innerHTML = '';\n",
              "          dataTable['output_type'] = 'display_data';\n",
              "          await google.colab.output.renderOutput(dataTable, element);\n",
              "          const docLink = document.createElement('div');\n",
              "          docLink.innerHTML = docLinkHtml;\n",
              "          element.appendChild(docLink);\n",
              "        }\n",
              "      </script>\n",
              "    </div>\n",
              "  </div>\n",
              "  "
            ]
          },
          "metadata": {},
          "execution_count": 6
        }
      ]
    },
    {
      "cell_type": "code",
      "source": [
        "df_train.shape"
      ],
      "metadata": {
        "colab": {
          "base_uri": "https://localhost:8080/"
        },
        "id": "i1KCGe326EOQ",
        "outputId": "c0667c06-5c39-4695-fca4-0bdf7291adbd"
      },
      "execution_count": null,
      "outputs": [
        {
          "output_type": "execute_result",
          "data": {
            "text/plain": [
              "(105000, 26)"
            ]
          },
          "metadata": {},
          "execution_count": 7
        }
      ]
    },
    {
      "cell_type": "code",
      "source": [
        "df_train.columns = [x.strip() for x in df_train.columns]\n"
      ],
      "metadata": {
        "id": "Ksg3OQrh6Kd6"
      },
      "execution_count": null,
      "outputs": []
    },
    {
      "cell_type": "code",
      "source": [
        "df_train = df_train.rename(columns = {'Guaranteed_Approved _Loan':'Guaranteed_Approved_Loan'})"
      ],
      "metadata": {
        "id": "BIt4kPor7n-0"
      },
      "execution_count": null,
      "outputs": []
    },
    {
      "cell_type": "code",
      "source": [
        "df_train_orig = df_train.copy()"
      ],
      "metadata": {
        "id": "9CWCwovv7yD6"
      },
      "execution_count": null,
      "outputs": []
    },
    {
      "cell_type": "code",
      "source": [
        "df_train['Revolving_Credit_Line'].fillna(df_train['Revolving_Credit_Line'].mode()[0], inplace=True)\n",
        "df_train['Low_Documentation_Loan'].fillna(df_train['Low_Documentation_Loan'].mode()[0], inplace=True)\n",
        "df_train['Business'].fillna(df_train['Business'].mode()[0], inplace=True)"
      ],
      "metadata": {
        "id": "770zXUl0705J"
      },
      "execution_count": null,
      "outputs": []
    },
    {
      "cell_type": "code",
      "source": [
        "df_train.isnull().sum().sort_values(ascending=False)"
      ],
      "metadata": {
        "colab": {
          "base_uri": "https://localhost:8080/"
        },
        "id": "mJyP6VaW77AU",
        "outputId": "325d61e8-c1a4-4525-a5bf-dd88e7a8c575"
      },
      "execution_count": null,
      "outputs": [
        {
          "output_type": "execute_result",
          "data": {
            "text/plain": [
              "Date_Of_Disbursement        235\n",
              "Borrower_Name                 3\n",
              "ID                            0\n",
              "Gross_Amount_Balance          0\n",
              "Revolving_Credit_Line         0\n",
              "Name_Of_Bank                  0\n",
              "Code_Franchise                0\n",
              "Primary_Loan_Digit            0\n",
              "Commitment_Date               0\n",
              "Loan_Term                     0\n",
              "Gross_Amount_Disbursed        0\n",
              "Loan_Approved_Gross           0\n",
              "Classification_Code           0\n",
              "Count_Employees               0\n",
              "Borrower_State                0\n",
              "Borrower_City                 0\n",
              "ChargedOff_Amount             0\n",
              "State_Of_Bank                 0\n",
              "Demography                    0\n",
              "Low_Documentation_Loan        0\n",
              "Guaranteed_Approved_Loan      0\n",
              "Year_Of_Commitment            0\n",
              "Jobs_Created                  0\n",
              "Jobs_Reatained                0\n",
              "Business                      0\n",
              "Default                       0\n",
              "dtype: int64"
            ]
          },
          "metadata": {},
          "execution_count": 12
        }
      ]
    },
    {
      "cell_type": "code",
      "source": [
        "df_train = df_train.drop('Date_Of_Disbursement',axis=1)\n",
        "\n",
        "df_train = df_train.drop('Borrower_Name',axis=1)"
      ],
      "metadata": {
        "id": "idUz-olh7_O8"
      },
      "execution_count": null,
      "outputs": []
    },
    {
      "cell_type": "code",
      "source": [
        "df_train.isnull().sum().sort_values(ascending=False)"
      ],
      "metadata": {
        "colab": {
          "base_uri": "https://localhost:8080/"
        },
        "id": "VRgWhDby8Gda",
        "outputId": "aa5cf452-9da0-46b5-81cf-4a850913d044"
      },
      "execution_count": null,
      "outputs": [
        {
          "output_type": "execute_result",
          "data": {
            "text/plain": [
              "ID                          0\n",
              "Business                    0\n",
              "Revolving_Credit_Line       0\n",
              "Name_Of_Bank                0\n",
              "Code_Franchise              0\n",
              "Primary_Loan_Digit          0\n",
              "Commitment_Date             0\n",
              "Loan_Term                   0\n",
              "Gross_Amount_Disbursed      0\n",
              "Loan_Approved_Gross         0\n",
              "Classification_Code         0\n",
              "Count_Employees             0\n",
              "Gross_Amount_Balance        0\n",
              "Borrower_State              0\n",
              "Borrower_City               0\n",
              "ChargedOff_Amount           0\n",
              "State_Of_Bank               0\n",
              "Demography                  0\n",
              "Low_Documentation_Loan      0\n",
              "Guaranteed_Approved_Loan    0\n",
              "Year_Of_Commitment          0\n",
              "Jobs_Created                0\n",
              "Jobs_Reatained              0\n",
              "Default                     0\n",
              "dtype: int64"
            ]
          },
          "metadata": {},
          "execution_count": 14
        }
      ]
    },
    {
      "cell_type": "code",
      "source": [
        "df_train.describe(include='all')"
      ],
      "metadata": {
        "colab": {
          "base_uri": "https://localhost:8080/",
          "height": 505
        },
        "id": "h807Jldf8QYm",
        "outputId": "a4e3ff18-cc6b-4c7b-c094-f10132f8a0c6"
      },
      "execution_count": null,
      "outputs": [
        {
          "output_type": "execute_result",
          "data": {
            "text/plain": [
              "                  ID  Business  Jobs_Reatained   Jobs_Created  \\\n",
              "count   105000.00000    105000   105000.000000  105000.000000   \n",
              "unique           NaN         3             NaN            NaN   \n",
              "top              NaN  Existing             NaN            NaN   \n",
              "freq             NaN     75106             NaN            NaN   \n",
              "mean     52499.50000       NaN       12.688648      10.379248   \n",
              "std      30311.03347       NaN      270.544185     270.340849   \n",
              "min          0.00000       NaN        0.000000       0.000000   \n",
              "25%      26249.75000       NaN        0.000000       0.000000   \n",
              "50%      52499.50000       NaN        1.000000       0.000000   \n",
              "75%      78749.25000       NaN        4.000000       1.000000   \n",
              "max     104999.00000       NaN     8800.000000    8800.000000   \n",
              "\n",
              "       Year_Of_Commitment Guaranteed_Approved_Loan Low_Documentation_Loan  \\\n",
              "count              105000                   105000                 105000   \n",
              "unique                 91                    10138                      7   \n",
              "top                  2007             Rs.2032000.0                     No   \n",
              "freq                 6769                     6464                  92502   \n",
              "mean                  NaN                      NaN                    NaN   \n",
              "std                   NaN                      NaN                    NaN   \n",
              "min                   NaN                      NaN                    NaN   \n",
              "25%                   NaN                      NaN                    NaN   \n",
              "50%                   NaN                      NaN                    NaN   \n",
              "75%                   NaN                      NaN                    NaN   \n",
              "max                   NaN                      NaN                    NaN   \n",
              "\n",
              "       Demography State_Of_Bank ChargedOff_Amount  ... Classification_Code  \\\n",
              "count      105000        105000            105000  ...       105000.000000   \n",
              "unique          3            34             23059  ...                 NaN   \n",
              "top         Urban            TR            Rs.0.0  ...                 NaN   \n",
              "freq        57598         15552             75515  ...                 NaN   \n",
              "mean          NaN           NaN               NaN  ...       405918.304276   \n",
              "std           NaN           NaN               NaN  ...       260335.963766   \n",
              "min           NaN           NaN               NaN  ...            0.000000   \n",
              "25%           NaN           NaN               NaN  ...       236115.000000   \n",
              "50%           NaN           NaN               NaN  ...       447110.000000   \n",
              "75%           NaN           NaN               NaN  ...       561740.000000   \n",
              "max           NaN           NaN               NaN  ...       928120.000000   \n",
              "\n",
              "       Loan_Approved_Gross Gross_Amount_Disbursed      Loan_Term  \\\n",
              "count               105000                 105000  105000.000000   \n",
              "unique                6218                  23443            NaN   \n",
              "top           Rs.4064000.0           Rs.4064000.0            NaN   \n",
              "freq                  8708                   5342            NaN   \n",
              "mean                   NaN                    NaN     156.438362   \n",
              "std                    NaN                    NaN     116.412721   \n",
              "min                    NaN                    NaN       0.000000   \n",
              "25%                    NaN                    NaN      90.000000   \n",
              "50%                    NaN                    NaN     126.000000   \n",
              "75%                    NaN                    NaN     180.000000   \n",
              "max                    NaN                    NaN     692.000000   \n",
              "\n",
              "        Commitment_Date Primary_Loan_Digit Code_Franchise     Name_Of_Bank  \\\n",
              "count            105000       1.050000e+05  105000.000000           105000   \n",
              "unique             7719                NaN            NaN              143   \n",
              "top           30-Jan-04                NaN            NaN  ICICI Bank Ltd.   \n",
              "freq                128                NaN            NaN            11215   \n",
              "mean                NaN       4.661622e+09    2707.201638              NaN   \n",
              "std                 NaN       2.546599e+09   12660.609090              NaN   \n",
              "min                 NaN       1.000034e+09       0.000000              NaN   \n",
              "25%                 NaN       2.478163e+09       0.000000              NaN   \n",
              "50%                 NaN       4.119824e+09       1.000000              NaN   \n",
              "75%                 NaN       6.760484e+09       1.000000              NaN   \n",
              "max                 NaN       9.996003e+09   92006.000000              NaN   \n",
              "\n",
              "       Revolving_Credit_Line        Default  \n",
              "count                 105000  105000.000000  \n",
              "unique                    11            NaN  \n",
              "top                       No            NaN  \n",
              "freq                   48613            NaN  \n",
              "mean                     NaN       0.277181  \n",
              "std                      NaN       0.447609  \n",
              "min                      NaN       0.000000  \n",
              "25%                      NaN       0.000000  \n",
              "50%                      NaN       0.000000  \n",
              "75%                      NaN       1.000000  \n",
              "max                      NaN       1.000000  \n",
              "\n",
              "[11 rows x 24 columns]"
            ],
            "text/html": [
              "\n",
              "  <div id=\"df-cfd7cdea-8014-4e15-9ffe-91bb7fb65e94\">\n",
              "    <div class=\"colab-df-container\">\n",
              "      <div>\n",
              "<style scoped>\n",
              "    .dataframe tbody tr th:only-of-type {\n",
              "        vertical-align: middle;\n",
              "    }\n",
              "\n",
              "    .dataframe tbody tr th {\n",
              "        vertical-align: top;\n",
              "    }\n",
              "\n",
              "    .dataframe thead th {\n",
              "        text-align: right;\n",
              "    }\n",
              "</style>\n",
              "<table border=\"1\" class=\"dataframe\">\n",
              "  <thead>\n",
              "    <tr style=\"text-align: right;\">\n",
              "      <th></th>\n",
              "      <th>ID</th>\n",
              "      <th>Business</th>\n",
              "      <th>Jobs_Reatained</th>\n",
              "      <th>Jobs_Created</th>\n",
              "      <th>Year_Of_Commitment</th>\n",
              "      <th>Guaranteed_Approved_Loan</th>\n",
              "      <th>Low_Documentation_Loan</th>\n",
              "      <th>Demography</th>\n",
              "      <th>State_Of_Bank</th>\n",
              "      <th>ChargedOff_Amount</th>\n",
              "      <th>...</th>\n",
              "      <th>Classification_Code</th>\n",
              "      <th>Loan_Approved_Gross</th>\n",
              "      <th>Gross_Amount_Disbursed</th>\n",
              "      <th>Loan_Term</th>\n",
              "      <th>Commitment_Date</th>\n",
              "      <th>Primary_Loan_Digit</th>\n",
              "      <th>Code_Franchise</th>\n",
              "      <th>Name_Of_Bank</th>\n",
              "      <th>Revolving_Credit_Line</th>\n",
              "      <th>Default</th>\n",
              "    </tr>\n",
              "  </thead>\n",
              "  <tbody>\n",
              "    <tr>\n",
              "      <th>count</th>\n",
              "      <td>105000.00000</td>\n",
              "      <td>105000</td>\n",
              "      <td>105000.000000</td>\n",
              "      <td>105000.000000</td>\n",
              "      <td>105000</td>\n",
              "      <td>105000</td>\n",
              "      <td>105000</td>\n",
              "      <td>105000</td>\n",
              "      <td>105000</td>\n",
              "      <td>105000</td>\n",
              "      <td>...</td>\n",
              "      <td>105000.000000</td>\n",
              "      <td>105000</td>\n",
              "      <td>105000</td>\n",
              "      <td>105000.000000</td>\n",
              "      <td>105000</td>\n",
              "      <td>1.050000e+05</td>\n",
              "      <td>105000.000000</td>\n",
              "      <td>105000</td>\n",
              "      <td>105000</td>\n",
              "      <td>105000.000000</td>\n",
              "    </tr>\n",
              "    <tr>\n",
              "      <th>unique</th>\n",
              "      <td>NaN</td>\n",
              "      <td>3</td>\n",
              "      <td>NaN</td>\n",
              "      <td>NaN</td>\n",
              "      <td>91</td>\n",
              "      <td>10138</td>\n",
              "      <td>7</td>\n",
              "      <td>3</td>\n",
              "      <td>34</td>\n",
              "      <td>23059</td>\n",
              "      <td>...</td>\n",
              "      <td>NaN</td>\n",
              "      <td>6218</td>\n",
              "      <td>23443</td>\n",
              "      <td>NaN</td>\n",
              "      <td>7719</td>\n",
              "      <td>NaN</td>\n",
              "      <td>NaN</td>\n",
              "      <td>143</td>\n",
              "      <td>11</td>\n",
              "      <td>NaN</td>\n",
              "    </tr>\n",
              "    <tr>\n",
              "      <th>top</th>\n",
              "      <td>NaN</td>\n",
              "      <td>Existing</td>\n",
              "      <td>NaN</td>\n",
              "      <td>NaN</td>\n",
              "      <td>2007</td>\n",
              "      <td>Rs.2032000.0</td>\n",
              "      <td>No</td>\n",
              "      <td>Urban</td>\n",
              "      <td>TR</td>\n",
              "      <td>Rs.0.0</td>\n",
              "      <td>...</td>\n",
              "      <td>NaN</td>\n",
              "      <td>Rs.4064000.0</td>\n",
              "      <td>Rs.4064000.0</td>\n",
              "      <td>NaN</td>\n",
              "      <td>30-Jan-04</td>\n",
              "      <td>NaN</td>\n",
              "      <td>NaN</td>\n",
              "      <td>ICICI Bank Ltd.</td>\n",
              "      <td>No</td>\n",
              "      <td>NaN</td>\n",
              "    </tr>\n",
              "    <tr>\n",
              "      <th>freq</th>\n",
              "      <td>NaN</td>\n",
              "      <td>75106</td>\n",
              "      <td>NaN</td>\n",
              "      <td>NaN</td>\n",
              "      <td>6769</td>\n",
              "      <td>6464</td>\n",
              "      <td>92502</td>\n",
              "      <td>57598</td>\n",
              "      <td>15552</td>\n",
              "      <td>75515</td>\n",
              "      <td>...</td>\n",
              "      <td>NaN</td>\n",
              "      <td>8708</td>\n",
              "      <td>5342</td>\n",
              "      <td>NaN</td>\n",
              "      <td>128</td>\n",
              "      <td>NaN</td>\n",
              "      <td>NaN</td>\n",
              "      <td>11215</td>\n",
              "      <td>48613</td>\n",
              "      <td>NaN</td>\n",
              "    </tr>\n",
              "    <tr>\n",
              "      <th>mean</th>\n",
              "      <td>52499.50000</td>\n",
              "      <td>NaN</td>\n",
              "      <td>12.688648</td>\n",
              "      <td>10.379248</td>\n",
              "      <td>NaN</td>\n",
              "      <td>NaN</td>\n",
              "      <td>NaN</td>\n",
              "      <td>NaN</td>\n",
              "      <td>NaN</td>\n",
              "      <td>NaN</td>\n",
              "      <td>...</td>\n",
              "      <td>405918.304276</td>\n",
              "      <td>NaN</td>\n",
              "      <td>NaN</td>\n",
              "      <td>156.438362</td>\n",
              "      <td>NaN</td>\n",
              "      <td>4.661622e+09</td>\n",
              "      <td>2707.201638</td>\n",
              "      <td>NaN</td>\n",
              "      <td>NaN</td>\n",
              "      <td>0.277181</td>\n",
              "    </tr>\n",
              "    <tr>\n",
              "      <th>std</th>\n",
              "      <td>30311.03347</td>\n",
              "      <td>NaN</td>\n",
              "      <td>270.544185</td>\n",
              "      <td>270.340849</td>\n",
              "      <td>NaN</td>\n",
              "      <td>NaN</td>\n",
              "      <td>NaN</td>\n",
              "      <td>NaN</td>\n",
              "      <td>NaN</td>\n",
              "      <td>NaN</td>\n",
              "      <td>...</td>\n",
              "      <td>260335.963766</td>\n",
              "      <td>NaN</td>\n",
              "      <td>NaN</td>\n",
              "      <td>116.412721</td>\n",
              "      <td>NaN</td>\n",
              "      <td>2.546599e+09</td>\n",
              "      <td>12660.609090</td>\n",
              "      <td>NaN</td>\n",
              "      <td>NaN</td>\n",
              "      <td>0.447609</td>\n",
              "    </tr>\n",
              "    <tr>\n",
              "      <th>min</th>\n",
              "      <td>0.00000</td>\n",
              "      <td>NaN</td>\n",
              "      <td>0.000000</td>\n",
              "      <td>0.000000</td>\n",
              "      <td>NaN</td>\n",
              "      <td>NaN</td>\n",
              "      <td>NaN</td>\n",
              "      <td>NaN</td>\n",
              "      <td>NaN</td>\n",
              "      <td>NaN</td>\n",
              "      <td>...</td>\n",
              "      <td>0.000000</td>\n",
              "      <td>NaN</td>\n",
              "      <td>NaN</td>\n",
              "      <td>0.000000</td>\n",
              "      <td>NaN</td>\n",
              "      <td>1.000034e+09</td>\n",
              "      <td>0.000000</td>\n",
              "      <td>NaN</td>\n",
              "      <td>NaN</td>\n",
              "      <td>0.000000</td>\n",
              "    </tr>\n",
              "    <tr>\n",
              "      <th>25%</th>\n",
              "      <td>26249.75000</td>\n",
              "      <td>NaN</td>\n",
              "      <td>0.000000</td>\n",
              "      <td>0.000000</td>\n",
              "      <td>NaN</td>\n",
              "      <td>NaN</td>\n",
              "      <td>NaN</td>\n",
              "      <td>NaN</td>\n",
              "      <td>NaN</td>\n",
              "      <td>NaN</td>\n",
              "      <td>...</td>\n",
              "      <td>236115.000000</td>\n",
              "      <td>NaN</td>\n",
              "      <td>NaN</td>\n",
              "      <td>90.000000</td>\n",
              "      <td>NaN</td>\n",
              "      <td>2.478163e+09</td>\n",
              "      <td>0.000000</td>\n",
              "      <td>NaN</td>\n",
              "      <td>NaN</td>\n",
              "      <td>0.000000</td>\n",
              "    </tr>\n",
              "    <tr>\n",
              "      <th>50%</th>\n",
              "      <td>52499.50000</td>\n",
              "      <td>NaN</td>\n",
              "      <td>1.000000</td>\n",
              "      <td>0.000000</td>\n",
              "      <td>NaN</td>\n",
              "      <td>NaN</td>\n",
              "      <td>NaN</td>\n",
              "      <td>NaN</td>\n",
              "      <td>NaN</td>\n",
              "      <td>NaN</td>\n",
              "      <td>...</td>\n",
              "      <td>447110.000000</td>\n",
              "      <td>NaN</td>\n",
              "      <td>NaN</td>\n",
              "      <td>126.000000</td>\n",
              "      <td>NaN</td>\n",
              "      <td>4.119824e+09</td>\n",
              "      <td>1.000000</td>\n",
              "      <td>NaN</td>\n",
              "      <td>NaN</td>\n",
              "      <td>0.000000</td>\n",
              "    </tr>\n",
              "    <tr>\n",
              "      <th>75%</th>\n",
              "      <td>78749.25000</td>\n",
              "      <td>NaN</td>\n",
              "      <td>4.000000</td>\n",
              "      <td>1.000000</td>\n",
              "      <td>NaN</td>\n",
              "      <td>NaN</td>\n",
              "      <td>NaN</td>\n",
              "      <td>NaN</td>\n",
              "      <td>NaN</td>\n",
              "      <td>NaN</td>\n",
              "      <td>...</td>\n",
              "      <td>561740.000000</td>\n",
              "      <td>NaN</td>\n",
              "      <td>NaN</td>\n",
              "      <td>180.000000</td>\n",
              "      <td>NaN</td>\n",
              "      <td>6.760484e+09</td>\n",
              "      <td>1.000000</td>\n",
              "      <td>NaN</td>\n",
              "      <td>NaN</td>\n",
              "      <td>1.000000</td>\n",
              "    </tr>\n",
              "    <tr>\n",
              "      <th>max</th>\n",
              "      <td>104999.00000</td>\n",
              "      <td>NaN</td>\n",
              "      <td>8800.000000</td>\n",
              "      <td>8800.000000</td>\n",
              "      <td>NaN</td>\n",
              "      <td>NaN</td>\n",
              "      <td>NaN</td>\n",
              "      <td>NaN</td>\n",
              "      <td>NaN</td>\n",
              "      <td>NaN</td>\n",
              "      <td>...</td>\n",
              "      <td>928120.000000</td>\n",
              "      <td>NaN</td>\n",
              "      <td>NaN</td>\n",
              "      <td>692.000000</td>\n",
              "      <td>NaN</td>\n",
              "      <td>9.996003e+09</td>\n",
              "      <td>92006.000000</td>\n",
              "      <td>NaN</td>\n",
              "      <td>NaN</td>\n",
              "      <td>1.000000</td>\n",
              "    </tr>\n",
              "  </tbody>\n",
              "</table>\n",
              "<p>11 rows × 24 columns</p>\n",
              "</div>\n",
              "      <button class=\"colab-df-convert\" onclick=\"convertToInteractive('df-cfd7cdea-8014-4e15-9ffe-91bb7fb65e94')\"\n",
              "              title=\"Convert this dataframe to an interactive table.\"\n",
              "              style=\"display:none;\">\n",
              "        \n",
              "  <svg xmlns=\"http://www.w3.org/2000/svg\" height=\"24px\"viewBox=\"0 0 24 24\"\n",
              "       width=\"24px\">\n",
              "    <path d=\"M0 0h24v24H0V0z\" fill=\"none\"/>\n",
              "    <path d=\"M18.56 5.44l.94 2.06.94-2.06 2.06-.94-2.06-.94-.94-2.06-.94 2.06-2.06.94zm-11 1L8.5 8.5l.94-2.06 2.06-.94-2.06-.94L8.5 2.5l-.94 2.06-2.06.94zm10 10l.94 2.06.94-2.06 2.06-.94-2.06-.94-.94-2.06-.94 2.06-2.06.94z\"/><path d=\"M17.41 7.96l-1.37-1.37c-.4-.4-.92-.59-1.43-.59-.52 0-1.04.2-1.43.59L10.3 9.45l-7.72 7.72c-.78.78-.78 2.05 0 2.83L4 21.41c.39.39.9.59 1.41.59.51 0 1.02-.2 1.41-.59l7.78-7.78 2.81-2.81c.8-.78.8-2.07 0-2.86zM5.41 20L4 18.59l7.72-7.72 1.47 1.35L5.41 20z\"/>\n",
              "  </svg>\n",
              "      </button>\n",
              "      \n",
              "  <style>\n",
              "    .colab-df-container {\n",
              "      display:flex;\n",
              "      flex-wrap:wrap;\n",
              "      gap: 12px;\n",
              "    }\n",
              "\n",
              "    .colab-df-convert {\n",
              "      background-color: #E8F0FE;\n",
              "      border: none;\n",
              "      border-radius: 50%;\n",
              "      cursor: pointer;\n",
              "      display: none;\n",
              "      fill: #1967D2;\n",
              "      height: 32px;\n",
              "      padding: 0 0 0 0;\n",
              "      width: 32px;\n",
              "    }\n",
              "\n",
              "    .colab-df-convert:hover {\n",
              "      background-color: #E2EBFA;\n",
              "      box-shadow: 0px 1px 2px rgba(60, 64, 67, 0.3), 0px 1px 3px 1px rgba(60, 64, 67, 0.15);\n",
              "      fill: #174EA6;\n",
              "    }\n",
              "\n",
              "    [theme=dark] .colab-df-convert {\n",
              "      background-color: #3B4455;\n",
              "      fill: #D2E3FC;\n",
              "    }\n",
              "\n",
              "    [theme=dark] .colab-df-convert:hover {\n",
              "      background-color: #434B5C;\n",
              "      box-shadow: 0px 1px 3px 1px rgba(0, 0, 0, 0.15);\n",
              "      filter: drop-shadow(0px 1px 2px rgba(0, 0, 0, 0.3));\n",
              "      fill: #FFFFFF;\n",
              "    }\n",
              "  </style>\n",
              "\n",
              "      <script>\n",
              "        const buttonEl =\n",
              "          document.querySelector('#df-cfd7cdea-8014-4e15-9ffe-91bb7fb65e94 button.colab-df-convert');\n",
              "        buttonEl.style.display =\n",
              "          google.colab.kernel.accessAllowed ? 'block' : 'none';\n",
              "\n",
              "        async function convertToInteractive(key) {\n",
              "          const element = document.querySelector('#df-cfd7cdea-8014-4e15-9ffe-91bb7fb65e94');\n",
              "          const dataTable =\n",
              "            await google.colab.kernel.invokeFunction('convertToInteractive',\n",
              "                                                     [key], {});\n",
              "          if (!dataTable) return;\n",
              "\n",
              "          const docLinkHtml = 'Like what you see? Visit the ' +\n",
              "            '<a target=\"_blank\" href=https://colab.research.google.com/notebooks/data_table.ipynb>data table notebook</a>'\n",
              "            + ' to learn more about interactive tables.';\n",
              "          element.innerHTML = '';\n",
              "          dataTable['output_type'] = 'display_data';\n",
              "          await google.colab.output.renderOutput(dataTable, element);\n",
              "          const docLink = document.createElement('div');\n",
              "          docLink.innerHTML = docLinkHtml;\n",
              "          element.appendChild(docLink);\n",
              "        }\n",
              "      </script>\n",
              "    </div>\n",
              "  </div>\n",
              "  "
            ]
          },
          "metadata": {},
          "execution_count": 15
        }
      ]
    },
    {
      "cell_type": "code",
      "source": [
        "\n",
        "df_train.info()"
      ],
      "metadata": {
        "colab": {
          "base_uri": "https://localhost:8080/"
        },
        "id": "Lf0pN7VS8TlB",
        "outputId": "0fc09ea0-acd2-4363-b70c-e57c97d18a8b"
      },
      "execution_count": null,
      "outputs": [
        {
          "output_type": "stream",
          "name": "stdout",
          "text": [
            "<class 'pandas.core.frame.DataFrame'>\n",
            "RangeIndex: 105000 entries, 0 to 104999\n",
            "Data columns (total 24 columns):\n",
            " #   Column                    Non-Null Count   Dtype \n",
            "---  ------                    --------------   ----- \n",
            " 0   ID                        105000 non-null  int64 \n",
            " 1   Business                  105000 non-null  object\n",
            " 2   Jobs_Reatained            105000 non-null  int64 \n",
            " 3   Jobs_Created              105000 non-null  int64 \n",
            " 4   Year_Of_Commitment        105000 non-null  object\n",
            " 5   Guaranteed_Approved_Loan  105000 non-null  object\n",
            " 6   Low_Documentation_Loan    105000 non-null  object\n",
            " 7   Demography                105000 non-null  object\n",
            " 8   State_Of_Bank             105000 non-null  object\n",
            " 9   ChargedOff_Amount         105000 non-null  object\n",
            " 10  Borrower_City             105000 non-null  object\n",
            " 11  Borrower_State            105000 non-null  object\n",
            " 12  Gross_Amount_Balance      105000 non-null  object\n",
            " 13  Count_Employees           105000 non-null  int64 \n",
            " 14  Classification_Code       105000 non-null  int64 \n",
            " 15  Loan_Approved_Gross       105000 non-null  object\n",
            " 16  Gross_Amount_Disbursed    105000 non-null  object\n",
            " 17  Loan_Term                 105000 non-null  int64 \n",
            " 18  Commitment_Date           105000 non-null  object\n",
            " 19  Primary_Loan_Digit        105000 non-null  int64 \n",
            " 20  Code_Franchise            105000 non-null  int64 \n",
            " 21  Name_Of_Bank              105000 non-null  object\n",
            " 22  Revolving_Credit_Line     105000 non-null  object\n",
            " 23  Default                   105000 non-null  int64 \n",
            "dtypes: int64(9), object(15)\n",
            "memory usage: 19.2+ MB\n"
          ]
        }
      ]
    },
    {
      "cell_type": "code",
      "source": [
        "df_train['Loan_Approved_Gross'].apply(type).value_counts()"
      ],
      "metadata": {
        "colab": {
          "base_uri": "https://localhost:8080/"
        },
        "id": "qAxbYvD08bIB",
        "outputId": "b06482e2-5896-4c6e-b0bf-4c4bc98f33dd"
      },
      "execution_count": null,
      "outputs": [
        {
          "output_type": "execute_result",
          "data": {
            "text/plain": [
              "<class 'str'>    105000\n",
              "Name: Loan_Approved_Gross, dtype: int64"
            ]
          },
          "metadata": {},
          "execution_count": 17
        }
      ]
    },
    {
      "cell_type": "code",
      "source": [
        "df_train['Loan_Approved_Gross'] = df_train['Loan_Approved_Gross'].apply(lambda x: x.replace('Rs.', '').replace(',', '') if isinstance(x, str) else x).astype(float)\n",
        "df_train['Gross_Amount_Disbursed'] = df_train['Gross_Amount_Disbursed'].apply(lambda x: x.replace('Rs.', '').replace(',', '') if isinstance(x, str) else x).astype(float)\n",
        "df_train['Gross_Amount_Balance'] = df_train['Gross_Amount_Balance'].apply(lambda x: x.replace('Rs.', '').replace(',', '') if isinstance(x, str) else x).astype(float)\n",
        "df_train['ChargedOff_Amount'] = df_train['ChargedOff_Amount'].apply(lambda x: x.replace('Rs.', '').replace(',', '') if isinstance(x, str) else x).astype(float)\n",
        "df_train['Guaranteed_Approved_Loan'] = df_train['Guaranteed_Approved_Loan'].apply(lambda x: x.replace('Rs.', '').replace(',', '') if isinstance(x, str) else x).astype(float)"
      ],
      "metadata": {
        "id": "qwxbl83s8hq1"
      },
      "execution_count": null,
      "outputs": []
    },
    {
      "cell_type": "code",
      "source": [
        "df_train.info()"
      ],
      "metadata": {
        "colab": {
          "base_uri": "https://localhost:8080/"
        },
        "id": "cIkovTYa8sgm",
        "outputId": "63b03deb-3d06-4db8-aaf3-82abeefa1d3c"
      },
      "execution_count": null,
      "outputs": [
        {
          "output_type": "stream",
          "name": "stdout",
          "text": [
            "<class 'pandas.core.frame.DataFrame'>\n",
            "RangeIndex: 105000 entries, 0 to 104999\n",
            "Data columns (total 24 columns):\n",
            " #   Column                    Non-Null Count   Dtype  \n",
            "---  ------                    --------------   -----  \n",
            " 0   ID                        105000 non-null  int64  \n",
            " 1   Business                  105000 non-null  object \n",
            " 2   Jobs_Reatained            105000 non-null  int64  \n",
            " 3   Jobs_Created              105000 non-null  int64  \n",
            " 4   Year_Of_Commitment        105000 non-null  object \n",
            " 5   Guaranteed_Approved_Loan  105000 non-null  float64\n",
            " 6   Low_Documentation_Loan    105000 non-null  object \n",
            " 7   Demography                105000 non-null  object \n",
            " 8   State_Of_Bank             105000 non-null  object \n",
            " 9   ChargedOff_Amount         105000 non-null  float64\n",
            " 10  Borrower_City             105000 non-null  object \n",
            " 11  Borrower_State            105000 non-null  object \n",
            " 12  Gross_Amount_Balance      105000 non-null  float64\n",
            " 13  Count_Employees           105000 non-null  int64  \n",
            " 14  Classification_Code       105000 non-null  int64  \n",
            " 15  Loan_Approved_Gross       105000 non-null  float64\n",
            " 16  Gross_Amount_Disbursed    105000 non-null  float64\n",
            " 17  Loan_Term                 105000 non-null  int64  \n",
            " 18  Commitment_Date           105000 non-null  object \n",
            " 19  Primary_Loan_Digit        105000 non-null  int64  \n",
            " 20  Code_Franchise            105000 non-null  int64  \n",
            " 21  Name_Of_Bank              105000 non-null  object \n",
            " 22  Revolving_Credit_Line     105000 non-null  object \n",
            " 23  Default                   105000 non-null  int64  \n",
            "dtypes: float64(5), int64(9), object(10)\n",
            "memory usage: 19.2+ MB\n"
          ]
        }
      ]
    },
    {
      "cell_type": "code",
      "source": [
        "df_train = df_train.drop('ID',axis=1)"
      ],
      "metadata": {
        "id": "xAJLNrvr8zad"
      },
      "execution_count": null,
      "outputs": []
    },
    {
      "cell_type": "code",
      "source": [
        "df_train['Revolving_Credit_Line'].value_counts()\n",
        "\n",
        "df_train = df_train.loc[df_train['Revolving_Credit_Line'].isin(['Yes','No'])]\n",
        "\n",
        "df_train.isnull().sum().sort_values(ascending=False)"
      ],
      "metadata": {
        "colab": {
          "base_uri": "https://localhost:8080/"
        },
        "id": "xg9VebHd9AMx",
        "outputId": "db7ca63a-a5f3-4970-81eb-8cae12d49c30"
      },
      "execution_count": null,
      "outputs": [
        {
          "output_type": "execute_result",
          "data": {
            "text/plain": [
              "Business                    0\n",
              "Count_Employees             0\n",
              "Revolving_Credit_Line       0\n",
              "Name_Of_Bank                0\n",
              "Code_Franchise              0\n",
              "Primary_Loan_Digit          0\n",
              "Commitment_Date             0\n",
              "Loan_Term                   0\n",
              "Gross_Amount_Disbursed      0\n",
              "Loan_Approved_Gross         0\n",
              "Classification_Code         0\n",
              "Gross_Amount_Balance        0\n",
              "Jobs_Reatained              0\n",
              "Borrower_State              0\n",
              "Borrower_City               0\n",
              "ChargedOff_Amount           0\n",
              "State_Of_Bank               0\n",
              "Demography                  0\n",
              "Low_Documentation_Loan      0\n",
              "Guaranteed_Approved_Loan    0\n",
              "Year_Of_Commitment          0\n",
              "Jobs_Created                0\n",
              "Default                     0\n",
              "dtype: int64"
            ]
          },
          "metadata": {},
          "execution_count": 21
        }
      ]
    },
    {
      "cell_type": "code",
      "source": [
        "df_train = df_train.drop(['Primary_Loan_Digit'], axis=1)\n",
        "\n",
        "df_train.shape"
      ],
      "metadata": {
        "colab": {
          "base_uri": "https://localhost:8080/"
        },
        "id": "J5mW0meB9F5o",
        "outputId": "7602a294-40cc-44db-d841-945fc105da28"
      },
      "execution_count": null,
      "outputs": [
        {
          "output_type": "execute_result",
          "data": {
            "text/plain": [
              "(73256, 22)"
            ]
          },
          "metadata": {},
          "execution_count": 22
        }
      ]
    },
    {
      "cell_type": "code",
      "source": [
        "df_train['Business'].value_counts()"
      ],
      "metadata": {
        "colab": {
          "base_uri": "https://localhost:8080/"
        },
        "id": "A01xZS_r9Of-",
        "outputId": "3a640457-1897-4ab9-bef4-358ef7957123"
      },
      "execution_count": null,
      "outputs": [
        {
          "output_type": "execute_result",
          "data": {
            "text/plain": [
              "Existing    53332\n",
              "New         19828\n",
              "0              96\n",
              "Name: Business, dtype: int64"
            ]
          },
          "metadata": {},
          "execution_count": 23
        }
      ]
    },
    {
      "cell_type": "code",
      "source": [
        "df_train = df_train.loc[df_train['Business'].isin(['Existing','New'])]\n",
        "\n",
        "df_train.shape"
      ],
      "metadata": {
        "colab": {
          "base_uri": "https://localhost:8080/"
        },
        "id": "0B2jGBQE9XFj",
        "outputId": "68d5f92c-17d0-4b75-8a61-d25b75c6b87e"
      },
      "execution_count": null,
      "outputs": [
        {
          "output_type": "execute_result",
          "data": {
            "text/plain": [
              "(73160, 22)"
            ]
          },
          "metadata": {},
          "execution_count": 24
        }
      ]
    },
    {
      "cell_type": "code",
      "source": [
        "df_train['Low_Documentation_Loan'].value_counts()"
      ],
      "metadata": {
        "colab": {
          "base_uri": "https://localhost:8080/"
        },
        "id": "FgmkxLO49aYp",
        "outputId": "dcb71299-cd15-4d0a-8c87-a4320ab5d0b1"
      },
      "execution_count": null,
      "outputs": [
        {
          "output_type": "execute_result",
          "data": {
            "text/plain": [
              "No     66511\n",
              "Yes     6303\n",
              "0        163\n",
              "S         89\n",
              "C         77\n",
              "A         12\n",
              "R          5\n",
              "Name: Low_Documentation_Loan, dtype: int64"
            ]
          },
          "metadata": {},
          "execution_count": 25
        }
      ]
    },
    {
      "cell_type": "code",
      "source": [
        "df_train = df_train.loc[df_train['Low_Documentation_Loan'].isin(['Yes','No'])]\n",
        "\n",
        "df_train.shape"
      ],
      "metadata": {
        "colab": {
          "base_uri": "https://localhost:8080/"
        },
        "id": "kvR0Jonn9ei1",
        "outputId": "1272e17f-982c-4a0f-bf35-662eb5002f43"
      },
      "execution_count": null,
      "outputs": [
        {
          "output_type": "execute_result",
          "data": {
            "text/plain": [
              "(72814, 22)"
            ]
          },
          "metadata": {},
          "execution_count": 26
        }
      ]
    },
    {
      "cell_type": "code",
      "source": [
        "df_train['Default'].value_counts()"
      ],
      "metadata": {
        "colab": {
          "base_uri": "https://localhost:8080/"
        },
        "id": "mw3wxy1r9hXs",
        "outputId": "e011c20d-5c46-418f-dac6-f7912076c6af"
      },
      "execution_count": null,
      "outputs": [
        {
          "output_type": "execute_result",
          "data": {
            "text/plain": [
              "0    52108\n",
              "1    20706\n",
              "Name: Default, dtype: int64"
            ]
          },
          "metadata": {},
          "execution_count": 27
        }
      ]
    },
    {
      "cell_type": "code",
      "source": [
        "le= LabelEncoder()"
      ],
      "metadata": {
        "id": "YTXNX4GC9m2Z"
      },
      "execution_count": null,
      "outputs": []
    },
    {
      "cell_type": "code",
      "source": [
        "df_train['Business'].value_counts()"
      ],
      "metadata": {
        "colab": {
          "base_uri": "https://localhost:8080/"
        },
        "id": "qW0grisQ9rzb",
        "outputId": "3ae3395d-fa58-4f3a-ddfa-69fad1b1ca60"
      },
      "execution_count": null,
      "outputs": [
        {
          "output_type": "execute_result",
          "data": {
            "text/plain": [
              "Existing    53097\n",
              "New         19717\n",
              "Name: Business, dtype: int64"
            ]
          },
          "metadata": {},
          "execution_count": 31
        }
      ]
    },
    {
      "cell_type": "code",
      "source": [
        "df_train['Business'] = le.fit_transform(df_train['Business'])\n",
        "df_train['Business'].value_counts()"
      ],
      "metadata": {
        "colab": {
          "base_uri": "https://localhost:8080/"
        },
        "id": "adb_edAv-FZY",
        "outputId": "3c5acbd5-6826-44ce-9a6c-37d73aa638e2"
      },
      "execution_count": null,
      "outputs": [
        {
          "output_type": "execute_result",
          "data": {
            "text/plain": [
              "0    53097\n",
              "1    19717\n",
              "Name: Business, dtype: int64"
            ]
          },
          "metadata": {},
          "execution_count": 32
        }
      ]
    },
    {
      "cell_type": "code",
      "source": [
        "df_train['Low_Documentation_Loan'].value_counts()"
      ],
      "metadata": {
        "colab": {
          "base_uri": "https://localhost:8080/"
        },
        "id": "IHeNE_t3-Krn",
        "outputId": "d2cf0310-9de4-4005-ea47-02bf64fdcd5a"
      },
      "execution_count": null,
      "outputs": [
        {
          "output_type": "execute_result",
          "data": {
            "text/plain": [
              "No     66511\n",
              "Yes     6303\n",
              "Name: Low_Documentation_Loan, dtype: int64"
            ]
          },
          "metadata": {},
          "execution_count": 33
        }
      ]
    },
    {
      "cell_type": "code",
      "source": [
        "df_train['Low_Documentation_Loan'] = le.fit_transform(df_train['Low_Documentation_Loan'])\n",
        "df_train['Low_Documentation_Loan'].value_counts()"
      ],
      "metadata": {
        "colab": {
          "base_uri": "https://localhost:8080/"
        },
        "id": "d43Zb-zg-QlC",
        "outputId": "f3fb4ee9-1d3f-4297-ab44-27770ead3322"
      },
      "execution_count": null,
      "outputs": [
        {
          "output_type": "execute_result",
          "data": {
            "text/plain": [
              "0    66511\n",
              "1     6303\n",
              "Name: Low_Documentation_Loan, dtype: int64"
            ]
          },
          "metadata": {},
          "execution_count": 34
        }
      ]
    },
    {
      "cell_type": "code",
      "source": [
        "df_train['Demography'].value_counts()"
      ],
      "metadata": {
        "colab": {
          "base_uri": "https://localhost:8080/"
        },
        "id": "7lUqPm3a-UQE",
        "outputId": "1fa41d19-987f-4365-91ef-1aeced8b556d"
      },
      "execution_count": null,
      "outputs": [
        {
          "output_type": "execute_result",
          "data": {
            "text/plain": [
              "Urban        37176\n",
              "Undefined    27818\n",
              "Rural         7820\n",
              "Name: Demography, dtype: int64"
            ]
          },
          "metadata": {},
          "execution_count": 35
        }
      ]
    },
    {
      "cell_type": "code",
      "source": [
        "df_train = pd.get_dummies(data=df_train, columns=['Demography'])"
      ],
      "metadata": {
        "id": "Rqhi2GsJ-XuY"
      },
      "execution_count": null,
      "outputs": []
    },
    {
      "cell_type": "code",
      "source": [
        "df_train.shape"
      ],
      "metadata": {
        "colab": {
          "base_uri": "https://localhost:8080/"
        },
        "id": "MPh1mN-x-po5",
        "outputId": "e5e2695b-8aec-4862-8581-63e45e2561b2"
      },
      "execution_count": null,
      "outputs": [
        {
          "output_type": "execute_result",
          "data": {
            "text/plain": [
              "(72814, 24)"
            ]
          },
          "metadata": {},
          "execution_count": 37
        }
      ]
    },
    {
      "cell_type": "code",
      "source": [
        "df_train.isnull().sum().sort_values(ascending=False)"
      ],
      "metadata": {
        "colab": {
          "base_uri": "https://localhost:8080/"
        },
        "id": "flQoLGNA-tys",
        "outputId": "efda4658-e071-4a90-b64d-c1b4b8107ec8"
      },
      "execution_count": null,
      "outputs": [
        {
          "output_type": "execute_result",
          "data": {
            "text/plain": [
              "Business                    0\n",
              "Jobs_Reatained              0\n",
              "Demography_Undefined        0\n",
              "Demography_Rural            0\n",
              "Default                     0\n",
              "Revolving_Credit_Line       0\n",
              "Name_Of_Bank                0\n",
              "Code_Franchise              0\n",
              "Commitment_Date             0\n",
              "Loan_Term                   0\n",
              "Gross_Amount_Disbursed      0\n",
              "Loan_Approved_Gross         0\n",
              "Classification_Code         0\n",
              "Count_Employees             0\n",
              "Gross_Amount_Balance        0\n",
              "Borrower_State              0\n",
              "Borrower_City               0\n",
              "ChargedOff_Amount           0\n",
              "State_Of_Bank               0\n",
              "Low_Documentation_Loan      0\n",
              "Guaranteed_Approved_Loan    0\n",
              "Year_Of_Commitment          0\n",
              "Jobs_Created                0\n",
              "Demography_Urban            0\n",
              "dtype: int64"
            ]
          },
          "metadata": {},
          "execution_count": 38
        }
      ]
    },
    {
      "cell_type": "code",
      "source": [
        "df_train.info()"
      ],
      "metadata": {
        "colab": {
          "base_uri": "https://localhost:8080/"
        },
        "id": "JDDASdD6-y4b",
        "outputId": "b5db2b58-7136-4155-dec3-9505d71b92f8"
      },
      "execution_count": null,
      "outputs": [
        {
          "output_type": "stream",
          "name": "stdout",
          "text": [
            "<class 'pandas.core.frame.DataFrame'>\n",
            "Int64Index: 72814 entries, 0 to 104997\n",
            "Data columns (total 24 columns):\n",
            " #   Column                    Non-Null Count  Dtype  \n",
            "---  ------                    --------------  -----  \n",
            " 0   Business                  72814 non-null  int64  \n",
            " 1   Jobs_Reatained            72814 non-null  int64  \n",
            " 2   Jobs_Created              72814 non-null  int64  \n",
            " 3   Year_Of_Commitment        72814 non-null  object \n",
            " 4   Guaranteed_Approved_Loan  72814 non-null  float64\n",
            " 5   Low_Documentation_Loan    72814 non-null  int64  \n",
            " 6   State_Of_Bank             72814 non-null  object \n",
            " 7   ChargedOff_Amount         72814 non-null  float64\n",
            " 8   Borrower_City             72814 non-null  object \n",
            " 9   Borrower_State            72814 non-null  object \n",
            " 10  Gross_Amount_Balance      72814 non-null  float64\n",
            " 11  Count_Employees           72814 non-null  int64  \n",
            " 12  Classification_Code       72814 non-null  int64  \n",
            " 13  Loan_Approved_Gross       72814 non-null  float64\n",
            " 14  Gross_Amount_Disbursed    72814 non-null  float64\n",
            " 15  Loan_Term                 72814 non-null  int64  \n",
            " 16  Commitment_Date           72814 non-null  object \n",
            " 17  Code_Franchise            72814 non-null  int64  \n",
            " 18  Name_Of_Bank              72814 non-null  object \n",
            " 19  Revolving_Credit_Line     72814 non-null  object \n",
            " 20  Default                   72814 non-null  int64  \n",
            " 21  Demography_Rural          72814 non-null  uint8  \n",
            " 22  Demography_Undefined      72814 non-null  uint8  \n",
            " 23  Demography_Urban          72814 non-null  uint8  \n",
            "dtypes: float64(5), int64(9), object(7), uint8(3)\n",
            "memory usage: 12.4+ MB\n"
          ]
        }
      ]
    },
    {
      "cell_type": "code",
      "source": [
        "df_train['Revolving_Credit_Line'].value_counts()"
      ],
      "metadata": {
        "colab": {
          "base_uri": "https://localhost:8080/"
        },
        "id": "k4BmFDqO--Rz",
        "outputId": "6989b152-fc7a-40e3-88a2-e965fb4a88f8"
      },
      "execution_count": null,
      "outputs": [
        {
          "output_type": "execute_result",
          "data": {
            "text/plain": [
              "No     48195\n",
              "Yes    24619\n",
              "Name: Revolving_Credit_Line, dtype: int64"
            ]
          },
          "metadata": {},
          "execution_count": 41
        }
      ]
    },
    {
      "cell_type": "code",
      "source": [
        "df_train['Revolving_Credit_Line'] = np.where(df_train['Revolving_Credit_Line'] == 'No', '0',df_train['Revolving_Credit_Line'])\n",
        "df_train['Revolving_Credit_Line'] = np.where(df_train['Revolving_Credit_Line'] == 'Yes', '1',df_train['Revolving_Credit_Line'])\n",
        "\n",
        "df_train['Revolving_Credit_Line'].value_counts()"
      ],
      "metadata": {
        "colab": {
          "base_uri": "https://localhost:8080/"
        },
        "id": "8EeT2ZBS_BeO",
        "outputId": "c0790015-b96b-4ae1-9f2d-ec02b6118de9"
      },
      "execution_count": null,
      "outputs": [
        {
          "output_type": "execute_result",
          "data": {
            "text/plain": [
              "0    48195\n",
              "1    24619\n",
              "Name: Revolving_Credit_Line, dtype: int64"
            ]
          },
          "metadata": {},
          "execution_count": 42
        }
      ]
    },
    {
      "cell_type": "code",
      "source": [
        "df_train['Revolving_Credit_Line'] = df_train['Revolving_Credit_Line'].astype(np.int64)\n",
        "\n",
        "df_train['Demography_Rural'] = df_train['Demography_Rural'].astype(np.int64)\n",
        "df_train['Demography_Undefined'] = df_train['Demography_Undefined'].astype(np.int64)\n",
        "df_train['Demography_Urban'] = df_train['Demography_Urban'].astype(np.int64)\n",
        "\n",
        "df_train['Business'] = df_train['Business'].astype(np.int64)\n",
        "df_train['Low_Documentation_Loan'] = df_train['Low_Documentation_Loan'].astype(np.int64)\n"
      ],
      "metadata": {
        "id": "z_j_eQ1E_Fq1"
      },
      "execution_count": null,
      "outputs": []
    },
    {
      "cell_type": "code",
      "source": [
        "df_train['Commitment_Date'] = pd.to_datetime(df_train['Commitment_Date'], errors='coerce')\n",
        "\n",
        "df_train['Commitment_Year'] = df_train['Commitment_Date'].dt.year\n",
        "df_train['Commitment_Month'] = df_train['Commitment_Date'].dt.month\n",
        "df_train['Commitment_Day'] = df_train['Commitment_Date'].dt.day"
      ],
      "metadata": {
        "id": "TBy5P-ZW_OxK"
      },
      "execution_count": null,
      "outputs": []
    },
    {
      "cell_type": "code",
      "source": [
        "df_train.head()"
      ],
      "metadata": {
        "colab": {
          "base_uri": "https://localhost:8080/",
          "height": 369
        },
        "id": "_fLopEUM_WjG",
        "outputId": "ccbc0129-b52e-4aa3-a02c-6fcc1e485219"
      },
      "execution_count": null,
      "outputs": [
        {
          "output_type": "execute_result",
          "data": {
            "text/plain": [
              "   Business  Jobs_Reatained  Jobs_Created Year_Of_Commitment  \\\n",
              "0         0               0             0               1991   \n",
              "2         0               4             0               2004   \n",
              "3         1               9             1               2006   \n",
              "6         1               3             3               2007   \n",
              "7         0               0             0               1996   \n",
              "\n",
              "   Guaranteed_Approved_Loan  Low_Documentation_Loan State_Of_Bank  \\\n",
              "0                33121600.0                       0            AP   \n",
              "2                 1422400.0                       0            AS   \n",
              "3                 2032000.0                       0            BR   \n",
              "6                 1016000.0                       0            AS   \n",
              "7                 3352800.0                       0            CG   \n",
              "\n",
              "   ChargedOff_Amount Borrower_City Borrower_State  ...  Code_Franchise  \\\n",
              "0               0.00        Mumbai    Maharashtra  ...               1   \n",
              "2               0.00     Bengaluru      Karnataka  ...               1   \n",
              "3               0.00     Ahmedabad        Gujarat  ...               0   \n",
              "6         2022896.64       Kolkata    West Bengal  ...               0   \n",
              "7               0.00          Pune    Maharashtra  ...               1   \n",
              "\n",
              "           Name_Of_Bank  Revolving_Credit_Line  Default  Demography_Rural  \\\n",
              "0        Axis Bank Ltd.                      0        0                 0   \n",
              "2      CSB Bank Limited                      1        0                 0   \n",
              "3  City Union Bank Ltd.                      1        0                 0   \n",
              "6   Dhanlaxmi Bank Ltd.                      1        1                 0   \n",
              "7     Federal Bank Ltd.                      0        0                 0   \n",
              "\n",
              "   Demography_Undefined Demography_Urban  Commitment_Year Commitment_Month  \\\n",
              "0                     1                0             1991                4   \n",
              "2                     0                1             2004                5   \n",
              "3                     0                1             2005               12   \n",
              "6                     0                1             2007                7   \n",
              "7                     1                0             1996                4   \n",
              "\n",
              "   Commitment_Day  \n",
              "0               2  \n",
              "2              25  \n",
              "3              21  \n",
              "6              31  \n",
              "7               5  \n",
              "\n",
              "[5 rows x 27 columns]"
            ],
            "text/html": [
              "\n",
              "  <div id=\"df-acf887d2-eb3f-40d1-90c5-6d249535940b\">\n",
              "    <div class=\"colab-df-container\">\n",
              "      <div>\n",
              "<style scoped>\n",
              "    .dataframe tbody tr th:only-of-type {\n",
              "        vertical-align: middle;\n",
              "    }\n",
              "\n",
              "    .dataframe tbody tr th {\n",
              "        vertical-align: top;\n",
              "    }\n",
              "\n",
              "    .dataframe thead th {\n",
              "        text-align: right;\n",
              "    }\n",
              "</style>\n",
              "<table border=\"1\" class=\"dataframe\">\n",
              "  <thead>\n",
              "    <tr style=\"text-align: right;\">\n",
              "      <th></th>\n",
              "      <th>Business</th>\n",
              "      <th>Jobs_Reatained</th>\n",
              "      <th>Jobs_Created</th>\n",
              "      <th>Year_Of_Commitment</th>\n",
              "      <th>Guaranteed_Approved_Loan</th>\n",
              "      <th>Low_Documentation_Loan</th>\n",
              "      <th>State_Of_Bank</th>\n",
              "      <th>ChargedOff_Amount</th>\n",
              "      <th>Borrower_City</th>\n",
              "      <th>Borrower_State</th>\n",
              "      <th>...</th>\n",
              "      <th>Code_Franchise</th>\n",
              "      <th>Name_Of_Bank</th>\n",
              "      <th>Revolving_Credit_Line</th>\n",
              "      <th>Default</th>\n",
              "      <th>Demography_Rural</th>\n",
              "      <th>Demography_Undefined</th>\n",
              "      <th>Demography_Urban</th>\n",
              "      <th>Commitment_Year</th>\n",
              "      <th>Commitment_Month</th>\n",
              "      <th>Commitment_Day</th>\n",
              "    </tr>\n",
              "  </thead>\n",
              "  <tbody>\n",
              "    <tr>\n",
              "      <th>0</th>\n",
              "      <td>0</td>\n",
              "      <td>0</td>\n",
              "      <td>0</td>\n",
              "      <td>1991</td>\n",
              "      <td>33121600.0</td>\n",
              "      <td>0</td>\n",
              "      <td>AP</td>\n",
              "      <td>0.00</td>\n",
              "      <td>Mumbai</td>\n",
              "      <td>Maharashtra</td>\n",
              "      <td>...</td>\n",
              "      <td>1</td>\n",
              "      <td>Axis Bank Ltd.</td>\n",
              "      <td>0</td>\n",
              "      <td>0</td>\n",
              "      <td>0</td>\n",
              "      <td>1</td>\n",
              "      <td>0</td>\n",
              "      <td>1991</td>\n",
              "      <td>4</td>\n",
              "      <td>2</td>\n",
              "    </tr>\n",
              "    <tr>\n",
              "      <th>2</th>\n",
              "      <td>0</td>\n",
              "      <td>4</td>\n",
              "      <td>0</td>\n",
              "      <td>2004</td>\n",
              "      <td>1422400.0</td>\n",
              "      <td>0</td>\n",
              "      <td>AS</td>\n",
              "      <td>0.00</td>\n",
              "      <td>Bengaluru</td>\n",
              "      <td>Karnataka</td>\n",
              "      <td>...</td>\n",
              "      <td>1</td>\n",
              "      <td>CSB Bank Limited</td>\n",
              "      <td>1</td>\n",
              "      <td>0</td>\n",
              "      <td>0</td>\n",
              "      <td>0</td>\n",
              "      <td>1</td>\n",
              "      <td>2004</td>\n",
              "      <td>5</td>\n",
              "      <td>25</td>\n",
              "    </tr>\n",
              "    <tr>\n",
              "      <th>3</th>\n",
              "      <td>1</td>\n",
              "      <td>9</td>\n",
              "      <td>1</td>\n",
              "      <td>2006</td>\n",
              "      <td>2032000.0</td>\n",
              "      <td>0</td>\n",
              "      <td>BR</td>\n",
              "      <td>0.00</td>\n",
              "      <td>Ahmedabad</td>\n",
              "      <td>Gujarat</td>\n",
              "      <td>...</td>\n",
              "      <td>0</td>\n",
              "      <td>City Union Bank Ltd.</td>\n",
              "      <td>1</td>\n",
              "      <td>0</td>\n",
              "      <td>0</td>\n",
              "      <td>0</td>\n",
              "      <td>1</td>\n",
              "      <td>2005</td>\n",
              "      <td>12</td>\n",
              "      <td>21</td>\n",
              "    </tr>\n",
              "    <tr>\n",
              "      <th>6</th>\n",
              "      <td>1</td>\n",
              "      <td>3</td>\n",
              "      <td>3</td>\n",
              "      <td>2007</td>\n",
              "      <td>1016000.0</td>\n",
              "      <td>0</td>\n",
              "      <td>AS</td>\n",
              "      <td>2022896.64</td>\n",
              "      <td>Kolkata</td>\n",
              "      <td>West Bengal</td>\n",
              "      <td>...</td>\n",
              "      <td>0</td>\n",
              "      <td>Dhanlaxmi Bank Ltd.</td>\n",
              "      <td>1</td>\n",
              "      <td>1</td>\n",
              "      <td>0</td>\n",
              "      <td>0</td>\n",
              "      <td>1</td>\n",
              "      <td>2007</td>\n",
              "      <td>7</td>\n",
              "      <td>31</td>\n",
              "    </tr>\n",
              "    <tr>\n",
              "      <th>7</th>\n",
              "      <td>0</td>\n",
              "      <td>0</td>\n",
              "      <td>0</td>\n",
              "      <td>1996</td>\n",
              "      <td>3352800.0</td>\n",
              "      <td>0</td>\n",
              "      <td>CG</td>\n",
              "      <td>0.00</td>\n",
              "      <td>Pune</td>\n",
              "      <td>Maharashtra</td>\n",
              "      <td>...</td>\n",
              "      <td>1</td>\n",
              "      <td>Federal Bank Ltd.</td>\n",
              "      <td>0</td>\n",
              "      <td>0</td>\n",
              "      <td>0</td>\n",
              "      <td>1</td>\n",
              "      <td>0</td>\n",
              "      <td>1996</td>\n",
              "      <td>4</td>\n",
              "      <td>5</td>\n",
              "    </tr>\n",
              "  </tbody>\n",
              "</table>\n",
              "<p>5 rows × 27 columns</p>\n",
              "</div>\n",
              "      <button class=\"colab-df-convert\" onclick=\"convertToInteractive('df-acf887d2-eb3f-40d1-90c5-6d249535940b')\"\n",
              "              title=\"Convert this dataframe to an interactive table.\"\n",
              "              style=\"display:none;\">\n",
              "        \n",
              "  <svg xmlns=\"http://www.w3.org/2000/svg\" height=\"24px\"viewBox=\"0 0 24 24\"\n",
              "       width=\"24px\">\n",
              "    <path d=\"M0 0h24v24H0V0z\" fill=\"none\"/>\n",
              "    <path d=\"M18.56 5.44l.94 2.06.94-2.06 2.06-.94-2.06-.94-.94-2.06-.94 2.06-2.06.94zm-11 1L8.5 8.5l.94-2.06 2.06-.94-2.06-.94L8.5 2.5l-.94 2.06-2.06.94zm10 10l.94 2.06.94-2.06 2.06-.94-2.06-.94-.94-2.06-.94 2.06-2.06.94z\"/><path d=\"M17.41 7.96l-1.37-1.37c-.4-.4-.92-.59-1.43-.59-.52 0-1.04.2-1.43.59L10.3 9.45l-7.72 7.72c-.78.78-.78 2.05 0 2.83L4 21.41c.39.39.9.59 1.41.59.51 0 1.02-.2 1.41-.59l7.78-7.78 2.81-2.81c.8-.78.8-2.07 0-2.86zM5.41 20L4 18.59l7.72-7.72 1.47 1.35L5.41 20z\"/>\n",
              "  </svg>\n",
              "      </button>\n",
              "      \n",
              "  <style>\n",
              "    .colab-df-container {\n",
              "      display:flex;\n",
              "      flex-wrap:wrap;\n",
              "      gap: 12px;\n",
              "    }\n",
              "\n",
              "    .colab-df-convert {\n",
              "      background-color: #E8F0FE;\n",
              "      border: none;\n",
              "      border-radius: 50%;\n",
              "      cursor: pointer;\n",
              "      display: none;\n",
              "      fill: #1967D2;\n",
              "      height: 32px;\n",
              "      padding: 0 0 0 0;\n",
              "      width: 32px;\n",
              "    }\n",
              "\n",
              "    .colab-df-convert:hover {\n",
              "      background-color: #E2EBFA;\n",
              "      box-shadow: 0px 1px 2px rgba(60, 64, 67, 0.3), 0px 1px 3px 1px rgba(60, 64, 67, 0.15);\n",
              "      fill: #174EA6;\n",
              "    }\n",
              "\n",
              "    [theme=dark] .colab-df-convert {\n",
              "      background-color: #3B4455;\n",
              "      fill: #D2E3FC;\n",
              "    }\n",
              "\n",
              "    [theme=dark] .colab-df-convert:hover {\n",
              "      background-color: #434B5C;\n",
              "      box-shadow: 0px 1px 3px 1px rgba(0, 0, 0, 0.15);\n",
              "      filter: drop-shadow(0px 1px 2px rgba(0, 0, 0, 0.3));\n",
              "      fill: #FFFFFF;\n",
              "    }\n",
              "  </style>\n",
              "\n",
              "      <script>\n",
              "        const buttonEl =\n",
              "          document.querySelector('#df-acf887d2-eb3f-40d1-90c5-6d249535940b button.colab-df-convert');\n",
              "        buttonEl.style.display =\n",
              "          google.colab.kernel.accessAllowed ? 'block' : 'none';\n",
              "\n",
              "        async function convertToInteractive(key) {\n",
              "          const element = document.querySelector('#df-acf887d2-eb3f-40d1-90c5-6d249535940b');\n",
              "          const dataTable =\n",
              "            await google.colab.kernel.invokeFunction('convertToInteractive',\n",
              "                                                     [key], {});\n",
              "          if (!dataTable) return;\n",
              "\n",
              "          const docLinkHtml = 'Like what you see? Visit the ' +\n",
              "            '<a target=\"_blank\" href=https://colab.research.google.com/notebooks/data_table.ipynb>data table notebook</a>'\n",
              "            + ' to learn more about interactive tables.';\n",
              "          element.innerHTML = '';\n",
              "          dataTable['output_type'] = 'display_data';\n",
              "          await google.colab.output.renderOutput(dataTable, element);\n",
              "          const docLink = document.createElement('div');\n",
              "          docLink.innerHTML = docLinkHtml;\n",
              "          element.appendChild(docLink);\n",
              "        }\n",
              "      </script>\n",
              "    </div>\n",
              "  </div>\n",
              "  "
            ]
          },
          "metadata": {},
          "execution_count": 45
        }
      ]
    },
    {
      "cell_type": "code",
      "source": [
        "df_train.info()\n"
      ],
      "metadata": {
        "colab": {
          "base_uri": "https://localhost:8080/"
        },
        "id": "WxZTk2io_asC",
        "outputId": "c942792b-4648-4093-93b2-9d38ad974b15"
      },
      "execution_count": null,
      "outputs": [
        {
          "output_type": "stream",
          "name": "stdout",
          "text": [
            "<class 'pandas.core.frame.DataFrame'>\n",
            "Int64Index: 72814 entries, 0 to 104997\n",
            "Data columns (total 27 columns):\n",
            " #   Column                    Non-Null Count  Dtype         \n",
            "---  ------                    --------------  -----         \n",
            " 0   Business                  72814 non-null  int64         \n",
            " 1   Jobs_Reatained            72814 non-null  int64         \n",
            " 2   Jobs_Created              72814 non-null  int64         \n",
            " 3   Year_Of_Commitment        72814 non-null  object        \n",
            " 4   Guaranteed_Approved_Loan  72814 non-null  float64       \n",
            " 5   Low_Documentation_Loan    72814 non-null  int64         \n",
            " 6   State_Of_Bank             72814 non-null  object        \n",
            " 7   ChargedOff_Amount         72814 non-null  float64       \n",
            " 8   Borrower_City             72814 non-null  object        \n",
            " 9   Borrower_State            72814 non-null  object        \n",
            " 10  Gross_Amount_Balance      72814 non-null  float64       \n",
            " 11  Count_Employees           72814 non-null  int64         \n",
            " 12  Classification_Code       72814 non-null  int64         \n",
            " 13  Loan_Approved_Gross       72814 non-null  float64       \n",
            " 14  Gross_Amount_Disbursed    72814 non-null  float64       \n",
            " 15  Loan_Term                 72814 non-null  int64         \n",
            " 16  Commitment_Date           72814 non-null  datetime64[ns]\n",
            " 17  Code_Franchise            72814 non-null  int64         \n",
            " 18  Name_Of_Bank              72814 non-null  object        \n",
            " 19  Revolving_Credit_Line     72814 non-null  int64         \n",
            " 20  Default                   72814 non-null  int64         \n",
            " 21  Demography_Rural          72814 non-null  int64         \n",
            " 22  Demography_Undefined      72814 non-null  int64         \n",
            " 23  Demography_Urban          72814 non-null  int64         \n",
            " 24  Commitment_Year           72814 non-null  int64         \n",
            " 25  Commitment_Month          72814 non-null  int64         \n",
            " 26  Commitment_Day            72814 non-null  int64         \n",
            "dtypes: datetime64[ns](1), float64(5), int64(16), object(5)\n",
            "memory usage: 15.6+ MB\n"
          ]
        }
      ]
    },
    {
      "cell_type": "code",
      "source": [
        "df_train = df_train.drop('Commitment_Date',axis=1)\n",
        "\n",
        "df_train = df_train.drop('Year_Of_Commitment',axis=1)\n",
        "\n",
        "df_train['State_Of_Bank'].value_counts()"
      ],
      "metadata": {
        "colab": {
          "base_uri": "https://localhost:8080/"
        },
        "id": "FoI2qM9L_fNB",
        "outputId": "5074336e-fba1-4db7-cc63-02f0b105c63f"
      },
      "execution_count": null,
      "outputs": [
        {
          "output_type": "execute_result",
          "data": {
            "text/plain": [
              "GJ    8355\n",
              "TR    8328\n",
              "AS    7157\n",
              "JH    5443\n",
              "BR    4566\n",
              "ML    4020\n",
              "PB    3352\n",
              "MH    3236\n",
              "AR    3145\n",
              "OR    2976\n",
              "AP    1981\n",
              "HP    1945\n",
              "LD    1891\n",
              "JK    1885\n",
              "CH    1630\n",
              "KA    1431\n",
              "HR    1297\n",
              "CG    1146\n",
              "UP    1138\n",
              "GA    1122\n",
              "KL    1045\n",
              "RJ     797\n",
              "MP     780\n",
              "DL     536\n",
              "NL     523\n",
              "PY     520\n",
              "MZ     434\n",
              "WB     423\n",
              "DH     421\n",
              "DD     387\n",
              "SK     340\n",
              "UK     338\n",
              "AN     216\n",
              "MN      10\n",
              "Name: State_Of_Bank, dtype: int64"
            ]
          },
          "metadata": {},
          "execution_count": 47
        }
      ]
    },
    {
      "cell_type": "code",
      "source": [
        "# Converting the value count into dictionary.\n",
        "State_Of_Bank_cnt = df_train['State_Of_Bank'].value_counts().to_dict()"
      ],
      "metadata": {
        "id": "eNd8iNKe_qsx"
      },
      "execution_count": null,
      "outputs": []
    },
    {
      "cell_type": "code",
      "source": [
        "# mapping it with the feature \"Countries\".\n",
        "df_train['State_Of_Bank'] = df_train['State_Of_Bank'].map(State_Of_Bank_cnt)"
      ],
      "metadata": {
        "id": "00SJXJMH_yx_"
      },
      "execution_count": null,
      "outputs": []
    },
    {
      "cell_type": "code",
      "source": [
        "df_train['State_Of_Bank']"
      ],
      "metadata": {
        "colab": {
          "base_uri": "https://localhost:8080/"
        },
        "id": "3TSc07zX_3sL",
        "outputId": "92131323-f38d-48a3-a73f-12bb2eb749d1"
      },
      "execution_count": null,
      "outputs": [
        {
          "output_type": "execute_result",
          "data": {
            "text/plain": [
              "0         1981\n",
              "2         7157\n",
              "3         4566\n",
              "6         7157\n",
              "7         1146\n",
              "          ... \n",
              "104990    1431\n",
              "104992    3145\n",
              "104993     780\n",
              "104994    8355\n",
              "104997    5443\n",
              "Name: State_Of_Bank, Length: 72814, dtype: int64"
            ]
          },
          "metadata": {},
          "execution_count": 50
        }
      ]
    },
    {
      "cell_type": "code",
      "source": [
        "df_train['Borrower_City'].value_counts()"
      ],
      "metadata": {
        "colab": {
          "base_uri": "https://localhost:8080/"
        },
        "id": "8HbIwG30AHEy",
        "outputId": "55531f30-f388-47eb-d71e-85f82d7d7e15"
      },
      "execution_count": null,
      "outputs": [
        {
          "output_type": "execute_result",
          "data": {
            "text/plain": [
              "Jhansi          981\n",
              "Ramagundam      701\n",
              "Siliguri        694\n",
              "Baramula        608\n",
              "Sahibganj       568\n",
              "               ... \n",
              "Mudhol           15\n",
              "Sattenapalle     15\n",
              "Purwa            14\n",
              "Lumding          12\n",
              "Pasighat         12\n",
              "Name: Borrower_City, Length: 1193, dtype: int64"
            ]
          },
          "metadata": {},
          "execution_count": 51
        }
      ]
    },
    {
      "cell_type": "code",
      "source": [
        "# Converting the value count into dictionary.\n",
        "Borrower_City_cnt = df_train['Borrower_City'].value_counts().to_dict()\n",
        "\n",
        "# mapping it with the feature \"Countries\".\n",
        "df_train['Borrower_City'] = df_train['Borrower_City'].map(Borrower_City_cnt)"
      ],
      "metadata": {
        "id": "33YHHEaAAQCX"
      },
      "execution_count": null,
      "outputs": []
    },
    {
      "cell_type": "code",
      "source": [
        "df_train['Borrower_State'].value_counts()"
      ],
      "metadata": {
        "colab": {
          "base_uri": "https://localhost:8080/"
        },
        "id": "Lv0sHVGdAdPZ",
        "outputId": "9d072051-df4d-44ac-c4c5-08c16c8f05af"
      },
      "execution_count": null,
      "outputs": [
        {
          "output_type": "execute_result",
          "data": {
            "text/plain": [
              "Maharashtra                    8148\n",
              "Uttar Pradesh                  7657\n",
              "Tamil Nadu                     6155\n",
              "Andhra Pradesh                 4979\n",
              "Madhya Pradesh                 4821\n",
              "Gujarat                        4378\n",
              "Bihar                          3971\n",
              "Karnataka                      3920\n",
              "Rajasthan                      3842\n",
              "West Bengal                    3161\n",
              "Kerala                         2880\n",
              "Punjab                         2878\n",
              "Telangana                      2670\n",
              "Jharkhand                      2036\n",
              "Haryana                        1824\n",
              "Odisha                         1771\n",
              "Chhattisgarh                   1619\n",
              "Assam                          1242\n",
              "Jammu and Kashmir              1134\n",
              "Uttarakhand                     971\n",
              "Goa                             441\n",
              "Manipur                         289\n",
              "Delhi                           267\n",
              "Nagaland                        266\n",
              "Tripura                         266\n",
              "Meghalaya                       233\n",
              "Puducherry                      225\n",
              "Himachal Pradesh                220\n",
              "Mizoram                         112\n",
              "Chandigarh                       72\n",
              "Arunachal Pradesh                46\n",
              " Ajmer                           44\n",
              " India                           44\n",
              " Farrukhabad                     44\n",
              " Agra                            35\n",
              "Andaman and Nicobar Islands      29\n",
              " Rampur                          29\n",
              "Dadra and Nagar Haveli           25\n",
              "Karnatka                         24\n",
              " Bulandshahr                     23\n",
              " Hardoi                          23\n",
              "Name: Borrower_State, dtype: int64"
            ]
          },
          "metadata": {},
          "execution_count": 53
        }
      ]
    },
    {
      "cell_type": "code",
      "source": [
        "Borrower_State_cnt = df_train['Borrower_State'].value_counts().to_dict()\n",
        "df_train['Borrower_State'] = df_train['Borrower_State'].map(Borrower_State_cnt)"
      ],
      "metadata": {
        "id": "rci9-JAeAeci"
      },
      "execution_count": null,
      "outputs": []
    },
    {
      "cell_type": "code",
      "source": [
        "df_train['Name_Of_Bank'].value_counts()"
      ],
      "metadata": {
        "colab": {
          "base_uri": "https://localhost:8080/"
        },
        "id": "XLMeohPtAqTJ",
        "outputId": "2811ac61-0955-4232-e733-104019cadc1a"
      },
      "execution_count": null,
      "outputs": [
        {
          "output_type": "execute_result",
          "data": {
            "text/plain": [
              "ICICI Bank Ltd.                    8828\n",
              "Dhanlaxmi Bank Ltd.                5987\n",
              "IDBI Bank Limited                  5040\n",
              "City Union Bank Ltd.               3828\n",
              "Karur Vysya Bank Ltd.              3413\n",
              "                                   ... \n",
              "UCO Bank                             99\n",
              "Utkarsh Small Finance Bank Ltd.      95\n",
              "Himachal Pradesh Gramin Bank         94\n",
              "State Bank of India                  91\n",
              "Barclays Bank Plc.                   64\n",
              "Name: Name_Of_Bank, Length: 143, dtype: int64"
            ]
          },
          "metadata": {},
          "execution_count": 55
        }
      ]
    },
    {
      "cell_type": "code",
      "source": [
        "Name_Of_Bank_cnt = df_train['Name_Of_Bank'].value_counts().to_dict()\n",
        "df_train['Name_Of_Bank'] = df_train['Name_Of_Bank'].map(Name_Of_Bank_cnt)"
      ],
      "metadata": {
        "id": "hTl9e0KOAulA"
      },
      "execution_count": null,
      "outputs": []
    },
    {
      "cell_type": "code",
      "source": [
        "df_train.info()"
      ],
      "metadata": {
        "colab": {
          "base_uri": "https://localhost:8080/"
        },
        "id": "JDU-6o_dA3-A",
        "outputId": "114a5c5b-5891-471a-dc02-23a240f2b14a"
      },
      "execution_count": null,
      "outputs": [
        {
          "output_type": "stream",
          "name": "stdout",
          "text": [
            "<class 'pandas.core.frame.DataFrame'>\n",
            "Int64Index: 72814 entries, 0 to 104997\n",
            "Data columns (total 25 columns):\n",
            " #   Column                    Non-Null Count  Dtype  \n",
            "---  ------                    --------------  -----  \n",
            " 0   Business                  72814 non-null  int64  \n",
            " 1   Jobs_Reatained            72814 non-null  int64  \n",
            " 2   Jobs_Created              72814 non-null  int64  \n",
            " 3   Guaranteed_Approved_Loan  72814 non-null  float64\n",
            " 4   Low_Documentation_Loan    72814 non-null  int64  \n",
            " 5   State_Of_Bank             72814 non-null  int64  \n",
            " 6   ChargedOff_Amount         72814 non-null  float64\n",
            " 7   Borrower_City             72814 non-null  int64  \n",
            " 8   Borrower_State            72814 non-null  int64  \n",
            " 9   Gross_Amount_Balance      72814 non-null  float64\n",
            " 10  Count_Employees           72814 non-null  int64  \n",
            " 11  Classification_Code       72814 non-null  int64  \n",
            " 12  Loan_Approved_Gross       72814 non-null  float64\n",
            " 13  Gross_Amount_Disbursed    72814 non-null  float64\n",
            " 14  Loan_Term                 72814 non-null  int64  \n",
            " 15  Code_Franchise            72814 non-null  int64  \n",
            " 16  Name_Of_Bank              72814 non-null  int64  \n",
            " 17  Revolving_Credit_Line     72814 non-null  int64  \n",
            " 18  Default                   72814 non-null  int64  \n",
            " 19  Demography_Rural          72814 non-null  int64  \n",
            " 20  Demography_Undefined      72814 non-null  int64  \n",
            " 21  Demography_Urban          72814 non-null  int64  \n",
            " 22  Commitment_Year           72814 non-null  int64  \n",
            " 23  Commitment_Month          72814 non-null  int64  \n",
            " 24  Commitment_Day            72814 non-null  int64  \n",
            "dtypes: float64(5), int64(20)\n",
            "memory usage: 14.4 MB\n"
          ]
        }
      ]
    },
    {
      "cell_type": "code",
      "source": [
        "df_train.shape"
      ],
      "metadata": {
        "colab": {
          "base_uri": "https://localhost:8080/"
        },
        "id": "ci8G-6ddA7oz",
        "outputId": "1e408f07-e773-4f79-ef05-7bbd5d0d0ab9"
      },
      "execution_count": null,
      "outputs": [
        {
          "output_type": "execute_result",
          "data": {
            "text/plain": [
              "(72814, 25)"
            ]
          },
          "metadata": {},
          "execution_count": 58
        }
      ]
    },
    {
      "cell_type": "code",
      "source": [
        "df_train['Default'].value_counts(normalize = True)"
      ],
      "metadata": {
        "colab": {
          "base_uri": "https://localhost:8080/"
        },
        "id": "FsbkMri4BC63",
        "outputId": "62618180-9b82-4ad9-f54d-778369dec4a2"
      },
      "execution_count": null,
      "outputs": [
        {
          "output_type": "execute_result",
          "data": {
            "text/plain": [
              "0    0.715632\n",
              "1    0.284368\n",
              "Name: Default, dtype: float64"
            ]
          },
          "metadata": {},
          "execution_count": 59
        }
      ]
    },
    {
      "cell_type": "code",
      "source": [
        "df_train.head()"
      ],
      "metadata": {
        "colab": {
          "base_uri": "https://localhost:8080/",
          "height": 299
        },
        "id": "AMBKths8BGG3",
        "outputId": "9a940f29-fa40-41ca-ac4a-1d7e46f1bce1"
      },
      "execution_count": null,
      "outputs": [
        {
          "output_type": "execute_result",
          "data": {
            "text/plain": [
              "   Business  Jobs_Reatained  Jobs_Created  Guaranteed_Approved_Loan  \\\n",
              "0         0               0             0                33121600.0   \n",
              "2         0               4             0                 1422400.0   \n",
              "3         1               9             1                 2032000.0   \n",
              "6         1               3             3                 1016000.0   \n",
              "7         0               0             0                 3352800.0   \n",
              "\n",
              "   Low_Documentation_Loan  State_Of_Bank  ChargedOff_Amount  Borrower_City  \\\n",
              "0                       0           1981               0.00             91   \n",
              "2                       0           7157               0.00             39   \n",
              "3                       0           4566               0.00            129   \n",
              "6                       0           7157         2022896.64             82   \n",
              "7                       0           1146               0.00             63   \n",
              "\n",
              "   Borrower_State  Gross_Amount_Balance  ...  Code_Franchise  Name_Of_Bank  \\\n",
              "0            8148                   0.0  ...               1           246   \n",
              "2            3920                   0.0  ...               1          2402   \n",
              "3            4378                   0.0  ...               0          3828   \n",
              "6            3161                   0.0  ...               0          5987   \n",
              "7            8148                   0.0  ...               1           159   \n",
              "\n",
              "   Revolving_Credit_Line  Default  Demography_Rural  Demography_Undefined  \\\n",
              "0                      0        0                 0                     1   \n",
              "2                      1        0                 0                     0   \n",
              "3                      1        0                 0                     0   \n",
              "6                      1        1                 0                     0   \n",
              "7                      0        0                 0                     1   \n",
              "\n",
              "   Demography_Urban  Commitment_Year  Commitment_Month  Commitment_Day  \n",
              "0                 0             1991                 4               2  \n",
              "2                 1             2004                 5              25  \n",
              "3                 1             2005                12              21  \n",
              "6                 1             2007                 7              31  \n",
              "7                 0             1996                 4               5  \n",
              "\n",
              "[5 rows x 25 columns]"
            ],
            "text/html": [
              "\n",
              "  <div id=\"df-937490bd-1e46-48d6-a0f9-452078fbf359\">\n",
              "    <div class=\"colab-df-container\">\n",
              "      <div>\n",
              "<style scoped>\n",
              "    .dataframe tbody tr th:only-of-type {\n",
              "        vertical-align: middle;\n",
              "    }\n",
              "\n",
              "    .dataframe tbody tr th {\n",
              "        vertical-align: top;\n",
              "    }\n",
              "\n",
              "    .dataframe thead th {\n",
              "        text-align: right;\n",
              "    }\n",
              "</style>\n",
              "<table border=\"1\" class=\"dataframe\">\n",
              "  <thead>\n",
              "    <tr style=\"text-align: right;\">\n",
              "      <th></th>\n",
              "      <th>Business</th>\n",
              "      <th>Jobs_Reatained</th>\n",
              "      <th>Jobs_Created</th>\n",
              "      <th>Guaranteed_Approved_Loan</th>\n",
              "      <th>Low_Documentation_Loan</th>\n",
              "      <th>State_Of_Bank</th>\n",
              "      <th>ChargedOff_Amount</th>\n",
              "      <th>Borrower_City</th>\n",
              "      <th>Borrower_State</th>\n",
              "      <th>Gross_Amount_Balance</th>\n",
              "      <th>...</th>\n",
              "      <th>Code_Franchise</th>\n",
              "      <th>Name_Of_Bank</th>\n",
              "      <th>Revolving_Credit_Line</th>\n",
              "      <th>Default</th>\n",
              "      <th>Demography_Rural</th>\n",
              "      <th>Demography_Undefined</th>\n",
              "      <th>Demography_Urban</th>\n",
              "      <th>Commitment_Year</th>\n",
              "      <th>Commitment_Month</th>\n",
              "      <th>Commitment_Day</th>\n",
              "    </tr>\n",
              "  </thead>\n",
              "  <tbody>\n",
              "    <tr>\n",
              "      <th>0</th>\n",
              "      <td>0</td>\n",
              "      <td>0</td>\n",
              "      <td>0</td>\n",
              "      <td>33121600.0</td>\n",
              "      <td>0</td>\n",
              "      <td>1981</td>\n",
              "      <td>0.00</td>\n",
              "      <td>91</td>\n",
              "      <td>8148</td>\n",
              "      <td>0.0</td>\n",
              "      <td>...</td>\n",
              "      <td>1</td>\n",
              "      <td>246</td>\n",
              "      <td>0</td>\n",
              "      <td>0</td>\n",
              "      <td>0</td>\n",
              "      <td>1</td>\n",
              "      <td>0</td>\n",
              "      <td>1991</td>\n",
              "      <td>4</td>\n",
              "      <td>2</td>\n",
              "    </tr>\n",
              "    <tr>\n",
              "      <th>2</th>\n",
              "      <td>0</td>\n",
              "      <td>4</td>\n",
              "      <td>0</td>\n",
              "      <td>1422400.0</td>\n",
              "      <td>0</td>\n",
              "      <td>7157</td>\n",
              "      <td>0.00</td>\n",
              "      <td>39</td>\n",
              "      <td>3920</td>\n",
              "      <td>0.0</td>\n",
              "      <td>...</td>\n",
              "      <td>1</td>\n",
              "      <td>2402</td>\n",
              "      <td>1</td>\n",
              "      <td>0</td>\n",
              "      <td>0</td>\n",
              "      <td>0</td>\n",
              "      <td>1</td>\n",
              "      <td>2004</td>\n",
              "      <td>5</td>\n",
              "      <td>25</td>\n",
              "    </tr>\n",
              "    <tr>\n",
              "      <th>3</th>\n",
              "      <td>1</td>\n",
              "      <td>9</td>\n",
              "      <td>1</td>\n",
              "      <td>2032000.0</td>\n",
              "      <td>0</td>\n",
              "      <td>4566</td>\n",
              "      <td>0.00</td>\n",
              "      <td>129</td>\n",
              "      <td>4378</td>\n",
              "      <td>0.0</td>\n",
              "      <td>...</td>\n",
              "      <td>0</td>\n",
              "      <td>3828</td>\n",
              "      <td>1</td>\n",
              "      <td>0</td>\n",
              "      <td>0</td>\n",
              "      <td>0</td>\n",
              "      <td>1</td>\n",
              "      <td>2005</td>\n",
              "      <td>12</td>\n",
              "      <td>21</td>\n",
              "    </tr>\n",
              "    <tr>\n",
              "      <th>6</th>\n",
              "      <td>1</td>\n",
              "      <td>3</td>\n",
              "      <td>3</td>\n",
              "      <td>1016000.0</td>\n",
              "      <td>0</td>\n",
              "      <td>7157</td>\n",
              "      <td>2022896.64</td>\n",
              "      <td>82</td>\n",
              "      <td>3161</td>\n",
              "      <td>0.0</td>\n",
              "      <td>...</td>\n",
              "      <td>0</td>\n",
              "      <td>5987</td>\n",
              "      <td>1</td>\n",
              "      <td>1</td>\n",
              "      <td>0</td>\n",
              "      <td>0</td>\n",
              "      <td>1</td>\n",
              "      <td>2007</td>\n",
              "      <td>7</td>\n",
              "      <td>31</td>\n",
              "    </tr>\n",
              "    <tr>\n",
              "      <th>7</th>\n",
              "      <td>0</td>\n",
              "      <td>0</td>\n",
              "      <td>0</td>\n",
              "      <td>3352800.0</td>\n",
              "      <td>0</td>\n",
              "      <td>1146</td>\n",
              "      <td>0.00</td>\n",
              "      <td>63</td>\n",
              "      <td>8148</td>\n",
              "      <td>0.0</td>\n",
              "      <td>...</td>\n",
              "      <td>1</td>\n",
              "      <td>159</td>\n",
              "      <td>0</td>\n",
              "      <td>0</td>\n",
              "      <td>0</td>\n",
              "      <td>1</td>\n",
              "      <td>0</td>\n",
              "      <td>1996</td>\n",
              "      <td>4</td>\n",
              "      <td>5</td>\n",
              "    </tr>\n",
              "  </tbody>\n",
              "</table>\n",
              "<p>5 rows × 25 columns</p>\n",
              "</div>\n",
              "      <button class=\"colab-df-convert\" onclick=\"convertToInteractive('df-937490bd-1e46-48d6-a0f9-452078fbf359')\"\n",
              "              title=\"Convert this dataframe to an interactive table.\"\n",
              "              style=\"display:none;\">\n",
              "        \n",
              "  <svg xmlns=\"http://www.w3.org/2000/svg\" height=\"24px\"viewBox=\"0 0 24 24\"\n",
              "       width=\"24px\">\n",
              "    <path d=\"M0 0h24v24H0V0z\" fill=\"none\"/>\n",
              "    <path d=\"M18.56 5.44l.94 2.06.94-2.06 2.06-.94-2.06-.94-.94-2.06-.94 2.06-2.06.94zm-11 1L8.5 8.5l.94-2.06 2.06-.94-2.06-.94L8.5 2.5l-.94 2.06-2.06.94zm10 10l.94 2.06.94-2.06 2.06-.94-2.06-.94-.94-2.06-.94 2.06-2.06.94z\"/><path d=\"M17.41 7.96l-1.37-1.37c-.4-.4-.92-.59-1.43-.59-.52 0-1.04.2-1.43.59L10.3 9.45l-7.72 7.72c-.78.78-.78 2.05 0 2.83L4 21.41c.39.39.9.59 1.41.59.51 0 1.02-.2 1.41-.59l7.78-7.78 2.81-2.81c.8-.78.8-2.07 0-2.86zM5.41 20L4 18.59l7.72-7.72 1.47 1.35L5.41 20z\"/>\n",
              "  </svg>\n",
              "      </button>\n",
              "      \n",
              "  <style>\n",
              "    .colab-df-container {\n",
              "      display:flex;\n",
              "      flex-wrap:wrap;\n",
              "      gap: 12px;\n",
              "    }\n",
              "\n",
              "    .colab-df-convert {\n",
              "      background-color: #E8F0FE;\n",
              "      border: none;\n",
              "      border-radius: 50%;\n",
              "      cursor: pointer;\n",
              "      display: none;\n",
              "      fill: #1967D2;\n",
              "      height: 32px;\n",
              "      padding: 0 0 0 0;\n",
              "      width: 32px;\n",
              "    }\n",
              "\n",
              "    .colab-df-convert:hover {\n",
              "      background-color: #E2EBFA;\n",
              "      box-shadow: 0px 1px 2px rgba(60, 64, 67, 0.3), 0px 1px 3px 1px rgba(60, 64, 67, 0.15);\n",
              "      fill: #174EA6;\n",
              "    }\n",
              "\n",
              "    [theme=dark] .colab-df-convert {\n",
              "      background-color: #3B4455;\n",
              "      fill: #D2E3FC;\n",
              "    }\n",
              "\n",
              "    [theme=dark] .colab-df-convert:hover {\n",
              "      background-color: #434B5C;\n",
              "      box-shadow: 0px 1px 3px 1px rgba(0, 0, 0, 0.15);\n",
              "      filter: drop-shadow(0px 1px 2px rgba(0, 0, 0, 0.3));\n",
              "      fill: #FFFFFF;\n",
              "    }\n",
              "  </style>\n",
              "\n",
              "      <script>\n",
              "        const buttonEl =\n",
              "          document.querySelector('#df-937490bd-1e46-48d6-a0f9-452078fbf359 button.colab-df-convert');\n",
              "        buttonEl.style.display =\n",
              "          google.colab.kernel.accessAllowed ? 'block' : 'none';\n",
              "\n",
              "        async function convertToInteractive(key) {\n",
              "          const element = document.querySelector('#df-937490bd-1e46-48d6-a0f9-452078fbf359');\n",
              "          const dataTable =\n",
              "            await google.colab.kernel.invokeFunction('convertToInteractive',\n",
              "                                                     [key], {});\n",
              "          if (!dataTable) return;\n",
              "\n",
              "          const docLinkHtml = 'Like what you see? Visit the ' +\n",
              "            '<a target=\"_blank\" href=https://colab.research.google.com/notebooks/data_table.ipynb>data table notebook</a>'\n",
              "            + ' to learn more about interactive tables.';\n",
              "          element.innerHTML = '';\n",
              "          dataTable['output_type'] = 'display_data';\n",
              "          await google.colab.output.renderOutput(dataTable, element);\n",
              "          const docLink = document.createElement('div');\n",
              "          docLink.innerHTML = docLinkHtml;\n",
              "          element.appendChild(docLink);\n",
              "        }\n",
              "      </script>\n",
              "    </div>\n",
              "  </div>\n",
              "  "
            ]
          },
          "metadata": {},
          "execution_count": 60
        }
      ]
    },
    {
      "cell_type": "markdown",
      "source": [
        "# Test dataset"
      ],
      "metadata": {
        "id": "gmBnvEmYBkGs"
      }
    },
    {
      "cell_type": "code",
      "source": [
        "df_test = pd.read_csv(\"/content/drive/MyDrive/myData/loan_default/testing_data.csv\")"
      ],
      "metadata": {
        "id": "Mg3z_1nDxUW3"
      },
      "execution_count": null,
      "outputs": []
    },
    {
      "cell_type": "code",
      "source": [
        "df_test.columns = [x.strip() for x in df_test.columns]"
      ],
      "metadata": {
        "id": "gXc1q7PjBJ-W"
      },
      "execution_count": null,
      "outputs": []
    },
    {
      "cell_type": "code",
      "source": [
        "df_test = df_test.rename(columns = {'Guaranteed_Approved _Loan':'Guaranteed_Approved_Loan'})"
      ],
      "metadata": {
        "id": "-czTqm5fB9X4"
      },
      "execution_count": null,
      "outputs": []
    },
    {
      "cell_type": "code",
      "source": [
        "df_test_orig = df_test.copy()"
      ],
      "metadata": {
        "id": "XSw0bMkQCBnP"
      },
      "execution_count": null,
      "outputs": []
    },
    {
      "cell_type": "code",
      "source": [
        "df_test['Revolving_Credit_Line'].fillna(df_test['Revolving_Credit_Line'].mode()[0], inplace=True)\n",
        "df_test['Low_Documentation_Loan'].fillna(df_test['Low_Documentation_Loan'].mode()[0], inplace=True)\n",
        "df_test['Business'].fillna(df_test['Business'].mode()[0], inplace=True)"
      ],
      "metadata": {
        "id": "Hlpw7V4iCEwH"
      },
      "execution_count": null,
      "outputs": []
    },
    {
      "cell_type": "code",
      "source": [
        "df_test.isnull().sum().sort_values(ascending=False)"
      ],
      "metadata": {
        "colab": {
          "base_uri": "https://localhost:8080/"
        },
        "id": "2fDGxvE_CLxC",
        "outputId": "337ce8da-a52d-4cc0-8034-2dc0249f5256"
      },
      "execution_count": null,
      "outputs": [
        {
          "output_type": "execute_result",
          "data": {
            "text/plain": [
              "Date_Of_Disbursement        108\n",
              "Borrower_State               49\n",
              "Borrower_Name                 2\n",
              "ID                            0\n",
              "Gross_Amount_Balance          0\n",
              "Name_Of_Bank                  0\n",
              "Code_Franchise                0\n",
              "Primary_Loan_Digit            0\n",
              "Commitment_Date               0\n",
              "Loan_Term                     0\n",
              "Gross_Amount_Disbursed        0\n",
              "Loan_Approved_Gross           0\n",
              "Classification_Code           0\n",
              "Count_Employees               0\n",
              "Borrower_City                 0\n",
              "ChargedOff_Amount             0\n",
              "State_Of_Bank                 0\n",
              "Demography                    0\n",
              "Low_Documentation_Loan        0\n",
              "Guaranteed_Approved_Loan      0\n",
              "Year_Of_Commitment            0\n",
              "Jobs_Created                  0\n",
              "Jobs_Reatained                0\n",
              "Business                      0\n",
              "Revolving_Credit_Line         0\n",
              "dtype: int64"
            ]
          },
          "metadata": {},
          "execution_count": 193
        }
      ]
    },
    {
      "cell_type": "code",
      "source": [
        "df_test['Borrower_State'].value_counts(dropna=False)"
      ],
      "metadata": {
        "colab": {
          "base_uri": "https://localhost:8080/"
        },
        "id": "KJlGKqXWzBYj",
        "outputId": "40d93517-f897-4931-d33a-508dd5e69da1"
      },
      "execution_count": null,
      "outputs": [
        {
          "output_type": "execute_result",
          "data": {
            "text/plain": [
              "Maharashtra                    5087\n",
              "Uttar Pradesh                  4723\n",
              "Tamil Nadu                     3865\n",
              "Andhra Pradesh                 3002\n",
              "Madhya Pradesh                 2845\n",
              "Gujarat                        2708\n",
              "Karnataka                      2506\n",
              "Bihar                          2496\n",
              "Rajasthan                      2269\n",
              "West Bengal                    1990\n",
              "Kerala                         1864\n",
              "Punjab                         1716\n",
              "Telangana                      1703\n",
              "Jharkhand                      1278\n",
              "Haryana                        1107\n",
              "Odisha                         1057\n",
              "Chhattisgarh                   1050\n",
              "Assam                           709\n",
              "Jammu and Kashmir               652\n",
              "Uttarakhand                     597\n",
              "Goa                             324\n",
              "Manipur                         193\n",
              "Tripura                         189\n",
              "Himachal Pradesh                158\n",
              "Delhi                           153\n",
              "Nagaland                        148\n",
              "Puducherry                      128\n",
              "Meghalaya                       126\n",
              "Mizoram                          62\n",
              "NaN                              49\n",
              "Chandigarh                       42\n",
              "Arunachal Pradesh                32\n",
              " Hardoi                          25\n",
              " Ajmer                           25\n",
              " Agra                            19\n",
              " India                           17\n",
              "Andaman and Nicobar Islands      17\n",
              " Bulandshahr                     16\n",
              "Karnatka                         15\n",
              " Rampur                          15\n",
              "Dadra and Nagar Haveli           14\n",
              " Farrukhabad                      9\n",
              "Name: Borrower_State, dtype: int64"
            ]
          },
          "metadata": {},
          "execution_count": 195
        }
      ]
    },
    {
      "cell_type": "code",
      "source": [
        "df_test['Borrower_State'] = df_test['Borrower_State'].fillna('Foreign')"
      ],
      "metadata": {
        "id": "HuM_HEbz0ss4"
      },
      "execution_count": null,
      "outputs": []
    },
    {
      "cell_type": "code",
      "source": [
        "df_test.isnull().sum().sort_values(ascending=False)"
      ],
      "metadata": {
        "colab": {
          "base_uri": "https://localhost:8080/"
        },
        "id": "oEyadCMQ1xPj",
        "outputId": "2089a32a-0cef-48d2-8dc3-14e57712f3b4"
      },
      "execution_count": null,
      "outputs": [
        {
          "output_type": "execute_result",
          "data": {
            "text/plain": [
              "Date_Of_Disbursement        108\n",
              "Borrower_Name                 2\n",
              "ID                            0\n",
              "Gross_Amount_Balance          0\n",
              "Name_Of_Bank                  0\n",
              "Code_Franchise                0\n",
              "Primary_Loan_Digit            0\n",
              "Commitment_Date               0\n",
              "Loan_Term                     0\n",
              "Gross_Amount_Disbursed        0\n",
              "Loan_Approved_Gross           0\n",
              "Classification_Code           0\n",
              "Count_Employees               0\n",
              "Borrower_City                 0\n",
              "Borrower_State                0\n",
              "ChargedOff_Amount             0\n",
              "State_Of_Bank                 0\n",
              "Demography                    0\n",
              "Low_Documentation_Loan        0\n",
              "Guaranteed_Approved_Loan      0\n",
              "Year_Of_Commitment            0\n",
              "Jobs_Created                  0\n",
              "Jobs_Reatained                0\n",
              "Business                      0\n",
              "Revolving_Credit_Line         0\n",
              "dtype: int64"
            ]
          },
          "metadata": {},
          "execution_count": 198
        }
      ]
    },
    {
      "cell_type": "code",
      "source": [
        "df_test = df_test.drop('Date_Of_Disbursement',axis=1)\n",
        "\n",
        "df_test = df_test.drop('Borrower_Name',axis=1)\n",
        "\n",
        "df_test.isnull().sum().sort_values(ascending=False)"
      ],
      "metadata": {
        "colab": {
          "base_uri": "https://localhost:8080/"
        },
        "id": "sb6JBCvxCt1m",
        "outputId": "04f9afc5-241f-405b-b27f-46fa269b974d"
      },
      "execution_count": null,
      "outputs": [
        {
          "output_type": "execute_result",
          "data": {
            "text/plain": [
              "ID                          0\n",
              "Gross_Amount_Balance        0\n",
              "Name_Of_Bank                0\n",
              "Code_Franchise              0\n",
              "Primary_Loan_Digit          0\n",
              "Commitment_Date             0\n",
              "Loan_Term                   0\n",
              "Gross_Amount_Disbursed      0\n",
              "Loan_Approved_Gross         0\n",
              "Classification_Code         0\n",
              "Count_Employees             0\n",
              "Borrower_State              0\n",
              "Business                    0\n",
              "Borrower_City               0\n",
              "ChargedOff_Amount           0\n",
              "State_Of_Bank               0\n",
              "Demography                  0\n",
              "Low_Documentation_Loan      0\n",
              "Guaranteed_Approved_Loan    0\n",
              "Year_Of_Commitment          0\n",
              "Jobs_Created                0\n",
              "Jobs_Reatained              0\n",
              "Revolving_Credit_Line       0\n",
              "dtype: int64"
            ]
          },
          "metadata": {},
          "execution_count": 199
        }
      ]
    },
    {
      "cell_type": "code",
      "source": [
        "df_test['Loan_Approved_Gross'] = df_test['Loan_Approved_Gross'].apply(lambda x: x.replace('Rs.', '').replace(',', '') if isinstance(x, str) else x).astype(float)\n",
        "df_test['Gross_Amount_Disbursed'] = df_test['Gross_Amount_Disbursed'].apply(lambda x: x.replace('Rs.', '').replace(',', '') if isinstance(x, str) else x).astype(float)\n",
        "df_test['Gross_Amount_Balance'] = df_test['Gross_Amount_Balance'].apply(lambda x: x.replace('Rs.', '').replace(',', '') if isinstance(x, str) else x).astype(float)\n",
        "df_test['ChargedOff_Amount'] = df_test['ChargedOff_Amount'].apply(lambda x: x.replace('Rs.', '').replace(',', '') if isinstance(x, str) else x).astype(float)\n",
        "df_test['Guaranteed_Approved_Loan'] = df_test['Guaranteed_Approved_Loan'].apply(lambda x: x.replace('Rs.', '').replace(',', '') if isinstance(x, str) else x).astype(float)"
      ],
      "metadata": {
        "id": "KpP09cBdDIom"
      },
      "execution_count": null,
      "outputs": []
    },
    {
      "cell_type": "code",
      "source": [
        "df_test['Revolving_Credit_Line'].value_counts()"
      ],
      "metadata": {
        "colab": {
          "base_uri": "https://localhost:8080/"
        },
        "id": "jZiLBQWUDPii",
        "outputId": "46d1790d-b818-42d8-ff5d-d267ccb5c7e5"
      },
      "execution_count": null,
      "outputs": [
        {
          "output_type": "execute_result",
          "data": {
            "text/plain": [
              "No     34316\n",
              "Yes    10684\n",
              "Name: Revolving_Credit_Line, dtype: int64"
            ]
          },
          "metadata": {},
          "execution_count": 201
        }
      ]
    },
    {
      "cell_type": "code",
      "source": [
        "df_test = df_test.drop(['Primary_Loan_Digit'], axis=1)"
      ],
      "metadata": {
        "id": "7WWloVuMDWgg"
      },
      "execution_count": null,
      "outputs": []
    },
    {
      "cell_type": "code",
      "source": [
        "df_test.shape"
      ],
      "metadata": {
        "colab": {
          "base_uri": "https://localhost:8080/"
        },
        "id": "TRwVvwEaDZWs",
        "outputId": "2e625fc7-56c2-4e07-8d9e-56a8dc247347"
      },
      "execution_count": null,
      "outputs": [
        {
          "output_type": "execute_result",
          "data": {
            "text/plain": [
              "(45000, 22)"
            ]
          },
          "metadata": {},
          "execution_count": 203
        }
      ]
    },
    {
      "cell_type": "code",
      "source": [
        "df_test['Business'].value_counts()"
      ],
      "metadata": {
        "colab": {
          "base_uri": "https://localhost:8080/"
        },
        "id": "tFc4XMzcDcZp",
        "outputId": "7dc048a5-45fd-4d41-b9e9-4ba3fd380b34"
      },
      "execution_count": null,
      "outputs": [
        {
          "output_type": "execute_result",
          "data": {
            "text/plain": [
              "Existing    32068\n",
              "New         12878\n",
              "0              54\n",
              "Name: Business, dtype: int64"
            ]
          },
          "metadata": {},
          "execution_count": 204
        }
      ]
    },
    {
      "cell_type": "code",
      "source": [
        "newVal = df_test['Business'].value_counts().index[0]"
      ],
      "metadata": {
        "id": "AcZT2i1T5fP5"
      },
      "execution_count": null,
      "outputs": []
    },
    {
      "cell_type": "code",
      "source": [
        "newVal"
      ],
      "metadata": {
        "colab": {
          "base_uri": "https://localhost:8080/",
          "height": 36
        },
        "id": "yQt-8Eas5omS",
        "outputId": "c591c27a-2746-40b9-d1dc-a10300b13b07"
      },
      "execution_count": null,
      "outputs": [
        {
          "output_type": "execute_result",
          "data": {
            "text/plain": [
              "'Existing'"
            ],
            "application/vnd.google.colaboratory.intrinsic+json": {
              "type": "string"
            }
          },
          "metadata": {},
          "execution_count": 208
        }
      ]
    },
    {
      "cell_type": "code",
      "source": [
        "df_test['Business'] = df_test['Business'].replace('0', newVal)"
      ],
      "metadata": {
        "id": "GXpnxoqr3xNO"
      },
      "execution_count": null,
      "outputs": []
    },
    {
      "cell_type": "code",
      "source": [
        "df_test['Business'].value_counts()"
      ],
      "metadata": {
        "colab": {
          "base_uri": "https://localhost:8080/"
        },
        "id": "eQxNUEQ53xsL",
        "outputId": "bdd28971-3246-40fa-a348-c911eb0ecb21"
      },
      "execution_count": null,
      "outputs": [
        {
          "output_type": "execute_result",
          "data": {
            "text/plain": [
              "Existing    32122\n",
              "New         12878\n",
              "Name: Business, dtype: int64"
            ]
          },
          "metadata": {},
          "execution_count": 217
        }
      ]
    },
    {
      "cell_type": "code",
      "source": [
        "df_test['Low_Documentation_Loan'] = df_test['Low_Documentation_Loan'].replace('0', 'No')\n",
        "df_test['Low_Documentation_Loan'] = df_test['Low_Documentation_Loan'].replace('S', 'No')\n",
        "df_test['Low_Documentation_Loan'] = df_test['Low_Documentation_Loan'].replace('A', 'No')\n",
        "df_test['Low_Documentation_Loan'] = df_test['Low_Documentation_Loan'].replace('C', 'No')\n",
        "df_test['Low_Documentation_Loan'] = df_test['Low_Documentation_Loan'].replace('R', 'No')"
      ],
      "metadata": {
        "id": "y6A5rmN7DjgP"
      },
      "execution_count": null,
      "outputs": []
    },
    {
      "cell_type": "code",
      "source": [
        "df_test['Low_Documentation_Loan'].value_counts()"
      ],
      "metadata": {
        "colab": {
          "base_uri": "https://localhost:8080/"
        },
        "id": "wpMEoUVf73WD",
        "outputId": "c7cf621a-4394-4379-c9cb-64428c380d6b"
      },
      "execution_count": null,
      "outputs": [
        {
          "output_type": "execute_result",
          "data": {
            "text/plain": [
              "No     39783\n",
              "Yes     5217\n",
              "Name: Low_Documentation_Loan, dtype: int64"
            ]
          },
          "metadata": {},
          "execution_count": 219
        }
      ]
    },
    {
      "cell_type": "code",
      "source": [
        "le= LabelEncoder()"
      ],
      "metadata": {
        "id": "_kOcJWKGDtdM"
      },
      "execution_count": null,
      "outputs": []
    },
    {
      "cell_type": "code",
      "source": [
        "df_test['Business'].value_counts()"
      ],
      "metadata": {
        "colab": {
          "base_uri": "https://localhost:8080/"
        },
        "id": "17QBIaJ7DwuE",
        "outputId": "c87452e7-25e9-408d-bf8d-5513b6b4083e"
      },
      "execution_count": null,
      "outputs": [
        {
          "output_type": "execute_result",
          "data": {
            "text/plain": [
              "Existing    32122\n",
              "New         12878\n",
              "Name: Business, dtype: int64"
            ]
          },
          "metadata": {},
          "execution_count": 221
        }
      ]
    },
    {
      "cell_type": "code",
      "source": [
        "df_test['Business'] = le.fit_transform(df_test['Business'])\n",
        "df_test['Business'].value_counts()"
      ],
      "metadata": {
        "colab": {
          "base_uri": "https://localhost:8080/"
        },
        "id": "mxidYB9RD3J7",
        "outputId": "596156f7-fa01-46e2-b0f8-587d3ffbdf42"
      },
      "execution_count": null,
      "outputs": [
        {
          "output_type": "execute_result",
          "data": {
            "text/plain": [
              "0    32122\n",
              "1    12878\n",
              "Name: Business, dtype: int64"
            ]
          },
          "metadata": {},
          "execution_count": 222
        }
      ]
    },
    {
      "cell_type": "code",
      "source": [
        "df_test['Low_Documentation_Loan'] = le.fit_transform(df_test['Low_Documentation_Loan'])\n",
        "df_test['Low_Documentation_Loan'].value_counts()"
      ],
      "metadata": {
        "colab": {
          "base_uri": "https://localhost:8080/"
        },
        "id": "xf4FUhO9D6M7",
        "outputId": "ced06ac8-9255-4e84-9515-d937f06dd869"
      },
      "execution_count": null,
      "outputs": [
        {
          "output_type": "execute_result",
          "data": {
            "text/plain": [
              "0    39783\n",
              "1     5217\n",
              "Name: Low_Documentation_Loan, dtype: int64"
            ]
          },
          "metadata": {},
          "execution_count": 223
        }
      ]
    },
    {
      "cell_type": "code",
      "source": [
        "df_test = pd.get_dummies(data=df_test, columns=['Demography'])"
      ],
      "metadata": {
        "id": "_Um5x-DUD_EM"
      },
      "execution_count": null,
      "outputs": []
    },
    {
      "cell_type": "code",
      "source": [
        "df_test.isnull().sum().sort_values(ascending=False)"
      ],
      "metadata": {
        "colab": {
          "base_uri": "https://localhost:8080/"
        },
        "id": "CH2biV7HECtl",
        "outputId": "31a9b2a3-4682-40fa-d887-106960bb1d37"
      },
      "execution_count": null,
      "outputs": [
        {
          "output_type": "execute_result",
          "data": {
            "text/plain": [
              "ID                          0\n",
              "Business                    0\n",
              "Demography_Undefined        0\n",
              "Demography_Rural            0\n",
              "Revolving_Credit_Line       0\n",
              "Name_Of_Bank                0\n",
              "Code_Franchise              0\n",
              "Commitment_Date             0\n",
              "Loan_Term                   0\n",
              "Gross_Amount_Disbursed      0\n",
              "Loan_Approved_Gross         0\n",
              "Classification_Code         0\n",
              "Count_Employees             0\n",
              "Gross_Amount_Balance        0\n",
              "Borrower_State              0\n",
              "Borrower_City               0\n",
              "ChargedOff_Amount           0\n",
              "State_Of_Bank               0\n",
              "Low_Documentation_Loan      0\n",
              "Guaranteed_Approved_Loan    0\n",
              "Year_Of_Commitment          0\n",
              "Jobs_Created                0\n",
              "Jobs_Reatained              0\n",
              "Demography_Urban            0\n",
              "dtype: int64"
            ]
          },
          "metadata": {},
          "execution_count": 225
        }
      ]
    },
    {
      "cell_type": "code",
      "source": [
        "df_test['Revolving_Credit_Line'] = np.where(df_test['Revolving_Credit_Line'] == 'No', '0',df_test['Revolving_Credit_Line'])\n",
        "df_test['Revolving_Credit_Line'] = np.where(df_test['Revolving_Credit_Line'] == 'Yes', '1',df_test['Revolving_Credit_Line'])\n",
        "\n",
        "df_test['Revolving_Credit_Line'].value_counts()"
      ],
      "metadata": {
        "colab": {
          "base_uri": "https://localhost:8080/"
        },
        "id": "ehXHkTsxEYug",
        "outputId": "20e20db6-77d7-4eef-f065-4034be93b358"
      },
      "execution_count": null,
      "outputs": [
        {
          "output_type": "execute_result",
          "data": {
            "text/plain": [
              "0    34316\n",
              "1    10684\n",
              "Name: Revolving_Credit_Line, dtype: int64"
            ]
          },
          "metadata": {},
          "execution_count": 226
        }
      ]
    },
    {
      "cell_type": "code",
      "source": [
        "df_test['Revolving_Credit_Line'] = df_test['Revolving_Credit_Line'].astype(np.int64)\n",
        "df_test['Demography_Rural'] = df_test['Demography_Rural'].astype(np.int64)\n",
        "df_test['Demography_Undefined'] = df_test['Demography_Undefined'].astype(np.int64)\n",
        "df_test['Demography_Urban'] = df_test['Demography_Urban'].astype(np.int64)\n",
        "df_test['Business'] = df_test['Business'].astype(np.int64)\n",
        "df_test['Low_Documentation_Loan'] = df_test['Low_Documentation_Loan'].astype(np.int64)\n",
        "\n",
        "df_test['Commitment_Date'] = pd.to_datetime(df_test['Commitment_Date'], errors='coerce')\n",
        "\n",
        "df_test['Commitment_Year'] = df_test['Commitment_Date'].dt.year\n",
        "df_test['Commitment_Month'] = df_test['Commitment_Date'].dt.month\n",
        "df_test['Commitment_Day'] = df_test['Commitment_Date'].dt.day\n",
        "\n",
        "df_test = df_test.drop('Commitment_Date',axis=1)\n",
        "df_test = df_test.drop('Year_Of_Commitment',axis=1)\n",
        "\n",
        "df_test['State_Of_Bank'].value_counts()"
      ],
      "metadata": {
        "colab": {
          "base_uri": "https://localhost:8080/"
        },
        "id": "Em8iUdqBEdrW",
        "outputId": "5851bd9a-3877-492d-93d5-7c543e83de1a"
      },
      "execution_count": null,
      "outputs": [
        {
          "output_type": "execute_result",
          "data": {
            "text/plain": [
              "TR    6603\n",
              "GJ    4686\n",
              "AS    3796\n",
              "JH    3123\n",
              "ML    2605\n",
              "MH    2412\n",
              "BR    2365\n",
              "AR    1967\n",
              "PB    1925\n",
              "OR    1571\n",
              "LD    1343\n",
              "AP    1307\n",
              "HP    1250\n",
              "JK    1087\n",
              "CH    1005\n",
              "KA     914\n",
              "KL     762\n",
              "UP     739\n",
              "CG     700\n",
              "HR     688\n",
              "GA     593\n",
              "WB     434\n",
              "RJ     425\n",
              "MP     407\n",
              "DL     378\n",
              "PY     330\n",
              "NL     280\n",
              "MZ     259\n",
              "DD     227\n",
              "DH     226\n",
              "SK     209\n",
              "UK     192\n",
              "AN     180\n",
              "MN      12\n",
              "Name: State_Of_Bank, dtype: int64"
            ]
          },
          "metadata": {},
          "execution_count": 227
        }
      ]
    },
    {
      "cell_type": "code",
      "source": [
        "State_Of_Bank_cnt = df_test['State_Of_Bank'].value_counts().to_dict()\n",
        "df_test['State_Of_Bank'] = df_test['State_Of_Bank'].map(State_Of_Bank_cnt)\n",
        "Borrower_City_cnt = df_test['Borrower_City'].value_counts().to_dict()\n",
        "df_test['Borrower_City'] = df_test['Borrower_City'].map(Borrower_City_cnt)\n",
        "Borrower_State_cnt = df_test['Borrower_State'].value_counts().to_dict()\n",
        "df_test['Borrower_State'] = df_test['Borrower_State'].map(Borrower_State_cnt)\n",
        "Name_Of_Bank_cnt = df_test['Name_Of_Bank'].value_counts().to_dict()\n",
        "df_test['Name_Of_Bank'] = df_test['Name_Of_Bank'].map(Name_Of_Bank_cnt)"
      ],
      "metadata": {
        "id": "bi5vSZpgEnjN"
      },
      "execution_count": null,
      "outputs": []
    },
    {
      "cell_type": "code",
      "source": [
        "df_test.shape"
      ],
      "metadata": {
        "colab": {
          "base_uri": "https://localhost:8080/"
        },
        "id": "mCtqgnHSFARU",
        "outputId": "c7622b1f-d308-406c-e896-07cb01ae8b34"
      },
      "execution_count": null,
      "outputs": [
        {
          "output_type": "execute_result",
          "data": {
            "text/plain": [
              "(45000, 25)"
            ]
          },
          "metadata": {},
          "execution_count": 229
        }
      ]
    },
    {
      "cell_type": "code",
      "source": [
        "df_test.info()"
      ],
      "metadata": {
        "colab": {
          "base_uri": "https://localhost:8080/"
        },
        "id": "rQRBaLMyFDV7",
        "outputId": "31bfa7fe-d30a-4989-c2e0-e3c58b178370"
      },
      "execution_count": null,
      "outputs": [
        {
          "output_type": "stream",
          "name": "stdout",
          "text": [
            "<class 'pandas.core.frame.DataFrame'>\n",
            "RangeIndex: 45000 entries, 0 to 44999\n",
            "Data columns (total 25 columns):\n",
            " #   Column                    Non-Null Count  Dtype  \n",
            "---  ------                    --------------  -----  \n",
            " 0   ID                        45000 non-null  int64  \n",
            " 1   Business                  45000 non-null  int64  \n",
            " 2   Jobs_Reatained            45000 non-null  int64  \n",
            " 3   Jobs_Created              45000 non-null  int64  \n",
            " 4   Guaranteed_Approved_Loan  45000 non-null  float64\n",
            " 5   Low_Documentation_Loan    45000 non-null  int64  \n",
            " 6   State_Of_Bank             45000 non-null  int64  \n",
            " 7   ChargedOff_Amount         45000 non-null  float64\n",
            " 8   Borrower_City             45000 non-null  int64  \n",
            " 9   Borrower_State            45000 non-null  int64  \n",
            " 10  Gross_Amount_Balance      45000 non-null  float64\n",
            " 11  Count_Employees           45000 non-null  int64  \n",
            " 12  Classification_Code       45000 non-null  int64  \n",
            " 13  Loan_Approved_Gross       45000 non-null  float64\n",
            " 14  Gross_Amount_Disbursed    45000 non-null  float64\n",
            " 15  Loan_Term                 45000 non-null  int64  \n",
            " 16  Code_Franchise            45000 non-null  int64  \n",
            " 17  Name_Of_Bank              45000 non-null  int64  \n",
            " 18  Revolving_Credit_Line     45000 non-null  int64  \n",
            " 19  Demography_Rural          45000 non-null  int64  \n",
            " 20  Demography_Undefined      45000 non-null  int64  \n",
            " 21  Demography_Urban          45000 non-null  int64  \n",
            " 22  Commitment_Year           45000 non-null  int64  \n",
            " 23  Commitment_Month          45000 non-null  int64  \n",
            " 24  Commitment_Day            45000 non-null  int64  \n",
            "dtypes: float64(5), int64(20)\n",
            "memory usage: 8.6 MB\n"
          ]
        }
      ]
    },
    {
      "cell_type": "code",
      "source": [
        "df_train.shape"
      ],
      "metadata": {
        "colab": {
          "base_uri": "https://localhost:8080/"
        },
        "id": "p3-cUG-AFP-R",
        "outputId": "870c1ac3-93bd-4aab-b4f9-597cdd56f88d"
      },
      "execution_count": null,
      "outputs": [
        {
          "output_type": "execute_result",
          "data": {
            "text/plain": [
              "(72814, 25)"
            ]
          },
          "metadata": {},
          "execution_count": 231
        }
      ]
    },
    {
      "cell_type": "markdown",
      "source": [
        "# Prepare training set and target variable"
      ],
      "metadata": {
        "id": "J4oXxtGgF6d8"
      }
    },
    {
      "cell_type": "code",
      "source": [
        "# making copies of dataset\n",
        "df_train_cpy = df_train.copy()\n",
        "\n",
        "y_data = df_train_cpy.pop('Default')"
      ],
      "metadata": {
        "id": "KOKhAWdBFmrK"
      },
      "execution_count": null,
      "outputs": []
    },
    {
      "cell_type": "code",
      "source": [
        "y_data.shape"
      ],
      "metadata": {
        "colab": {
          "base_uri": "https://localhost:8080/"
        },
        "id": "UVeENnEkHHAO",
        "outputId": "b53d4c6c-470a-489c-fbdd-4e81c1924246"
      },
      "execution_count": null,
      "outputs": [
        {
          "output_type": "execute_result",
          "data": {
            "text/plain": [
              "(72814,)"
            ]
          },
          "metadata": {},
          "execution_count": 96
        }
      ]
    },
    {
      "cell_type": "code",
      "source": [
        "df_train_cpy.shape"
      ],
      "metadata": {
        "colab": {
          "base_uri": "https://localhost:8080/"
        },
        "id": "kXzT5isKHIy9",
        "outputId": "5b4822c1-1003-423c-e2cc-60381be9e6b0"
      },
      "execution_count": null,
      "outputs": [
        {
          "output_type": "execute_result",
          "data": {
            "text/plain": [
              "(72814, 24)"
            ]
          },
          "metadata": {},
          "execution_count": 93
        }
      ]
    },
    {
      "cell_type": "code",
      "source": [
        "X_data = df_train_cpy"
      ],
      "metadata": {
        "id": "xWhKJmmYHTtl"
      },
      "execution_count": null,
      "outputs": []
    },
    {
      "cell_type": "code",
      "source": [
        "X_train, X_test, y_train, y_test = train_test_split(X_data, y_data, test_size = 0.2, random_state = 42)"
      ],
      "metadata": {
        "id": "7jHLyrOzH90L"
      },
      "execution_count": null,
      "outputs": []
    },
    {
      "cell_type": "code",
      "source": [
        "X_train.shape"
      ],
      "metadata": {
        "colab": {
          "base_uri": "https://localhost:8080/"
        },
        "id": "sPpeZDT9Ioda",
        "outputId": "30a33989-981b-453e-97b2-0c0c478375dd"
      },
      "execution_count": null,
      "outputs": [
        {
          "output_type": "execute_result",
          "data": {
            "text/plain": [
              "(58251, 24)"
            ]
          },
          "metadata": {},
          "execution_count": 98
        }
      ]
    },
    {
      "cell_type": "code",
      "source": [
        "y_train.shape"
      ],
      "metadata": {
        "colab": {
          "base_uri": "https://localhost:8080/"
        },
        "id": "cRIF2UL0ItZD",
        "outputId": "9e9c7efb-ad63-4501-c993-17eb60b8e40f"
      },
      "execution_count": null,
      "outputs": [
        {
          "output_type": "execute_result",
          "data": {
            "text/plain": [
              "(58251,)"
            ]
          },
          "metadata": {},
          "execution_count": 99
        }
      ]
    },
    {
      "cell_type": "code",
      "source": [
        "X_test.shape"
      ],
      "metadata": {
        "colab": {
          "base_uri": "https://localhost:8080/"
        },
        "id": "6QGxG8LKIwlJ",
        "outputId": "e3fa439c-f6ab-4f30-df05-af05efb87afe"
      },
      "execution_count": null,
      "outputs": [
        {
          "output_type": "execute_result",
          "data": {
            "text/plain": [
              "(14563, 24)"
            ]
          },
          "metadata": {},
          "execution_count": 100
        }
      ]
    },
    {
      "cell_type": "code",
      "source": [
        "y_test.shape"
      ],
      "metadata": {
        "colab": {
          "base_uri": "https://localhost:8080/"
        },
        "id": "a4oznGRsIz6G",
        "outputId": "4edc9bad-e281-4668-ceec-f0fd864f9c97"
      },
      "execution_count": null,
      "outputs": [
        {
          "output_type": "execute_result",
          "data": {
            "text/plain": [
              "(14563,)"
            ]
          },
          "metadata": {},
          "execution_count": 101
        }
      ]
    },
    {
      "cell_type": "markdown",
      "source": [
        "# ML models & Model evaluation"
      ],
      "metadata": {
        "id": "E4oK_voKJfvk"
      }
    },
    {
      "cell_type": "code",
      "source": [
        "from sklearn.metrics import confusion_matrix, roc_auc_score, accuracy_score, plot_confusion_matrix, classification_report\n",
        "from sklearn.metrics import precision_score, recall_score, precision_recall_curve,f1_score"
      ],
      "metadata": {
        "id": "PuUw9WbVI2T8"
      },
      "execution_count": null,
      "outputs": []
    },
    {
      "cell_type": "code",
      "source": [
        "def model_func(model, X_train, y_train, X_test, y_test, verbose=True):\n",
        "    if verbose == False:\n",
        "        model.fit(X_train,y_train, verbose=0)\n",
        "    else:\n",
        "        model.fit(X_train,y_train)\n",
        "        \n",
        "    y_pred = model.predict(X_test)\n",
        "    \n",
        "    print(\"Precision: {:.4f}\".format(precision_score(y_test,y_pred)))\n",
        "    print(\"Recall: {:.4f}\".format(recall_score(y_test,y_pred)))\n",
        "    print(\"Accuracy Score: {:.4f}\".format(accuracy_score(y_test,y_pred)))\n",
        "    m_f1_score = f1_score(y_test,y_pred)\n",
        "    print(\"F-1 Score: {:.4f}\".format(f1_score(y_test,y_pred)))\n",
        "\n",
        "    roc_auc = roc_auc_score(y_test, y_pred)\n",
        "    print(\"ROC_AUC = {:.4f}\".format(roc_auc))\n",
        "    print(classification_report(y_test, y_pred, digits=4))\n",
        "    plot_confusion_matrix(model, X_test, y_test,cmap=plt.cm.Blues, normalize = 'all')\n",
        "    \n",
        "    return model, roc_auc, m_f1_score"
      ],
      "metadata": {
        "id": "zXEDeVMcJpTd"
      },
      "execution_count": null,
      "outputs": []
    },
    {
      "cell_type": "markdown",
      "source": [
        "## Logistic regression"
      ],
      "metadata": {
        "id": "ss-A_2b1Jyil"
      }
    },
    {
      "cell_type": "code",
      "source": [
        "model_lr = LogisticRegression(random_state= 42)\n",
        "model_lr, roc_auc_lr, f1_score_lr = model_func(model_lr, X_train, y_train, X_test, y_test)"
      ],
      "metadata": {
        "colab": {
          "base_uri": "https://localhost:8080/",
          "height": 523
        },
        "id": "BRjq4ODjJsWc",
        "outputId": "8bc27812-d903-4620-aa5e-ef9d43f3c508"
      },
      "execution_count": null,
      "outputs": [
        {
          "output_type": "stream",
          "name": "stdout",
          "text": [
            "Precision: 0.9876\n",
            "Recall: 0.9404\n",
            "Accuracy Score: 0.9796\n",
            "F-1 Score: 0.9635\n",
            "ROC_AUC = 0.9679\n",
            "              precision    recall  f1-score   support\n",
            "\n",
            "           0     0.9766    0.9953    0.9859     10400\n",
            "           1     0.9876    0.9404    0.9635      4163\n",
            "\n",
            "    accuracy                         0.9796     14563\n",
            "   macro avg     0.9821    0.9679    0.9747     14563\n",
            "weighted avg     0.9798    0.9796    0.9795     14563\n",
            "\n"
          ]
        },
        {
          "output_type": "display_data",
          "data": {
            "text/plain": [
              "<Figure size 432x288 with 2 Axes>"
            ],
            "image/png": "[encoded data removed]"
          },
          "metadata": {
            "needs_background": "light"
          }
        }
      ]
    },
    {
      "cell_type": "markdown",
      "source": [
        "## Decision tree classifier"
      ],
      "metadata": {
        "id": "7ZUfqPrVKOUZ"
      }
    },
    {
      "cell_type": "code",
      "source": [
        "model_dt = DecisionTreeClassifier(max_depth=4)"
      ],
      "metadata": {
        "id": "7ExYNrGnJ9zJ"
      },
      "execution_count": null,
      "outputs": []
    },
    {
      "cell_type": "code",
      "source": [
        "model_dt, roc_auc_dt, f1_score_dt = model_func(model_dt, X_train, y_train, X_test, y_test)"
      ],
      "metadata": {
        "colab": {
          "base_uri": "https://localhost:8080/",
          "height": 524
        },
        "id": "FgYvutrYKSRH",
        "outputId": "905506fe-49b9-40a0-feb8-b1053e95f935"
      },
      "execution_count": null,
      "outputs": [
        {
          "output_type": "stream",
          "name": "stdout",
          "text": [
            "Precision: 0.9830\n",
            "Recall: 0.9971\n",
            "Accuracy Score: 0.9942\n",
            "F-1 Score: 0.9900\n",
            "ROC_AUC = 0.9951\n",
            "              precision    recall  f1-score   support\n",
            "\n",
            "           0     0.9988    0.9931    0.9959     10400\n",
            "           1     0.9830    0.9971    0.9900      4163\n",
            "\n",
            "    accuracy                         0.9942     14563\n",
            "   macro avg     0.9909    0.9951    0.9930     14563\n",
            "weighted avg     0.9943    0.9942    0.9942     14563\n",
            "\n"
          ]
        },
        {
          "output_type": "display_data",
          "data": {
            "text/plain": [
              "<Figure size 432x288 with 2 Axes>"
            ],
            "image/png": "[encoded data removed]"
          },
          "metadata": {
            "needs_background": "light"
          }
        }
      ]
    },
    {
      "cell_type": "markdown",
      "source": [
        "## Random forest classifier"
      ],
      "metadata": {
        "id": "6CWfIs9EKj4k"
      }
    },
    {
      "cell_type": "code",
      "source": [
        "model_rf = RandomForestClassifier(random_state=42)"
      ],
      "metadata": {
        "id": "8HJxqMqUKU9X"
      },
      "execution_count": null,
      "outputs": []
    },
    {
      "cell_type": "code",
      "source": [
        "model_rf, roc_auc_rf, f1_score_rf = model_func(model_rf, X_train, y_train, X_test, y_test)"
      ],
      "metadata": {
        "colab": {
          "base_uri": "https://localhost:8080/",
          "height": 523
        },
        "id": "Uyb0XJh0Ksvd",
        "outputId": "c1649cea-ce39-4d36-81a9-f1694dc3ac7d"
      },
      "execution_count": null,
      "outputs": [
        {
          "output_type": "stream",
          "name": "stdout",
          "text": [
            "Precision: 0.9834\n",
            "Recall: 0.9971\n",
            "Accuracy Score: 0.9944\n",
            "F-1 Score: 0.9902\n",
            "ROC_AUC = 0.9952\n",
            "              precision    recall  f1-score   support\n",
            "\n",
            "           0     0.9988    0.9933    0.9960     10400\n",
            "           1     0.9834    0.9971    0.9902      4163\n",
            "\n",
            "    accuracy                         0.9944     14563\n",
            "   macro avg     0.9911    0.9952    0.9931     14563\n",
            "weighted avg     0.9944    0.9944    0.9944     14563\n",
            "\n"
          ]
        },
        {
          "output_type": "display_data",
          "data": {
            "text/plain": [
              "<Figure size 432x288 with 2 Axes>"
            ],
            "image/png": "[encoded data removed]"
          },
          "metadata": {
            "needs_background": "light"
          }
        }
      ]
    },
    {
      "cell_type": "markdown",
      "source": [
        "## Gradient boosting classifiers"
      ],
      "metadata": {
        "id": "Non4SHxtLQsp"
      }
    },
    {
      "cell_type": "code",
      "source": [
        "from xgboost import XGBClassifier"
      ],
      "metadata": {
        "id": "1ii-YYUhKvc3"
      },
      "execution_count": null,
      "outputs": []
    },
    {
      "cell_type": "code",
      "source": [
        "model_xgbc = XGBClassifier()\n",
        "model_xgbc, roc_auc_xgbc, f1_score_xgbc = model_func(model_xgbc, X_train, y_train, X_test, y_test)"
      ],
      "metadata": {
        "colab": {
          "base_uri": "https://localhost:8080/",
          "height": 523
        },
        "id": "8jEjJXOMLUO3",
        "outputId": "38c921c7-82f8-40eb-f20a-1615d07f2c30"
      },
      "execution_count": null,
      "outputs": [
        {
          "output_type": "stream",
          "name": "stdout",
          "text": [
            "Precision: 0.9834\n",
            "Recall: 0.9976\n",
            "Accuracy Score: 0.9945\n",
            "F-1 Score: 0.9905\n",
            "ROC_AUC = 0.9954\n",
            "              precision    recall  f1-score   support\n",
            "\n",
            "           0     0.9990    0.9933    0.9961     10400\n",
            "           1     0.9834    0.9976    0.9905      4163\n",
            "\n",
            "    accuracy                         0.9945     14563\n",
            "   macro avg     0.9912    0.9954    0.9933     14563\n",
            "weighted avg     0.9946    0.9945    0.9945     14563\n",
            "\n"
          ]
        },
        {
          "output_type": "display_data",
          "data": {
            "text/plain": [
              "<Figure size 432x288 with 2 Axes>"
            ],
            "image/png": "[encoded data removed]"
          },
          "metadata": {
            "needs_background": "light"
          }
        }
      ]
    },
    {
      "cell_type": "markdown",
      "source": [
        "## SMOTE techniques"
      ],
      "metadata": {
        "id": "RF_bWlZbNTXr"
      }
    },
    {
      "cell_type": "code",
      "source": [
        "from imblearn.over_sampling import ADASYN\n",
        "from collections import Counter\n",
        "from imblearn.combine import SMOTETomek, SMOTEENN"
      ],
      "metadata": {
        "id": "qwCPato9LXoP"
      },
      "execution_count": null,
      "outputs": []
    },
    {
      "cell_type": "markdown",
      "source": [
        "## ADASYN"
      ],
      "metadata": {
        "id": "XfWNC_SFRuFB"
      }
    },
    {
      "cell_type": "code",
      "source": [
        "Counter(y_data)"
      ],
      "metadata": {
        "colab": {
          "base_uri": "https://localhost:8080/"
        },
        "id": "zDZKYHE3Nwit",
        "outputId": "6cd91736-7c19-4ae3-b5b1-506b6607e2b4"
      },
      "execution_count": null,
      "outputs": [
        {
          "output_type": "execute_result",
          "data": {
            "text/plain": [
              "Counter({0: 52108, 1: 20706})"
            ]
          },
          "metadata": {},
          "execution_count": 116
        }
      ]
    },
    {
      "cell_type": "code",
      "source": [
        "ada = ADASYN(random_state=42)"
      ],
      "metadata": {
        "id": "akzL7X3xP-mP"
      },
      "execution_count": null,
      "outputs": []
    },
    {
      "cell_type": "code",
      "source": [
        "X_data_ada, y_data_ada = ada.fit_resample(X_data, y_data)"
      ],
      "metadata": {
        "id": "0-ZkUdd-QikS"
      },
      "execution_count": null,
      "outputs": []
    },
    {
      "cell_type": "code",
      "source": [
        "counts = Counter(y_data_ada)"
      ],
      "metadata": {
        "id": "dBIMNYj7RHBE"
      },
      "execution_count": null,
      "outputs": []
    },
    {
      "cell_type": "code",
      "source": [
        "print('After resampling: ', counts)"
      ],
      "metadata": {
        "colab": {
          "base_uri": "https://localhost:8080/"
        },
        "id": "5H5Xj-IEOEMw",
        "outputId": "7f551790-b92a-44b7-d1c3-9ca6a08bc68d"
      },
      "execution_count": null,
      "outputs": [
        {
          "output_type": "stream",
          "name": "stdout",
          "text": [
            "After resampling:  Counter({0: 52108, 1: 52010})\n"
          ]
        }
      ]
    },
    {
      "cell_type": "markdown",
      "source": [
        "## SMOTETomek"
      ],
      "metadata": {
        "id": "lEo7Ir6IR0pa"
      }
    },
    {
      "cell_type": "code",
      "source": [
        "smotet = SMOTETomek(random_state=42)\n",
        "X_data_smotet, y_data_smotet = smotet.fit_resample(X_data, y_data)"
      ],
      "metadata": {
        "id": "8GCuTR6PSXPs"
      },
      "execution_count": null,
      "outputs": []
    },
    {
      "cell_type": "code",
      "source": [
        "counts2 = Counter(y_data_smotet)"
      ],
      "metadata": {
        "id": "FFHpkZJ1S2_4"
      },
      "execution_count": null,
      "outputs": []
    },
    {
      "cell_type": "code",
      "source": [
        "print('After resampling: ', counts2)"
      ],
      "metadata": {
        "colab": {
          "base_uri": "https://localhost:8080/"
        },
        "id": "Ito3dIcFTL3A",
        "outputId": "11ebb85e-c035-4094-8524-d9c67f2afc3b"
      },
      "execution_count": null,
      "outputs": [
        {
          "output_type": "stream",
          "name": "stdout",
          "text": [
            "After resampling:  Counter({0: 51924, 1: 51924})\n"
          ]
        }
      ]
    },
    {
      "cell_type": "markdown",
      "source": [
        "## SMOTEENN"
      ],
      "metadata": {
        "id": "ubfth_uLTkUn"
      }
    },
    {
      "cell_type": "code",
      "source": [
        "smenn = SMOTEENN(random_state=42)\n",
        "X_data_smenn, y_data_smenn = smenn.fit_resample(X_data, y_data)"
      ],
      "metadata": {
        "id": "RrlfJq0zTOaV"
      },
      "execution_count": null,
      "outputs": []
    },
    {
      "cell_type": "code",
      "source": [
        "counts3 = Counter(y_data_smenn)"
      ],
      "metadata": {
        "id": "UIlz0i_KUAYO"
      },
      "execution_count": null,
      "outputs": []
    },
    {
      "cell_type": "code",
      "source": [
        "print('After resampling: ', counts3)"
      ],
      "metadata": {
        "colab": {
          "base_uri": "https://localhost:8080/"
        },
        "id": "_cKJ-kEPXNQQ",
        "outputId": "c6e5d3c6-a79d-4823-b380-239c78a44bb0"
      },
      "execution_count": null,
      "outputs": [
        {
          "output_type": "stream",
          "name": "stdout",
          "text": [
            "After resampling:  Counter({0: 51189, 1: 50881})\n"
          ]
        }
      ]
    },
    {
      "cell_type": "markdown",
      "source": [
        "## Logistic regression with resampled data"
      ],
      "metadata": {
        "id": "dc8-ZtpIYlC8"
      }
    },
    {
      "cell_type": "code",
      "source": [
        "X_train, X_test, y_train, y_test = train_test_split(X_data_ada, y_data_ada, test_size = 0.2, random_state = 42)"
      ],
      "metadata": {
        "id": "8kQNHoKPaM4S"
      },
      "execution_count": null,
      "outputs": []
    },
    {
      "cell_type": "code",
      "source": [
        "model_lr_ada = LogisticRegression(random_state= 42)\n",
        "model_lr_ada, roc_auc_lr_ada, f1_score_lr_ada = model_func(model_lr_ada, X_train, y_train, X_test, y_test)"
      ],
      "metadata": {
        "colab": {
          "base_uri": "https://localhost:8080/",
          "height": 525
        },
        "id": "ra4Usfm1YZcp",
        "outputId": "84d1fc81-1966-46f0-dced-828ec2c1cb95"
      },
      "execution_count": null,
      "outputs": [
        {
          "output_type": "stream",
          "name": "stdout",
          "text": [
            "Precision: 0.9907\n",
            "Recall: 0.8444\n",
            "Accuracy Score: 0.9194\n",
            "F-1 Score: 0.9117\n",
            "ROC_AUC = 0.9184\n",
            "              precision    recall  f1-score   support\n",
            "\n",
            "           0     0.8678    0.9923    0.9259     10562\n",
            "           1     0.9907    0.8444    0.9117     10262\n",
            "\n",
            "    accuracy                         0.9194     20824\n",
            "   macro avg     0.9293    0.9184    0.9188     20824\n",
            "weighted avg     0.9284    0.9194    0.9189     20824\n",
            "\n"
          ]
        },
        {
          "output_type": "display_data",
          "data": {
            "text/plain": [
              "<Figure size 432x288 with 2 Axes>"
            ],
            "image/png": "[encoded data removed]"
          },
          "metadata": {
            "needs_background": "light"
          }
        }
      ]
    },
    {
      "cell_type": "code",
      "source": [
        "X_train, X_test, y_train, y_test = train_test_split(X_data_smotet, y_data_smotet, test_size = 0.2, random_state = 42)"
      ],
      "metadata": {
        "id": "IetwhsqOZEhM"
      },
      "execution_count": null,
      "outputs": []
    },
    {
      "cell_type": "code",
      "source": [
        "model_lr_smotet = LogisticRegression(random_state= 42)\n",
        "model_lr_smotet, roc_auc_lr_smotet, f1_score_lr_smotet = model_func(model_lr_smotet, X_train, y_train, X_test, y_test)"
      ],
      "metadata": {
        "colab": {
          "base_uri": "https://localhost:8080/",
          "height": 525
        },
        "id": "LhM-9fuqazIa",
        "outputId": "f6ab90fd-229a-4878-d98a-a95214c6ff77"
      },
      "execution_count": null,
      "outputs": [
        {
          "output_type": "stream",
          "name": "stdout",
          "text": [
            "Precision: 0.9949\n",
            "Recall: 0.9749\n",
            "Accuracy Score: 0.9851\n",
            "F-1 Score: 0.9848\n",
            "ROC_AUC = 0.9850\n",
            "              precision    recall  f1-score   support\n",
            "\n",
            "           0     0.9759    0.9951    0.9854     10506\n",
            "           1     0.9949    0.9749    0.9848     10264\n",
            "\n",
            "    accuracy                         0.9851     20770\n",
            "   macro avg     0.9854    0.9850    0.9851     20770\n",
            "weighted avg     0.9853    0.9851    0.9851     20770\n",
            "\n"
          ]
        },
        {
          "output_type": "display_data",
          "data": {
            "text/plain": [
              "<Figure size 432x288 with 2 Axes>"
            ],
            "image/png": "[encoded data removed]"
          },
          "metadata": {
            "needs_background": "light"
          }
        }
      ]
    },
    {
      "cell_type": "code",
      "source": [
        "X_train, X_test, y_train, y_test = train_test_split(X_data_smenn, y_data_smenn, test_size = 0.2, random_state = 42)"
      ],
      "metadata": {
        "id": "XOcygALqa2bW"
      },
      "execution_count": null,
      "outputs": []
    },
    {
      "cell_type": "code",
      "source": [
        "model_lr_smenn = LogisticRegression(random_state= 42)\n",
        "model_lr_smenn, roc_auc_lr_smenn, f1_score_lr_smenn = model_func(model_lr_smenn, X_train, y_train, X_test, y_test)"
      ],
      "metadata": {
        "colab": {
          "base_uri": "https://localhost:8080/",
          "height": 524
        },
        "id": "uG_QsPY7bu5y",
        "outputId": "d9577a86-beb3-41a4-da26-882b3c506ab9"
      },
      "execution_count": null,
      "outputs": [
        {
          "output_type": "stream",
          "name": "stdout",
          "text": [
            "Precision: 0.9995\n",
            "Recall: 0.9988\n",
            "Accuracy Score: 0.9992\n",
            "F-1 Score: 0.9992\n",
            "ROC_AUC = 0.9992\n",
            "              precision    recall  f1-score   support\n",
            "\n",
            "           0     0.9988    0.9995    0.9992     10326\n",
            "           1     0.9995    0.9988    0.9992     10088\n",
            "\n",
            "    accuracy                         0.9992     20414\n",
            "   macro avg     0.9992    0.9992    0.9992     20414\n",
            "weighted avg     0.9992    0.9992    0.9992     20414\n",
            "\n"
          ]
        },
        {
          "output_type": "display_data",
          "data": {
            "text/plain": [
              "<Figure size 432x288 with 2 Axes>"
            ],
            "image/png": "[encoded data removed]"
          },
          "metadata": {
            "needs_background": "light"
          }
        }
      ]
    },
    {
      "cell_type": "markdown",
      "source": [
        "## Decision tree classifier with resampled data"
      ],
      "metadata": {
        "id": "5lz47_zDcfFN"
      }
    },
    {
      "cell_type": "code",
      "source": [
        "X_train, X_test, y_train, y_test = train_test_split(X_data_ada, y_data_ada, test_size = 0.2, random_state = 42)"
      ],
      "metadata": {
        "id": "YGXWLe7_dcMY"
      },
      "execution_count": null,
      "outputs": []
    },
    {
      "cell_type": "code",
      "source": [
        "model_dt_ada = DecisionTreeClassifier(max_depth=4)\n",
        "model_dt_ada, roc_auc_dt_ada, f1_score_dt_ada = model_func(model_dt_ada, X_train, y_train, X_test, y_test)"
      ],
      "metadata": {
        "colab": {
          "base_uri": "https://localhost:8080/",
          "height": 525
        },
        "id": "9HURtIRrcNUb",
        "outputId": "28e109cf-3543-4413-f2a8-d416be84752f"
      },
      "execution_count": null,
      "outputs": [
        {
          "output_type": "stream",
          "name": "stdout",
          "text": [
            "Precision: 0.9896\n",
            "Recall: 0.9912\n",
            "Accuracy Score: 0.9905\n",
            "F-1 Score: 0.9904\n",
            "ROC_AUC = 0.9905\n",
            "              precision    recall  f1-score   support\n",
            "\n",
            "           0     0.9915    0.9899    0.9907     10562\n",
            "           1     0.9896    0.9912    0.9904     10262\n",
            "\n",
            "    accuracy                         0.9905     20824\n",
            "   macro avg     0.9905    0.9905    0.9905     20824\n",
            "weighted avg     0.9905    0.9905    0.9905     20824\n",
            "\n"
          ]
        },
        {
          "output_type": "display_data",
          "data": {
            "text/plain": [
              "<Figure size 432x288 with 2 Axes>"
            ],
            "image/png": "[encoded data removed]"
          },
          "metadata": {
            "needs_background": "light"
          }
        }
      ]
    },
    {
      "cell_type": "code",
      "source": [
        "X_train, X_test, y_train, y_test = train_test_split(X_data_smotet, y_data_smotet, test_size = 0.2, random_state = 42)"
      ],
      "metadata": {
        "id": "MHe2Qf4kd1TX"
      },
      "execution_count": null,
      "outputs": []
    },
    {
      "cell_type": "code",
      "source": [
        "model_dt_smotet = DecisionTreeClassifier(max_depth=4)\n",
        "model_dt_smotet, roc_auc_dt_smotet, f1_score_dt_smotet = model_func(model_dt_smotet, X_train, y_train, X_test, y_test)"
      ],
      "metadata": {
        "colab": {
          "base_uri": "https://localhost:8080/",
          "height": 525
        },
        "id": "Po9ROIrGeImm",
        "outputId": "fe022ea0-d03f-4412-cf85-86ea49796ffa"
      },
      "execution_count": null,
      "outputs": [
        {
          "output_type": "stream",
          "name": "stdout",
          "text": [
            "Precision: 0.9942\n",
            "Recall: 0.9980\n",
            "Accuracy Score: 0.9961\n",
            "F-1 Score: 0.9961\n",
            "ROC_AUC = 0.9961\n",
            "              precision    recall  f1-score   support\n",
            "\n",
            "           0     0.9980    0.9943    0.9961     10506\n",
            "           1     0.9942    0.9980    0.9961     10264\n",
            "\n",
            "    accuracy                         0.9961     20770\n",
            "   macro avg     0.9961    0.9961    0.9961     20770\n",
            "weighted avg     0.9961    0.9961    0.9961     20770\n",
            "\n"
          ]
        },
        {
          "output_type": "display_data",
          "data": {
            "text/plain": [
              "<Figure size 432x288 with 2 Axes>"
            ],
            "image/png": "[encoded data removed]"
          },
          "metadata": {
            "needs_background": "light"
          }
        }
      ]
    },
    {
      "cell_type": "code",
      "source": [
        "X_train, X_test, y_train, y_test = train_test_split(X_data_smenn, y_data_smenn, test_size = 0.2, random_state = 42)"
      ],
      "metadata": {
        "id": "PTtsdAkserAr"
      },
      "execution_count": null,
      "outputs": []
    },
    {
      "cell_type": "code",
      "source": [
        "model_dt_smenn = DecisionTreeClassifier(max_depth=4)\n",
        "model_dt_smenn, roc_auc_dt_smenn, f1_score_dt_smenn = model_func(model_dt_smenn, X_train, y_train, X_test, y_test)"
      ],
      "metadata": {
        "colab": {
          "base_uri": "https://localhost:8080/",
          "height": 524
        },
        "id": "7wovF593etxD",
        "outputId": "64a7550e-2a70-48f2-d904-56635beb18c4"
      },
      "execution_count": null,
      "outputs": [
        {
          "output_type": "stream",
          "name": "stdout",
          "text": [
            "Precision: 0.9994\n",
            "Recall: 1.0000\n",
            "Accuracy Score: 0.9997\n",
            "F-1 Score: 0.9997\n",
            "ROC_AUC = 0.9997\n",
            "              precision    recall  f1-score   support\n",
            "\n",
            "           0     1.0000    0.9994    0.9997     10326\n",
            "           1     0.9994    1.0000    0.9997     10088\n",
            "\n",
            "    accuracy                         0.9997     20414\n",
            "   macro avg     0.9997    0.9997    0.9997     20414\n",
            "weighted avg     0.9997    0.9997    0.9997     20414\n",
            "\n"
          ]
        },
        {
          "output_type": "display_data",
          "data": {
            "text/plain": [
              "<Figure size 432x288 with 2 Axes>"
            ],
            "image/png": "[encoded data removed]"
          },
          "metadata": {
            "needs_background": "light"
          }
        }
      ]
    },
    {
      "cell_type": "markdown",
      "source": [
        "## Random forest classifier with resampled data"
      ],
      "metadata": {
        "id": "EzM1x7ihjHBj"
      }
    },
    {
      "cell_type": "code",
      "source": [
        "X_train, X_test, y_train, y_test = train_test_split(X_data_ada, y_data_ada, test_size = 0.2, random_state = 42)"
      ],
      "metadata": {
        "id": "J07Cx1e7gJf7"
      },
      "execution_count": null,
      "outputs": []
    },
    {
      "cell_type": "code",
      "source": [
        "model_rf_ada = RandomForestClassifier(random_state=42)\n",
        "model_rf_ada, roc_auc_rf_ada, f1_score_rf_ada = model_func(model_rf_ada, X_train, y_train, X_test, y_test)"
      ],
      "metadata": {
        "colab": {
          "base_uri": "https://localhost:8080/",
          "height": 525
        },
        "id": "XtzZHPCKfPlb",
        "outputId": "e7626547-d7b1-451d-b918-9f8e81f33830"
      },
      "execution_count": null,
      "outputs": [
        {
          "output_type": "stream",
          "name": "stdout",
          "text": [
            "Precision: 0.9922\n",
            "Recall: 0.9989\n",
            "Accuracy Score: 0.9956\n",
            "F-1 Score: 0.9955\n",
            "ROC_AUC = 0.9956\n",
            "              precision    recall  f1-score   support\n",
            "\n",
            "           0     0.9990    0.9923    0.9956     10562\n",
            "           1     0.9922    0.9989    0.9955     10262\n",
            "\n",
            "    accuracy                         0.9956     20824\n",
            "   macro avg     0.9956    0.9956    0.9956     20824\n",
            "weighted avg     0.9956    0.9956    0.9956     20824\n",
            "\n"
          ]
        },
        {
          "output_type": "display_data",
          "data": {
            "text/plain": [
              "<Figure size 432x288 with 2 Axes>"
            ],
            "image/png": "[encoded data removed]"
          },
          "metadata": {
            "needs_background": "light"
          }
        }
      ]
    },
    {
      "cell_type": "code",
      "source": [
        "X_train, X_test, y_train, y_test = train_test_split(X_data_smotet, y_data_smotet, test_size = 0.2, random_state = 42)"
      ],
      "metadata": {
        "id": "orAIW3-ZgfSN"
      },
      "execution_count": null,
      "outputs": []
    },
    {
      "cell_type": "code",
      "source": [
        "model_rf_smotet = RandomForestClassifier(random_state=42)\n",
        "model_rf_smotet, roc_auc_rf_smotet, f1_score_rf_smotet = model_func(model_rf_smotet, X_train, y_train, X_test, y_test)"
      ],
      "metadata": {
        "colab": {
          "base_uri": "https://localhost:8080/",
          "height": 525
        },
        "id": "UiflE6gxgtA5",
        "outputId": "412039d3-c6fd-4402-c539-5fbd2772b82f"
      },
      "execution_count": null,
      "outputs": [
        {
          "output_type": "stream",
          "name": "stdout",
          "text": [
            "Precision: 0.9943\n",
            "Recall: 0.9980\n",
            "Accuracy Score: 0.9961\n",
            "F-1 Score: 0.9961\n",
            "ROC_AUC = 0.9962\n",
            "              precision    recall  f1-score   support\n",
            "\n",
            "           0     0.9980    0.9944    0.9962     10506\n",
            "           1     0.9943    0.9980    0.9961     10264\n",
            "\n",
            "    accuracy                         0.9961     20770\n",
            "   macro avg     0.9961    0.9962    0.9961     20770\n",
            "weighted avg     0.9962    0.9961    0.9961     20770\n",
            "\n"
          ]
        },
        {
          "output_type": "display_data",
          "data": {
            "text/plain": [
              "<Figure size 432x288 with 2 Axes>"
            ],
            "image/png": "[encoded data removed]"
          },
          "metadata": {
            "needs_background": "light"
          }
        }
      ]
    },
    {
      "cell_type": "code",
      "source": [
        "X_train, X_test, y_train, y_test = train_test_split(X_data_smenn, y_data_smenn, test_size = 0.2, random_state = 42)"
      ],
      "metadata": {
        "id": "MwMFZJxXg2Zg"
      },
      "execution_count": null,
      "outputs": []
    },
    {
      "cell_type": "code",
      "source": [
        "model_rf_smenn = RandomForestClassifier(random_state=42)\n",
        "model_rf_smenn, roc_auc_rf_smenn, f1_score_rf_smenn = model_func(model_rf_smenn, X_train, y_train, X_test, y_test)"
      ],
      "metadata": {
        "colab": {
          "base_uri": "https://localhost:8080/",
          "height": 524
        },
        "id": "fdxLf5zQhLiy",
        "outputId": "2ea81cda-7b56-4e3a-8cfc-ffb631ca9b68"
      },
      "execution_count": null,
      "outputs": [
        {
          "output_type": "stream",
          "name": "stdout",
          "text": [
            "Precision: 0.9993\n",
            "Recall: 0.9998\n",
            "Accuracy Score: 0.9996\n",
            "F-1 Score: 0.9996\n",
            "ROC_AUC = 0.9996\n",
            "              precision    recall  f1-score   support\n",
            "\n",
            "           0     0.9998    0.9993    0.9996     10326\n",
            "           1     0.9993    0.9998    0.9996     10088\n",
            "\n",
            "    accuracy                         0.9996     20414\n",
            "   macro avg     0.9996    0.9996    0.9996     20414\n",
            "weighted avg     0.9996    0.9996    0.9996     20414\n",
            "\n"
          ]
        },
        {
          "output_type": "display_data",
          "data": {
            "text/plain": [
              "<Figure size 432x288 with 2 Axes>"
            ],
            "image/png": "[encoded data removed]"
          },
          "metadata": {
            "needs_background": "light"
          }
        }
      ]
    },
    {
      "cell_type": "markdown",
      "source": [
        "## Gradient boosting classifier with resampled data"
      ],
      "metadata": {
        "id": "VPpBIR1VjbKE"
      }
    },
    {
      "cell_type": "code",
      "source": [
        "X_train, X_test, y_train, y_test = train_test_split(X_data_ada, y_data_ada, test_size = 0.2, random_state = 42)"
      ],
      "metadata": {
        "id": "kUGMusVmkK2Y"
      },
      "execution_count": null,
      "outputs": []
    },
    {
      "cell_type": "code",
      "source": [
        "model_xgbc_ada = XGBClassifier()\n",
        "model_xgbc_ada, roc_auc_xgbc_ada, f1_score_xgbc_ada = model_func(model_xgbc_ada, X_train, y_train, X_test, y_test)"
      ],
      "metadata": {
        "colab": {
          "base_uri": "https://localhost:8080/",
          "height": 525
        },
        "id": "UgyFfeJ3i4Qw",
        "outputId": "e69a2301-90d8-4dcc-ac7f-e25480c8145f"
      },
      "execution_count": null,
      "outputs": [
        {
          "output_type": "stream",
          "name": "stdout",
          "text": [
            "Precision: 0.9910\n",
            "Recall: 0.9946\n",
            "Accuracy Score: 0.9929\n",
            "F-1 Score: 0.9928\n",
            "ROC_AUC = 0.9929\n",
            "              precision    recall  f1-score   support\n",
            "\n",
            "           0     0.9948    0.9912    0.9930     10562\n",
            "           1     0.9910    0.9946    0.9928     10262\n",
            "\n",
            "    accuracy                         0.9929     20824\n",
            "   macro avg     0.9929    0.9929    0.9929     20824\n",
            "weighted avg     0.9929    0.9929    0.9929     20824\n",
            "\n"
          ]
        },
        {
          "output_type": "display_data",
          "data": {
            "text/plain": [
              "<Figure size 432x288 with 2 Axes>"
            ],
            "image/png": "[encoded data removed]"
          },
          "metadata": {
            "needs_background": "light"
          }
        }
      ]
    },
    {
      "cell_type": "code",
      "source": [
        "X_train, X_test, y_train, y_test = train_test_split(X_data_smotet, y_data_smotet, test_size = 0.2, random_state = 42)"
      ],
      "metadata": {
        "id": "vDqLtHvnkWs3"
      },
      "execution_count": null,
      "outputs": []
    },
    {
      "cell_type": "code",
      "source": [
        "model_xgbc_smotet = XGBClassifier()\n",
        "model_xgbc_smotet, roc_auc_xgbc_smotet, f1_score_xgbc_smotet = model_func(model_xgbc_smotet, X_train, y_train, X_test, y_test)"
      ],
      "metadata": {
        "colab": {
          "base_uri": "https://localhost:8080/",
          "height": 525
        },
        "id": "78ERFUsckkqy",
        "outputId": "fef66574-6fbc-4e49-8ef1-22820be84aa2"
      },
      "execution_count": null,
      "outputs": [
        {
          "output_type": "stream",
          "name": "stdout",
          "text": [
            "Precision: 0.9943\n",
            "Recall: 0.9979\n",
            "Accuracy Score: 0.9961\n",
            "F-1 Score: 0.9961\n",
            "ROC_AUC = 0.9961\n",
            "              precision    recall  f1-score   support\n",
            "\n",
            "           0     0.9979    0.9944    0.9961     10506\n",
            "           1     0.9943    0.9979    0.9961     10264\n",
            "\n",
            "    accuracy                         0.9961     20770\n",
            "   macro avg     0.9961    0.9961    0.9961     20770\n",
            "weighted avg     0.9961    0.9961    0.9961     20770\n",
            "\n"
          ]
        },
        {
          "output_type": "display_data",
          "data": {
            "text/plain": [
              "<Figure size 432x288 with 2 Axes>"
            ],
            "image/png": "[encoded data removed]"
          },
          "metadata": {
            "needs_background": "light"
          }
        }
      ]
    },
    {
      "cell_type": "code",
      "source": [
        "X_train, X_test, y_train, y_test = train_test_split(X_data_smenn, y_data_smenn, test_size = 0.2, random_state = 42)"
      ],
      "metadata": {
        "id": "1IJS7s_Cl9xz"
      },
      "execution_count": null,
      "outputs": []
    },
    {
      "cell_type": "code",
      "source": [
        "model_xgbc_smenn = XGBClassifier()\n",
        "model_xgbc_smenn, roc_auc_xgbc_smenn, f1_score_xgbc_smenn = model_func(model_xgbc_smenn, X_train, y_train, X_test, y_test)"
      ],
      "metadata": {
        "colab": {
          "base_uri": "https://localhost:8080/",
          "height": 524
        },
        "id": "XmFs7IYQmObk",
        "outputId": "baad7257-b979-40e7-c6ed-703733504706"
      },
      "execution_count": null,
      "outputs": [
        {
          "output_type": "stream",
          "name": "stdout",
          "text": [
            "Precision: 0.9994\n",
            "Recall: 1.0000\n",
            "Accuracy Score: 0.9997\n",
            "F-1 Score: 0.9997\n",
            "ROC_AUC = 0.9997\n",
            "              precision    recall  f1-score   support\n",
            "\n",
            "           0     1.0000    0.9994    0.9997     10326\n",
            "           1     0.9994    1.0000    0.9997     10088\n",
            "\n",
            "    accuracy                         0.9997     20414\n",
            "   macro avg     0.9997    0.9997    0.9997     20414\n",
            "weighted avg     0.9997    0.9997    0.9997     20414\n",
            "\n"
          ]
        },
        {
          "output_type": "display_data",
          "data": {
            "text/plain": [
              "<Figure size 432x288 with 2 Axes>"
            ],
            "image/png": "[encoded data removed]"
          },
          "metadata": {
            "needs_background": "light"
          }
        }
      ]
    },
    {
      "cell_type": "markdown",
      "source": [
        "# Best model"
      ],
      "metadata": {
        "id": "gUXB8TfUpLo7"
      }
    },
    {
      "cell_type": "code",
      "source": [
        "df_test_cpy = df_test.copy()\n",
        "\n",
        "test_id = df_test.pop('ID')"
      ],
      "metadata": {
        "id": "53TuWhsDssZe"
      },
      "execution_count": null,
      "outputs": []
    },
    {
      "cell_type": "code",
      "source": [
        "prediction = model_xgbc_smenn.predict(df_test)\n",
        "df_test_cpy['Default'] = prediction\n",
        "sample = df_test_cpy[['ID', 'Default']]\n",
        "sample.to_csv(\"loan_default_pred_xg.csv\")"
      ],
      "metadata": {
        "id": "IP3hifIammF6"
      },
      "execution_count": null,
      "outputs": []
    },
    {
      "cell_type": "code",
      "source": [
        "pwd"
      ],
      "metadata": {
        "colab": {
          "base_uri": "https://localhost:8080/",
          "height": 36
        },
        "id": "bZYgtHpQsdvE",
        "outputId": "f553fb07-dcf3-45a2-ed43-2256826f35f4"
      },
      "execution_count": null,
      "outputs": [
        {
          "output_type": "execute_result",
          "data": {
            "text/plain": [
              "'/content'"
            ],
            "application/vnd.google.colaboratory.intrinsic+json": {
              "type": "string"
            }
          },
          "metadata": {},
          "execution_count": 234
        }
      ]
    },
    {
      "cell_type": "code",
      "source": [
        "df_test_cpy = df_test_cpy.drop('Default',axis=1)\n",
        "prediction2 = model_dt_smenn.predict(df_test)\n",
        "df_test_cpy['Default'] = prediction2\n",
        "sample = df_test_cpy[['ID', 'Default']]\n",
        "sample.to_csv(\"loan_default_pred_dt.csv\")"
      ],
      "metadata": {
        "id": "C1gsg1IFuApn"
      },
      "execution_count": null,
      "outputs": []
    },
    {
      "cell_type": "code",
      "source": [],
      "metadata": {
        "id": "klYGlwQ9vVZV"
      },
      "execution_count": null,
      "outputs": []
    }
  ]
}