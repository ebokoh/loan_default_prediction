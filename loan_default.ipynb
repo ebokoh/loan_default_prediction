{
  "cells": [
    {
      "cell_type": "markdown",
      "metadata": {
        "id": "view-in-github",
        "colab_type": "text"
      },
      "source": [
        "<a href=\"https://colab.research.google.com/github/ebokoh/loan_default_prediction/blob/main/loan_default.ipynb\" target=\"_parent\"><img src=\"https://colab.research.google.com/assets/colab-badge.svg\" alt=\"Open In Colab\"/></a>"
      ]
    },
    {
      "cell_type": "code",
      "execution_count": null,
      "metadata": {
        "colab": {
          "base_uri": "https://localhost:8080/",
          "height": 36
        },
        "id": "nfS2kjON2UL9",
        "outputId": "3f2eb7c1-e7f0-4792-c195-2bdaa793ff2b"
      },
      "outputs": [
        {
          "output_type": "execute_result",
          "data": {
            "text/plain": [
              "'2.9.2'"
            ],
            "application/vnd.google.colaboratory.intrinsic+json": {
              "type": "string"
            }
          },
          "metadata": {},
          "execution_count": 167
        }
      ],
      "source": [
        "import warnings\n",
        "import numpy as np\n",
        "import pandas as pd\n",
        "import tensorflow as tf\n",
        "import matplotlib.pyplot as plt\n",
        "import seaborn as sns\n",
        "from sklearn.preprocessing import StandardScaler, LabelEncoder, OneHotEncoder\n",
        "warnings.filterwarnings(\"ignore\")\n",
        "\n",
        "from sklearn.model_selection import train_test_split, GridSearchCV\n",
        "\n",
        "# Import machine learning libraries\n",
        "from sklearn.ensemble import RandomForestClassifier\n",
        "from sklearn.linear_model import LogisticRegression\n",
        "from sklearn.discriminant_analysis import LinearDiscriminantAnalysis\n",
        "from sklearn.neighbors import KNeighborsClassifier\n",
        "from sklearn.naive_bayes import GaussianNB\n",
        "from sklearn.ensemble import BaggingClassifier\n",
        "from sklearn.ensemble import GradientBoostingClassifier\n",
        "from sklearn.ensemble import AdaBoostClassifier\n",
        "from imblearn.over_sampling import SMOTE\n",
        "from sklearn.tree import DecisionTreeClassifier\n",
        "from sklearn.ensemble import VotingClassifier\n",
        "from sklearn.svm import SVC\n",
        "from sklearn.metrics import classification_report, confusion_matrix, plot_confusion_matrix,roc_curve, roc_auc_score,accuracy_score\n",
        "\n",
        "%matplotlib inline\n",
        "tf.__version__"
      ]
    },
    {
      "cell_type": "code",
      "execution_count": null,
      "metadata": {
        "colab": {
          "base_uri": "https://localhost:8080/"
        },
        "id": "UtXUgmIK2bwj",
        "outputId": "499b0429-2e36-4458-b110-4d9cd046a05e"
      },
      "outputs": [
        {
          "output_type": "stream",
          "name": "stdout",
          "text": [
            "Drive already mounted at /content/drive; to attempt to forcibly remount, call drive.mount(\"/content/drive\", force_remount=True).\n"
          ]
        }
      ],
      "source": [
        "from google.colab import drive\n",
        "drive.mount('/content/drive')"
      ]
    },
    {
      "cell_type": "code",
      "execution_count": null,
      "metadata": {
        "id": "UbbnOF292kca"
      },
      "outputs": [],
      "source": [
        "tf.test.gpu_device_name()"
      ]
    },
    {
      "cell_type": "code",
      "execution_count": null,
      "metadata": {
        "id": "iwa5JtZp4Hs-"
      },
      "outputs": [],
      "source": [
        "df_train = pd.read_csv(\"/content/drive/MyDrive/myData/loan_default/training_data.csv\")\n",
        "#df_test = pd.read_csv(\"/content/drive/MyDrive/myData/loan_default/testing_data.csv\")"
      ]
    },
    {
      "cell_type": "code",
      "execution_count": null,
      "metadata": {
        "colab": {
          "base_uri": "https://localhost:8080/",
          "height": 438
        },
        "id": "VrhtBCHU5_S_",
        "outputId": "a8e3a999-3a76-4b8d-8eb2-05f8d55b1f31"
      },
      "outputs": [
        {
          "output_type": "execute_result",
          "data": {
            "text/plain": [
              "   ID Date_Of_Disbursement  Business  Jobs_Reatained  Jobs_Created   \\\n",
              "0   0            31-Jul-91  Existing               0              0   \n",
              "1   1            30-Apr-06       New               0              6   \n",
              "2   2            30-Jun-04  Existing               4              0   \n",
              "3   3            31-Jan-06       New               9              1   \n",
              "4   4            31-Dec-04  Existing               4              0   \n",
              "\n",
              "  Year_Of_Commitment  Guaranteed_Approved _Loan  \\\n",
              "0                1991             Rs.33121600.0   \n",
              "1                2006             Rs.32735520.0   \n",
              "2                2004              Rs.1422400.0   \n",
              "3                2006              Rs.2032000.0   \n",
              "4                2005             Rs.22981920.0   \n",
              "\n",
              "                   Borrower_Name  Low_Documentation_Loan Demography  ...  \\\n",
              "0      STANDARD PARTS CORPORATION                     No  Undefined  ...   \n",
              "1            FRANK & KERI AMESTOY                     No      Urban  ...   \n",
              "2                TELECOMMQC L L C                     No      Urban  ...   \n",
              "3  K & A AUTOMOTIVE, INC. DBA MUF                     No      Urban  ...   \n",
              "4                    SUNBEAM DELI                     No      Urban  ...   \n",
              "\n",
              "  Classification_Code  Loan_Approved_Gross Gross_Amount_Disbursed   Loan_Term  \\\n",
              "0                    0       Rs.40640000.0            Rs.40640000.0       126   \n",
              "1               451120       Rs.43647360.0            Rs.43647360.0       123   \n",
              "2               541618        Rs.2844800.0            Rs.5961400.32        90   \n",
              "3               811112        Rs.4064000.0             Rs.4064000.0       126   \n",
              "4               722211       Rs.30642560.0            Rs.30642560.0       104   \n",
              "\n",
              "  Commitment_Date  Primary_Loan_Digit  Code_Franchise          Name_Of_Bank  \\\n",
              "0        2-Apr-91          4419763001               1        Axis Bank Ltd.   \n",
              "1       10-Apr-06          1709796003               1     Bandhan Bank Ltd.   \n",
              "2       25-May-04          7464754008               1      CSB Bank Limited   \n",
              "3       21-Dec-05          1588745006               0  City Union Bank Ltd.   \n",
              "4        2-Nov-04          8037734002               1         DCB Bank Ltd.   \n",
              "\n",
              "  Revolving_Credit_Line  Default  \n",
              "0                    No        0  \n",
              "1                     0        1  \n",
              "2                   Yes        0  \n",
              "3                   Yes        0  \n",
              "4                     0        1  \n",
              "\n",
              "[5 rows x 26 columns]"
            ],
            "text/html": [
              "\n",
              "  <div id=\"df-6d31537f-a76e-4a2d-b670-df15044d3667\">\n",
              "    <div class=\"colab-df-container\">\n",
              "      <div>\n",
              "<style scoped>\n",
              "    .dataframe tbody tr th:only-of-type {\n",
              "        vertical-align: middle;\n",
              "    }\n",
              "\n",
              "    .dataframe tbody tr th {\n",
              "        vertical-align: top;\n",
              "    }\n",
              "\n",
              "    .dataframe thead th {\n",
              "        text-align: right;\n",
              "    }\n",
              "</style>\n",
              "<table border=\"1\" class=\"dataframe\">\n",
              "  <thead>\n",
              "    <tr style=\"text-align: right;\">\n",
              "      <th></th>\n",
              "      <th>ID</th>\n",
              "      <th>Date_Of_Disbursement</th>\n",
              "      <th>Business</th>\n",
              "      <th>Jobs_Reatained</th>\n",
              "      <th>Jobs_Created</th>\n",
              "      <th>Year_Of_Commitment</th>\n",
              "      <th>Guaranteed_Approved _Loan</th>\n",
              "      <th>Borrower_Name</th>\n",
              "      <th>Low_Documentation_Loan</th>\n",
              "      <th>Demography</th>\n",
              "      <th>...</th>\n",
              "      <th>Classification_Code</th>\n",
              "      <th>Loan_Approved_Gross</th>\n",
              "      <th>Gross_Amount_Disbursed</th>\n",
              "      <th>Loan_Term</th>\n",
              "      <th>Commitment_Date</th>\n",
              "      <th>Primary_Loan_Digit</th>\n",
              "      <th>Code_Franchise</th>\n",
              "      <th>Name_Of_Bank</th>\n",
              "      <th>Revolving_Credit_Line</th>\n",
              "      <th>Default</th>\n",
              "    </tr>\n",
              "  </thead>\n",
              "  <tbody>\n",
              "    <tr>\n",
              "      <th>0</th>\n",
              "      <td>0</td>\n",
              "      <td>31-Jul-91</td>\n",
              "      <td>Existing</td>\n",
              "      <td>0</td>\n",
              "      <td>0</td>\n",
              "      <td>1991</td>\n",
              "      <td>Rs.33121600.0</td>\n",
              "      <td>STANDARD PARTS CORPORATION</td>\n",
              "      <td>No</td>\n",
              "      <td>Undefined</td>\n",
              "      <td>...</td>\n",
              "      <td>0</td>\n",
              "      <td>Rs.40640000.0</td>\n",
              "      <td>Rs.40640000.0</td>\n",
              "      <td>126</td>\n",
              "      <td>2-Apr-91</td>\n",
              "      <td>4419763001</td>\n",
              "      <td>1</td>\n",
              "      <td>Axis Bank Ltd.</td>\n",
              "      <td>No</td>\n",
              "      <td>0</td>\n",
              "    </tr>\n",
              "    <tr>\n",
              "      <th>1</th>\n",
              "      <td>1</td>\n",
              "      <td>30-Apr-06</td>\n",
              "      <td>New</td>\n",
              "      <td>0</td>\n",
              "      <td>6</td>\n",
              "      <td>2006</td>\n",
              "      <td>Rs.32735520.0</td>\n",
              "      <td>FRANK &amp; KERI AMESTOY</td>\n",
              "      <td>No</td>\n",
              "      <td>Urban</td>\n",
              "      <td>...</td>\n",
              "      <td>451120</td>\n",
              "      <td>Rs.43647360.0</td>\n",
              "      <td>Rs.43647360.0</td>\n",
              "      <td>123</td>\n",
              "      <td>10-Apr-06</td>\n",
              "      <td>1709796003</td>\n",
              "      <td>1</td>\n",
              "      <td>Bandhan Bank Ltd.</td>\n",
              "      <td>0</td>\n",
              "      <td>1</td>\n",
              "    </tr>\n",
              "    <tr>\n",
              "      <th>2</th>\n",
              "      <td>2</td>\n",
              "      <td>30-Jun-04</td>\n",
              "      <td>Existing</td>\n",
              "      <td>4</td>\n",
              "      <td>0</td>\n",
              "      <td>2004</td>\n",
              "      <td>Rs.1422400.0</td>\n",
              "      <td>TELECOMMQC L L C</td>\n",
              "      <td>No</td>\n",
              "      <td>Urban</td>\n",
              "      <td>...</td>\n",
              "      <td>541618</td>\n",
              "      <td>Rs.2844800.0</td>\n",
              "      <td>Rs.5961400.32</td>\n",
              "      <td>90</td>\n",
              "      <td>25-May-04</td>\n",
              "      <td>7464754008</td>\n",
              "      <td>1</td>\n",
              "      <td>CSB Bank Limited</td>\n",
              "      <td>Yes</td>\n",
              "      <td>0</td>\n",
              "    </tr>\n",
              "    <tr>\n",
              "      <th>3</th>\n",
              "      <td>3</td>\n",
              "      <td>31-Jan-06</td>\n",
              "      <td>New</td>\n",
              "      <td>9</td>\n",
              "      <td>1</td>\n",
              "      <td>2006</td>\n",
              "      <td>Rs.2032000.0</td>\n",
              "      <td>K &amp; A AUTOMOTIVE, INC. DBA MUF</td>\n",
              "      <td>No</td>\n",
              "      <td>Urban</td>\n",
              "      <td>...</td>\n",
              "      <td>811112</td>\n",
              "      <td>Rs.4064000.0</td>\n",
              "      <td>Rs.4064000.0</td>\n",
              "      <td>126</td>\n",
              "      <td>21-Dec-05</td>\n",
              "      <td>1588745006</td>\n",
              "      <td>0</td>\n",
              "      <td>City Union Bank Ltd.</td>\n",
              "      <td>Yes</td>\n",
              "      <td>0</td>\n",
              "    </tr>\n",
              "    <tr>\n",
              "      <th>4</th>\n",
              "      <td>4</td>\n",
              "      <td>31-Dec-04</td>\n",
              "      <td>Existing</td>\n",
              "      <td>4</td>\n",
              "      <td>0</td>\n",
              "      <td>2005</td>\n",
              "      <td>Rs.22981920.0</td>\n",
              "      <td>SUNBEAM DELI</td>\n",
              "      <td>No</td>\n",
              "      <td>Urban</td>\n",
              "      <td>...</td>\n",
              "      <td>722211</td>\n",
              "      <td>Rs.30642560.0</td>\n",
              "      <td>Rs.30642560.0</td>\n",
              "      <td>104</td>\n",
              "      <td>2-Nov-04</td>\n",
              "      <td>8037734002</td>\n",
              "      <td>1</td>\n",
              "      <td>DCB Bank Ltd.</td>\n",
              "      <td>0</td>\n",
              "      <td>1</td>\n",
              "    </tr>\n",
              "  </tbody>\n",
              "</table>\n",
              "<p>5 rows × 26 columns</p>\n",
              "</div>\n",
              "      <button class=\"colab-df-convert\" onclick=\"convertToInteractive('df-6d31537f-a76e-4a2d-b670-df15044d3667')\"\n",
              "              title=\"Convert this dataframe to an interactive table.\"\n",
              "              style=\"display:none;\">\n",
              "        \n",
              "  <svg xmlns=\"http://www.w3.org/2000/svg\" height=\"24px\"viewBox=\"0 0 24 24\"\n",
              "       width=\"24px\">\n",
              "    <path d=\"M0 0h24v24H0V0z\" fill=\"none\"/>\n",
              "    <path d=\"M18.56 5.44l.94 2.06.94-2.06 2.06-.94-2.06-.94-.94-2.06-.94 2.06-2.06.94zm-11 1L8.5 8.5l.94-2.06 2.06-.94-2.06-.94L8.5 2.5l-.94 2.06-2.06.94zm10 10l.94 2.06.94-2.06 2.06-.94-2.06-.94-.94-2.06-.94 2.06-2.06.94z\"/><path d=\"M17.41 7.96l-1.37-1.37c-.4-.4-.92-.59-1.43-.59-.52 0-1.04.2-1.43.59L10.3 9.45l-7.72 7.72c-.78.78-.78 2.05 0 2.83L4 21.41c.39.39.9.59 1.41.59.51 0 1.02-.2 1.41-.59l7.78-7.78 2.81-2.81c.8-.78.8-2.07 0-2.86zM5.41 20L4 18.59l7.72-7.72 1.47 1.35L5.41 20z\"/>\n",
              "  </svg>\n",
              "      </button>\n",
              "      \n",
              "  <style>\n",
              "    .colab-df-container {\n",
              "      display:flex;\n",
              "      flex-wrap:wrap;\n",
              "      gap: 12px;\n",
              "    }\n",
              "\n",
              "    .colab-df-convert {\n",
              "      background-color: #E8F0FE;\n",
              "      border: none;\n",
              "      border-radius: 50%;\n",
              "      cursor: pointer;\n",
              "      display: none;\n",
              "      fill: #1967D2;\n",
              "      height: 32px;\n",
              "      padding: 0 0 0 0;\n",
              "      width: 32px;\n",
              "    }\n",
              "\n",
              "    .colab-df-convert:hover {\n",
              "      background-color: #E2EBFA;\n",
              "      box-shadow: 0px 1px 2px rgba(60, 64, 67, 0.3), 0px 1px 3px 1px rgba(60, 64, 67, 0.15);\n",
              "      fill: #174EA6;\n",
              "    }\n",
              "\n",
              "    [theme=dark] .colab-df-convert {\n",
              "      background-color: #3B4455;\n",
              "      fill: #D2E3FC;\n",
              "    }\n",
              "\n",
              "    [theme=dark] .colab-df-convert:hover {\n",
              "      background-color: #434B5C;\n",
              "      box-shadow: 0px 1px 3px 1px rgba(0, 0, 0, 0.15);\n",
              "      filter: drop-shadow(0px 1px 2px rgba(0, 0, 0, 0.3));\n",
              "      fill: #FFFFFF;\n",
              "    }\n",
              "  </style>\n",
              "\n",
              "      <script>\n",
              "        const buttonEl =\n",
              "          document.querySelector('#df-6d31537f-a76e-4a2d-b670-df15044d3667 button.colab-df-convert');\n",
              "        buttonEl.style.display =\n",
              "          google.colab.kernel.accessAllowed ? 'block' : 'none';\n",
              "\n",
              "        async function convertToInteractive(key) {\n",
              "          const element = document.querySelector('#df-6d31537f-a76e-4a2d-b670-df15044d3667');\n",
              "          const dataTable =\n",
              "            await google.colab.kernel.invokeFunction('convertToInteractive',\n",
              "                                                     [key], {});\n",
              "          if (!dataTable) return;\n",
              "\n",
              "          const docLinkHtml = 'Like what you see? Visit the ' +\n",
              "            '<a target=\"_blank\" href=https://colab.research.google.com/notebooks/data_table.ipynb>data table notebook</a>'\n",
              "            + ' to learn more about interactive tables.';\n",
              "          element.innerHTML = '';\n",
              "          dataTable['output_type'] = 'display_data';\n",
              "          await google.colab.output.renderOutput(dataTable, element);\n",
              "          const docLink = document.createElement('div');\n",
              "          docLink.innerHTML = docLinkHtml;\n",
              "          element.appendChild(docLink);\n",
              "        }\n",
              "      </script>\n",
              "    </div>\n",
              "  </div>\n",
              "  "
            ]
          },
          "metadata": {},
          "execution_count": 355
        }
      ],
      "source": [
        "df_train.head()"
      ]
    },
    {
      "cell_type": "code",
      "execution_count": null,
      "metadata": {
        "colab": {
          "base_uri": "https://localhost:8080/"
        },
        "id": "i1KCGe326EOQ",
        "outputId": "8c1aba63-74eb-4997-80f3-50254cb70d00"
      },
      "outputs": [
        {
          "output_type": "execute_result",
          "data": {
            "text/plain": [
              "(105000, 26)"
            ]
          },
          "metadata": {},
          "execution_count": 356
        }
      ],
      "source": [
        "df_train.shape"
      ]
    },
    {
      "cell_type": "code",
      "execution_count": null,
      "metadata": {
        "id": "Ksg3OQrh6Kd6"
      },
      "outputs": [],
      "source": [
        "df_train.columns = [x.strip() for x in df_train.columns]\n"
      ]
    },
    {
      "cell_type": "code",
      "execution_count": null,
      "metadata": {
        "id": "BIt4kPor7n-0"
      },
      "outputs": [],
      "source": [
        "df_train = df_train.rename(columns = {'Guaranteed_Approved _Loan':'Guaranteed_Approved_Loan'})"
      ]
    },
    {
      "cell_type": "code",
      "execution_count": null,
      "metadata": {
        "id": "9CWCwovv7yD6"
      },
      "outputs": [],
      "source": [
        "df_train_orig = df_train.copy()"
      ]
    },
    {
      "cell_type": "code",
      "execution_count": null,
      "metadata": {
        "id": "770zXUl0705J"
      },
      "outputs": [],
      "source": [
        "df_train['Revolving_Credit_Line'].fillna(df_train['Revolving_Credit_Line'].mode()[0], inplace=True)\n",
        "df_train['Low_Documentation_Loan'].fillna(df_train['Low_Documentation_Loan'].mode()[0], inplace=True)\n",
        "df_train['Business'].fillna(df_train['Business'].mode()[0], inplace=True)"
      ]
    },
    {
      "cell_type": "code",
      "execution_count": null,
      "metadata": {
        "colab": {
          "base_uri": "https://localhost:8080/"
        },
        "id": "mJyP6VaW77AU",
        "outputId": "d772ab1b-5429-4689-89b8-f1b271abdc0b"
      },
      "outputs": [
        {
          "output_type": "execute_result",
          "data": {
            "text/plain": [
              "Date_Of_Disbursement        235\n",
              "Borrower_Name                 3\n",
              "ID                            0\n",
              "Gross_Amount_Balance          0\n",
              "Revolving_Credit_Line         0\n",
              "Name_Of_Bank                  0\n",
              "Code_Franchise                0\n",
              "Primary_Loan_Digit            0\n",
              "Commitment_Date               0\n",
              "Loan_Term                     0\n",
              "Gross_Amount_Disbursed        0\n",
              "Loan_Approved_Gross           0\n",
              "Classification_Code           0\n",
              "Count_Employees               0\n",
              "Borrower_State                0\n",
              "Borrower_City                 0\n",
              "ChargedOff_Amount             0\n",
              "State_Of_Bank                 0\n",
              "Demography                    0\n",
              "Low_Documentation_Loan        0\n",
              "Guaranteed_Approved_Loan      0\n",
              "Year_Of_Commitment            0\n",
              "Jobs_Created                  0\n",
              "Jobs_Reatained                0\n",
              "Business                      0\n",
              "Default                       0\n",
              "dtype: int64"
            ]
          },
          "metadata": {},
          "execution_count": 361
        }
      ],
      "source": [
        "df_train.isnull().sum().sort_values(ascending=False)"
      ]
    },
    {
      "cell_type": "code",
      "execution_count": null,
      "metadata": {
        "id": "idUz-olh7_O8"
      },
      "outputs": [],
      "source": [
        "df_train = df_train.drop('Date_Of_Disbursement',axis=1)\n",
        "\n",
        "df_train = df_train.drop('Borrower_Name',axis=1)"
      ]
    },
    {
      "cell_type": "code",
      "execution_count": null,
      "metadata": {
        "colab": {
          "base_uri": "https://localhost:8080/"
        },
        "id": "VRgWhDby8Gda",
        "outputId": "c8245928-1f7b-4e25-e0fd-8465af786696"
      },
      "outputs": [
        {
          "output_type": "execute_result",
          "data": {
            "text/plain": [
              "ID                          0\n",
              "Business                    0\n",
              "Revolving_Credit_Line       0\n",
              "Name_Of_Bank                0\n",
              "Code_Franchise              0\n",
              "Primary_Loan_Digit          0\n",
              "Commitment_Date             0\n",
              "Loan_Term                   0\n",
              "Gross_Amount_Disbursed      0\n",
              "Loan_Approved_Gross         0\n",
              "Classification_Code         0\n",
              "Count_Employees             0\n",
              "Gross_Amount_Balance        0\n",
              "Borrower_State              0\n",
              "Borrower_City               0\n",
              "ChargedOff_Amount           0\n",
              "State_Of_Bank               0\n",
              "Demography                  0\n",
              "Low_Documentation_Loan      0\n",
              "Guaranteed_Approved_Loan    0\n",
              "Year_Of_Commitment          0\n",
              "Jobs_Created                0\n",
              "Jobs_Reatained              0\n",
              "Default                     0\n",
              "dtype: int64"
            ]
          },
          "metadata": {},
          "execution_count": 363
        }
      ],
      "source": [
        "df_train.isnull().sum().sort_values(ascending=False)"
      ]
    },
    {
      "cell_type": "code",
      "execution_count": null,
      "metadata": {
        "colab": {
          "base_uri": "https://localhost:8080/",
          "height": 505
        },
        "id": "h807Jldf8QYm",
        "outputId": "5f49eb20-dd7e-4377-a804-e3862dd9d5db"
      },
      "outputs": [
        {
          "output_type": "execute_result",
          "data": {
            "text/plain": [
              "                  ID  Business  Jobs_Reatained   Jobs_Created  \\\n",
              "count   105000.00000    105000   105000.000000  105000.000000   \n",
              "unique           NaN         3             NaN            NaN   \n",
              "top              NaN  Existing             NaN            NaN   \n",
              "freq             NaN     75106             NaN            NaN   \n",
              "mean     52499.50000       NaN       12.688648      10.379248   \n",
              "std      30311.03347       NaN      270.544185     270.340849   \n",
              "min          0.00000       NaN        0.000000       0.000000   \n",
              "25%      26249.75000       NaN        0.000000       0.000000   \n",
              "50%      52499.50000       NaN        1.000000       0.000000   \n",
              "75%      78749.25000       NaN        4.000000       1.000000   \n",
              "max     104999.00000       NaN     8800.000000    8800.000000   \n",
              "\n",
              "       Year_Of_Commitment Guaranteed_Approved_Loan Low_Documentation_Loan  \\\n",
              "count              105000                   105000                 105000   \n",
              "unique                 91                    10138                      7   \n",
              "top                  2007             Rs.2032000.0                     No   \n",
              "freq                 6769                     6464                  92502   \n",
              "mean                  NaN                      NaN                    NaN   \n",
              "std                   NaN                      NaN                    NaN   \n",
              "min                   NaN                      NaN                    NaN   \n",
              "25%                   NaN                      NaN                    NaN   \n",
              "50%                   NaN                      NaN                    NaN   \n",
              "75%                   NaN                      NaN                    NaN   \n",
              "max                   NaN                      NaN                    NaN   \n",
              "\n",
              "       Demography State_Of_Bank ChargedOff_Amount  ... Classification_Code  \\\n",
              "count      105000        105000            105000  ...       105000.000000   \n",
              "unique          3            34             23059  ...                 NaN   \n",
              "top         Urban            TR            Rs.0.0  ...                 NaN   \n",
              "freq        57598         15552             75515  ...                 NaN   \n",
              "mean          NaN           NaN               NaN  ...       405918.304276   \n",
              "std           NaN           NaN               NaN  ...       260335.963766   \n",
              "min           NaN           NaN               NaN  ...            0.000000   \n",
              "25%           NaN           NaN               NaN  ...       236115.000000   \n",
              "50%           NaN           NaN               NaN  ...       447110.000000   \n",
              "75%           NaN           NaN               NaN  ...       561740.000000   \n",
              "max           NaN           NaN               NaN  ...       928120.000000   \n",
              "\n",
              "       Loan_Approved_Gross Gross_Amount_Disbursed      Loan_Term  \\\n",
              "count               105000                 105000  105000.000000   \n",
              "unique                6218                  23443            NaN   \n",
              "top           Rs.4064000.0           Rs.4064000.0            NaN   \n",
              "freq                  8708                   5342            NaN   \n",
              "mean                   NaN                    NaN     156.438362   \n",
              "std                    NaN                    NaN     116.412721   \n",
              "min                    NaN                    NaN       0.000000   \n",
              "25%                    NaN                    NaN      90.000000   \n",
              "50%                    NaN                    NaN     126.000000   \n",
              "75%                    NaN                    NaN     180.000000   \n",
              "max                    NaN                    NaN     692.000000   \n",
              "\n",
              "        Commitment_Date Primary_Loan_Digit Code_Franchise     Name_Of_Bank  \\\n",
              "count            105000       1.050000e+05  105000.000000           105000   \n",
              "unique             7719                NaN            NaN              143   \n",
              "top           30-Jan-04                NaN            NaN  ICICI Bank Ltd.   \n",
              "freq                128                NaN            NaN            11215   \n",
              "mean                NaN       4.661622e+09    2707.201638              NaN   \n",
              "std                 NaN       2.546599e+09   12660.609090              NaN   \n",
              "min                 NaN       1.000034e+09       0.000000              NaN   \n",
              "25%                 NaN       2.478163e+09       0.000000              NaN   \n",
              "50%                 NaN       4.119824e+09       1.000000              NaN   \n",
              "75%                 NaN       6.760484e+09       1.000000              NaN   \n",
              "max                 NaN       9.996003e+09   92006.000000              NaN   \n",
              "\n",
              "       Revolving_Credit_Line        Default  \n",
              "count                 105000  105000.000000  \n",
              "unique                    11            NaN  \n",
              "top                       No            NaN  \n",
              "freq                   48613            NaN  \n",
              "mean                     NaN       0.277181  \n",
              "std                      NaN       0.447609  \n",
              "min                      NaN       0.000000  \n",
              "25%                      NaN       0.000000  \n",
              "50%                      NaN       0.000000  \n",
              "75%                      NaN       1.000000  \n",
              "max                      NaN       1.000000  \n",
              "\n",
              "[11 rows x 24 columns]"
            ],
            "text/html": [
              "\n",
              "  <div id=\"df-e6d5821f-3420-4e77-ba9b-3e26cd8a45cb\">\n",
              "    <div class=\"colab-df-container\">\n",
              "      <div>\n",
              "<style scoped>\n",
              "    .dataframe tbody tr th:only-of-type {\n",
              "        vertical-align: middle;\n",
              "    }\n",
              "\n",
              "    .dataframe tbody tr th {\n",
              "        vertical-align: top;\n",
              "    }\n",
              "\n",
              "    .dataframe thead th {\n",
              "        text-align: right;\n",
              "    }\n",
              "</style>\n",
              "<table border=\"1\" class=\"dataframe\">\n",
              "  <thead>\n",
              "    <tr style=\"text-align: right;\">\n",
              "      <th></th>\n",
              "      <th>ID</th>\n",
              "      <th>Business</th>\n",
              "      <th>Jobs_Reatained</th>\n",
              "      <th>Jobs_Created</th>\n",
              "      <th>Year_Of_Commitment</th>\n",
              "      <th>Guaranteed_Approved_Loan</th>\n",
              "      <th>Low_Documentation_Loan</th>\n",
              "      <th>Demography</th>\n",
              "      <th>State_Of_Bank</th>\n",
              "      <th>ChargedOff_Amount</th>\n",
              "      <th>...</th>\n",
              "      <th>Classification_Code</th>\n",
              "      <th>Loan_Approved_Gross</th>\n",
              "      <th>Gross_Amount_Disbursed</th>\n",
              "      <th>Loan_Term</th>\n",
              "      <th>Commitment_Date</th>\n",
              "      <th>Primary_Loan_Digit</th>\n",
              "      <th>Code_Franchise</th>\n",
              "      <th>Name_Of_Bank</th>\n",
              "      <th>Revolving_Credit_Line</th>\n",
              "      <th>Default</th>\n",
              "    </tr>\n",
              "  </thead>\n",
              "  <tbody>\n",
              "    <tr>\n",
              "      <th>count</th>\n",
              "      <td>105000.00000</td>\n",
              "      <td>105000</td>\n",
              "      <td>105000.000000</td>\n",
              "      <td>105000.000000</td>\n",
              "      <td>105000</td>\n",
              "      <td>105000</td>\n",
              "      <td>105000</td>\n",
              "      <td>105000</td>\n",
              "      <td>105000</td>\n",
              "      <td>105000</td>\n",
              "      <td>...</td>\n",
              "      <td>105000.000000</td>\n",
              "      <td>105000</td>\n",
              "      <td>105000</td>\n",
              "      <td>105000.000000</td>\n",
              "      <td>105000</td>\n",
              "      <td>1.050000e+05</td>\n",
              "      <td>105000.000000</td>\n",
              "      <td>105000</td>\n",
              "      <td>105000</td>\n",
              "      <td>105000.000000</td>\n",
              "    </tr>\n",
              "    <tr>\n",
              "      <th>unique</th>\n",
              "      <td>NaN</td>\n",
              "      <td>3</td>\n",
              "      <td>NaN</td>\n",
              "      <td>NaN</td>\n",
              "      <td>91</td>\n",
              "      <td>10138</td>\n",
              "      <td>7</td>\n",
              "      <td>3</td>\n",
              "      <td>34</td>\n",
              "      <td>23059</td>\n",
              "      <td>...</td>\n",
              "      <td>NaN</td>\n",
              "      <td>6218</td>\n",
              "      <td>23443</td>\n",
              "      <td>NaN</td>\n",
              "      <td>7719</td>\n",
              "      <td>NaN</td>\n",
              "      <td>NaN</td>\n",
              "      <td>143</td>\n",
              "      <td>11</td>\n",
              "      <td>NaN</td>\n",
              "    </tr>\n",
              "    <tr>\n",
              "      <th>top</th>\n",
              "      <td>NaN</td>\n",
              "      <td>Existing</td>\n",
              "      <td>NaN</td>\n",
              "      <td>NaN</td>\n",
              "      <td>2007</td>\n",
              "      <td>Rs.2032000.0</td>\n",
              "      <td>No</td>\n",
              "      <td>Urban</td>\n",
              "      <td>TR</td>\n",
              "      <td>Rs.0.0</td>\n",
              "      <td>...</td>\n",
              "      <td>NaN</td>\n",
              "      <td>Rs.4064000.0</td>\n",
              "      <td>Rs.4064000.0</td>\n",
              "      <td>NaN</td>\n",
              "      <td>30-Jan-04</td>\n",
              "      <td>NaN</td>\n",
              "      <td>NaN</td>\n",
              "      <td>ICICI Bank Ltd.</td>\n",
              "      <td>No</td>\n",
              "      <td>NaN</td>\n",
              "    </tr>\n",
              "    <tr>\n",
              "      <th>freq</th>\n",
              "      <td>NaN</td>\n",
              "      <td>75106</td>\n",
              "      <td>NaN</td>\n",
              "      <td>NaN</td>\n",
              "      <td>6769</td>\n",
              "      <td>6464</td>\n",
              "      <td>92502</td>\n",
              "      <td>57598</td>\n",
              "      <td>15552</td>\n",
              "      <td>75515</td>\n",
              "      <td>...</td>\n",
              "      <td>NaN</td>\n",
              "      <td>8708</td>\n",
              "      <td>5342</td>\n",
              "      <td>NaN</td>\n",
              "      <td>128</td>\n",
              "      <td>NaN</td>\n",
              "      <td>NaN</td>\n",
              "      <td>11215</td>\n",
              "      <td>48613</td>\n",
              "      <td>NaN</td>\n",
              "    </tr>\n",
              "    <tr>\n",
              "      <th>mean</th>\n",
              "      <td>52499.50000</td>\n",
              "      <td>NaN</td>\n",
              "      <td>12.688648</td>\n",
              "      <td>10.379248</td>\n",
              "      <td>NaN</td>\n",
              "      <td>NaN</td>\n",
              "      <td>NaN</td>\n",
              "      <td>NaN</td>\n",
              "      <td>NaN</td>\n",
              "      <td>NaN</td>\n",
              "      <td>...</td>\n",
              "      <td>405918.304276</td>\n",
              "      <td>NaN</td>\n",
              "      <td>NaN</td>\n",
              "      <td>156.438362</td>\n",
              "      <td>NaN</td>\n",
              "      <td>4.661622e+09</td>\n",
              "      <td>2707.201638</td>\n",
              "      <td>NaN</td>\n",
              "      <td>NaN</td>\n",
              "      <td>0.277181</td>\n",
              "    </tr>\n",
              "    <tr>\n",
              "      <th>std</th>\n",
              "      <td>30311.03347</td>\n",
              "      <td>NaN</td>\n",
              "      <td>270.544185</td>\n",
              "      <td>270.340849</td>\n",
              "      <td>NaN</td>\n",
              "      <td>NaN</td>\n",
              "      <td>NaN</td>\n",
              "      <td>NaN</td>\n",
              "      <td>NaN</td>\n",
              "      <td>NaN</td>\n",
              "      <td>...</td>\n",
              "      <td>260335.963766</td>\n",
              "      <td>NaN</td>\n",
              "      <td>NaN</td>\n",
              "      <td>116.412721</td>\n",
              "      <td>NaN</td>\n",
              "      <td>2.546599e+09</td>\n",
              "      <td>12660.609090</td>\n",
              "      <td>NaN</td>\n",
              "      <td>NaN</td>\n",
              "      <td>0.447609</td>\n",
              "    </tr>\n",
              "    <tr>\n",
              "      <th>min</th>\n",
              "      <td>0.00000</td>\n",
              "      <td>NaN</td>\n",
              "      <td>0.000000</td>\n",
              "      <td>0.000000</td>\n",
              "      <td>NaN</td>\n",
              "      <td>NaN</td>\n",
              "      <td>NaN</td>\n",
              "      <td>NaN</td>\n",
              "      <td>NaN</td>\n",
              "      <td>NaN</td>\n",
              "      <td>...</td>\n",
              "      <td>0.000000</td>\n",
              "      <td>NaN</td>\n",
              "      <td>NaN</td>\n",
              "      <td>0.000000</td>\n",
              "      <td>NaN</td>\n",
              "      <td>1.000034e+09</td>\n",
              "      <td>0.000000</td>\n",
              "      <td>NaN</td>\n",
              "      <td>NaN</td>\n",
              "      <td>0.000000</td>\n",
              "    </tr>\n",
              "    <tr>\n",
              "      <th>25%</th>\n",
              "      <td>26249.75000</td>\n",
              "      <td>NaN</td>\n",
              "      <td>0.000000</td>\n",
              "      <td>0.000000</td>\n",
              "      <td>NaN</td>\n",
              "      <td>NaN</td>\n",
              "      <td>NaN</td>\n",
              "      <td>NaN</td>\n",
              "      <td>NaN</td>\n",
              "      <td>NaN</td>\n",
              "      <td>...</td>\n",
              "      <td>236115.000000</td>\n",
              "      <td>NaN</td>\n",
              "      <td>NaN</td>\n",
              "      <td>90.000000</td>\n",
              "      <td>NaN</td>\n",
              "      <td>2.478163e+09</td>\n",
              "      <td>0.000000</td>\n",
              "      <td>NaN</td>\n",
              "      <td>NaN</td>\n",
              "      <td>0.000000</td>\n",
              "    </tr>\n",
              "    <tr>\n",
              "      <th>50%</th>\n",
              "      <td>52499.50000</td>\n",
              "      <td>NaN</td>\n",
              "      <td>1.000000</td>\n",
              "      <td>0.000000</td>\n",
              "      <td>NaN</td>\n",
              "      <td>NaN</td>\n",
              "      <td>NaN</td>\n",
              "      <td>NaN</td>\n",
              "      <td>NaN</td>\n",
              "      <td>NaN</td>\n",
              "      <td>...</td>\n",
              "      <td>447110.000000</td>\n",
              "      <td>NaN</td>\n",
              "      <td>NaN</td>\n",
              "      <td>126.000000</td>\n",
              "      <td>NaN</td>\n",
              "      <td>4.119824e+09</td>\n",
              "      <td>1.000000</td>\n",
              "      <td>NaN</td>\n",
              "      <td>NaN</td>\n",
              "      <td>0.000000</td>\n",
              "    </tr>\n",
              "    <tr>\n",
              "      <th>75%</th>\n",
              "      <td>78749.25000</td>\n",
              "      <td>NaN</td>\n",
              "      <td>4.000000</td>\n",
              "      <td>1.000000</td>\n",
              "      <td>NaN</td>\n",
              "      <td>NaN</td>\n",
              "      <td>NaN</td>\n",
              "      <td>NaN</td>\n",
              "      <td>NaN</td>\n",
              "      <td>NaN</td>\n",
              "      <td>...</td>\n",
              "      <td>561740.000000</td>\n",
              "      <td>NaN</td>\n",
              "      <td>NaN</td>\n",
              "      <td>180.000000</td>\n",
              "      <td>NaN</td>\n",
              "      <td>6.760484e+09</td>\n",
              "      <td>1.000000</td>\n",
              "      <td>NaN</td>\n",
              "      <td>NaN</td>\n",
              "      <td>1.000000</td>\n",
              "    </tr>\n",
              "    <tr>\n",
              "      <th>max</th>\n",
              "      <td>104999.00000</td>\n",
              "      <td>NaN</td>\n",
              "      <td>8800.000000</td>\n",
              "      <td>8800.000000</td>\n",
              "      <td>NaN</td>\n",
              "      <td>NaN</td>\n",
              "      <td>NaN</td>\n",
              "      <td>NaN</td>\n",
              "      <td>NaN</td>\n",
              "      <td>NaN</td>\n",
              "      <td>...</td>\n",
              "      <td>928120.000000</td>\n",
              "      <td>NaN</td>\n",
              "      <td>NaN</td>\n",
              "      <td>692.000000</td>\n",
              "      <td>NaN</td>\n",
              "      <td>9.996003e+09</td>\n",
              "      <td>92006.000000</td>\n",
              "      <td>NaN</td>\n",
              "      <td>NaN</td>\n",
              "      <td>1.000000</td>\n",
              "    </tr>\n",
              "  </tbody>\n",
              "</table>\n",
              "<p>11 rows × 24 columns</p>\n",
              "</div>\n",
              "      <button class=\"colab-df-convert\" onclick=\"convertToInteractive('df-e6d5821f-3420-4e77-ba9b-3e26cd8a45cb')\"\n",
              "              title=\"Convert this dataframe to an interactive table.\"\n",
              "              style=\"display:none;\">\n",
              "        \n",
              "  <svg xmlns=\"http://www.w3.org/2000/svg\" height=\"24px\"viewBox=\"0 0 24 24\"\n",
              "       width=\"24px\">\n",
              "    <path d=\"M0 0h24v24H0V0z\" fill=\"none\"/>\n",
              "    <path d=\"M18.56 5.44l.94 2.06.94-2.06 2.06-.94-2.06-.94-.94-2.06-.94 2.06-2.06.94zm-11 1L8.5 8.5l.94-2.06 2.06-.94-2.06-.94L8.5 2.5l-.94 2.06-2.06.94zm10 10l.94 2.06.94-2.06 2.06-.94-2.06-.94-.94-2.06-.94 2.06-2.06.94z\"/><path d=\"M17.41 7.96l-1.37-1.37c-.4-.4-.92-.59-1.43-.59-.52 0-1.04.2-1.43.59L10.3 9.45l-7.72 7.72c-.78.78-.78 2.05 0 2.83L4 21.41c.39.39.9.59 1.41.59.51 0 1.02-.2 1.41-.59l7.78-7.78 2.81-2.81c.8-.78.8-2.07 0-2.86zM5.41 20L4 18.59l7.72-7.72 1.47 1.35L5.41 20z\"/>\n",
              "  </svg>\n",
              "      </button>\n",
              "      \n",
              "  <style>\n",
              "    .colab-df-container {\n",
              "      display:flex;\n",
              "      flex-wrap:wrap;\n",
              "      gap: 12px;\n",
              "    }\n",
              "\n",
              "    .colab-df-convert {\n",
              "      background-color: #E8F0FE;\n",
              "      border: none;\n",
              "      border-radius: 50%;\n",
              "      cursor: pointer;\n",
              "      display: none;\n",
              "      fill: #1967D2;\n",
              "      height: 32px;\n",
              "      padding: 0 0 0 0;\n",
              "      width: 32px;\n",
              "    }\n",
              "\n",
              "    .colab-df-convert:hover {\n",
              "      background-color: #E2EBFA;\n",
              "      box-shadow: 0px 1px 2px rgba(60, 64, 67, 0.3), 0px 1px 3px 1px rgba(60, 64, 67, 0.15);\n",
              "      fill: #174EA6;\n",
              "    }\n",
              "\n",
              "    [theme=dark] .colab-df-convert {\n",
              "      background-color: #3B4455;\n",
              "      fill: #D2E3FC;\n",
              "    }\n",
              "\n",
              "    [theme=dark] .colab-df-convert:hover {\n",
              "      background-color: #434B5C;\n",
              "      box-shadow: 0px 1px 3px 1px rgba(0, 0, 0, 0.15);\n",
              "      filter: drop-shadow(0px 1px 2px rgba(0, 0, 0, 0.3));\n",
              "      fill: #FFFFFF;\n",
              "    }\n",
              "  </style>\n",
              "\n",
              "      <script>\n",
              "        const buttonEl =\n",
              "          document.querySelector('#df-e6d5821f-3420-4e77-ba9b-3e26cd8a45cb button.colab-df-convert');\n",
              "        buttonEl.style.display =\n",
              "          google.colab.kernel.accessAllowed ? 'block' : 'none';\n",
              "\n",
              "        async function convertToInteractive(key) {\n",
              "          const element = document.querySelector('#df-e6d5821f-3420-4e77-ba9b-3e26cd8a45cb');\n",
              "          const dataTable =\n",
              "            await google.colab.kernel.invokeFunction('convertToInteractive',\n",
              "                                                     [key], {});\n",
              "          if (!dataTable) return;\n",
              "\n",
              "          const docLinkHtml = 'Like what you see? Visit the ' +\n",
              "            '<a target=\"_blank\" href=https://colab.research.google.com/notebooks/data_table.ipynb>data table notebook</a>'\n",
              "            + ' to learn more about interactive tables.';\n",
              "          element.innerHTML = '';\n",
              "          dataTable['output_type'] = 'display_data';\n",
              "          await google.colab.output.renderOutput(dataTable, element);\n",
              "          const docLink = document.createElement('div');\n",
              "          docLink.innerHTML = docLinkHtml;\n",
              "          element.appendChild(docLink);\n",
              "        }\n",
              "      </script>\n",
              "    </div>\n",
              "  </div>\n",
              "  "
            ]
          },
          "metadata": {},
          "execution_count": 364
        }
      ],
      "source": [
        "df_train.describe(include='all')"
      ]
    },
    {
      "cell_type": "code",
      "execution_count": null,
      "metadata": {
        "colab": {
          "base_uri": "https://localhost:8080/"
        },
        "id": "Lf0pN7VS8TlB",
        "outputId": "c10fc262-6702-45d6-f7c6-d11d06a3b994"
      },
      "outputs": [
        {
          "output_type": "stream",
          "name": "stdout",
          "text": [
            "<class 'pandas.core.frame.DataFrame'>\n",
            "RangeIndex: 105000 entries, 0 to 104999\n",
            "Data columns (total 24 columns):\n",
            " #   Column                    Non-Null Count   Dtype \n",
            "---  ------                    --------------   ----- \n",
            " 0   ID                        105000 non-null  int64 \n",
            " 1   Business                  105000 non-null  object\n",
            " 2   Jobs_Reatained            105000 non-null  int64 \n",
            " 3   Jobs_Created              105000 non-null  int64 \n",
            " 4   Year_Of_Commitment        105000 non-null  object\n",
            " 5   Guaranteed_Approved_Loan  105000 non-null  object\n",
            " 6   Low_Documentation_Loan    105000 non-null  object\n",
            " 7   Demography                105000 non-null  object\n",
            " 8   State_Of_Bank             105000 non-null  object\n",
            " 9   ChargedOff_Amount         105000 non-null  object\n",
            " 10  Borrower_City             105000 non-null  object\n",
            " 11  Borrower_State            105000 non-null  object\n",
            " 12  Gross_Amount_Balance      105000 non-null  object\n",
            " 13  Count_Employees           105000 non-null  int64 \n",
            " 14  Classification_Code       105000 non-null  int64 \n",
            " 15  Loan_Approved_Gross       105000 non-null  object\n",
            " 16  Gross_Amount_Disbursed    105000 non-null  object\n",
            " 17  Loan_Term                 105000 non-null  int64 \n",
            " 18  Commitment_Date           105000 non-null  object\n",
            " 19  Primary_Loan_Digit        105000 non-null  int64 \n",
            " 20  Code_Franchise            105000 non-null  int64 \n",
            " 21  Name_Of_Bank              105000 non-null  object\n",
            " 22  Revolving_Credit_Line     105000 non-null  object\n",
            " 23  Default                   105000 non-null  int64 \n",
            "dtypes: int64(9), object(15)\n",
            "memory usage: 19.2+ MB\n"
          ]
        }
      ],
      "source": [
        "df_train.info()"
      ]
    },
    {
      "cell_type": "code",
      "execution_count": null,
      "metadata": {
        "colab": {
          "base_uri": "https://localhost:8080/"
        },
        "id": "qAxbYvD08bIB",
        "outputId": "01adf9ae-75fb-4c73-ec17-22145f52a6e8"
      },
      "outputs": [
        {
          "output_type": "execute_result",
          "data": {
            "text/plain": [
              "<class 'str'>    105000\n",
              "Name: Loan_Approved_Gross, dtype: int64"
            ]
          },
          "metadata": {},
          "execution_count": 366
        }
      ],
      "source": [
        "df_train['Loan_Approved_Gross'].apply(type).value_counts()"
      ]
    },
    {
      "cell_type": "code",
      "execution_count": null,
      "metadata": {
        "id": "qwxbl83s8hq1"
      },
      "outputs": [],
      "source": [
        "df_train['Loan_Approved_Gross'] = df_train['Loan_Approved_Gross'].apply(lambda x: x.replace('Rs.', '').replace(',', '') if isinstance(x, str) else x).astype(float)\n",
        "df_train['Gross_Amount_Disbursed'] = df_train['Gross_Amount_Disbursed'].apply(lambda x: x.replace('Rs.', '').replace(',', '') if isinstance(x, str) else x).astype(float)\n",
        "df_train['Gross_Amount_Balance'] = df_train['Gross_Amount_Balance'].apply(lambda x: x.replace('Rs.', '').replace(',', '') if isinstance(x, str) else x).astype(float)\n",
        "df_train['ChargedOff_Amount'] = df_train['ChargedOff_Amount'].apply(lambda x: x.replace('Rs.', '').replace(',', '') if isinstance(x, str) else x).astype(float)\n",
        "df_train['Guaranteed_Approved_Loan'] = df_train['Guaranteed_Approved_Loan'].apply(lambda x: x.replace('Rs.', '').replace(',', '') if isinstance(x, str) else x).astype(float)"
      ]
    },
    {
      "cell_type": "code",
      "execution_count": null,
      "metadata": {
        "colab": {
          "base_uri": "https://localhost:8080/"
        },
        "id": "cIkovTYa8sgm",
        "outputId": "3e9aa51b-1fdf-4097-92d9-ca845a4ac748"
      },
      "outputs": [
        {
          "output_type": "stream",
          "name": "stdout",
          "text": [
            "<class 'pandas.core.frame.DataFrame'>\n",
            "RangeIndex: 105000 entries, 0 to 104999\n",
            "Data columns (total 24 columns):\n",
            " #   Column                    Non-Null Count   Dtype  \n",
            "---  ------                    --------------   -----  \n",
            " 0   ID                        105000 non-null  int64  \n",
            " 1   Business                  105000 non-null  object \n",
            " 2   Jobs_Reatained            105000 non-null  int64  \n",
            " 3   Jobs_Created              105000 non-null  int64  \n",
            " 4   Year_Of_Commitment        105000 non-null  object \n",
            " 5   Guaranteed_Approved_Loan  105000 non-null  float64\n",
            " 6   Low_Documentation_Loan    105000 non-null  object \n",
            " 7   Demography                105000 non-null  object \n",
            " 8   State_Of_Bank             105000 non-null  object \n",
            " 9   ChargedOff_Amount         105000 non-null  float64\n",
            " 10  Borrower_City             105000 non-null  object \n",
            " 11  Borrower_State            105000 non-null  object \n",
            " 12  Gross_Amount_Balance      105000 non-null  float64\n",
            " 13  Count_Employees           105000 non-null  int64  \n",
            " 14  Classification_Code       105000 non-null  int64  \n",
            " 15  Loan_Approved_Gross       105000 non-null  float64\n",
            " 16  Gross_Amount_Disbursed    105000 non-null  float64\n",
            " 17  Loan_Term                 105000 non-null  int64  \n",
            " 18  Commitment_Date           105000 non-null  object \n",
            " 19  Primary_Loan_Digit        105000 non-null  int64  \n",
            " 20  Code_Franchise            105000 non-null  int64  \n",
            " 21  Name_Of_Bank              105000 non-null  object \n",
            " 22  Revolving_Credit_Line     105000 non-null  object \n",
            " 23  Default                   105000 non-null  int64  \n",
            "dtypes: float64(5), int64(9), object(10)\n",
            "memory usage: 19.2+ MB\n"
          ]
        }
      ],
      "source": [
        "df_train.info()"
      ]
    },
    {
      "cell_type": "code",
      "execution_count": null,
      "metadata": {
        "id": "xAJLNrvr8zad"
      },
      "outputs": [],
      "source": [
        "df_train = df_train.drop('ID',axis=1)"
      ]
    },
    {
      "cell_type": "code",
      "execution_count": null,
      "metadata": {
        "colab": {
          "base_uri": "https://localhost:8080/"
        },
        "id": "xg9VebHd9AMx",
        "outputId": "9afebd1a-f423-40ba-9449-2e336a99e210"
      },
      "outputs": [
        {
          "output_type": "execute_result",
          "data": {
            "text/plain": [
              "No     48613\n",
              "0      29612\n",
              "Yes    24643\n",
              "T       2120\n",
              "R          4\n",
              "`          2\n",
              "1          2\n",
              "2          1\n",
              "4          1\n",
              ".          1\n",
              "C          1\n",
              "Name: Revolving_Credit_Line, dtype: int64"
            ]
          },
          "metadata": {},
          "execution_count": 370
        }
      ],
      "source": [
        "df_train['Revolving_Credit_Line'].value_counts()\n",
        "\n",
        "#df_train = df_train.loc[df_train['Revolving_Credit_Line'].isin(['Yes','No'])]\n",
        "\n",
        "#df_train.isnull().sum().sort_values(ascending=False)"
      ]
    },
    {
      "cell_type": "code",
      "source": [
        "df_train['Revolving_Credit_Line'] = df_train['Revolving_Credit_Line'].replace('T', 'No')\n",
        "df_train['Revolving_Credit_Line'] = df_train['Revolving_Credit_Line'].replace('R', 'No')\n",
        "df_train['Revolving_Credit_Line'] = df_train['Revolving_Credit_Line'].replace('`', 'No')\n",
        "df_train['Revolving_Credit_Line'] = df_train['Revolving_Credit_Line'].replace('1', 'No')\n",
        "df_train['Revolving_Credit_Line'] = df_train['Revolving_Credit_Line'].replace('2', 'No')\n",
        "df_train['Revolving_Credit_Line'] = df_train['Revolving_Credit_Line'].replace('4', 'No')\n",
        "df_train['Revolving_Credit_Line'] = df_train['Revolving_Credit_Line'].replace('.', 'No')\n",
        "df_train['Revolving_Credit_Line'] = df_train['Revolving_Credit_Line'].replace('C', 'No')"
      ],
      "metadata": {
        "id": "bp2X6vfLobR9"
      },
      "execution_count": null,
      "outputs": []
    },
    {
      "cell_type": "code",
      "source": [
        "df_train['Revolving_Credit_Line'] = df_train['Revolving_Credit_Line'].replace('0', 'No')"
      ],
      "metadata": {
        "id": "NB5v7nhcqfsW"
      },
      "execution_count": null,
      "outputs": []
    },
    {
      "cell_type": "code",
      "source": [
        "df_train['Revolving_Credit_Line'].value_counts()"
      ],
      "metadata": {
        "colab": {
          "base_uri": "https://localhost:8080/"
        },
        "id": "QB_oTRwNpz5w",
        "outputId": "957ec1f3-290b-4478-9660-5051859d2172"
      },
      "execution_count": null,
      "outputs": [
        {
          "output_type": "execute_result",
          "data": {
            "text/plain": [
              "No     80357\n",
              "Yes    24643\n",
              "Name: Revolving_Credit_Line, dtype: int64"
            ]
          },
          "metadata": {},
          "execution_count": 374
        }
      ]
    },
    {
      "cell_type": "code",
      "execution_count": null,
      "metadata": {
        "colab": {
          "base_uri": "https://localhost:8080/"
        },
        "id": "J5mW0meB9F5o",
        "outputId": "1ca17349-6da9-4eff-d541-fdcf9e0f32ab"
      },
      "outputs": [
        {
          "output_type": "execute_result",
          "data": {
            "text/plain": [
              "(105000, 22)"
            ]
          },
          "metadata": {},
          "execution_count": 375
        }
      ],
      "source": [
        "df_train = df_train.drop(['Primary_Loan_Digit'], axis=1)\n",
        "\n",
        "df_train.shape"
      ]
    },
    {
      "cell_type": "code",
      "execution_count": null,
      "metadata": {
        "colab": {
          "base_uri": "https://localhost:8080/"
        },
        "id": "A01xZS_r9Of-",
        "outputId": "2c479d9c-6b08-4e81-d293-e53bb5569fb7"
      },
      "outputs": [
        {
          "output_type": "execute_result",
          "data": {
            "text/plain": [
              "Existing    75106\n",
              "New         29789\n",
              "0             105\n",
              "Name: Business, dtype: int64"
            ]
          },
          "metadata": {},
          "execution_count": 376
        }
      ],
      "source": [
        "df_train['Business'].value_counts()"
      ]
    },
    {
      "cell_type": "code",
      "execution_count": null,
      "metadata": {
        "colab": {
          "base_uri": "https://localhost:8080/"
        },
        "id": "0B2jGBQE9XFj",
        "outputId": "38ba4f75-68b4-46b3-bccc-9005784189a4"
      },
      "outputs": [
        {
          "output_type": "execute_result",
          "data": {
            "text/plain": [
              "(105000, 22)"
            ]
          },
          "metadata": {},
          "execution_count": 377
        }
      ],
      "source": [
        "#df_train = df_train.loc[df_train['Business'].isin(['Existing','New'])]\n",
        "\n",
        "df_train.shape"
      ]
    },
    {
      "cell_type": "code",
      "source": [
        "df_train['Business'] = df_train['Business'].replace('0', 'Existing')\n",
        "\n",
        "df_train['Business'].value_counts()"
      ],
      "metadata": {
        "colab": {
          "base_uri": "https://localhost:8080/"
        },
        "id": "COsb_za8rLXz",
        "outputId": "42a4f024-4900-4f28-80a9-6defc8af99dc"
      },
      "execution_count": null,
      "outputs": [
        {
          "output_type": "execute_result",
          "data": {
            "text/plain": [
              "Existing    75211\n",
              "New         29789\n",
              "Name: Business, dtype: int64"
            ]
          },
          "metadata": {},
          "execution_count": 378
        }
      ]
    },
    {
      "cell_type": "code",
      "execution_count": null,
      "metadata": {
        "colab": {
          "base_uri": "https://localhost:8080/"
        },
        "id": "FgmkxLO49aYp",
        "outputId": "af30c0d6-9f6e-4009-ee9e-4a1ea175f107"
      },
      "outputs": [
        {
          "output_type": "execute_result",
          "data": {
            "text/plain": [
              "No     92502\n",
              "Yes    12075\n",
              "0        173\n",
              "S         95\n",
              "C         89\n",
              "A         60\n",
              "R          6\n",
              "Name: Low_Documentation_Loan, dtype: int64"
            ]
          },
          "metadata": {},
          "execution_count": 379
        }
      ],
      "source": [
        "df_train['Low_Documentation_Loan'].value_counts()"
      ]
    },
    {
      "cell_type": "code",
      "source": [
        "df_train['Low_Documentation_Loan'] = df_train['Low_Documentation_Loan'].replace('0', 'No')\n",
        "df_train['Low_Documentation_Loan'] = df_train['Low_Documentation_Loan'].replace('S', 'No')\n",
        "df_train['Low_Documentation_Loan'] = df_train['Low_Documentation_Loan'].replace('A', 'No')\n",
        "df_train['Low_Documentation_Loan'] = df_train['Low_Documentation_Loan'].replace('C', 'No')\n",
        "df_train['Low_Documentation_Loan'] = df_train['Low_Documentation_Loan'].replace('R', 'No')"
      ],
      "metadata": {
        "id": "qc-4qY5Rr0mT"
      },
      "execution_count": null,
      "outputs": []
    },
    {
      "cell_type": "code",
      "execution_count": null,
      "metadata": {
        "colab": {
          "base_uri": "https://localhost:8080/"
        },
        "id": "kvR0Jonn9ei1",
        "outputId": "f0e27587-be68-4dda-fdb4-e2f443d881bb"
      },
      "outputs": [
        {
          "output_type": "execute_result",
          "data": {
            "text/plain": [
              "(105000, 22)"
            ]
          },
          "metadata": {},
          "execution_count": 381
        }
      ],
      "source": [
        "#df_train = df_train.loc[df_train['Low_Documentation_Loan'].isin(['Yes','No'])]\n",
        "\n",
        "df_train.shape"
      ]
    },
    {
      "cell_type": "code",
      "execution_count": null,
      "metadata": {
        "colab": {
          "base_uri": "https://localhost:8080/"
        },
        "id": "mw3wxy1r9hXs",
        "outputId": "00d20b9c-3881-4b95-f9db-2304da337135"
      },
      "outputs": [
        {
          "output_type": "execute_result",
          "data": {
            "text/plain": [
              "0    75896\n",
              "1    29104\n",
              "Name: Default, dtype: int64"
            ]
          },
          "metadata": {},
          "execution_count": 382
        }
      ],
      "source": [
        "df_train['Default'].value_counts()"
      ]
    },
    {
      "cell_type": "code",
      "execution_count": null,
      "metadata": {
        "id": "YTXNX4GC9m2Z"
      },
      "outputs": [],
      "source": [
        "le= LabelEncoder()"
      ]
    },
    {
      "cell_type": "code",
      "execution_count": null,
      "metadata": {
        "colab": {
          "base_uri": "https://localhost:8080/"
        },
        "id": "qW0grisQ9rzb",
        "outputId": "604108d2-99d4-4d71-c546-af3bad9916b9"
      },
      "outputs": [
        {
          "output_type": "execute_result",
          "data": {
            "text/plain": [
              "Existing    75211\n",
              "New         29789\n",
              "Name: Business, dtype: int64"
            ]
          },
          "metadata": {},
          "execution_count": 384
        }
      ],
      "source": [
        "df_train['Business'].value_counts()"
      ]
    },
    {
      "cell_type": "code",
      "execution_count": null,
      "metadata": {
        "colab": {
          "base_uri": "https://localhost:8080/"
        },
        "id": "adb_edAv-FZY",
        "outputId": "ea34d24e-144e-480a-a29a-dbdf009f3458"
      },
      "outputs": [
        {
          "output_type": "execute_result",
          "data": {
            "text/plain": [
              "0    75211\n",
              "1    29789\n",
              "Name: Business, dtype: int64"
            ]
          },
          "metadata": {},
          "execution_count": 385
        }
      ],
      "source": [
        "df_train['Business'] = le.fit_transform(df_train['Business'])\n",
        "df_train['Business'].value_counts()"
      ]
    },
    {
      "cell_type": "code",
      "execution_count": null,
      "metadata": {
        "colab": {
          "base_uri": "https://localhost:8080/"
        },
        "id": "IHeNE_t3-Krn",
        "outputId": "df00bcb4-11ec-44ad-f135-d897c1e61131"
      },
      "outputs": [
        {
          "output_type": "execute_result",
          "data": {
            "text/plain": [
              "No     92925\n",
              "Yes    12075\n",
              "Name: Low_Documentation_Loan, dtype: int64"
            ]
          },
          "metadata": {},
          "execution_count": 386
        }
      ],
      "source": [
        "df_train['Low_Documentation_Loan'].value_counts()"
      ]
    },
    {
      "cell_type": "code",
      "execution_count": null,
      "metadata": {
        "colab": {
          "base_uri": "https://localhost:8080/"
        },
        "id": "d43Zb-zg-QlC",
        "outputId": "ebc9974e-65ce-46eb-d82c-b922713d46a8"
      },
      "outputs": [
        {
          "output_type": "execute_result",
          "data": {
            "text/plain": [
              "0    92925\n",
              "1    12075\n",
              "Name: Low_Documentation_Loan, dtype: int64"
            ]
          },
          "metadata": {},
          "execution_count": 387
        }
      ],
      "source": [
        "df_train['Low_Documentation_Loan'] = le.fit_transform(df_train['Low_Documentation_Loan'])\n",
        "df_train['Low_Documentation_Loan'].value_counts()"
      ]
    },
    {
      "cell_type": "code",
      "execution_count": null,
      "metadata": {
        "colab": {
          "base_uri": "https://localhost:8080/"
        },
        "id": "7lUqPm3a-UQE",
        "outputId": "58822519-4797-49a3-a6ee-58dc6ef9753c"
      },
      "outputs": [
        {
          "output_type": "execute_result",
          "data": {
            "text/plain": [
              "Urban        57598\n",
              "Undefined    35099\n",
              "Rural        12303\n",
              "Name: Demography, dtype: int64"
            ]
          },
          "metadata": {},
          "execution_count": 388
        }
      ],
      "source": [
        "df_train['Demography'].value_counts()"
      ]
    },
    {
      "cell_type": "code",
      "execution_count": null,
      "metadata": {
        "id": "Rqhi2GsJ-XuY"
      },
      "outputs": [],
      "source": [
        "df_train = pd.get_dummies(data=df_train, columns=['Demography'])"
      ]
    },
    {
      "cell_type": "code",
      "execution_count": null,
      "metadata": {
        "colab": {
          "base_uri": "https://localhost:8080/"
        },
        "id": "MPh1mN-x-po5",
        "outputId": "01954198-48b7-4346-b932-16c58e1fb3d6"
      },
      "outputs": [
        {
          "output_type": "execute_result",
          "data": {
            "text/plain": [
              "(105000, 24)"
            ]
          },
          "metadata": {},
          "execution_count": 390
        }
      ],
      "source": [
        "df_train.shape"
      ]
    },
    {
      "cell_type": "code",
      "execution_count": null,
      "metadata": {
        "colab": {
          "base_uri": "https://localhost:8080/"
        },
        "id": "flQoLGNA-tys",
        "outputId": "fc0b2464-f6d2-4911-f849-ef8486833d82"
      },
      "outputs": [
        {
          "output_type": "execute_result",
          "data": {
            "text/plain": [
              "Business                    0\n",
              "Jobs_Reatained              0\n",
              "Demography_Undefined        0\n",
              "Demography_Rural            0\n",
              "Default                     0\n",
              "Revolving_Credit_Line       0\n",
              "Name_Of_Bank                0\n",
              "Code_Franchise              0\n",
              "Commitment_Date             0\n",
              "Loan_Term                   0\n",
              "Gross_Amount_Disbursed      0\n",
              "Loan_Approved_Gross         0\n",
              "Classification_Code         0\n",
              "Count_Employees             0\n",
              "Gross_Amount_Balance        0\n",
              "Borrower_State              0\n",
              "Borrower_City               0\n",
              "ChargedOff_Amount           0\n",
              "State_Of_Bank               0\n",
              "Low_Documentation_Loan      0\n",
              "Guaranteed_Approved_Loan    0\n",
              "Year_Of_Commitment          0\n",
              "Jobs_Created                0\n",
              "Demography_Urban            0\n",
              "dtype: int64"
            ]
          },
          "metadata": {},
          "execution_count": 391
        }
      ],
      "source": [
        "df_train.isnull().sum().sort_values(ascending=False)"
      ]
    },
    {
      "cell_type": "code",
      "execution_count": null,
      "metadata": {
        "colab": {
          "base_uri": "https://localhost:8080/"
        },
        "id": "JDDASdD6-y4b",
        "outputId": "f9143b9a-b49e-4ce8-ef1f-ee330ad63bbd"
      },
      "outputs": [
        {
          "output_type": "stream",
          "name": "stdout",
          "text": [
            "<class 'pandas.core.frame.DataFrame'>\n",
            "RangeIndex: 105000 entries, 0 to 104999\n",
            "Data columns (total 24 columns):\n",
            " #   Column                    Non-Null Count   Dtype  \n",
            "---  ------                    --------------   -----  \n",
            " 0   Business                  105000 non-null  int64  \n",
            " 1   Jobs_Reatained            105000 non-null  int64  \n",
            " 2   Jobs_Created              105000 non-null  int64  \n",
            " 3   Year_Of_Commitment        105000 non-null  object \n",
            " 4   Guaranteed_Approved_Loan  105000 non-null  float64\n",
            " 5   Low_Documentation_Loan    105000 non-null  int64  \n",
            " 6   State_Of_Bank             105000 non-null  object \n",
            " 7   ChargedOff_Amount         105000 non-null  float64\n",
            " 8   Borrower_City             105000 non-null  object \n",
            " 9   Borrower_State            105000 non-null  object \n",
            " 10  Gross_Amount_Balance      105000 non-null  float64\n",
            " 11  Count_Employees           105000 non-null  int64  \n",
            " 12  Classification_Code       105000 non-null  int64  \n",
            " 13  Loan_Approved_Gross       105000 non-null  float64\n",
            " 14  Gross_Amount_Disbursed    105000 non-null  float64\n",
            " 15  Loan_Term                 105000 non-null  int64  \n",
            " 16  Commitment_Date           105000 non-null  object \n",
            " 17  Code_Franchise            105000 non-null  int64  \n",
            " 18  Name_Of_Bank              105000 non-null  object \n",
            " 19  Revolving_Credit_Line     105000 non-null  object \n",
            " 20  Default                   105000 non-null  int64  \n",
            " 21  Demography_Rural          105000 non-null  uint8  \n",
            " 22  Demography_Undefined      105000 non-null  uint8  \n",
            " 23  Demography_Urban          105000 non-null  uint8  \n",
            "dtypes: float64(5), int64(9), object(7), uint8(3)\n",
            "memory usage: 17.1+ MB\n"
          ]
        }
      ],
      "source": [
        "df_train.info()"
      ]
    },
    {
      "cell_type": "code",
      "execution_count": null,
      "metadata": {
        "colab": {
          "base_uri": "https://localhost:8080/"
        },
        "id": "k4BmFDqO--Rz",
        "outputId": "f5c244c8-5d1c-475c-e4c6-78ae1cb799af"
      },
      "outputs": [
        {
          "output_type": "execute_result",
          "data": {
            "text/plain": [
              "No     80357\n",
              "Yes    24643\n",
              "Name: Revolving_Credit_Line, dtype: int64"
            ]
          },
          "metadata": {},
          "execution_count": 393
        }
      ],
      "source": [
        "df_train['Revolving_Credit_Line'].value_counts()"
      ]
    },
    {
      "cell_type": "code",
      "execution_count": null,
      "metadata": {
        "colab": {
          "base_uri": "https://localhost:8080/"
        },
        "id": "8EeT2ZBS_BeO",
        "outputId": "6d299344-61a6-4d59-a198-300e8e67c7d5"
      },
      "outputs": [
        {
          "output_type": "execute_result",
          "data": {
            "text/plain": [
              "0    80357\n",
              "1    24643\n",
              "Name: Revolving_Credit_Line, dtype: int64"
            ]
          },
          "metadata": {},
          "execution_count": 394
        }
      ],
      "source": [
        "df_train['Revolving_Credit_Line'] = np.where(df_train['Revolving_Credit_Line'] == 'No', '0',df_train['Revolving_Credit_Line'])\n",
        "df_train['Revolving_Credit_Line'] = np.where(df_train['Revolving_Credit_Line'] == 'Yes', '1',df_train['Revolving_Credit_Line'])\n",
        "\n",
        "df_train['Revolving_Credit_Line'].value_counts()"
      ]
    },
    {
      "cell_type": "code",
      "execution_count": null,
      "metadata": {
        "id": "z_j_eQ1E_Fq1"
      },
      "outputs": [],
      "source": [
        "df_train['Revolving_Credit_Line'] = df_train['Revolving_Credit_Line'].astype(np.int64)\n",
        "\n",
        "df_train['Demography_Rural'] = df_train['Demography_Rural'].astype(np.int64)\n",
        "df_train['Demography_Undefined'] = df_train['Demography_Undefined'].astype(np.int64)\n",
        "df_train['Demography_Urban'] = df_train['Demography_Urban'].astype(np.int64)\n",
        "\n",
        "df_train['Business'] = df_train['Business'].astype(np.int64)\n",
        "df_train['Low_Documentation_Loan'] = df_train['Low_Documentation_Loan'].astype(np.int64)\n"
      ]
    },
    {
      "cell_type": "code",
      "execution_count": null,
      "metadata": {
        "id": "TBy5P-ZW_OxK"
      },
      "outputs": [],
      "source": [
        "df_train['Commitment_Date'] = pd.to_datetime(df_train['Commitment_Date'], errors='coerce')\n",
        "\n",
        "df_train['Commitment_Year'] = df_train['Commitment_Date'].dt.year\n",
        "df_train['Commitment_Month'] = df_train['Commitment_Date'].dt.month\n",
        "df_train['Commitment_Day'] = df_train['Commitment_Date'].dt.day"
      ]
    },
    {
      "cell_type": "code",
      "execution_count": null,
      "metadata": {
        "colab": {
          "base_uri": "https://localhost:8080/",
          "height": 369
        },
        "id": "_fLopEUM_WjG",
        "outputId": "9ded414d-2213-4b0d-e9a8-b7caee3106a5"
      },
      "outputs": [
        {
          "output_type": "execute_result",
          "data": {
            "text/plain": [
              "   Business  Jobs_Reatained  Jobs_Created Year_Of_Commitment  \\\n",
              "0         0               0             0               1991   \n",
              "1         1               0             6               2006   \n",
              "2         0               4             0               2004   \n",
              "3         1               9             1               2006   \n",
              "4         0               4             0               2005   \n",
              "\n",
              "   Guaranteed_Approved_Loan  Low_Documentation_Loan State_Of_Bank  \\\n",
              "0                33121600.0                       0            AP   \n",
              "1                32735520.0                       0            TR   \n",
              "2                 1422400.0                       0            AS   \n",
              "3                 2032000.0                       0            BR   \n",
              "4                22981920.0                       0            TR   \n",
              "\n",
              "   ChargedOff_Amount Borrower_City Borrower_State  ...  Code_Franchise  \\\n",
              "0               0.00        Mumbai    Maharashtra  ...               1   \n",
              "1        38283367.68         Delhi          Delhi  ...               1   \n",
              "2               0.00     Bengaluru      Karnataka  ...               1   \n",
              "3               0.00     Ahmedabad        Gujarat  ...               0   \n",
              "4        22862519.68     Hyderabad      Telangana  ...               1   \n",
              "\n",
              "           Name_Of_Bank  Revolving_Credit_Line  Default  Demography_Rural  \\\n",
              "0        Axis Bank Ltd.                      0        0                 0   \n",
              "1     Bandhan Bank Ltd.                      0        1                 0   \n",
              "2      CSB Bank Limited                      1        0                 0   \n",
              "3  City Union Bank Ltd.                      1        0                 0   \n",
              "4         DCB Bank Ltd.                      0        1                 0   \n",
              "\n",
              "   Demography_Undefined Demography_Urban  Commitment_Year Commitment_Month  \\\n",
              "0                     1                0             1991                4   \n",
              "1                     0                1             2006                4   \n",
              "2                     0                1             2004                5   \n",
              "3                     0                1             2005               12   \n",
              "4                     0                1             2004               11   \n",
              "\n",
              "   Commitment_Day  \n",
              "0               2  \n",
              "1              10  \n",
              "2              25  \n",
              "3              21  \n",
              "4               2  \n",
              "\n",
              "[5 rows x 27 columns]"
            ],
            "text/html": [
              "\n",
              "  <div id=\"df-10760340-efca-4786-be97-04291dfba645\">\n",
              "    <div class=\"colab-df-container\">\n",
              "      <div>\n",
              "<style scoped>\n",
              "    .dataframe tbody tr th:only-of-type {\n",
              "        vertical-align: middle;\n",
              "    }\n",
              "\n",
              "    .dataframe tbody tr th {\n",
              "        vertical-align: top;\n",
              "    }\n",
              "\n",
              "    .dataframe thead th {\n",
              "        text-align: right;\n",
              "    }\n",
              "</style>\n",
              "<table border=\"1\" class=\"dataframe\">\n",
              "  <thead>\n",
              "    <tr style=\"text-align: right;\">\n",
              "      <th></th>\n",
              "      <th>Business</th>\n",
              "      <th>Jobs_Reatained</th>\n",
              "      <th>Jobs_Created</th>\n",
              "      <th>Year_Of_Commitment</th>\n",
              "      <th>Guaranteed_Approved_Loan</th>\n",
              "      <th>Low_Documentation_Loan</th>\n",
              "      <th>State_Of_Bank</th>\n",
              "      <th>ChargedOff_Amount</th>\n",
              "      <th>Borrower_City</th>\n",
              "      <th>Borrower_State</th>\n",
              "      <th>...</th>\n",
              "      <th>Code_Franchise</th>\n",
              "      <th>Name_Of_Bank</th>\n",
              "      <th>Revolving_Credit_Line</th>\n",
              "      <th>Default</th>\n",
              "      <th>Demography_Rural</th>\n",
              "      <th>Demography_Undefined</th>\n",
              "      <th>Demography_Urban</th>\n",
              "      <th>Commitment_Year</th>\n",
              "      <th>Commitment_Month</th>\n",
              "      <th>Commitment_Day</th>\n",
              "    </tr>\n",
              "  </thead>\n",
              "  <tbody>\n",
              "    <tr>\n",
              "      <th>0</th>\n",
              "      <td>0</td>\n",
              "      <td>0</td>\n",
              "      <td>0</td>\n",
              "      <td>1991</td>\n",
              "      <td>33121600.0</td>\n",
              "      <td>0</td>\n",
              "      <td>AP</td>\n",
              "      <td>0.00</td>\n",
              "      <td>Mumbai</td>\n",
              "      <td>Maharashtra</td>\n",
              "      <td>...</td>\n",
              "      <td>1</td>\n",
              "      <td>Axis Bank Ltd.</td>\n",
              "      <td>0</td>\n",
              "      <td>0</td>\n",
              "      <td>0</td>\n",
              "      <td>1</td>\n",
              "      <td>0</td>\n",
              "      <td>1991</td>\n",
              "      <td>4</td>\n",
              "      <td>2</td>\n",
              "    </tr>\n",
              "    <tr>\n",
              "      <th>1</th>\n",
              "      <td>1</td>\n",
              "      <td>0</td>\n",
              "      <td>6</td>\n",
              "      <td>2006</td>\n",
              "      <td>32735520.0</td>\n",
              "      <td>0</td>\n",
              "      <td>TR</td>\n",
              "      <td>38283367.68</td>\n",
              "      <td>Delhi</td>\n",
              "      <td>Delhi</td>\n",
              "      <td>...</td>\n",
              "      <td>1</td>\n",
              "      <td>Bandhan Bank Ltd.</td>\n",
              "      <td>0</td>\n",
              "      <td>1</td>\n",
              "      <td>0</td>\n",
              "      <td>0</td>\n",
              "      <td>1</td>\n",
              "      <td>2006</td>\n",
              "      <td>4</td>\n",
              "      <td>10</td>\n",
              "    </tr>\n",
              "    <tr>\n",
              "      <th>2</th>\n",
              "      <td>0</td>\n",
              "      <td>4</td>\n",
              "      <td>0</td>\n",
              "      <td>2004</td>\n",
              "      <td>1422400.0</td>\n",
              "      <td>0</td>\n",
              "      <td>AS</td>\n",
              "      <td>0.00</td>\n",
              "      <td>Bengaluru</td>\n",
              "      <td>Karnataka</td>\n",
              "      <td>...</td>\n",
              "      <td>1</td>\n",
              "      <td>CSB Bank Limited</td>\n",
              "      <td>1</td>\n",
              "      <td>0</td>\n",
              "      <td>0</td>\n",
              "      <td>0</td>\n",
              "      <td>1</td>\n",
              "      <td>2004</td>\n",
              "      <td>5</td>\n",
              "      <td>25</td>\n",
              "    </tr>\n",
              "    <tr>\n",
              "      <th>3</th>\n",
              "      <td>1</td>\n",
              "      <td>9</td>\n",
              "      <td>1</td>\n",
              "      <td>2006</td>\n",
              "      <td>2032000.0</td>\n",
              "      <td>0</td>\n",
              "      <td>BR</td>\n",
              "      <td>0.00</td>\n",
              "      <td>Ahmedabad</td>\n",
              "      <td>Gujarat</td>\n",
              "      <td>...</td>\n",
              "      <td>0</td>\n",
              "      <td>City Union Bank Ltd.</td>\n",
              "      <td>1</td>\n",
              "      <td>0</td>\n",
              "      <td>0</td>\n",
              "      <td>0</td>\n",
              "      <td>1</td>\n",
              "      <td>2005</td>\n",
              "      <td>12</td>\n",
              "      <td>21</td>\n",
              "    </tr>\n",
              "    <tr>\n",
              "      <th>4</th>\n",
              "      <td>0</td>\n",
              "      <td>4</td>\n",
              "      <td>0</td>\n",
              "      <td>2005</td>\n",
              "      <td>22981920.0</td>\n",
              "      <td>0</td>\n",
              "      <td>TR</td>\n",
              "      <td>22862519.68</td>\n",
              "      <td>Hyderabad</td>\n",
              "      <td>Telangana</td>\n",
              "      <td>...</td>\n",
              "      <td>1</td>\n",
              "      <td>DCB Bank Ltd.</td>\n",
              "      <td>0</td>\n",
              "      <td>1</td>\n",
              "      <td>0</td>\n",
              "      <td>0</td>\n",
              "      <td>1</td>\n",
              "      <td>2004</td>\n",
              "      <td>11</td>\n",
              "      <td>2</td>\n",
              "    </tr>\n",
              "  </tbody>\n",
              "</table>\n",
              "<p>5 rows × 27 columns</p>\n",
              "</div>\n",
              "      <button class=\"colab-df-convert\" onclick=\"convertToInteractive('df-10760340-efca-4786-be97-04291dfba645')\"\n",
              "              title=\"Convert this dataframe to an interactive table.\"\n",
              "              style=\"display:none;\">\n",
              "        \n",
              "  <svg xmlns=\"http://www.w3.org/2000/svg\" height=\"24px\"viewBox=\"0 0 24 24\"\n",
              "       width=\"24px\">\n",
              "    <path d=\"M0 0h24v24H0V0z\" fill=\"none\"/>\n",
              "    <path d=\"M18.56 5.44l.94 2.06.94-2.06 2.06-.94-2.06-.94-.94-2.06-.94 2.06-2.06.94zm-11 1L8.5 8.5l.94-2.06 2.06-.94-2.06-.94L8.5 2.5l-.94 2.06-2.06.94zm10 10l.94 2.06.94-2.06 2.06-.94-2.06-.94-.94-2.06-.94 2.06-2.06.94z\"/><path d=\"M17.41 7.96l-1.37-1.37c-.4-.4-.92-.59-1.43-.59-.52 0-1.04.2-1.43.59L10.3 9.45l-7.72 7.72c-.78.78-.78 2.05 0 2.83L4 21.41c.39.39.9.59 1.41.59.51 0 1.02-.2 1.41-.59l7.78-7.78 2.81-2.81c.8-.78.8-2.07 0-2.86zM5.41 20L4 18.59l7.72-7.72 1.47 1.35L5.41 20z\"/>\n",
              "  </svg>\n",
              "      </button>\n",
              "      \n",
              "  <style>\n",
              "    .colab-df-container {\n",
              "      display:flex;\n",
              "      flex-wrap:wrap;\n",
              "      gap: 12px;\n",
              "    }\n",
              "\n",
              "    .colab-df-convert {\n",
              "      background-color: #E8F0FE;\n",
              "      border: none;\n",
              "      border-radius: 50%;\n",
              "      cursor: pointer;\n",
              "      display: none;\n",
              "      fill: #1967D2;\n",
              "      height: 32px;\n",
              "      padding: 0 0 0 0;\n",
              "      width: 32px;\n",
              "    }\n",
              "\n",
              "    .colab-df-convert:hover {\n",
              "      background-color: #E2EBFA;\n",
              "      box-shadow: 0px 1px 2px rgba(60, 64, 67, 0.3), 0px 1px 3px 1px rgba(60, 64, 67, 0.15);\n",
              "      fill: #174EA6;\n",
              "    }\n",
              "\n",
              "    [theme=dark] .colab-df-convert {\n",
              "      background-color: #3B4455;\n",
              "      fill: #D2E3FC;\n",
              "    }\n",
              "\n",
              "    [theme=dark] .colab-df-convert:hover {\n",
              "      background-color: #434B5C;\n",
              "      box-shadow: 0px 1px 3px 1px rgba(0, 0, 0, 0.15);\n",
              "      filter: drop-shadow(0px 1px 2px rgba(0, 0, 0, 0.3));\n",
              "      fill: #FFFFFF;\n",
              "    }\n",
              "  </style>\n",
              "\n",
              "      <script>\n",
              "        const buttonEl =\n",
              "          document.querySelector('#df-10760340-efca-4786-be97-04291dfba645 button.colab-df-convert');\n",
              "        buttonEl.style.display =\n",
              "          google.colab.kernel.accessAllowed ? 'block' : 'none';\n",
              "\n",
              "        async function convertToInteractive(key) {\n",
              "          const element = document.querySelector('#df-10760340-efca-4786-be97-04291dfba645');\n",
              "          const dataTable =\n",
              "            await google.colab.kernel.invokeFunction('convertToInteractive',\n",
              "                                                     [key], {});\n",
              "          if (!dataTable) return;\n",
              "\n",
              "          const docLinkHtml = 'Like what you see? Visit the ' +\n",
              "            '<a target=\"_blank\" href=https://colab.research.google.com/notebooks/data_table.ipynb>data table notebook</a>'\n",
              "            + ' to learn more about interactive tables.';\n",
              "          element.innerHTML = '';\n",
              "          dataTable['output_type'] = 'display_data';\n",
              "          await google.colab.output.renderOutput(dataTable, element);\n",
              "          const docLink = document.createElement('div');\n",
              "          docLink.innerHTML = docLinkHtml;\n",
              "          element.appendChild(docLink);\n",
              "        }\n",
              "      </script>\n",
              "    </div>\n",
              "  </div>\n",
              "  "
            ]
          },
          "metadata": {},
          "execution_count": 397
        }
      ],
      "source": [
        "df_train.head()"
      ]
    },
    {
      "cell_type": "code",
      "execution_count": null,
      "metadata": {
        "colab": {
          "base_uri": "https://localhost:8080/"
        },
        "id": "WxZTk2io_asC",
        "outputId": "a62c9284-23b9-4238-a095-a5b5a39c8aa4"
      },
      "outputs": [
        {
          "output_type": "stream",
          "name": "stdout",
          "text": [
            "<class 'pandas.core.frame.DataFrame'>\n",
            "RangeIndex: 105000 entries, 0 to 104999\n",
            "Data columns (total 27 columns):\n",
            " #   Column                    Non-Null Count   Dtype         \n",
            "---  ------                    --------------   -----         \n",
            " 0   Business                  105000 non-null  int64         \n",
            " 1   Jobs_Reatained            105000 non-null  int64         \n",
            " 2   Jobs_Created              105000 non-null  int64         \n",
            " 3   Year_Of_Commitment        105000 non-null  object        \n",
            " 4   Guaranteed_Approved_Loan  105000 non-null  float64       \n",
            " 5   Low_Documentation_Loan    105000 non-null  int64         \n",
            " 6   State_Of_Bank             105000 non-null  object        \n",
            " 7   ChargedOff_Amount         105000 non-null  float64       \n",
            " 8   Borrower_City             105000 non-null  object        \n",
            " 9   Borrower_State            105000 non-null  object        \n",
            " 10  Gross_Amount_Balance      105000 non-null  float64       \n",
            " 11  Count_Employees           105000 non-null  int64         \n",
            " 12  Classification_Code       105000 non-null  int64         \n",
            " 13  Loan_Approved_Gross       105000 non-null  float64       \n",
            " 14  Gross_Amount_Disbursed    105000 non-null  float64       \n",
            " 15  Loan_Term                 105000 non-null  int64         \n",
            " 16  Commitment_Date           105000 non-null  datetime64[ns]\n",
            " 17  Code_Franchise            105000 non-null  int64         \n",
            " 18  Name_Of_Bank              105000 non-null  object        \n",
            " 19  Revolving_Credit_Line     105000 non-null  int64         \n",
            " 20  Default                   105000 non-null  int64         \n",
            " 21  Demography_Rural          105000 non-null  int64         \n",
            " 22  Demography_Undefined      105000 non-null  int64         \n",
            " 23  Demography_Urban          105000 non-null  int64         \n",
            " 24  Commitment_Year           105000 non-null  int64         \n",
            " 25  Commitment_Month          105000 non-null  int64         \n",
            " 26  Commitment_Day            105000 non-null  int64         \n",
            "dtypes: datetime64[ns](1), float64(5), int64(16), object(5)\n",
            "memory usage: 21.6+ MB\n"
          ]
        }
      ],
      "source": [
        "df_train.info()\n"
      ]
    },
    {
      "cell_type": "code",
      "execution_count": null,
      "metadata": {
        "colab": {
          "base_uri": "https://localhost:8080/"
        },
        "id": "FoI2qM9L_fNB",
        "outputId": "a799d969-dd7e-4b68-d5e2-bb63c8ae2302"
      },
      "outputs": [
        {
          "output_type": "execute_result",
          "data": {
            "text/plain": [
              "TR    15552\n",
              "GJ    10902\n",
              "AS     9179\n",
              "JH     7135\n",
              "ML     5938\n",
              "MH     5565\n",
              "BR     5468\n",
              "PB     4614\n",
              "AR     4559\n",
              "OR     3951\n",
              "AP     3015\n",
              "LD     2978\n",
              "HP     2925\n",
              "JK     2498\n",
              "CH     2169\n",
              "KA     2092\n",
              "HR     1736\n",
              "KL     1712\n",
              "CG     1678\n",
              "UP     1665\n",
              "GA     1385\n",
              "RJ     1064\n",
              "MP     1018\n",
              "WB     1002\n",
              "DL      804\n",
              "PY      759\n",
              "NL      678\n",
              "DH      583\n",
              "MZ      546\n",
              "SK      471\n",
              "DD      462\n",
              "UK      459\n",
              "AN      420\n",
              "MN       18\n",
              "Name: State_Of_Bank, dtype: int64"
            ]
          },
          "metadata": {},
          "execution_count": 399
        }
      ],
      "source": [
        "df_train = df_train.drop('Commitment_Date',axis=1)\n",
        "\n",
        "df_train = df_train.drop('Year_Of_Commitment',axis=1)\n",
        "\n",
        "df_train['State_Of_Bank'].value_counts()"
      ]
    },
    {
      "cell_type": "code",
      "execution_count": null,
      "metadata": {
        "id": "eNd8iNKe_qsx"
      },
      "outputs": [],
      "source": [
        "# Converting the value count into dictionary.\n",
        "State_Of_Bank_cnt = df_train['State_Of_Bank'].value_counts().to_dict()"
      ]
    },
    {
      "cell_type": "code",
      "execution_count": null,
      "metadata": {
        "id": "00SJXJMH_yx_"
      },
      "outputs": [],
      "source": [
        "# mapping it with the feature \"Countries\".\n",
        "df_train['State_Of_Bank'] = df_train['State_Of_Bank'].map(State_Of_Bank_cnt)"
      ]
    },
    {
      "cell_type": "code",
      "execution_count": null,
      "metadata": {
        "colab": {
          "base_uri": "https://localhost:8080/"
        },
        "id": "3TSc07zX_3sL",
        "outputId": "d0226641-7332-47ba-93e5-f82c07265dbf"
      },
      "outputs": [
        {
          "output_type": "execute_result",
          "data": {
            "text/plain": [
              "0          3015\n",
              "1         15552\n",
              "2          9179\n",
              "3          5468\n",
              "4         15552\n",
              "          ...  \n",
              "104995    10902\n",
              "104996     1678\n",
              "104997     7135\n",
              "104998    15552\n",
              "104999     3015\n",
              "Name: State_Of_Bank, Length: 105000, dtype: int64"
            ]
          },
          "metadata": {},
          "execution_count": 402
        }
      ],
      "source": [
        "df_train['State_Of_Bank']"
      ]
    },
    {
      "cell_type": "code",
      "execution_count": null,
      "metadata": {
        "colab": {
          "base_uri": "https://localhost:8080/"
        },
        "id": "8HbIwG30AHEy",
        "outputId": "ba87f558-1d59-46a2-b18c-520e2a18e05e"
      },
      "outputs": [
        {
          "output_type": "execute_result",
          "data": {
            "text/plain": [
              "Jhansi          1504\n",
              "Siliguri        1253\n",
              "Ramagundam      1013\n",
              "Baramula         831\n",
              "Sahibganj        781\n",
              "                ... \n",
              "Malkapur          24\n",
              "Pasighat          22\n",
              "Muvattupuzha      21\n",
              "Sattenapalle      21\n",
              "Mudhol            19\n",
              "Name: Borrower_City, Length: 1193, dtype: int64"
            ]
          },
          "metadata": {},
          "execution_count": 403
        }
      ],
      "source": [
        "df_train['Borrower_City'].value_counts()"
      ]
    },
    {
      "cell_type": "code",
      "execution_count": null,
      "metadata": {
        "id": "33YHHEaAAQCX"
      },
      "outputs": [],
      "source": [
        "# Converting the value count into dictionary.\n",
        "Borrower_City_cnt = df_train['Borrower_City'].value_counts().to_dict()\n",
        "\n",
        "# mapping it with the feature \"Countries\".\n",
        "df_train['Borrower_City'] = df_train['Borrower_City'].map(Borrower_City_cnt)"
      ]
    },
    {
      "cell_type": "code",
      "execution_count": null,
      "metadata": {
        "colab": {
          "base_uri": "https://localhost:8080/"
        },
        "id": "Lv0sHVGdAdPZ",
        "outputId": "a582b4e2-3d8c-43dd-9499-c89e921584b3"
      },
      "outputs": [
        {
          "output_type": "execute_result",
          "data": {
            "text/plain": [
              "Maharashtra                    11699\n",
              "Uttar Pradesh                  11101\n",
              "Tamil Nadu                      8805\n",
              "Andhra Pradesh                  7119\n",
              "Madhya Pradesh                  6873\n",
              "Gujarat                         6386\n",
              "Bihar                           5684\n",
              "Karnataka                       5672\n",
              "Rajasthan                       5361\n",
              "West Bengal                     4709\n",
              "Kerala                          4176\n",
              "Punjab                          4098\n",
              "Telangana                       3866\n",
              "Jharkhand                       2925\n",
              "Haryana                         2698\n",
              "Chhattisgarh                    2534\n",
              "Odisha                          2517\n",
              "Assam                           1767\n",
              "Jammu and Kashmir               1632\n",
              "Uttarakhand                     1419\n",
              "Goa                              692\n",
              "Manipur                          400\n",
              "Tripura                          392\n",
              "Nagaland                         383\n",
              "Delhi                            359\n",
              "Meghalaya                        329\n",
              "Himachal Pradesh                 311\n",
              "Puducherry                       302\n",
              "Mizoram                          166\n",
              "Chandigarh                        92\n",
              "Arunachal Pradesh                 71\n",
              " Ajmer                            67\n",
              " Farrukhabad                      64\n",
              " India                            51\n",
              " Agra                             48\n",
              " Hardoi                           41\n",
              " Rampur                           41\n",
              "Karnatka                          40\n",
              "Andaman and Nicobar Islands       39\n",
              "Dadra and Nagar Haveli            37\n",
              " Bulandshahr                      34\n",
              "Name: Borrower_State, dtype: int64"
            ]
          },
          "metadata": {},
          "execution_count": 405
        }
      ],
      "source": [
        "df_train['Borrower_State'].value_counts()"
      ]
    },
    {
      "cell_type": "code",
      "execution_count": null,
      "metadata": {
        "id": "rci9-JAeAeci"
      },
      "outputs": [],
      "source": [
        "Borrower_State_cnt = df_train['Borrower_State'].value_counts().to_dict()\n",
        "df_train['Borrower_State'] = df_train['Borrower_State'].map(Borrower_State_cnt)"
      ]
    },
    {
      "cell_type": "code",
      "execution_count": null,
      "metadata": {
        "colab": {
          "base_uri": "https://localhost:8080/"
        },
        "id": "XLMeohPtAqTJ",
        "outputId": "3367cdbe-c8f0-4bc6-cc93-bb6debcc9bae"
      },
      "outputs": [
        {
          "output_type": "execute_result",
          "data": {
            "text/plain": [
              "ICICI Bank Ltd.                    11215\n",
              "IDBI Bank Limited                   7643\n",
              "Dhanlaxmi Bank Ltd.                 7314\n",
              "City Union Bank Ltd.                4541\n",
              "Karur Vysya Bank Ltd.               4218\n",
              "                                   ...  \n",
              "Utkarsh Small Finance Bank Ltd.      146\n",
              "Emirates NBD Bank PJSC               133\n",
              "State Bank of India                  118\n",
              "Himachal Pradesh Gramin Bank         112\n",
              "Barclays Bank Plc.                    93\n",
              "Name: Name_Of_Bank, Length: 143, dtype: int64"
            ]
          },
          "metadata": {},
          "execution_count": 407
        }
      ],
      "source": [
        "df_train['Name_Of_Bank'].value_counts()"
      ]
    },
    {
      "cell_type": "code",
      "execution_count": null,
      "metadata": {
        "id": "hTl9e0KOAulA"
      },
      "outputs": [],
      "source": [
        "Name_Of_Bank_cnt = df_train['Name_Of_Bank'].value_counts().to_dict()\n",
        "df_train['Name_Of_Bank'] = df_train['Name_Of_Bank'].map(Name_Of_Bank_cnt)"
      ]
    },
    {
      "cell_type": "code",
      "execution_count": null,
      "metadata": {
        "colab": {
          "base_uri": "https://localhost:8080/"
        },
        "id": "JDU-6o_dA3-A",
        "outputId": "d35c25e4-5c4c-4344-d66b-5d558cf6da84"
      },
      "outputs": [
        {
          "output_type": "stream",
          "name": "stdout",
          "text": [
            "<class 'pandas.core.frame.DataFrame'>\n",
            "RangeIndex: 105000 entries, 0 to 104999\n",
            "Data columns (total 25 columns):\n",
            " #   Column                    Non-Null Count   Dtype  \n",
            "---  ------                    --------------   -----  \n",
            " 0   Business                  105000 non-null  int64  \n",
            " 1   Jobs_Reatained            105000 non-null  int64  \n",
            " 2   Jobs_Created              105000 non-null  int64  \n",
            " 3   Guaranteed_Approved_Loan  105000 non-null  float64\n",
            " 4   Low_Documentation_Loan    105000 non-null  int64  \n",
            " 5   State_Of_Bank             105000 non-null  int64  \n",
            " 6   ChargedOff_Amount         105000 non-null  float64\n",
            " 7   Borrower_City             105000 non-null  int64  \n",
            " 8   Borrower_State            105000 non-null  int64  \n",
            " 9   Gross_Amount_Balance      105000 non-null  float64\n",
            " 10  Count_Employees           105000 non-null  int64  \n",
            " 11  Classification_Code       105000 non-null  int64  \n",
            " 12  Loan_Approved_Gross       105000 non-null  float64\n",
            " 13  Gross_Amount_Disbursed    105000 non-null  float64\n",
            " 14  Loan_Term                 105000 non-null  int64  \n",
            " 15  Code_Franchise            105000 non-null  int64  \n",
            " 16  Name_Of_Bank              105000 non-null  int64  \n",
            " 17  Revolving_Credit_Line     105000 non-null  int64  \n",
            " 18  Default                   105000 non-null  int64  \n",
            " 19  Demography_Rural          105000 non-null  int64  \n",
            " 20  Demography_Undefined      105000 non-null  int64  \n",
            " 21  Demography_Urban          105000 non-null  int64  \n",
            " 22  Commitment_Year           105000 non-null  int64  \n",
            " 23  Commitment_Month          105000 non-null  int64  \n",
            " 24  Commitment_Day            105000 non-null  int64  \n",
            "dtypes: float64(5), int64(20)\n",
            "memory usage: 20.0 MB\n"
          ]
        }
      ],
      "source": [
        "df_train.info()"
      ]
    },
    {
      "cell_type": "code",
      "execution_count": null,
      "metadata": {
        "colab": {
          "base_uri": "https://localhost:8080/"
        },
        "id": "ci8G-6ddA7oz",
        "outputId": "c0c9a00f-f383-49b8-8ecb-f256c8c4299e"
      },
      "outputs": [
        {
          "output_type": "execute_result",
          "data": {
            "text/plain": [
              "(105000, 25)"
            ]
          },
          "metadata": {},
          "execution_count": 410
        }
      ],
      "source": [
        "df_train.shape"
      ]
    },
    {
      "cell_type": "code",
      "execution_count": null,
      "metadata": {
        "colab": {
          "base_uri": "https://localhost:8080/"
        },
        "id": "FsbkMri4BC63",
        "outputId": "e242aa1b-efac-434d-95b2-29ab69deb00d"
      },
      "outputs": [
        {
          "output_type": "execute_result",
          "data": {
            "text/plain": [
              "0    0.722819\n",
              "1    0.277181\n",
              "Name: Default, dtype: float64"
            ]
          },
          "metadata": {},
          "execution_count": 411
        }
      ],
      "source": [
        "df_train['Default'].value_counts(normalize = True)"
      ]
    },
    {
      "cell_type": "code",
      "execution_count": null,
      "metadata": {
        "colab": {
          "base_uri": "https://localhost:8080/",
          "height": 299
        },
        "id": "AMBKths8BGG3",
        "outputId": "7b72ddb3-071e-4ef4-e87c-abbc6dc4a522"
      },
      "outputs": [
        {
          "output_type": "execute_result",
          "data": {
            "text/plain": [
              "   Business  Jobs_Reatained  Jobs_Created  Guaranteed_Approved_Loan  \\\n",
              "0         0               0             0                33121600.0   \n",
              "1         1               0             6                32735520.0   \n",
              "2         0               4             0                 1422400.0   \n",
              "3         1               9             1                 2032000.0   \n",
              "4         0               4             0                22981920.0   \n",
              "\n",
              "   Low_Documentation_Loan  State_Of_Bank  ChargedOff_Amount  Borrower_City  \\\n",
              "0                       0           3015               0.00            141   \n",
              "1                       0          15552        38283367.68            166   \n",
              "2                       0           9179               0.00             59   \n",
              "3                       0           5468               0.00            222   \n",
              "4                       0          15552        22862519.68             92   \n",
              "\n",
              "   Borrower_State  Gross_Amount_Balance  ...  Code_Franchise  Name_Of_Bank  \\\n",
              "0           11699                   0.0  ...               1           423   \n",
              "1             359                   0.0  ...               1          1161   \n",
              "2            5672                   0.0  ...               1          3530   \n",
              "3            6386                   0.0  ...               0          4541   \n",
              "4            3866                   0.0  ...               1           264   \n",
              "\n",
              "   Revolving_Credit_Line  Default  Demography_Rural  Demography_Undefined  \\\n",
              "0                      0        0                 0                     1   \n",
              "1                      0        1                 0                     0   \n",
              "2                      1        0                 0                     0   \n",
              "3                      1        0                 0                     0   \n",
              "4                      0        1                 0                     0   \n",
              "\n",
              "   Demography_Urban  Commitment_Year  Commitment_Month  Commitment_Day  \n",
              "0                 0             1991                 4               2  \n",
              "1                 1             2006                 4              10  \n",
              "2                 1             2004                 5              25  \n",
              "3                 1             2005                12              21  \n",
              "4                 1             2004                11               2  \n",
              "\n",
              "[5 rows x 25 columns]"
            ],
            "text/html": [
              "\n",
              "  <div id=\"df-15e8f4ea-4d1a-4dc4-bc4b-2618f8c42010\">\n",
              "    <div class=\"colab-df-container\">\n",
              "      <div>\n",
              "<style scoped>\n",
              "    .dataframe tbody tr th:only-of-type {\n",
              "        vertical-align: middle;\n",
              "    }\n",
              "\n",
              "    .dataframe tbody tr th {\n",
              "        vertical-align: top;\n",
              "    }\n",
              "\n",
              "    .dataframe thead th {\n",
              "        text-align: right;\n",
              "    }\n",
              "</style>\n",
              "<table border=\"1\" class=\"dataframe\">\n",
              "  <thead>\n",
              "    <tr style=\"text-align: right;\">\n",
              "      <th></th>\n",
              "      <th>Business</th>\n",
              "      <th>Jobs_Reatained</th>\n",
              "      <th>Jobs_Created</th>\n",
              "      <th>Guaranteed_Approved_Loan</th>\n",
              "      <th>Low_Documentation_Loan</th>\n",
              "      <th>State_Of_Bank</th>\n",
              "      <th>ChargedOff_Amount</th>\n",
              "      <th>Borrower_City</th>\n",
              "      <th>Borrower_State</th>\n",
              "      <th>Gross_Amount_Balance</th>\n",
              "      <th>...</th>\n",
              "      <th>Code_Franchise</th>\n",
              "      <th>Name_Of_Bank</th>\n",
              "      <th>Revolving_Credit_Line</th>\n",
              "      <th>Default</th>\n",
              "      <th>Demography_Rural</th>\n",
              "      <th>Demography_Undefined</th>\n",
              "      <th>Demography_Urban</th>\n",
              "      <th>Commitment_Year</th>\n",
              "      <th>Commitment_Month</th>\n",
              "      <th>Commitment_Day</th>\n",
              "    </tr>\n",
              "  </thead>\n",
              "  <tbody>\n",
              "    <tr>\n",
              "      <th>0</th>\n",
              "      <td>0</td>\n",
              "      <td>0</td>\n",
              "      <td>0</td>\n",
              "      <td>33121600.0</td>\n",
              "      <td>0</td>\n",
              "      <td>3015</td>\n",
              "      <td>0.00</td>\n",
              "      <td>141</td>\n",
              "      <td>11699</td>\n",
              "      <td>0.0</td>\n",
              "      <td>...</td>\n",
              "      <td>1</td>\n",
              "      <td>423</td>\n",
              "      <td>0</td>\n",
              "      <td>0</td>\n",
              "      <td>0</td>\n",
              "      <td>1</td>\n",
              "      <td>0</td>\n",
              "      <td>1991</td>\n",
              "      <td>4</td>\n",
              "      <td>2</td>\n",
              "    </tr>\n",
              "    <tr>\n",
              "      <th>1</th>\n",
              "      <td>1</td>\n",
              "      <td>0</td>\n",
              "      <td>6</td>\n",
              "      <td>32735520.0</td>\n",
              "      <td>0</td>\n",
              "      <td>15552</td>\n",
              "      <td>38283367.68</td>\n",
              "      <td>166</td>\n",
              "      <td>359</td>\n",
              "      <td>0.0</td>\n",
              "      <td>...</td>\n",
              "      <td>1</td>\n",
              "      <td>1161</td>\n",
              "      <td>0</td>\n",
              "      <td>1</td>\n",
              "      <td>0</td>\n",
              "      <td>0</td>\n",
              "      <td>1</td>\n",
              "      <td>2006</td>\n",
              "      <td>4</td>\n",
              "      <td>10</td>\n",
              "    </tr>\n",
              "    <tr>\n",
              "      <th>2</th>\n",
              "      <td>0</td>\n",
              "      <td>4</td>\n",
              "      <td>0</td>\n",
              "      <td>1422400.0</td>\n",
              "      <td>0</td>\n",
              "      <td>9179</td>\n",
              "      <td>0.00</td>\n",
              "      <td>59</td>\n",
              "      <td>5672</td>\n",
              "      <td>0.0</td>\n",
              "      <td>...</td>\n",
              "      <td>1</td>\n",
              "      <td>3530</td>\n",
              "      <td>1</td>\n",
              "      <td>0</td>\n",
              "      <td>0</td>\n",
              "      <td>0</td>\n",
              "      <td>1</td>\n",
              "      <td>2004</td>\n",
              "      <td>5</td>\n",
              "      <td>25</td>\n",
              "    </tr>\n",
              "    <tr>\n",
              "      <th>3</th>\n",
              "      <td>1</td>\n",
              "      <td>9</td>\n",
              "      <td>1</td>\n",
              "      <td>2032000.0</td>\n",
              "      <td>0</td>\n",
              "      <td>5468</td>\n",
              "      <td>0.00</td>\n",
              "      <td>222</td>\n",
              "      <td>6386</td>\n",
              "      <td>0.0</td>\n",
              "      <td>...</td>\n",
              "      <td>0</td>\n",
              "      <td>4541</td>\n",
              "      <td>1</td>\n",
              "      <td>0</td>\n",
              "      <td>0</td>\n",
              "      <td>0</td>\n",
              "      <td>1</td>\n",
              "      <td>2005</td>\n",
              "      <td>12</td>\n",
              "      <td>21</td>\n",
              "    </tr>\n",
              "    <tr>\n",
              "      <th>4</th>\n",
              "      <td>0</td>\n",
              "      <td>4</td>\n",
              "      <td>0</td>\n",
              "      <td>22981920.0</td>\n",
              "      <td>0</td>\n",
              "      <td>15552</td>\n",
              "      <td>22862519.68</td>\n",
              "      <td>92</td>\n",
              "      <td>3866</td>\n",
              "      <td>0.0</td>\n",
              "      <td>...</td>\n",
              "      <td>1</td>\n",
              "      <td>264</td>\n",
              "      <td>0</td>\n",
              "      <td>1</td>\n",
              "      <td>0</td>\n",
              "      <td>0</td>\n",
              "      <td>1</td>\n",
              "      <td>2004</td>\n",
              "      <td>11</td>\n",
              "      <td>2</td>\n",
              "    </tr>\n",
              "  </tbody>\n",
              "</table>\n",
              "<p>5 rows × 25 columns</p>\n",
              "</div>\n",
              "      <button class=\"colab-df-convert\" onclick=\"convertToInteractive('df-15e8f4ea-4d1a-4dc4-bc4b-2618f8c42010')\"\n",
              "              title=\"Convert this dataframe to an interactive table.\"\n",
              "              style=\"display:none;\">\n",
              "        \n",
              "  <svg xmlns=\"http://www.w3.org/2000/svg\" height=\"24px\"viewBox=\"0 0 24 24\"\n",
              "       width=\"24px\">\n",
              "    <path d=\"M0 0h24v24H0V0z\" fill=\"none\"/>\n",
              "    <path d=\"M18.56 5.44l.94 2.06.94-2.06 2.06-.94-2.06-.94-.94-2.06-.94 2.06-2.06.94zm-11 1L8.5 8.5l.94-2.06 2.06-.94-2.06-.94L8.5 2.5l-.94 2.06-2.06.94zm10 10l.94 2.06.94-2.06 2.06-.94-2.06-.94-.94-2.06-.94 2.06-2.06.94z\"/><path d=\"M17.41 7.96l-1.37-1.37c-.4-.4-.92-.59-1.43-.59-.52 0-1.04.2-1.43.59L10.3 9.45l-7.72 7.72c-.78.78-.78 2.05 0 2.83L4 21.41c.39.39.9.59 1.41.59.51 0 1.02-.2 1.41-.59l7.78-7.78 2.81-2.81c.8-.78.8-2.07 0-2.86zM5.41 20L4 18.59l7.72-7.72 1.47 1.35L5.41 20z\"/>\n",
              "  </svg>\n",
              "      </button>\n",
              "      \n",
              "  <style>\n",
              "    .colab-df-container {\n",
              "      display:flex;\n",
              "      flex-wrap:wrap;\n",
              "      gap: 12px;\n",
              "    }\n",
              "\n",
              "    .colab-df-convert {\n",
              "      background-color: #E8F0FE;\n",
              "      border: none;\n",
              "      border-radius: 50%;\n",
              "      cursor: pointer;\n",
              "      display: none;\n",
              "      fill: #1967D2;\n",
              "      height: 32px;\n",
              "      padding: 0 0 0 0;\n",
              "      width: 32px;\n",
              "    }\n",
              "\n",
              "    .colab-df-convert:hover {\n",
              "      background-color: #E2EBFA;\n",
              "      box-shadow: 0px 1px 2px rgba(60, 64, 67, 0.3), 0px 1px 3px 1px rgba(60, 64, 67, 0.15);\n",
              "      fill: #174EA6;\n",
              "    }\n",
              "\n",
              "    [theme=dark] .colab-df-convert {\n",
              "      background-color: #3B4455;\n",
              "      fill: #D2E3FC;\n",
              "    }\n",
              "\n",
              "    [theme=dark] .colab-df-convert:hover {\n",
              "      background-color: #434B5C;\n",
              "      box-shadow: 0px 1px 3px 1px rgba(0, 0, 0, 0.15);\n",
              "      filter: drop-shadow(0px 1px 2px rgba(0, 0, 0, 0.3));\n",
              "      fill: #FFFFFF;\n",
              "    }\n",
              "  </style>\n",
              "\n",
              "      <script>\n",
              "        const buttonEl =\n",
              "          document.querySelector('#df-15e8f4ea-4d1a-4dc4-bc4b-2618f8c42010 button.colab-df-convert');\n",
              "        buttonEl.style.display =\n",
              "          google.colab.kernel.accessAllowed ? 'block' : 'none';\n",
              "\n",
              "        async function convertToInteractive(key) {\n",
              "          const element = document.querySelector('#df-15e8f4ea-4d1a-4dc4-bc4b-2618f8c42010');\n",
              "          const dataTable =\n",
              "            await google.colab.kernel.invokeFunction('convertToInteractive',\n",
              "                                                     [key], {});\n",
              "          if (!dataTable) return;\n",
              "\n",
              "          const docLinkHtml = 'Like what you see? Visit the ' +\n",
              "            '<a target=\"_blank\" href=https://colab.research.google.com/notebooks/data_table.ipynb>data table notebook</a>'\n",
              "            + ' to learn more about interactive tables.';\n",
              "          element.innerHTML = '';\n",
              "          dataTable['output_type'] = 'display_data';\n",
              "          await google.colab.output.renderOutput(dataTable, element);\n",
              "          const docLink = document.createElement('div');\n",
              "          docLink.innerHTML = docLinkHtml;\n",
              "          element.appendChild(docLink);\n",
              "        }\n",
              "      </script>\n",
              "    </div>\n",
              "  </div>\n",
              "  "
            ]
          },
          "metadata": {},
          "execution_count": 412
        }
      ],
      "source": [
        "df_train.head()"
      ]
    },
    {
      "cell_type": "markdown",
      "metadata": {
        "id": "gmBnvEmYBkGs"
      },
      "source": [
        "# Test dataset"
      ]
    },
    {
      "cell_type": "code",
      "execution_count": null,
      "metadata": {
        "id": "Mg3z_1nDxUW3"
      },
      "outputs": [],
      "source": [
        "df_test = pd.read_csv(\"/content/drive/MyDrive/myData/loan_default/testing_data.csv\")"
      ]
    },
    {
      "cell_type": "code",
      "execution_count": null,
      "metadata": {
        "id": "gXc1q7PjBJ-W"
      },
      "outputs": [],
      "source": [
        "df_test.columns = [x.strip() for x in df_test.columns]"
      ]
    },
    {
      "cell_type": "code",
      "execution_count": null,
      "metadata": {
        "id": "-czTqm5fB9X4"
      },
      "outputs": [],
      "source": [
        "df_test = df_test.rename(columns = {'Guaranteed_Approved _Loan':'Guaranteed_Approved_Loan'})"
      ]
    },
    {
      "cell_type": "code",
      "execution_count": null,
      "metadata": {
        "id": "XSw0bMkQCBnP"
      },
      "outputs": [],
      "source": [
        "df_test_orig = df_test.copy()"
      ]
    },
    {
      "cell_type": "code",
      "execution_count": null,
      "metadata": {
        "id": "Hlpw7V4iCEwH"
      },
      "outputs": [],
      "source": [
        "df_test['Revolving_Credit_Line'].fillna(df_test['Revolving_Credit_Line'].mode()[0], inplace=True)\n",
        "df_test['Low_Documentation_Loan'].fillna(df_test['Low_Documentation_Loan'].mode()[0], inplace=True)\n",
        "df_test['Business'].fillna(df_test['Business'].mode()[0], inplace=True)"
      ]
    },
    {
      "cell_type": "code",
      "execution_count": null,
      "metadata": {
        "colab": {
          "base_uri": "https://localhost:8080/"
        },
        "id": "2fDGxvE_CLxC",
        "outputId": "98ecd55f-22a0-4796-edd0-76fc4ce389db"
      },
      "outputs": [
        {
          "output_type": "execute_result",
          "data": {
            "text/plain": [
              "Date_Of_Disbursement        108\n",
              "Borrower_State               49\n",
              "Borrower_Name                 2\n",
              "ID                            0\n",
              "Gross_Amount_Balance          0\n",
              "Name_Of_Bank                  0\n",
              "Code_Franchise                0\n",
              "Primary_Loan_Digit            0\n",
              "Commitment_Date               0\n",
              "Loan_Term                     0\n",
              "Gross_Amount_Disbursed        0\n",
              "Loan_Approved_Gross           0\n",
              "Classification_Code           0\n",
              "Count_Employees               0\n",
              "Borrower_City                 0\n",
              "ChargedOff_Amount             0\n",
              "State_Of_Bank                 0\n",
              "Demography                    0\n",
              "Low_Documentation_Loan        0\n",
              "Guaranteed_Approved_Loan      0\n",
              "Year_Of_Commitment            0\n",
              "Jobs_Created                  0\n",
              "Jobs_Reatained                0\n",
              "Business                      0\n",
              "Revolving_Credit_Line         0\n",
              "dtype: int64"
            ]
          },
          "metadata": {},
          "execution_count": 468
        }
      ],
      "source": [
        "df_test.isnull().sum().sort_values(ascending=False)"
      ]
    },
    {
      "cell_type": "code",
      "execution_count": null,
      "metadata": {
        "colab": {
          "base_uri": "https://localhost:8080/"
        },
        "id": "KJlGKqXWzBYj",
        "outputId": "d4154870-6f65-4b76-f619-37ad2a5ddac0"
      },
      "outputs": [
        {
          "output_type": "execute_result",
          "data": {
            "text/plain": [
              "Maharashtra                    5087\n",
              "Uttar Pradesh                  4723\n",
              "Tamil Nadu                     3865\n",
              "Andhra Pradesh                 3002\n",
              "Madhya Pradesh                 2845\n",
              "Gujarat                        2708\n",
              "Karnataka                      2506\n",
              "Bihar                          2496\n",
              "Rajasthan                      2269\n",
              "West Bengal                    1990\n",
              "Kerala                         1864\n",
              "Punjab                         1716\n",
              "Telangana                      1703\n",
              "Jharkhand                      1278\n",
              "Haryana                        1107\n",
              "Odisha                         1057\n",
              "Chhattisgarh                   1050\n",
              "Assam                           709\n",
              "Jammu and Kashmir               652\n",
              "Uttarakhand                     597\n",
              "Goa                             324\n",
              "Manipur                         193\n",
              "Tripura                         189\n",
              "Himachal Pradesh                158\n",
              "Delhi                           153\n",
              "Nagaland                        148\n",
              "Puducherry                      128\n",
              "Meghalaya                       126\n",
              "Mizoram                          62\n",
              "NaN                              49\n",
              "Chandigarh                       42\n",
              "Arunachal Pradesh                32\n",
              " Hardoi                          25\n",
              " Ajmer                           25\n",
              " Agra                            19\n",
              " India                           17\n",
              "Andaman and Nicobar Islands      17\n",
              " Bulandshahr                     16\n",
              "Karnatka                         15\n",
              " Rampur                          15\n",
              "Dadra and Nagar Haveli           14\n",
              " Farrukhabad                      9\n",
              "Name: Borrower_State, dtype: int64"
            ]
          },
          "metadata": {},
          "execution_count": 469
        }
      ],
      "source": [
        "df_test['Borrower_State'].value_counts(dropna=False)"
      ]
    },
    {
      "cell_type": "code",
      "execution_count": null,
      "metadata": {
        "id": "HuM_HEbz0ss4"
      },
      "outputs": [],
      "source": [
        "df_test['Borrower_State'] = df_test['Borrower_State'].fillna('Foreign')"
      ]
    },
    {
      "cell_type": "code",
      "execution_count": null,
      "metadata": {
        "colab": {
          "base_uri": "https://localhost:8080/"
        },
        "id": "oEyadCMQ1xPj",
        "outputId": "24ea18ba-25b2-4a1c-bdd8-50d717f8fefa"
      },
      "outputs": [
        {
          "output_type": "execute_result",
          "data": {
            "text/plain": [
              "Date_Of_Disbursement        108\n",
              "Borrower_Name                 2\n",
              "ID                            0\n",
              "Gross_Amount_Balance          0\n",
              "Name_Of_Bank                  0\n",
              "Code_Franchise                0\n",
              "Primary_Loan_Digit            0\n",
              "Commitment_Date               0\n",
              "Loan_Term                     0\n",
              "Gross_Amount_Disbursed        0\n",
              "Loan_Approved_Gross           0\n",
              "Classification_Code           0\n",
              "Count_Employees               0\n",
              "Borrower_City                 0\n",
              "Borrower_State                0\n",
              "ChargedOff_Amount             0\n",
              "State_Of_Bank                 0\n",
              "Demography                    0\n",
              "Low_Documentation_Loan        0\n",
              "Guaranteed_Approved_Loan      0\n",
              "Year_Of_Commitment            0\n",
              "Jobs_Created                  0\n",
              "Jobs_Reatained                0\n",
              "Business                      0\n",
              "Revolving_Credit_Line         0\n",
              "dtype: int64"
            ]
          },
          "metadata": {},
          "execution_count": 471
        }
      ],
      "source": [
        "df_test.isnull().sum().sort_values(ascending=False)"
      ]
    },
    {
      "cell_type": "code",
      "execution_count": null,
      "metadata": {
        "colab": {
          "base_uri": "https://localhost:8080/"
        },
        "id": "sb6JBCvxCt1m",
        "outputId": "e404a0d8-d94f-40d5-f662-74b254d3e993"
      },
      "outputs": [
        {
          "output_type": "execute_result",
          "data": {
            "text/plain": [
              "ID                          0\n",
              "Gross_Amount_Balance        0\n",
              "Name_Of_Bank                0\n",
              "Code_Franchise              0\n",
              "Primary_Loan_Digit          0\n",
              "Commitment_Date             0\n",
              "Loan_Term                   0\n",
              "Gross_Amount_Disbursed      0\n",
              "Loan_Approved_Gross         0\n",
              "Classification_Code         0\n",
              "Count_Employees             0\n",
              "Borrower_State              0\n",
              "Business                    0\n",
              "Borrower_City               0\n",
              "ChargedOff_Amount           0\n",
              "State_Of_Bank               0\n",
              "Demography                  0\n",
              "Low_Documentation_Loan      0\n",
              "Guaranteed_Approved_Loan    0\n",
              "Year_Of_Commitment          0\n",
              "Jobs_Created                0\n",
              "Jobs_Reatained              0\n",
              "Revolving_Credit_Line       0\n",
              "dtype: int64"
            ]
          },
          "metadata": {},
          "execution_count": 472
        }
      ],
      "source": [
        "df_test = df_test.drop('Date_Of_Disbursement',axis=1)\n",
        "\n",
        "df_test = df_test.drop('Borrower_Name',axis=1)\n",
        "\n",
        "df_test.isnull().sum().sort_values(ascending=False)"
      ]
    },
    {
      "cell_type": "code",
      "execution_count": null,
      "metadata": {
        "id": "KpP09cBdDIom"
      },
      "outputs": [],
      "source": [
        "df_test['Loan_Approved_Gross'] = df_test['Loan_Approved_Gross'].apply(lambda x: x.replace('Rs.', '').replace(',', '') if isinstance(x, str) else x).astype(float)\n",
        "df_test['Gross_Amount_Disbursed'] = df_test['Gross_Amount_Disbursed'].apply(lambda x: x.replace('Rs.', '').replace(',', '') if isinstance(x, str) else x).astype(float)\n",
        "df_test['Gross_Amount_Balance'] = df_test['Gross_Amount_Balance'].apply(lambda x: x.replace('Rs.', '').replace(',', '') if isinstance(x, str) else x).astype(float)\n",
        "df_test['ChargedOff_Amount'] = df_test['ChargedOff_Amount'].apply(lambda x: x.replace('Rs.', '').replace(',', '') if isinstance(x, str) else x).astype(float)\n",
        "df_test['Guaranteed_Approved_Loan'] = df_test['Guaranteed_Approved_Loan'].apply(lambda x: x.replace('Rs.', '').replace(',', '') if isinstance(x, str) else x).astype(float)"
      ]
    },
    {
      "cell_type": "code",
      "execution_count": null,
      "metadata": {
        "colab": {
          "base_uri": "https://localhost:8080/"
        },
        "id": "jZiLBQWUDPii",
        "outputId": "3d346c02-c785-4cb2-abdf-bc82db508a4c"
      },
      "outputs": [
        {
          "output_type": "execute_result",
          "data": {
            "text/plain": [
              "No     34316\n",
              "Yes    10684\n",
              "Name: Revolving_Credit_Line, dtype: int64"
            ]
          },
          "metadata": {},
          "execution_count": 474
        }
      ],
      "source": [
        "df_test['Revolving_Credit_Line'].value_counts()"
      ]
    },
    {
      "cell_type": "code",
      "execution_count": null,
      "metadata": {
        "id": "7WWloVuMDWgg"
      },
      "outputs": [],
      "source": [
        "df_test = df_test.drop(['Primary_Loan_Digit'], axis=1)"
      ]
    },
    {
      "cell_type": "code",
      "execution_count": null,
      "metadata": {
        "colab": {
          "base_uri": "https://localhost:8080/"
        },
        "id": "TRwVvwEaDZWs",
        "outputId": "10f1ac54-07f7-4218-9eaa-f2c1f86950a7"
      },
      "outputs": [
        {
          "output_type": "execute_result",
          "data": {
            "text/plain": [
              "(45000, 22)"
            ]
          },
          "metadata": {},
          "execution_count": 476
        }
      ],
      "source": [
        "df_test.shape"
      ]
    },
    {
      "cell_type": "code",
      "execution_count": null,
      "metadata": {
        "colab": {
          "base_uri": "https://localhost:8080/"
        },
        "id": "tFc4XMzcDcZp",
        "outputId": "7ad4c11d-7c3b-4991-c639-a9849178db7e"
      },
      "outputs": [
        {
          "output_type": "execute_result",
          "data": {
            "text/plain": [
              "Existing    32068\n",
              "New         12878\n",
              "0              54\n",
              "Name: Business, dtype: int64"
            ]
          },
          "metadata": {},
          "execution_count": 477
        }
      ],
      "source": [
        "df_test['Business'].value_counts()"
      ]
    },
    {
      "cell_type": "code",
      "execution_count": null,
      "metadata": {
        "id": "AcZT2i1T5fP5"
      },
      "outputs": [],
      "source": [
        "newVal = df_test['Business'].value_counts().index[0]"
      ]
    },
    {
      "cell_type": "code",
      "execution_count": null,
      "metadata": {
        "colab": {
          "base_uri": "https://localhost:8080/"
        },
        "id": "yQt-8Eas5omS",
        "outputId": "fb5e090b-c7c2-4b3f-d91b-9a7b35dcdf65"
      },
      "outputs": [
        {
          "output_type": "execute_result",
          "data": {
            "text/plain": [
              "'Existing'"
            ],
            "application/vnd.google.colaboratory.intrinsic+json": {
              "type": "string"
            }
          },
          "metadata": {},
          "execution_count": 479
        }
      ],
      "source": [
        "newVal"
      ]
    },
    {
      "cell_type": "code",
      "execution_count": null,
      "metadata": {
        "id": "GXpnxoqr3xNO"
      },
      "outputs": [],
      "source": [
        "df_test['Business'] = df_test['Business'].replace('0', newVal)"
      ]
    },
    {
      "cell_type": "code",
      "execution_count": null,
      "metadata": {
        "colab": {
          "base_uri": "https://localhost:8080/"
        },
        "id": "eQxNUEQ53xsL",
        "outputId": "8ef7923d-f7b6-4885-a081-ee6e38ef2781"
      },
      "outputs": [
        {
          "output_type": "execute_result",
          "data": {
            "text/plain": [
              "Existing    32122\n",
              "New         12878\n",
              "Name: Business, dtype: int64"
            ]
          },
          "metadata": {},
          "execution_count": 481
        }
      ],
      "source": [
        "df_test['Business'].value_counts()"
      ]
    },
    {
      "cell_type": "code",
      "execution_count": null,
      "metadata": {
        "id": "y6A5rmN7DjgP"
      },
      "outputs": [],
      "source": [
        "df_test['Low_Documentation_Loan'] = df_test['Low_Documentation_Loan'].replace('0', 'No')\n",
        "df_test['Low_Documentation_Loan'] = df_test['Low_Documentation_Loan'].replace('S', 'No')\n",
        "df_test['Low_Documentation_Loan'] = df_test['Low_Documentation_Loan'].replace('A', 'No')\n",
        "df_test['Low_Documentation_Loan'] = df_test['Low_Documentation_Loan'].replace('C', 'No')\n",
        "df_test['Low_Documentation_Loan'] = df_test['Low_Documentation_Loan'].replace('R', 'No')"
      ]
    },
    {
      "cell_type": "code",
      "execution_count": null,
      "metadata": {
        "colab": {
          "base_uri": "https://localhost:8080/"
        },
        "id": "wpMEoUVf73WD",
        "outputId": "289a855c-bba9-40e4-a6f8-50db34525156"
      },
      "outputs": [
        {
          "output_type": "execute_result",
          "data": {
            "text/plain": [
              "No     39783\n",
              "Yes     5217\n",
              "Name: Low_Documentation_Loan, dtype: int64"
            ]
          },
          "metadata": {},
          "execution_count": 483
        }
      ],
      "source": [
        "df_test['Low_Documentation_Loan'].value_counts()"
      ]
    },
    {
      "cell_type": "code",
      "execution_count": null,
      "metadata": {
        "id": "_kOcJWKGDtdM"
      },
      "outputs": [],
      "source": [
        "le= LabelEncoder()"
      ]
    },
    {
      "cell_type": "code",
      "execution_count": null,
      "metadata": {
        "colab": {
          "base_uri": "https://localhost:8080/"
        },
        "id": "17QBIaJ7DwuE",
        "outputId": "07a29f85-7861-4ff1-8b7e-045e84fae1de"
      },
      "outputs": [
        {
          "output_type": "execute_result",
          "data": {
            "text/plain": [
              "Existing    32122\n",
              "New         12878\n",
              "Name: Business, dtype: int64"
            ]
          },
          "metadata": {},
          "execution_count": 485
        }
      ],
      "source": [
        "df_test['Business'].value_counts()"
      ]
    },
    {
      "cell_type": "code",
      "execution_count": null,
      "metadata": {
        "colab": {
          "base_uri": "https://localhost:8080/"
        },
        "id": "mxidYB9RD3J7",
        "outputId": "1a0bfda8-a46a-4f7a-87d1-2be7c0736ad8"
      },
      "outputs": [
        {
          "output_type": "execute_result",
          "data": {
            "text/plain": [
              "0    32122\n",
              "1    12878\n",
              "Name: Business, dtype: int64"
            ]
          },
          "metadata": {},
          "execution_count": 486
        }
      ],
      "source": [
        "df_test['Business'] = le.fit_transform(df_test['Business'])\n",
        "df_test['Business'].value_counts()"
      ]
    },
    {
      "cell_type": "code",
      "execution_count": null,
      "metadata": {
        "colab": {
          "base_uri": "https://localhost:8080/"
        },
        "id": "xf4FUhO9D6M7",
        "outputId": "b649505b-833d-4306-ed4e-40110e5a4d2e"
      },
      "outputs": [
        {
          "output_type": "execute_result",
          "data": {
            "text/plain": [
              "0    39783\n",
              "1     5217\n",
              "Name: Low_Documentation_Loan, dtype: int64"
            ]
          },
          "metadata": {},
          "execution_count": 487
        }
      ],
      "source": [
        "df_test['Low_Documentation_Loan'] = le.fit_transform(df_test['Low_Documentation_Loan'])\n",
        "df_test['Low_Documentation_Loan'].value_counts()"
      ]
    },
    {
      "cell_type": "code",
      "execution_count": null,
      "metadata": {
        "id": "_Um5x-DUD_EM"
      },
      "outputs": [],
      "source": [
        "df_test = pd.get_dummies(data=df_test, columns=['Demography'])"
      ]
    },
    {
      "cell_type": "code",
      "execution_count": null,
      "metadata": {
        "colab": {
          "base_uri": "https://localhost:8080/"
        },
        "id": "CH2biV7HECtl",
        "outputId": "d32637ed-238e-45d1-ae08-1c0c208aabb9"
      },
      "outputs": [
        {
          "output_type": "execute_result",
          "data": {
            "text/plain": [
              "ID                          0\n",
              "Business                    0\n",
              "Demography_Undefined        0\n",
              "Demography_Rural            0\n",
              "Revolving_Credit_Line       0\n",
              "Name_Of_Bank                0\n",
              "Code_Franchise              0\n",
              "Commitment_Date             0\n",
              "Loan_Term                   0\n",
              "Gross_Amount_Disbursed      0\n",
              "Loan_Approved_Gross         0\n",
              "Classification_Code         0\n",
              "Count_Employees             0\n",
              "Gross_Amount_Balance        0\n",
              "Borrower_State              0\n",
              "Borrower_City               0\n",
              "ChargedOff_Amount           0\n",
              "State_Of_Bank               0\n",
              "Low_Documentation_Loan      0\n",
              "Guaranteed_Approved_Loan    0\n",
              "Year_Of_Commitment          0\n",
              "Jobs_Created                0\n",
              "Jobs_Reatained              0\n",
              "Demography_Urban            0\n",
              "dtype: int64"
            ]
          },
          "metadata": {},
          "execution_count": 489
        }
      ],
      "source": [
        "df_test.isnull().sum().sort_values(ascending=False)"
      ]
    },
    {
      "cell_type": "code",
      "execution_count": null,
      "metadata": {
        "colab": {
          "base_uri": "https://localhost:8080/"
        },
        "id": "ehXHkTsxEYug",
        "outputId": "32cc7820-743f-425b-b068-bf825af0727e"
      },
      "outputs": [
        {
          "output_type": "execute_result",
          "data": {
            "text/plain": [
              "0    34316\n",
              "1    10684\n",
              "Name: Revolving_Credit_Line, dtype: int64"
            ]
          },
          "metadata": {},
          "execution_count": 490
        }
      ],
      "source": [
        "df_test['Revolving_Credit_Line'] = np.where(df_test['Revolving_Credit_Line'] == 'No', '0',df_test['Revolving_Credit_Line'])\n",
        "df_test['Revolving_Credit_Line'] = np.where(df_test['Revolving_Credit_Line'] == 'Yes', '1',df_test['Revolving_Credit_Line'])\n",
        "\n",
        "df_test['Revolving_Credit_Line'].value_counts()"
      ]
    },
    {
      "cell_type": "code",
      "execution_count": null,
      "metadata": {
        "colab": {
          "base_uri": "https://localhost:8080/"
        },
        "id": "Em8iUdqBEdrW",
        "outputId": "cdabe095-0e86-4847-f4db-32b1266f2e8d"
      },
      "outputs": [
        {
          "output_type": "execute_result",
          "data": {
            "text/plain": [
              "TR    6603\n",
              "GJ    4686\n",
              "AS    3796\n",
              "JH    3123\n",
              "ML    2605\n",
              "MH    2412\n",
              "BR    2365\n",
              "AR    1967\n",
              "PB    1925\n",
              "OR    1571\n",
              "LD    1343\n",
              "AP    1307\n",
              "HP    1250\n",
              "JK    1087\n",
              "CH    1005\n",
              "KA     914\n",
              "KL     762\n",
              "UP     739\n",
              "CG     700\n",
              "HR     688\n",
              "GA     593\n",
              "WB     434\n",
              "RJ     425\n",
              "MP     407\n",
              "DL     378\n",
              "PY     330\n",
              "NL     280\n",
              "MZ     259\n",
              "DD     227\n",
              "DH     226\n",
              "SK     209\n",
              "UK     192\n",
              "AN     180\n",
              "MN      12\n",
              "Name: State_Of_Bank, dtype: int64"
            ]
          },
          "metadata": {},
          "execution_count": 491
        }
      ],
      "source": [
        "df_test['Revolving_Credit_Line'] = df_test['Revolving_Credit_Line'].astype(np.int64)\n",
        "df_test['Demography_Rural'] = df_test['Demography_Rural'].astype(np.int64)\n",
        "df_test['Demography_Undefined'] = df_test['Demography_Undefined'].astype(np.int64)\n",
        "df_test['Demography_Urban'] = df_test['Demography_Urban'].astype(np.int64)\n",
        "df_test['Business'] = df_test['Business'].astype(np.int64)\n",
        "df_test['Low_Documentation_Loan'] = df_test['Low_Documentation_Loan'].astype(np.int64)\n",
        "\n",
        "df_test['Commitment_Date'] = pd.to_datetime(df_test['Commitment_Date'], errors='coerce')\n",
        "\n",
        "df_test['Commitment_Year'] = df_test['Commitment_Date'].dt.year\n",
        "df_test['Commitment_Month'] = df_test['Commitment_Date'].dt.month\n",
        "df_test['Commitment_Day'] = df_test['Commitment_Date'].dt.day\n",
        "\n",
        "df_test = df_test.drop('Commitment_Date',axis=1)\n",
        "df_test = df_test.drop('Year_Of_Commitment',axis=1)\n",
        "\n",
        "df_test['State_Of_Bank'].value_counts()"
      ]
    },
    {
      "cell_type": "code",
      "execution_count": null,
      "metadata": {
        "id": "bi5vSZpgEnjN"
      },
      "outputs": [],
      "source": [
        "State_Of_Bank_cnt = df_test['State_Of_Bank'].value_counts().to_dict()\n",
        "df_test['State_Of_Bank'] = df_test['State_Of_Bank'].map(State_Of_Bank_cnt)\n",
        "Borrower_City_cnt = df_test['Borrower_City'].value_counts().to_dict()\n",
        "df_test['Borrower_City'] = df_test['Borrower_City'].map(Borrower_City_cnt)\n",
        "Borrower_State_cnt = df_test['Borrower_State'].value_counts().to_dict()\n",
        "df_test['Borrower_State'] = df_test['Borrower_State'].map(Borrower_State_cnt)\n",
        "Name_Of_Bank_cnt = df_test['Name_Of_Bank'].value_counts().to_dict()\n",
        "df_test['Name_Of_Bank'] = df_test['Name_Of_Bank'].map(Name_Of_Bank_cnt)"
      ]
    },
    {
      "cell_type": "code",
      "execution_count": null,
      "metadata": {
        "colab": {
          "base_uri": "https://localhost:8080/"
        },
        "id": "mCtqgnHSFARU",
        "outputId": "0c7f843e-e87d-43a9-e533-300b4e44d88b"
      },
      "outputs": [
        {
          "output_type": "execute_result",
          "data": {
            "text/plain": [
              "(45000, 25)"
            ]
          },
          "metadata": {},
          "execution_count": 493
        }
      ],
      "source": [
        "df_test.shape"
      ]
    },
    {
      "cell_type": "code",
      "execution_count": null,
      "metadata": {
        "colab": {
          "base_uri": "https://localhost:8080/"
        },
        "id": "rQRBaLMyFDV7",
        "outputId": "bb1a092d-5d16-4345-e2d9-06e10b70cabe"
      },
      "outputs": [
        {
          "output_type": "stream",
          "name": "stdout",
          "text": [
            "<class 'pandas.core.frame.DataFrame'>\n",
            "RangeIndex: 45000 entries, 0 to 44999\n",
            "Data columns (total 25 columns):\n",
            " #   Column                    Non-Null Count  Dtype  \n",
            "---  ------                    --------------  -----  \n",
            " 0   ID                        45000 non-null  int64  \n",
            " 1   Business                  45000 non-null  int64  \n",
            " 2   Jobs_Reatained            45000 non-null  int64  \n",
            " 3   Jobs_Created              45000 non-null  int64  \n",
            " 4   Guaranteed_Approved_Loan  45000 non-null  float64\n",
            " 5   Low_Documentation_Loan    45000 non-null  int64  \n",
            " 6   State_Of_Bank             45000 non-null  int64  \n",
            " 7   ChargedOff_Amount         45000 non-null  float64\n",
            " 8   Borrower_City             45000 non-null  int64  \n",
            " 9   Borrower_State            45000 non-null  int64  \n",
            " 10  Gross_Amount_Balance      45000 non-null  float64\n",
            " 11  Count_Employees           45000 non-null  int64  \n",
            " 12  Classification_Code       45000 non-null  int64  \n",
            " 13  Loan_Approved_Gross       45000 non-null  float64\n",
            " 14  Gross_Amount_Disbursed    45000 non-null  float64\n",
            " 15  Loan_Term                 45000 non-null  int64  \n",
            " 16  Code_Franchise            45000 non-null  int64  \n",
            " 17  Name_Of_Bank              45000 non-null  int64  \n",
            " 18  Revolving_Credit_Line     45000 non-null  int64  \n",
            " 19  Demography_Rural          45000 non-null  int64  \n",
            " 20  Demography_Undefined      45000 non-null  int64  \n",
            " 21  Demography_Urban          45000 non-null  int64  \n",
            " 22  Commitment_Year           45000 non-null  int64  \n",
            " 23  Commitment_Month          45000 non-null  int64  \n",
            " 24  Commitment_Day            45000 non-null  int64  \n",
            "dtypes: float64(5), int64(20)\n",
            "memory usage: 8.6 MB\n"
          ]
        }
      ],
      "source": [
        "df_test.info()"
      ]
    },
    {
      "cell_type": "code",
      "execution_count": null,
      "metadata": {
        "colab": {
          "base_uri": "https://localhost:8080/"
        },
        "id": "p3-cUG-AFP-R",
        "outputId": "c07bbbee-430b-4386-fca5-a1985f0cb05b"
      },
      "outputs": [
        {
          "output_type": "execute_result",
          "data": {
            "text/plain": [
              "(105000, 25)"
            ]
          },
          "metadata": {},
          "execution_count": 495
        }
      ],
      "source": [
        "df_train.shape"
      ]
    },
    {
      "cell_type": "markdown",
      "metadata": {
        "id": "J4oXxtGgF6d8"
      },
      "source": [
        "# Prepare training set and target variable"
      ]
    },
    {
      "cell_type": "code",
      "execution_count": null,
      "metadata": {
        "id": "KOKhAWdBFmrK"
      },
      "outputs": [],
      "source": [
        "# making copies of dataset\n",
        "df_train_cpy = df_train.copy()\n",
        "\n",
        "y_data = df_train_cpy.pop('Default')"
      ]
    },
    {
      "cell_type": "code",
      "execution_count": null,
      "metadata": {
        "colab": {
          "base_uri": "https://localhost:8080/"
        },
        "id": "UVeENnEkHHAO",
        "outputId": "9ced795f-2ae5-48d8-a72f-2709a50d4707"
      },
      "outputs": [
        {
          "output_type": "execute_result",
          "data": {
            "text/plain": [
              "(105000,)"
            ]
          },
          "metadata": {},
          "execution_count": 414
        }
      ],
      "source": [
        "y_data.shape"
      ]
    },
    {
      "cell_type": "code",
      "execution_count": null,
      "metadata": {
        "colab": {
          "base_uri": "https://localhost:8080/"
        },
        "id": "kXzT5isKHIy9",
        "outputId": "adbd4ff1-bf3a-42f9-e0ea-79ca417724ba"
      },
      "outputs": [
        {
          "output_type": "execute_result",
          "data": {
            "text/plain": [
              "(105000, 24)"
            ]
          },
          "metadata": {},
          "execution_count": 415
        }
      ],
      "source": [
        "df_train_cpy.shape"
      ]
    },
    {
      "cell_type": "code",
      "execution_count": null,
      "metadata": {
        "id": "xWhKJmmYHTtl"
      },
      "outputs": [],
      "source": [
        "X_data = df_train_cpy"
      ]
    },
    {
      "cell_type": "code",
      "execution_count": null,
      "metadata": {
        "id": "7jHLyrOzH90L"
      },
      "outputs": [],
      "source": [
        "X_train, X_test, y_train, y_test = train_test_split(X_data, y_data, test_size = 0.15, random_state = 42)"
      ]
    },
    {
      "cell_type": "code",
      "execution_count": null,
      "metadata": {
        "colab": {
          "base_uri": "https://localhost:8080/"
        },
        "id": "sPpeZDT9Ioda",
        "outputId": "ce33aedb-092f-4e2e-e2b9-ecad38ec7378"
      },
      "outputs": [
        {
          "output_type": "execute_result",
          "data": {
            "text/plain": [
              "(89250, 24)"
            ]
          },
          "metadata": {},
          "execution_count": 418
        }
      ],
      "source": [
        "X_train.shape"
      ]
    },
    {
      "cell_type": "code",
      "execution_count": null,
      "metadata": {
        "colab": {
          "base_uri": "https://localhost:8080/"
        },
        "id": "cRIF2UL0ItZD",
        "outputId": "56a8e563-062f-4812-b567-1a32725ae76f"
      },
      "outputs": [
        {
          "output_type": "execute_result",
          "data": {
            "text/plain": [
              "(89250,)"
            ]
          },
          "metadata": {},
          "execution_count": 419
        }
      ],
      "source": [
        "y_train.shape"
      ]
    },
    {
      "cell_type": "code",
      "execution_count": null,
      "metadata": {
        "colab": {
          "base_uri": "https://localhost:8080/"
        },
        "id": "6QGxG8LKIwlJ",
        "outputId": "17ec5307-75dc-41fa-abda-e378835886bc"
      },
      "outputs": [
        {
          "output_type": "execute_result",
          "data": {
            "text/plain": [
              "(15750, 24)"
            ]
          },
          "metadata": {},
          "execution_count": 420
        }
      ],
      "source": [
        "X_test.shape"
      ]
    },
    {
      "cell_type": "code",
      "execution_count": null,
      "metadata": {
        "colab": {
          "base_uri": "https://localhost:8080/"
        },
        "id": "a4oznGRsIz6G",
        "outputId": "64ad22ed-9d10-4c63-c9d3-3c7ae6fbfa26"
      },
      "outputs": [
        {
          "output_type": "execute_result",
          "data": {
            "text/plain": [
              "(15750,)"
            ]
          },
          "metadata": {},
          "execution_count": 421
        }
      ],
      "source": [
        "y_test.shape"
      ]
    },
    {
      "cell_type": "markdown",
      "metadata": {
        "id": "E4oK_voKJfvk"
      },
      "source": [
        "# ML models & Model evaluation"
      ]
    },
    {
      "cell_type": "code",
      "execution_count": null,
      "metadata": {
        "id": "PuUw9WbVI2T8"
      },
      "outputs": [],
      "source": [
        "from sklearn.metrics import confusion_matrix, roc_auc_score, accuracy_score, plot_confusion_matrix, classification_report\n",
        "from sklearn.metrics import precision_score, recall_score, precision_recall_curve,f1_score"
      ]
    },
    {
      "cell_type": "code",
      "execution_count": null,
      "metadata": {
        "id": "zXEDeVMcJpTd"
      },
      "outputs": [],
      "source": [
        "def model_func(model, X_train, y_train, X_test, y_test, verbose=True):\n",
        "    if verbose == False:\n",
        "        model.fit(X_train,y_train, verbose=0)\n",
        "    else:\n",
        "        model.fit(X_train,y_train)\n",
        "        \n",
        "    y_pred = model.predict(X_test)\n",
        "    \n",
        "    print(\"Precision: {:.4f}\".format(precision_score(y_test,y_pred)))\n",
        "    print(\"Recall: {:.4f}\".format(recall_score(y_test,y_pred)))\n",
        "    print(\"Accuracy Score: {:.4f}\".format(accuracy_score(y_test,y_pred)))\n",
        "    m_f1_score = f1_score(y_test,y_pred)\n",
        "    print(\"F-1 Score: {:.4f}\".format(f1_score(y_test,y_pred)))\n",
        "\n",
        "    roc_auc = roc_auc_score(y_test, y_pred)\n",
        "    print(\"ROC_AUC = {:.4f}\".format(roc_auc))\n",
        "    print(classification_report(y_test, y_pred, digits=4))\n",
        "    plot_confusion_matrix(model, X_test, y_test,cmap=plt.cm.Blues, normalize = 'all')\n",
        "    \n",
        "    return model, roc_auc, m_f1_score"
      ]
    },
    {
      "cell_type": "markdown",
      "metadata": {
        "id": "ss-A_2b1Jyil"
      },
      "source": [
        "## Logistic regression"
      ]
    },
    {
      "cell_type": "code",
      "execution_count": null,
      "metadata": {
        "colab": {
          "base_uri": "https://localhost:8080/",
          "height": 522
        },
        "id": "BRjq4ODjJsWc",
        "outputId": "bd968086-0d5e-471e-d9bd-627688adbc1c"
      },
      "outputs": [
        {
          "output_type": "stream",
          "name": "stdout",
          "text": [
            "Precision: 0.9858\n",
            "Recall: 0.9501\n",
            "Accuracy Score: 0.9823\n",
            "F-1 Score: 0.9676\n",
            "ROC_AUC = 0.9724\n",
            "              precision    recall  f1-score   support\n",
            "\n",
            "           0     0.9811    0.9947    0.9879     11381\n",
            "           1     0.9858    0.9501    0.9676      4369\n",
            "\n",
            "    accuracy                         0.9823     15750\n",
            "   macro avg     0.9834    0.9724    0.9777     15750\n",
            "weighted avg     0.9824    0.9823    0.9822     15750\n",
            "\n"
          ]
        },
        {
          "output_type": "display_data",
          "data": {
            "text/plain": [
              "<Figure size 432x288 with 2 Axes>"
            ],
            "image/png": "[encoded data removed]"
          },
          "metadata": {
            "needs_background": "light"
          }
        }
      ],
      "source": [
        "model_lr = LogisticRegression(random_state= 42)\n",
        "model_lr, roc_auc_lr, f1_score_lr = model_func(model_lr, X_train, y_train, X_test, y_test)"
      ]
    },
    {
      "cell_type": "markdown",
      "metadata": {
        "id": "7ZUfqPrVKOUZ"
      },
      "source": [
        "## Decision tree classifier"
      ]
    },
    {
      "cell_type": "code",
      "execution_count": null,
      "metadata": {
        "id": "7ExYNrGnJ9zJ"
      },
      "outputs": [],
      "source": [
        "model_dt = DecisionTreeClassifier(max_depth=4)"
      ]
    },
    {
      "cell_type": "code",
      "execution_count": null,
      "metadata": {
        "colab": {
          "base_uri": "https://localhost:8080/",
          "height": 522
        },
        "id": "FgYvutrYKSRH",
        "outputId": "ed600345-ae86-40ab-b223-5ff5f8e87cad"
      },
      "outputs": [
        {
          "output_type": "stream",
          "name": "stdout",
          "text": [
            "Precision: 0.9822\n",
            "Recall: 0.9970\n",
            "Accuracy Score: 0.9942\n",
            "F-1 Score: 0.9896\n",
            "ROC_AUC = 0.9950\n",
            "              precision    recall  f1-score   support\n",
            "\n",
            "           0     0.9989    0.9931    0.9959     11381\n",
            "           1     0.9822    0.9970    0.9896      4369\n",
            "\n",
            "    accuracy                         0.9942     15750\n",
            "   macro avg     0.9905    0.9950    0.9927     15750\n",
            "weighted avg     0.9942    0.9942    0.9942     15750\n",
            "\n"
          ]
        },
        {
          "output_type": "display_data",
          "data": {
            "text/plain": [
              "<Figure size 432x288 with 2 Axes>"
            ],
            "image/png": "[encoded data removed]"
          },
          "metadata": {
            "needs_background": "light"
          }
        }
      ],
      "source": [
        "model_dt, roc_auc_dt, f1_score_dt = model_func(model_dt, X_train, y_train, X_test, y_test)"
      ]
    },
    {
      "cell_type": "markdown",
      "metadata": {
        "id": "6CWfIs9EKj4k"
      },
      "source": [
        "## Random forest classifier"
      ]
    },
    {
      "cell_type": "code",
      "execution_count": null,
      "metadata": {
        "id": "8HJxqMqUKU9X"
      },
      "outputs": [],
      "source": [
        "model_rf = RandomForestClassifier(random_state=42)"
      ]
    },
    {
      "cell_type": "code",
      "execution_count": null,
      "metadata": {
        "colab": {
          "base_uri": "https://localhost:8080/",
          "height": 522
        },
        "id": "Uyb0XJh0Ksvd",
        "outputId": "ec884f5d-695c-4da9-b3c1-5cbd4a76955e"
      },
      "outputs": [
        {
          "output_type": "stream",
          "name": "stdout",
          "text": [
            "Precision: 0.9824\n",
            "Recall: 0.9968\n",
            "Accuracy Score: 0.9942\n",
            "F-1 Score: 0.9895\n",
            "ROC_AUC = 0.9950\n",
            "              precision    recall  f1-score   support\n",
            "\n",
            "           0     0.9988    0.9931    0.9959     11381\n",
            "           1     0.9824    0.9968    0.9895      4369\n",
            "\n",
            "    accuracy                         0.9942     15750\n",
            "   macro avg     0.9906    0.9950    0.9927     15750\n",
            "weighted avg     0.9942    0.9942    0.9942     15750\n",
            "\n"
          ]
        },
        {
          "output_type": "display_data",
          "data": {
            "text/plain": [
              "<Figure size 432x288 with 2 Axes>"
            ],
            "image/png": "[encoded data removed]"
          },
          "metadata": {
            "needs_background": "light"
          }
        }
      ],
      "source": [
        "model_rf, roc_auc_rf, f1_score_rf = model_func(model_rf, X_train, y_train, X_test, y_test)"
      ]
    },
    {
      "cell_type": "markdown",
      "metadata": {
        "id": "Non4SHxtLQsp"
      },
      "source": [
        "## Gradient boosting classifiers"
      ]
    },
    {
      "cell_type": "code",
      "execution_count": null,
      "metadata": {
        "id": "1ii-YYUhKvc3"
      },
      "outputs": [],
      "source": [
        "from xgboost import XGBClassifier"
      ]
    },
    {
      "cell_type": "code",
      "execution_count": null,
      "metadata": {
        "colab": {
          "base_uri": "https://localhost:8080/",
          "height": 522
        },
        "id": "8jEjJXOMLUO3",
        "outputId": "d2adf77d-94b7-4a62-9dfc-552489b63e4c"
      },
      "outputs": [
        {
          "output_type": "stream",
          "name": "stdout",
          "text": [
            "Precision: 0.9824\n",
            "Recall: 0.9968\n",
            "Accuracy Score: 0.9942\n",
            "F-1 Score: 0.9895\n",
            "ROC_AUC = 0.9950\n",
            "              precision    recall  f1-score   support\n",
            "\n",
            "           0     0.9988    0.9931    0.9959     11381\n",
            "           1     0.9824    0.9968    0.9895      4369\n",
            "\n",
            "    accuracy                         0.9942     15750\n",
            "   macro avg     0.9906    0.9950    0.9927     15750\n",
            "weighted avg     0.9942    0.9942    0.9942     15750\n",
            "\n"
          ]
        },
        {
          "output_type": "display_data",
          "data": {
            "text/plain": [
              "<Figure size 432x288 with 2 Axes>"
            ],
            "image/png": "[encoded data removed]"
          },
          "metadata": {
            "needs_background": "light"
          }
        }
      ],
      "source": [
        "model_xgbc = XGBClassifier()\n",
        "model_xgbc, roc_auc_xgbc, f1_score_xgbc = model_func(model_xgbc, X_train, y_train, X_test, y_test)"
      ]
    },
    {
      "cell_type": "markdown",
      "metadata": {
        "id": "RF_bWlZbNTXr"
      },
      "source": [
        "## SMOTE techniques"
      ]
    },
    {
      "cell_type": "code",
      "execution_count": null,
      "metadata": {
        "id": "qwCPato9LXoP"
      },
      "outputs": [],
      "source": [
        "from imblearn.over_sampling import ADASYN\n",
        "from collections import Counter\n",
        "from imblearn.combine import SMOTETomek, SMOTEENN"
      ]
    },
    {
      "cell_type": "markdown",
      "metadata": {
        "id": "XfWNC_SFRuFB"
      },
      "source": [
        "## ADASYN"
      ]
    },
    {
      "cell_type": "code",
      "execution_count": null,
      "metadata": {
        "colab": {
          "base_uri": "https://localhost:8080/"
        },
        "id": "zDZKYHE3Nwit",
        "outputId": "1498d796-80a0-482a-c59e-5f2ba66c5a1b"
      },
      "outputs": [
        {
          "output_type": "execute_result",
          "data": {
            "text/plain": [
              "Counter({0: 64515, 1: 24735})"
            ]
          },
          "metadata": {},
          "execution_count": 433
        }
      ],
      "source": [
        "Counter(y_train)"
      ]
    },
    {
      "cell_type": "code",
      "execution_count": null,
      "metadata": {
        "id": "akzL7X3xP-mP"
      },
      "outputs": [],
      "source": [
        "ada = ADASYN(random_state=42)"
      ]
    },
    {
      "cell_type": "code",
      "execution_count": null,
      "metadata": {
        "id": "0-ZkUdd-QikS"
      },
      "outputs": [],
      "source": [
        "#X_data_ada, y_data_ada = ada.fit_resample(X_data, y_data)\n",
        "X_train_ada, y_train_ada = ada.fit_resample(X_train, y_train)"
      ]
    },
    {
      "cell_type": "code",
      "execution_count": null,
      "metadata": {
        "id": "dBIMNYj7RHBE"
      },
      "outputs": [],
      "source": [
        "counts = Counter(y_train_ada)"
      ]
    },
    {
      "cell_type": "code",
      "execution_count": null,
      "metadata": {
        "colab": {
          "base_uri": "https://localhost:8080/"
        },
        "id": "5H5Xj-IEOEMw",
        "outputId": "c26a4e60-293d-45e2-b828-eb001caea32e"
      },
      "outputs": [
        {
          "output_type": "stream",
          "name": "stdout",
          "text": [
            "After resampling:  Counter({1: 64910, 0: 64515})\n"
          ]
        }
      ],
      "source": [
        "print('After resampling: ', counts)"
      ]
    },
    {
      "cell_type": "markdown",
      "metadata": {
        "id": "lEo7Ir6IR0pa"
      },
      "source": [
        "## SMOTETomek"
      ]
    },
    {
      "cell_type": "code",
      "execution_count": null,
      "metadata": {
        "id": "8GCuTR6PSXPs"
      },
      "outputs": [],
      "source": [
        "smotet = SMOTETomek(random_state=42)\n",
        "X_train_smotet, y_train_smotet = smotet.fit_resample(X_train, y_train)"
      ]
    },
    {
      "cell_type": "code",
      "execution_count": null,
      "metadata": {
        "id": "FFHpkZJ1S2_4"
      },
      "outputs": [],
      "source": [
        "counts2 = Counter(y_train_smotet)"
      ]
    },
    {
      "cell_type": "code",
      "execution_count": null,
      "metadata": {
        "colab": {
          "base_uri": "https://localhost:8080/"
        },
        "id": "Ito3dIcFTL3A",
        "outputId": "dd17d38a-63f4-4775-8ffe-eee77f4e99ca"
      },
      "outputs": [
        {
          "output_type": "stream",
          "name": "stdout",
          "text": [
            "After resampling:  Counter({0: 64352, 1: 64352})\n"
          ]
        }
      ],
      "source": [
        "print('After resampling: ', counts2)"
      ]
    },
    {
      "cell_type": "markdown",
      "metadata": {
        "id": "ubfth_uLTkUn"
      },
      "source": [
        "## SMOTEENN"
      ]
    },
    {
      "cell_type": "code",
      "execution_count": null,
      "metadata": {
        "id": "RrlfJq0zTOaV"
      },
      "outputs": [],
      "source": [
        "smenn = SMOTEENN(random_state=42)\n",
        "X_train_smenn, y_train_smenn = smenn.fit_resample(X_train, y_train)"
      ]
    },
    {
      "cell_type": "code",
      "execution_count": null,
      "metadata": {
        "id": "UIlz0i_KUAYO"
      },
      "outputs": [],
      "source": [
        "counts3 = Counter(y_train_smenn)"
      ]
    },
    {
      "cell_type": "code",
      "execution_count": null,
      "metadata": {
        "colab": {
          "base_uri": "https://localhost:8080/"
        },
        "id": "_cKJ-kEPXNQQ",
        "outputId": "5a659852-f88b-4df6-852b-069f04b2ed9f"
      },
      "outputs": [
        {
          "output_type": "stream",
          "name": "stdout",
          "text": [
            "After resampling:  Counter({0: 63585, 1: 63165})\n"
          ]
        }
      ],
      "source": [
        "print('After resampling: ', counts3)"
      ]
    },
    {
      "cell_type": "markdown",
      "metadata": {
        "id": "dc8-ZtpIYlC8"
      },
      "source": [
        "## Logistic regression with resampled data"
      ]
    },
    {
      "cell_type": "code",
      "execution_count": null,
      "metadata": {
        "id": "8kQNHoKPaM4S"
      },
      "outputs": [],
      "source": [
        "# X_train, X_test, y_train, y_test = train_test_split(X_data_ada, y_data_ada, test_size = 0.2, random_state = 42)"
      ]
    },
    {
      "cell_type": "code",
      "execution_count": null,
      "metadata": {
        "colab": {
          "base_uri": "https://localhost:8080/",
          "height": 522
        },
        "id": "ra4Usfm1YZcp",
        "outputId": "a3d12c8e-8dd9-44a8-d138-b171d3c011c4"
      },
      "outputs": [
        {
          "output_type": "stream",
          "name": "stdout",
          "text": [
            "Precision: 0.9825\n",
            "Recall: 0.9872\n",
            "Accuracy Score: 0.9916\n",
            "F-1 Score: 0.9848\n",
            "ROC_AUC = 0.9902\n",
            "              precision    recall  f1-score   support\n",
            "\n",
            "           0     0.9951    0.9932    0.9942     11381\n",
            "           1     0.9825    0.9872    0.9848      4369\n",
            "\n",
            "    accuracy                         0.9916     15750\n",
            "   macro avg     0.9888    0.9902    0.9895     15750\n",
            "weighted avg     0.9916    0.9916    0.9916     15750\n",
            "\n"
          ]
        },
        {
          "output_type": "display_data",
          "data": {
            "text/plain": [
              "<Figure size 432x288 with 2 Axes>"
            ],
            "image/png": "[encoded data removed]"
          },
          "metadata": {
            "needs_background": "light"
          }
        }
      ],
      "source": [
        "model_lr_ada = LogisticRegression(random_state= 42)\n",
        "model_lr_ada, roc_auc_lr_ada, f1_score_lr_ada = model_func(model_lr_ada, X_train_ada, y_train_ada, X_test, y_test)"
      ]
    },
    {
      "cell_type": "code",
      "execution_count": null,
      "metadata": {
        "id": "IetwhsqOZEhM"
      },
      "outputs": [],
      "source": [
        "# X_train, X_test, y_train, y_test = train_test_split(X_data_smotet, y_data_smotet, test_size = 0.2, random_state = 42)"
      ]
    },
    {
      "cell_type": "code",
      "execution_count": null,
      "metadata": {
        "colab": {
          "base_uri": "https://localhost:8080/",
          "height": 522
        },
        "id": "LhM-9fuqazIa",
        "outputId": "f752b075-b370-4a8e-d246-67b039685cae"
      },
      "outputs": [
        {
          "output_type": "stream",
          "name": "stdout",
          "text": [
            "Precision: 0.9836\n",
            "Recall: 0.9771\n",
            "Accuracy Score: 0.9891\n",
            "F-1 Score: 0.9804\n",
            "ROC_AUC = 0.9854\n",
            "              precision    recall  f1-score   support\n",
            "\n",
            "           0     0.9912    0.9938    0.9925     11381\n",
            "           1     0.9836    0.9771    0.9804      4369\n",
            "\n",
            "    accuracy                         0.9891     15750\n",
            "   macro avg     0.9874    0.9854    0.9864     15750\n",
            "weighted avg     0.9891    0.9891    0.9891     15750\n",
            "\n"
          ]
        },
        {
          "output_type": "display_data",
          "data": {
            "text/plain": [
              "<Figure size 432x288 with 2 Axes>"
            ],
            "image/png": "[encoded data removed]"
          },
          "metadata": {
            "needs_background": "light"
          }
        }
      ],
      "source": [
        "model_lr_smotet = LogisticRegression(random_state= 42)\n",
        "model_lr_smotet, roc_auc_lr_smotet, f1_score_lr_smotet = model_func(model_lr_smotet, X_train_smotet, y_train_smotet, X_test, y_test)"
      ]
    },
    {
      "cell_type": "code",
      "execution_count": null,
      "metadata": {
        "id": "XOcygALqa2bW"
      },
      "outputs": [],
      "source": [
        "# X_train, X_test, y_train, y_test = train_test_split(X_data_smenn, y_data_smenn, test_size = 0.2, random_state = 42)"
      ]
    },
    {
      "cell_type": "code",
      "execution_count": null,
      "metadata": {
        "colab": {
          "base_uri": "https://localhost:8080/",
          "height": 522
        },
        "id": "uG_QsPY7bu5y",
        "outputId": "05b7fd29-7546-44f4-b0f3-71d8b49f4db2"
      },
      "outputs": [
        {
          "output_type": "stream",
          "name": "stdout",
          "text": [
            "Precision: 0.9825\n",
            "Recall: 0.9897\n",
            "Accuracy Score: 0.9923\n",
            "F-1 Score: 0.9861\n",
            "ROC_AUC = 0.9915\n",
            "              precision    recall  f1-score   support\n",
            "\n",
            "           0     0.9960    0.9932    0.9946     11381\n",
            "           1     0.9825    0.9897    0.9861      4369\n",
            "\n",
            "    accuracy                         0.9923     15750\n",
            "   macro avg     0.9893    0.9915    0.9904     15750\n",
            "weighted avg     0.9923    0.9923    0.9923     15750\n",
            "\n"
          ]
        },
        {
          "output_type": "display_data",
          "data": {
            "text/plain": [
              "<Figure size 432x288 with 2 Axes>"
            ],
            "image/png": "[encoded data removed]"
          },
          "metadata": {
            "needs_background": "light"
          }
        }
      ],
      "source": [
        "model_lr_smenn = LogisticRegression(random_state= 42)\n",
        "model_lr_smenn, roc_auc_lr_smenn, f1_score_lr_smenn = model_func(model_lr_smenn, X_train_smenn, y_train_smenn, X_test, y_test)"
      ]
    },
    {
      "cell_type": "markdown",
      "metadata": {
        "id": "5lz47_zDcfFN"
      },
      "source": [
        "## Decision tree classifier with resampled data"
      ]
    },
    {
      "cell_type": "code",
      "execution_count": null,
      "metadata": {
        "id": "YGXWLe7_dcMY"
      },
      "outputs": [],
      "source": [
        "#X_train, X_test, y_train, y_test = train_test_split(X_data_ada, y_data_ada, test_size = 0.2, random_state = 42)"
      ]
    },
    {
      "cell_type": "code",
      "execution_count": null,
      "metadata": {
        "colab": {
          "base_uri": "https://localhost:8080/",
          "height": 522
        },
        "id": "9HURtIRrcNUb",
        "outputId": "f0b948cf-e39b-47d4-b78e-3138d754d6e5"
      },
      "outputs": [
        {
          "output_type": "stream",
          "name": "stdout",
          "text": [
            "Precision: 0.9785\n",
            "Recall: 0.9979\n",
            "Accuracy Score: 0.9933\n",
            "F-1 Score: 0.9881\n",
            "ROC_AUC = 0.9948\n",
            "              precision    recall  f1-score   support\n",
            "\n",
            "           0     0.9992    0.9916    0.9954     11381\n",
            "           1     0.9785    0.9979    0.9881      4369\n",
            "\n",
            "    accuracy                         0.9933     15750\n",
            "   macro avg     0.9888    0.9948    0.9917     15750\n",
            "weighted avg     0.9934    0.9933    0.9934     15750\n",
            "\n"
          ]
        },
        {
          "output_type": "display_data",
          "data": {
            "text/plain": [
              "<Figure size 432x288 with 2 Axes>"
            ],
            "image/png": "[encoded data removed]"
          },
          "metadata": {
            "needs_background": "light"
          }
        }
      ],
      "source": [
        "model_dt_ada = DecisionTreeClassifier(max_depth=4)\n",
        "model_dt_ada, roc_auc_dt_ada, f1_score_dt_ada = model_func(model_dt_ada, X_train_ada, y_train_ada, X_test, y_test)"
      ]
    },
    {
      "cell_type": "code",
      "execution_count": null,
      "metadata": {
        "id": "MHe2Qf4kd1TX"
      },
      "outputs": [],
      "source": [
        "# X_train, X_test, y_train, y_test = train_test_split(X_data_smotet, y_data_smotet, test_size = 0.2, random_state = 42)"
      ]
    },
    {
      "cell_type": "code",
      "execution_count": null,
      "metadata": {
        "colab": {
          "base_uri": "https://localhost:8080/",
          "height": 522
        },
        "id": "Po9ROIrGeImm",
        "outputId": "80e191a5-28d0-4628-8f07-a611cc3ded61"
      },
      "outputs": [
        {
          "output_type": "stream",
          "name": "stdout",
          "text": [
            "Precision: 0.9824\n",
            "Recall: 0.9970\n",
            "Accuracy Score: 0.9942\n",
            "F-1 Score: 0.9897\n",
            "ROC_AUC = 0.9951\n",
            "              precision    recall  f1-score   support\n",
            "\n",
            "           0     0.9989    0.9931    0.9960     11381\n",
            "           1     0.9824    0.9970    0.9897      4369\n",
            "\n",
            "    accuracy                         0.9942     15750\n",
            "   macro avg     0.9906    0.9951    0.9928     15750\n",
            "weighted avg     0.9943    0.9942    0.9942     15750\n",
            "\n"
          ]
        },
        {
          "output_type": "display_data",
          "data": {
            "text/plain": [
              "<Figure size 432x288 with 2 Axes>"
            ],
            "image/png": "[encoded data removed]"
          },
          "metadata": {
            "needs_background": "light"
          }
        }
      ],
      "source": [
        "model_dt_smotet = DecisionTreeClassifier(max_depth=4)\n",
        "model_dt_smotet, roc_auc_dt_smotet, f1_score_dt_smotet = model_func(model_dt_smotet, X_train_smotet, y_train_smotet, X_test, y_test)"
      ]
    },
    {
      "cell_type": "code",
      "execution_count": null,
      "metadata": {
        "id": "PTtsdAkserAr"
      },
      "outputs": [],
      "source": [
        "# X_train, X_test, y_train, y_test = train_test_split(X_data_smenn, y_data_smenn, test_size = 0.2, random_state = 42)"
      ]
    },
    {
      "cell_type": "code",
      "execution_count": null,
      "metadata": {
        "colab": {
          "base_uri": "https://localhost:8080/",
          "height": 522
        },
        "id": "7wovF593etxD",
        "outputId": "bf10a34b-b808-45c9-fde8-0d14f5f0652a"
      },
      "outputs": [
        {
          "output_type": "stream",
          "name": "stdout",
          "text": [
            "Precision: 0.9826\n",
            "Recall: 0.9957\n",
            "Accuracy Score: 0.9939\n",
            "F-1 Score: 0.9891\n",
            "ROC_AUC = 0.9944\n",
            "              precision    recall  f1-score   support\n",
            "\n",
            "           0     0.9983    0.9932    0.9958     11381\n",
            "           1     0.9826    0.9957    0.9891      4369\n",
            "\n",
            "    accuracy                         0.9939     15750\n",
            "   macro avg     0.9905    0.9944    0.9924     15750\n",
            "weighted avg     0.9940    0.9939    0.9939     15750\n",
            "\n"
          ]
        },
        {
          "output_type": "display_data",
          "data": {
            "text/plain": [
              "<Figure size 432x288 with 2 Axes>"
            ],
            "image/png": "[encoded data removed]"
          },
          "metadata": {
            "needs_background": "light"
          }
        }
      ],
      "source": [
        "model_dt_smenn = DecisionTreeClassifier(max_depth=4)\n",
        "model_dt_smenn, roc_auc_dt_smenn, f1_score_dt_smenn = model_func(model_dt_smenn, X_train_smenn, y_train_smenn, X_test, y_test)"
      ]
    },
    {
      "cell_type": "markdown",
      "metadata": {
        "id": "EzM1x7ihjHBj"
      },
      "source": [
        "## Random forest classifier with resampled data"
      ]
    },
    {
      "cell_type": "code",
      "execution_count": null,
      "metadata": {
        "id": "J07Cx1e7gJf7"
      },
      "outputs": [],
      "source": [
        "# X_train, X_test, y_train, y_test = train_test_split(X_data_ada, y_data_ada, test_size = 0.2, random_state = 42)"
      ]
    },
    {
      "cell_type": "code",
      "execution_count": null,
      "metadata": {
        "colab": {
          "base_uri": "https://localhost:8080/",
          "height": 522
        },
        "id": "XtzZHPCKfPlb",
        "outputId": "9433135e-d3bb-4d7e-a6f9-672f93b455bf"
      },
      "outputs": [
        {
          "output_type": "stream",
          "name": "stdout",
          "text": [
            "Precision: 0.9824\n",
            "Recall: 0.9977\n",
            "Accuracy Score: 0.9944\n",
            "F-1 Score: 0.9900\n",
            "ROC_AUC = 0.9954\n",
            "              precision    recall  f1-score   support\n",
            "\n",
            "           0     0.9991    0.9931    0.9961     11381\n",
            "           1     0.9824    0.9977    0.9900      4369\n",
            "\n",
            "    accuracy                         0.9944     15750\n",
            "   macro avg     0.9908    0.9954    0.9931     15750\n",
            "weighted avg     0.9945    0.9944    0.9944     15750\n",
            "\n"
          ]
        },
        {
          "output_type": "display_data",
          "data": {
            "text/plain": [
              "<Figure size 432x288 with 2 Axes>"
            ],
            "image/png": "[encoded data removed]"
          },
          "metadata": {
            "needs_background": "light"
          }
        }
      ],
      "source": [
        "model_rf_ada = RandomForestClassifier(random_state=42)\n",
        "model_rf_ada, roc_auc_rf_ada, f1_score_rf_ada = model_func(model_rf_ada, X_train_ada, y_train_ada, X_test, y_test)"
      ]
    },
    {
      "cell_type": "code",
      "execution_count": null,
      "metadata": {
        "id": "orAIW3-ZgfSN"
      },
      "outputs": [],
      "source": [
        "# X_train, X_test, y_train, y_test = train_test_split(X_data_smotet, y_data_smotet, test_size = 0.2, random_state = 42)"
      ]
    },
    {
      "cell_type": "code",
      "execution_count": null,
      "metadata": {
        "colab": {
          "base_uri": "https://localhost:8080/",
          "height": 522
        },
        "id": "UiflE6gxgtA5",
        "outputId": "e5072b18-6670-48f1-efdc-c877485274ff"
      },
      "outputs": [
        {
          "output_type": "stream",
          "name": "stdout",
          "text": [
            "Precision: 0.9824\n",
            "Recall: 0.9968\n",
            "Accuracy Score: 0.9942\n",
            "F-1 Score: 0.9895\n",
            "ROC_AUC = 0.9950\n",
            "              precision    recall  f1-score   support\n",
            "\n",
            "           0     0.9988    0.9931    0.9959     11381\n",
            "           1     0.9824    0.9968    0.9895      4369\n",
            "\n",
            "    accuracy                         0.9942     15750\n",
            "   macro avg     0.9906    0.9950    0.9927     15750\n",
            "weighted avg     0.9942    0.9942    0.9942     15750\n",
            "\n"
          ]
        },
        {
          "output_type": "display_data",
          "data": {
            "text/plain": [
              "<Figure size 432x288 with 2 Axes>"
            ],
            "image/png": "[encoded data removed]"
          },
          "metadata": {
            "needs_background": "light"
          }
        }
      ],
      "source": [
        "model_rf_smotet = RandomForestClassifier(random_state=42)\n",
        "model_rf_smotet, roc_auc_rf_smotet, f1_score_rf_smotet = model_func(model_rf_smotet, X_train_smotet, y_train_smotet, X_test, y_test)"
      ]
    },
    {
      "cell_type": "code",
      "execution_count": null,
      "metadata": {
        "id": "MwMFZJxXg2Zg"
      },
      "outputs": [],
      "source": [
        "# X_train, X_test, y_train, y_test = train_test_split(X_data_smenn, y_data_smenn, test_size = 0.2, random_state = 42)"
      ]
    },
    {
      "cell_type": "code",
      "execution_count": null,
      "metadata": {
        "colab": {
          "base_uri": "https://localhost:8080/",
          "height": 522
        },
        "id": "fdxLf5zQhLiy",
        "outputId": "ec3e0a74-662f-4d8f-8464-dc05c07ff4b3"
      },
      "outputs": [
        {
          "output_type": "stream",
          "name": "stdout",
          "text": [
            "Precision: 0.9826\n",
            "Recall: 0.9947\n",
            "Accuracy Score: 0.9937\n",
            "F-1 Score: 0.9886\n",
            "ROC_AUC = 0.9940\n",
            "              precision    recall  f1-score   support\n",
            "\n",
            "           0     0.9980    0.9932    0.9956     11381\n",
            "           1     0.9826    0.9947    0.9886      4369\n",
            "\n",
            "    accuracy                         0.9937     15750\n",
            "   macro avg     0.9903    0.9940    0.9921     15750\n",
            "weighted avg     0.9937    0.9937    0.9937     15750\n",
            "\n"
          ]
        },
        {
          "output_type": "display_data",
          "data": {
            "text/plain": [
              "<Figure size 432x288 with 2 Axes>"
            ],
            "image/png": "[encoded data removed]"
          },
          "metadata": {
            "needs_background": "light"
          }
        }
      ],
      "source": [
        "model_rf_smenn = RandomForestClassifier(random_state=42)\n",
        "model_rf_smenn, roc_auc_rf_smenn, f1_score_rf_smenn = model_func(model_rf_smenn, X_train_smenn, y_train_smenn, X_test, y_test)"
      ]
    },
    {
      "cell_type": "markdown",
      "metadata": {
        "id": "VPpBIR1VjbKE"
      },
      "source": [
        "## Gradient boosting classifier with resampled data"
      ]
    },
    {
      "cell_type": "code",
      "execution_count": null,
      "metadata": {
        "id": "kUGMusVmkK2Y"
      },
      "outputs": [],
      "source": [
        "# X_train, X_test, y_train, y_test = train_test_split(X_data_ada, y_data_ada, test_size = 0.2, random_state = 42)"
      ]
    },
    {
      "cell_type": "code",
      "execution_count": null,
      "metadata": {
        "colab": {
          "base_uri": "https://localhost:8080/",
          "height": 522
        },
        "id": "UgyFfeJ3i4Qw",
        "outputId": "034bf171-e929-40af-f0af-9753183c1f22"
      },
      "outputs": [
        {
          "output_type": "stream",
          "name": "stdout",
          "text": [
            "Precision: 0.9807\n",
            "Recall: 0.9979\n",
            "Accuracy Score: 0.9940\n",
            "F-1 Score: 0.9892\n",
            "ROC_AUC = 0.9952\n",
            "              precision    recall  f1-score   support\n",
            "\n",
            "           0     0.9992    0.9924    0.9958     11381\n",
            "           1     0.9807    0.9979    0.9892      4369\n",
            "\n",
            "    accuracy                         0.9940     15750\n",
            "   macro avg     0.9899    0.9952    0.9925     15750\n",
            "weighted avg     0.9941    0.9940    0.9940     15750\n",
            "\n"
          ]
        },
        {
          "output_type": "display_data",
          "data": {
            "text/plain": [
              "<Figure size 432x288 with 2 Axes>"
            ],
            "image/png": "[encoded data removed]"
          },
          "metadata": {
            "needs_background": "light"
          }
        }
      ],
      "source": [
        "model_xgbc_ada = XGBClassifier()\n",
        "model_xgbc_ada, roc_auc_xgbc_ada, f1_score_xgbc_ada = model_func(model_xgbc_ada, X_train_ada, y_train_ada, X_test, y_test)"
      ]
    },
    {
      "cell_type": "code",
      "execution_count": null,
      "metadata": {
        "id": "vDqLtHvnkWs3"
      },
      "outputs": [],
      "source": [
        "# X_train, X_test, y_train, y_test = train_test_split(X_data_smotet, y_data_smotet, test_size = 0.2, random_state = 42)"
      ]
    },
    {
      "cell_type": "code",
      "execution_count": null,
      "metadata": {
        "colab": {
          "base_uri": "https://localhost:8080/",
          "height": 522
        },
        "id": "78ERFUsckkqy",
        "outputId": "8d19dbda-dc4d-48f4-8de2-f61715df8c1f"
      },
      "outputs": [
        {
          "output_type": "stream",
          "name": "stdout",
          "text": [
            "Precision: 0.9824\n",
            "Recall: 0.9973\n",
            "Accuracy Score: 0.9943\n",
            "F-1 Score: 0.9898\n",
            "ROC_AUC = 0.9952\n",
            "              precision    recall  f1-score   support\n",
            "\n",
            "           0     0.9989    0.9931    0.9960     11381\n",
            "           1     0.9824    0.9973    0.9898      4369\n",
            "\n",
            "    accuracy                         0.9943     15750\n",
            "   macro avg     0.9907    0.9952    0.9929     15750\n",
            "weighted avg     0.9944    0.9943    0.9943     15750\n",
            "\n"
          ]
        },
        {
          "output_type": "display_data",
          "data": {
            "text/plain": [
              "<Figure size 432x288 with 2 Axes>"
            ],
            "image/png": "[encoded data removed]"
          },
          "metadata": {
            "needs_background": "light"
          }
        }
      ],
      "source": [
        "model_xgbc_smotet = XGBClassifier()\n",
        "model_xgbc_smotet, roc_auc_xgbc_smotet, f1_score_xgbc_smotet = model_func(model_xgbc_smotet, X_train_smotet, y_train_smotet, X_test, y_test)"
      ]
    },
    {
      "cell_type": "code",
      "execution_count": null,
      "metadata": {
        "id": "1IJS7s_Cl9xz"
      },
      "outputs": [],
      "source": [
        "# X_train, X_test, y_train, y_test = train_test_split(X_data_smenn, y_data_smenn, test_size = 0.2, random_state = 42)"
      ]
    },
    {
      "cell_type": "code",
      "execution_count": null,
      "metadata": {
        "colab": {
          "base_uri": "https://localhost:8080/",
          "height": 522
        },
        "id": "XmFs7IYQmObk",
        "outputId": "9ef6448e-d8da-46a4-d294-860b3cbe1694"
      },
      "outputs": [
        {
          "output_type": "stream",
          "name": "stdout",
          "text": [
            "Precision: 0.9826\n",
            "Recall: 0.9938\n",
            "Accuracy Score: 0.9934\n",
            "F-1 Score: 0.9882\n",
            "ROC_AUC = 0.9935\n",
            "              precision    recall  f1-score   support\n",
            "\n",
            "           0     0.9976    0.9932    0.9954     11381\n",
            "           1     0.9826    0.9938    0.9882      4369\n",
            "\n",
            "    accuracy                         0.9934     15750\n",
            "   macro avg     0.9901    0.9935    0.9918     15750\n",
            "weighted avg     0.9934    0.9934    0.9934     15750\n",
            "\n"
          ]
        },
        {
          "output_type": "display_data",
          "data": {
            "text/plain": [
              "<Figure size 432x288 with 2 Axes>"
            ],
            "image/png": "[encoded data removed]"
          },
          "metadata": {
            "needs_background": "light"
          }
        }
      ],
      "source": [
        "model_xgbc_smenn = XGBClassifier()\n",
        "model_xgbc_smenn, roc_auc_xgbc_smenn, f1_score_xgbc_smenn = model_func(model_xgbc_smenn, X_train_smenn, y_train_smenn, X_test, y_test)"
      ]
    },
    {
      "cell_type": "markdown",
      "metadata": {
        "id": "gUXB8TfUpLo7"
      },
      "source": [
        "# Best model"
      ]
    },
    {
      "cell_type": "code",
      "execution_count": null,
      "metadata": {
        "id": "53TuWhsDssZe"
      },
      "outputs": [],
      "source": [
        "df_test_cpy = df_test.copy()\n",
        "df_test_cpy_id = df_test.copy()\n",
        "\n",
        "test_id = df_test_cpy.pop('ID')"
      ]
    },
    {
      "cell_type": "code",
      "execution_count": null,
      "metadata": {
        "id": "IP3hifIammF6"
      },
      "outputs": [],
      "source": [
        "prediction = model_xgbc_smenn.predict(df_test)\n",
        "df_test_cpy['Default'] = prediction\n",
        "sample = df_test_cpy[['ID', 'Default']]\n",
        "sample.to_csv(\"loan_default_pred_xg.csv\")"
      ]
    },
    {
      "cell_type": "code",
      "execution_count": null,
      "metadata": {
        "colab": {
          "base_uri": "https://localhost:8080/",
          "height": 36
        },
        "id": "bZYgtHpQsdvE",
        "outputId": "1802da67-ad87-4717-eef8-2d93ce3c9116"
      },
      "outputs": [
        {
          "output_type": "execute_result",
          "data": {
            "text/plain": [
              "'/content'"
            ],
            "application/vnd.google.colaboratory.intrinsic+json": {
              "type": "string"
            }
          },
          "metadata": {},
          "execution_count": 312
        }
      ],
      "source": [
        "pwd"
      ]
    },
    {
      "cell_type": "code",
      "execution_count": null,
      "metadata": {
        "id": "C1gsg1IFuApn"
      },
      "outputs": [],
      "source": [
        "df_test_cpy = df_test_cpy.drop('Default',axis=1)\n",
        "prediction2 = model_dt_smenn.predict(df_test)\n",
        "df_test_cpy['Default'] = prediction2\n",
        "sample = df_test_cpy[['ID', 'Default']]\n",
        "sample.to_csv(\"loan_default_pred_dt.csv\")"
      ]
    },
    {
      "cell_type": "code",
      "source": [
        "#df_test_cpy = df_test.copy()\n",
        "#df_test_cpy = df_test_cpy.drop('Default',axis=1)\n",
        "prediction2 = model_rf_ada.predict(df_test_cpy)\n",
        "df_test_cpy_id['Default'] = prediction2\n",
        "sample = df_test_cpy_id[['ID', 'Default']]\n",
        "sample.to_csv(\"loan_default_pred_rf.csv\")"
      ],
      "metadata": {
        "id": "2ig03w1y4IDo"
      },
      "execution_count": null,
      "outputs": []
    },
    {
      "cell_type": "markdown",
      "metadata": {
        "id": "rhBKKI4B_U5D"
      },
      "source": [
        "## Neural network model"
      ]
    },
    {
      "cell_type": "code",
      "execution_count": null,
      "metadata": {
        "id": "klYGlwQ9vVZV"
      },
      "outputs": [],
      "source": [
        "# Split the features into Training Dataset, Validation Dataset, Test Dataset.\n",
        "\n",
        "X_train, X_test, y_train, y_test = train_test_split(X_data, y_data, test_size = 0.15, random_state = 42)"
      ]
    },
    {
      "cell_type": "code",
      "execution_count": null,
      "metadata": {
        "colab": {
          "base_uri": "https://localhost:8080/"
        },
        "id": "mrMgsvS8_5ik",
        "outputId": "f330a641-1153-460c-ab17-4859135d9df6"
      },
      "outputs": [
        {
          "output_type": "stream",
          "name": "stdout",
          "text": [
            "(61891, 24)\n",
            "(61891,)\n",
            "(10923, 24)\n",
            "(10923,)\n"
          ]
        }
      ],
      "source": [
        "print(X_train.shape)\n",
        "print(y_train.shape)\n",
        "print(X_test.shape)\n",
        "print(y_test.shape)"
      ]
    },
    {
      "cell_type": "code",
      "execution_count": null,
      "metadata": {
        "id": "OS0GQEMTAJjL"
      },
      "outputs": [],
      "source": [
        "ada = ADASYN()\n",
        "X_ada, y_ada = ada.fit_resample(X_train, y_train)"
      ]
    },
    {
      "cell_type": "code",
      "execution_count": null,
      "metadata": {
        "colab": {
          "base_uri": "https://localhost:8080/"
        },
        "id": "WkLdESQ8AjpL",
        "outputId": "3ae6a265-d417-48af-be2e-45c99ee5fd13"
      },
      "outputs": [
        {
          "output_type": "stream",
          "name": "stdout",
          "text": [
            "(88831, 24)\n",
            "(88831,)\n"
          ]
        }
      ],
      "source": [
        "print(X_ada.shape)\n",
        "print(y_ada.shape)"
      ]
    },
    {
      "cell_type": "code",
      "execution_count": null,
      "metadata": {
        "id": "xop7zAb3BJul"
      },
      "outputs": [],
      "source": [
        "from sklearn.preprocessing import StandardScaler, MinMaxScaler"
      ]
    },
    {
      "cell_type": "code",
      "execution_count": null,
      "metadata": {
        "id": "GTdNs5lkAs4d"
      },
      "outputs": [],
      "source": [
        "mm = MinMaxScaler()\n",
        "X_train_scaled = mm.fit_transform(X_ada)\n",
        "X_test_scaled = mm.transform(X_test)"
      ]
    },
    {
      "cell_type": "code",
      "execution_count": null,
      "metadata": {
        "colab": {
          "base_uri": "https://localhost:8080/"
        },
        "id": "yx01quToB5f7",
        "outputId": "95cfb05a-18ac-4882-dd01-22ebd81c2d37"
      },
      "outputs": [
        {
          "output_type": "execute_result",
          "data": {
            "text/plain": [
              "(24,)"
            ]
          },
          "metadata": {},
          "execution_count": 320
        }
      ],
      "source": [
        "(X_train_scaled.shape[1],)"
      ]
    },
    {
      "cell_type": "code",
      "execution_count": null,
      "metadata": {
        "colab": {
          "base_uri": "https://localhost:8080/",
          "height": 299
        },
        "id": "sEW1eExLCALd",
        "outputId": "92198439-5ed6-4a99-bacc-7e95eec0e62c"
      },
      "outputs": [
        {
          "output_type": "execute_result",
          "data": {
            "text/plain": [
              "    0         1    2         3    4         5         6         7         8   \\\n",
              "0  1.0  0.000341  0.0  0.007445  0.0  0.194128  0.000000  0.019608  0.150031   \n",
              "1  0.0  0.000227  0.0  0.001556  0.0  1.000000  0.000000  0.223942  0.536000   \n",
              "2  1.0  0.000114  0.0  0.003889  0.0  0.231875  0.000000  0.036120  0.536000   \n",
              "3  0.0  0.000114  0.0  0.002667  0.0  0.545956  0.008213  0.079463  0.754708   \n",
              "4  1.0  0.000227  0.0  0.001722  0.0  1.000000  0.002243  0.043344  0.136738   \n",
              "\n",
              "    9   ...        14        15        16   17   18   19   20        21  \\\n",
              "0  0.0  ...  0.191781  0.000000  0.082382  0.0  0.0  0.0  1.0  0.353535   \n",
              "1  0.0  ...  0.191781  0.000000  1.000000  1.0  0.0  0.0  1.0  0.353535   \n",
              "2  0.0  ...  0.136986  0.000000  0.075422  0.0  1.0  0.0  0.0  0.343434   \n",
              "3  0.0  ...  0.070015  0.000011  0.429484  1.0  0.0  0.0  1.0  0.313131   \n",
              "4  0.0  ...  0.059361  0.000011  1.000000  0.0  0.0  0.0  1.0  0.333333   \n",
              "\n",
              "         22        23  \n",
              "0  0.181818  0.733333  \n",
              "1  0.454545  0.266667  \n",
              "2  0.818182  0.733333  \n",
              "3  0.727273  0.966667  \n",
              "4  0.363636  0.500000  \n",
              "\n",
              "[5 rows x 24 columns]"
            ],
            "text/html": [
              "\n",
              "  <div id=\"df-0d2a00a4-c9b0-437c-86ff-f89f0d03bce5\">\n",
              "    <div class=\"colab-df-container\">\n",
              "      <div>\n",
              "<style scoped>\n",
              "    .dataframe tbody tr th:only-of-type {\n",
              "        vertical-align: middle;\n",
              "    }\n",
              "\n",
              "    .dataframe tbody tr th {\n",
              "        vertical-align: top;\n",
              "    }\n",
              "\n",
              "    .dataframe thead th {\n",
              "        text-align: right;\n",
              "    }\n",
              "</style>\n",
              "<table border=\"1\" class=\"dataframe\">\n",
              "  <thead>\n",
              "    <tr style=\"text-align: right;\">\n",
              "      <th></th>\n",
              "      <th>0</th>\n",
              "      <th>1</th>\n",
              "      <th>2</th>\n",
              "      <th>3</th>\n",
              "      <th>4</th>\n",
              "      <th>5</th>\n",
              "      <th>6</th>\n",
              "      <th>7</th>\n",
              "      <th>8</th>\n",
              "      <th>9</th>\n",
              "      <th>...</th>\n",
              "      <th>14</th>\n",
              "      <th>15</th>\n",
              "      <th>16</th>\n",
              "      <th>17</th>\n",
              "      <th>18</th>\n",
              "      <th>19</th>\n",
              "      <th>20</th>\n",
              "      <th>21</th>\n",
              "      <th>22</th>\n",
              "      <th>23</th>\n",
              "    </tr>\n",
              "  </thead>\n",
              "  <tbody>\n",
              "    <tr>\n",
              "      <th>0</th>\n",
              "      <td>1.0</td>\n",
              "      <td>0.000341</td>\n",
              "      <td>0.0</td>\n",
              "      <td>0.007445</td>\n",
              "      <td>0.0</td>\n",
              "      <td>0.194128</td>\n",
              "      <td>0.000000</td>\n",
              "      <td>0.019608</td>\n",
              "      <td>0.150031</td>\n",
              "      <td>0.0</td>\n",
              "      <td>...</td>\n",
              "      <td>0.191781</td>\n",
              "      <td>0.000000</td>\n",
              "      <td>0.082382</td>\n",
              "      <td>0.0</td>\n",
              "      <td>0.0</td>\n",
              "      <td>0.0</td>\n",
              "      <td>1.0</td>\n",
              "      <td>0.353535</td>\n",
              "      <td>0.181818</td>\n",
              "      <td>0.733333</td>\n",
              "    </tr>\n",
              "    <tr>\n",
              "      <th>1</th>\n",
              "      <td>0.0</td>\n",
              "      <td>0.000227</td>\n",
              "      <td>0.0</td>\n",
              "      <td>0.001556</td>\n",
              "      <td>0.0</td>\n",
              "      <td>1.000000</td>\n",
              "      <td>0.000000</td>\n",
              "      <td>0.223942</td>\n",
              "      <td>0.536000</td>\n",
              "      <td>0.0</td>\n",
              "      <td>...</td>\n",
              "      <td>0.191781</td>\n",
              "      <td>0.000000</td>\n",
              "      <td>1.000000</td>\n",
              "      <td>1.0</td>\n",
              "      <td>0.0</td>\n",
              "      <td>0.0</td>\n",
              "      <td>1.0</td>\n",
              "      <td>0.353535</td>\n",
              "      <td>0.454545</td>\n",
              "      <td>0.266667</td>\n",
              "    </tr>\n",
              "    <tr>\n",
              "      <th>2</th>\n",
              "      <td>1.0</td>\n",
              "      <td>0.000114</td>\n",
              "      <td>0.0</td>\n",
              "      <td>0.003889</td>\n",
              "      <td>0.0</td>\n",
              "      <td>0.231875</td>\n",
              "      <td>0.000000</td>\n",
              "      <td>0.036120</td>\n",
              "      <td>0.536000</td>\n",
              "      <td>0.0</td>\n",
              "      <td>...</td>\n",
              "      <td>0.136986</td>\n",
              "      <td>0.000000</td>\n",
              "      <td>0.075422</td>\n",
              "      <td>0.0</td>\n",
              "      <td>1.0</td>\n",
              "      <td>0.0</td>\n",
              "      <td>0.0</td>\n",
              "      <td>0.343434</td>\n",
              "      <td>0.818182</td>\n",
              "      <td>0.733333</td>\n",
              "    </tr>\n",
              "    <tr>\n",
              "      <th>3</th>\n",
              "      <td>0.0</td>\n",
              "      <td>0.000114</td>\n",
              "      <td>0.0</td>\n",
              "      <td>0.002667</td>\n",
              "      <td>0.0</td>\n",
              "      <td>0.545956</td>\n",
              "      <td>0.008213</td>\n",
              "      <td>0.079463</td>\n",
              "      <td>0.754708</td>\n",
              "      <td>0.0</td>\n",
              "      <td>...</td>\n",
              "      <td>0.070015</td>\n",
              "      <td>0.000011</td>\n",
              "      <td>0.429484</td>\n",
              "      <td>1.0</td>\n",
              "      <td>0.0</td>\n",
              "      <td>0.0</td>\n",
              "      <td>1.0</td>\n",
              "      <td>0.313131</td>\n",
              "      <td>0.727273</td>\n",
              "      <td>0.966667</td>\n",
              "    </tr>\n",
              "    <tr>\n",
              "      <th>4</th>\n",
              "      <td>1.0</td>\n",
              "      <td>0.000227</td>\n",
              "      <td>0.0</td>\n",
              "      <td>0.001722</td>\n",
              "      <td>0.0</td>\n",
              "      <td>1.000000</td>\n",
              "      <td>0.002243</td>\n",
              "      <td>0.043344</td>\n",
              "      <td>0.136738</td>\n",
              "      <td>0.0</td>\n",
              "      <td>...</td>\n",
              "      <td>0.059361</td>\n",
              "      <td>0.000011</td>\n",
              "      <td>1.000000</td>\n",
              "      <td>0.0</td>\n",
              "      <td>0.0</td>\n",
              "      <td>0.0</td>\n",
              "      <td>1.0</td>\n",
              "      <td>0.333333</td>\n",
              "      <td>0.363636</td>\n",
              "      <td>0.500000</td>\n",
              "    </tr>\n",
              "  </tbody>\n",
              "</table>\n",
              "<p>5 rows × 24 columns</p>\n",
              "</div>\n",
              "      <button class=\"colab-df-convert\" onclick=\"convertToInteractive('df-0d2a00a4-c9b0-437c-86ff-f89f0d03bce5')\"\n",
              "              title=\"Convert this dataframe to an interactive table.\"\n",
              "              style=\"display:none;\">\n",
              "        \n",
              "  <svg xmlns=\"http://www.w3.org/2000/svg\" height=\"24px\"viewBox=\"0 0 24 24\"\n",
              "       width=\"24px\">\n",
              "    <path d=\"M0 0h24v24H0V0z\" fill=\"none\"/>\n",
              "    <path d=\"M18.56 5.44l.94 2.06.94-2.06 2.06-.94-2.06-.94-.94-2.06-.94 2.06-2.06.94zm-11 1L8.5 8.5l.94-2.06 2.06-.94-2.06-.94L8.5 2.5l-.94 2.06-2.06.94zm10 10l.94 2.06.94-2.06 2.06-.94-2.06-.94-.94-2.06-.94 2.06-2.06.94z\"/><path d=\"M17.41 7.96l-1.37-1.37c-.4-.4-.92-.59-1.43-.59-.52 0-1.04.2-1.43.59L10.3 9.45l-7.72 7.72c-.78.78-.78 2.05 0 2.83L4 21.41c.39.39.9.59 1.41.59.51 0 1.02-.2 1.41-.59l7.78-7.78 2.81-2.81c.8-.78.8-2.07 0-2.86zM5.41 20L4 18.59l7.72-7.72 1.47 1.35L5.41 20z\"/>\n",
              "  </svg>\n",
              "      </button>\n",
              "      \n",
              "  <style>\n",
              "    .colab-df-container {\n",
              "      display:flex;\n",
              "      flex-wrap:wrap;\n",
              "      gap: 12px;\n",
              "    }\n",
              "\n",
              "    .colab-df-convert {\n",
              "      background-color: #E8F0FE;\n",
              "      border: none;\n",
              "      border-radius: 50%;\n",
              "      cursor: pointer;\n",
              "      display: none;\n",
              "      fill: #1967D2;\n",
              "      height: 32px;\n",
              "      padding: 0 0 0 0;\n",
              "      width: 32px;\n",
              "    }\n",
              "\n",
              "    .colab-df-convert:hover {\n",
              "      background-color: #E2EBFA;\n",
              "      box-shadow: 0px 1px 2px rgba(60, 64, 67, 0.3), 0px 1px 3px 1px rgba(60, 64, 67, 0.15);\n",
              "      fill: #174EA6;\n",
              "    }\n",
              "\n",
              "    [theme=dark] .colab-df-convert {\n",
              "      background-color: #3B4455;\n",
              "      fill: #D2E3FC;\n",
              "    }\n",
              "\n",
              "    [theme=dark] .colab-df-convert:hover {\n",
              "      background-color: #434B5C;\n",
              "      box-shadow: 0px 1px 3px 1px rgba(0, 0, 0, 0.15);\n",
              "      filter: drop-shadow(0px 1px 2px rgba(0, 0, 0, 0.3));\n",
              "      fill: #FFFFFF;\n",
              "    }\n",
              "  </style>\n",
              "\n",
              "      <script>\n",
              "        const buttonEl =\n",
              "          document.querySelector('#df-0d2a00a4-c9b0-437c-86ff-f89f0d03bce5 button.colab-df-convert');\n",
              "        buttonEl.style.display =\n",
              "          google.colab.kernel.accessAllowed ? 'block' : 'none';\n",
              "\n",
              "        async function convertToInteractive(key) {\n",
              "          const element = document.querySelector('#df-0d2a00a4-c9b0-437c-86ff-f89f0d03bce5');\n",
              "          const dataTable =\n",
              "            await google.colab.kernel.invokeFunction('convertToInteractive',\n",
              "                                                     [key], {});\n",
              "          if (!dataTable) return;\n",
              "\n",
              "          const docLinkHtml = 'Like what you see? Visit the ' +\n",
              "            '<a target=\"_blank\" href=https://colab.research.google.com/notebooks/data_table.ipynb>data table notebook</a>'\n",
              "            + ' to learn more about interactive tables.';\n",
              "          element.innerHTML = '';\n",
              "          dataTable['output_type'] = 'display_data';\n",
              "          await google.colab.output.renderOutput(dataTable, element);\n",
              "          const docLink = document.createElement('div');\n",
              "          docLink.innerHTML = docLinkHtml;\n",
              "          element.appendChild(docLink);\n",
              "        }\n",
              "      </script>\n",
              "    </div>\n",
              "  </div>\n",
              "  "
            ]
          },
          "metadata": {},
          "execution_count": 321
        }
      ],
      "source": [
        "X_train_scaled = pd.DataFrame(X_train_scaled)\n",
        "X_train_scaled.head()"
      ]
    },
    {
      "cell_type": "code",
      "execution_count": null,
      "metadata": {
        "id": "d-c2TYw2CNkc"
      },
      "outputs": [],
      "source": [
        "tf.random.set_seed(13)"
      ]
    },
    {
      "cell_type": "code",
      "execution_count": null,
      "metadata": {
        "id": "bpFVIvtrC9Xg"
      },
      "outputs": [],
      "source": [
        "from tensorflow.keras.layers import Dense, Dropout, Activation, Flatten, Conv2D, MaxPool2D,InputLayer\n",
        "from tensorflow.keras.callbacks import TensorBoard,ReduceLROnPlateau,EarlyStopping\n",
        "import tensorflow as tf\n",
        "from tensorflow.keras.optimizers import SGD"
      ]
    },
    {
      "cell_type": "code",
      "execution_count": null,
      "metadata": {
        "colab": {
          "base_uri": "https://localhost:8080/"
        },
        "id": "WQhTDFzzCttD",
        "outputId": "6660d2a6-0693-4342-b8aa-5ad76fb75da9"
      },
      "outputs": [
        {
          "output_type": "stream",
          "name": "stdout",
          "text": [
            "Model: \"sequential_2\"\n",
            "_________________________________________________________________\n",
            " Layer (type)                Output Shape              Param #   \n",
            "=================================================================\n",
            " dense_6 (Dense)             (None, 128)               3200      \n",
            "                                                                 \n",
            " dropout_4 (Dropout)         (None, 128)               0         \n",
            "                                                                 \n",
            " dense_7 (Dense)             (None, 64)                8256      \n",
            "                                                                 \n",
            " dropout_5 (Dropout)         (None, 64)                0         \n",
            "                                                                 \n",
            " dense_8 (Dense)             (None, 32)                2080      \n",
            "                                                                 \n",
            " dropout_6 (Dropout)         (None, 32)                0         \n",
            "                                                                 \n",
            " dense_9 (Dense)             (None, 1)                 33        \n",
            "                                                                 \n",
            "=================================================================\n",
            "Total params: 13,569\n",
            "Trainable params: 13,569\n",
            "Non-trainable params: 0\n",
            "_________________________________________________________________\n",
            "Epoch 1/60\n",
            "2776/2776 [==============================] - 6s 2ms/step - loss: 0.3425 - accuracy: 0.8470 - val_loss: 0.1620 - val_accuracy: 0.9403 - lr: 0.0010\n",
            "Epoch 2/60\n",
            "2776/2776 [==============================] - 5s 2ms/step - loss: 0.1762 - accuracy: 0.9342 - val_loss: 0.1040 - val_accuracy: 0.9639 - lr: 0.0010\n",
            "Epoch 3/60\n",
            "2776/2776 [==============================] - 5s 2ms/step - loss: 0.1408 - accuracy: 0.9496 - val_loss: 0.1395 - val_accuracy: 0.9488 - lr: 0.0010\n",
            "Epoch 4/60\n",
            "2776/2776 [==============================] - 5s 2ms/step - loss: 0.1207 - accuracy: 0.9578 - val_loss: 0.0726 - val_accuracy: 0.9789 - lr: 0.0010\n",
            "Epoch 5/60\n",
            "2776/2776 [==============================] - 5s 2ms/step - loss: 0.1066 - accuracy: 0.9629 - val_loss: 0.0964 - val_accuracy: 0.9678 - lr: 0.0010\n",
            "Epoch 6/60\n",
            "2776/2776 [==============================] - 5s 2ms/step - loss: 0.0963 - accuracy: 0.9662 - val_loss: 0.0607 - val_accuracy: 0.9842 - lr: 0.0010\n",
            "Epoch 7/60\n",
            "2776/2776 [==============================] - 6s 2ms/step - loss: 0.0911 - accuracy: 0.9694 - val_loss: 0.0489 - val_accuracy: 0.9873 - lr: 0.0010\n",
            "Epoch 8/60\n",
            "2776/2776 [==============================] - 5s 2ms/step - loss: 0.0851 - accuracy: 0.9709 - val_loss: 0.0732 - val_accuracy: 0.9769 - lr: 0.0010\n",
            "Epoch 9/60\n",
            "2776/2776 [==============================] - 5s 2ms/step - loss: 0.0814 - accuracy: 0.9719 - val_loss: 0.0481 - val_accuracy: 0.9882 - lr: 0.0010\n",
            "Epoch 10/60\n",
            "2776/2776 [==============================] - 5s 2ms/step - loss: 0.0787 - accuracy: 0.9729 - val_loss: 0.0499 - val_accuracy: 0.9886 - lr: 0.0010\n",
            "Epoch 11/60\n",
            "2776/2776 [==============================] - 5s 2ms/step - loss: 0.0737 - accuracy: 0.9754 - val_loss: 0.0457 - val_accuracy: 0.9899 - lr: 0.0010\n",
            "Epoch 12/60\n",
            "2776/2776 [==============================] - 5s 2ms/step - loss: 0.0724 - accuracy: 0.9756 - val_loss: 0.0519 - val_accuracy: 0.9872 - lr: 0.0010\n",
            "Epoch 13/60\n",
            "2776/2776 [==============================] - 5s 2ms/step - loss: 0.0710 - accuracy: 0.9761 - val_loss: 0.0506 - val_accuracy: 0.9873 - lr: 0.0010\n",
            "Epoch 14/60\n",
            "2776/2776 [==============================] - 5s 2ms/step - loss: 0.0558 - accuracy: 0.9821 - val_loss: 0.0428 - val_accuracy: 0.9899 - lr: 5.0000e-04\n",
            "Epoch 15/60\n",
            "2776/2776 [==============================] - 5s 2ms/step - loss: 0.0537 - accuracy: 0.9829 - val_loss: 0.0396 - val_accuracy: 0.9919 - lr: 5.0000e-04\n",
            "Epoch 16/60\n",
            "2776/2776 [==============================] - 5s 2ms/step - loss: 0.0529 - accuracy: 0.9836 - val_loss: 0.0413 - val_accuracy: 0.9916 - lr: 5.0000e-04\n",
            "Epoch 17/60\n",
            "2776/2776 [==============================] - 5s 2ms/step - loss: 0.0523 - accuracy: 0.9835 - val_loss: 0.0481 - val_accuracy: 0.9885 - lr: 5.0000e-04\n",
            "Epoch 18/60\n",
            "2776/2776 [==============================] - 5s 2ms/step - loss: 0.0501 - accuracy: 0.9846 - val_loss: 0.0411 - val_accuracy: 0.9912 - lr: 5.0000e-04\n",
            "Epoch 19/60\n",
            "2776/2776 [==============================] - 5s 2ms/step - loss: 0.0516 - accuracy: 0.9838 - val_loss: 0.0378 - val_accuracy: 0.9919 - lr: 5.0000e-04\n",
            "Epoch 20/60\n",
            "2776/2776 [==============================] - 5s 2ms/step - loss: 0.0492 - accuracy: 0.9847 - val_loss: 0.0428 - val_accuracy: 0.9904 - lr: 5.0000e-04\n",
            "Epoch 21/60\n",
            "2776/2776 [==============================] - 5s 2ms/step - loss: 0.0477 - accuracy: 0.9854 - val_loss: 0.0459 - val_accuracy: 0.9889 - lr: 5.0000e-04\n",
            "Epoch 22/60\n",
            "2776/2776 [==============================] - 5s 2ms/step - loss: 0.0484 - accuracy: 0.9848 - val_loss: 0.0405 - val_accuracy: 0.9917 - lr: 5.0000e-04\n",
            "Epoch 23/60\n",
            "2776/2776 [==============================] - 5s 2ms/step - loss: 0.0470 - accuracy: 0.9858 - val_loss: 0.0411 - val_accuracy: 0.9918 - lr: 5.0000e-04\n",
            "Epoch 24/60\n",
            "2776/2776 [==============================] - 5s 2ms/step - loss: 0.0461 - accuracy: 0.9861 - val_loss: 0.0491 - val_accuracy: 0.9875 - lr: 5.0000e-04\n",
            "Epoch 25/60\n",
            "2776/2776 [==============================] - 5s 2ms/step - loss: 0.0470 - accuracy: 0.9856 - val_loss: 0.0436 - val_accuracy: 0.9908 - lr: 5.0000e-04\n",
            "Epoch 26/60\n",
            "2776/2776 [==============================] - 5s 2ms/step - loss: 0.0450 - accuracy: 0.9863 - val_loss: 0.0436 - val_accuracy: 0.9920 - lr: 5.0000e-04\n",
            "Epoch 27/60\n",
            "2776/2776 [==============================] - 5s 2ms/step - loss: 0.0451 - accuracy: 0.9866 - val_loss: 0.0413 - val_accuracy: 0.9909 - lr: 5.0000e-04\n",
            "Epoch 28/60\n",
            "2776/2776 [==============================] - 5s 2ms/step - loss: 0.0447 - accuracy: 0.9866 - val_loss: 0.0475 - val_accuracy: 0.9885 - lr: 5.0000e-04\n",
            "Epoch 29/60\n",
            "2776/2776 [==============================] - 5s 2ms/step - loss: 0.0445 - accuracy: 0.9860 - val_loss: 0.0464 - val_accuracy: 0.9886 - lr: 5.0000e-04\n",
            "Epoch 30/60\n",
            "2776/2776 [==============================] - 5s 2ms/step - loss: 0.0448 - accuracy: 0.9866 - val_loss: 0.0411 - val_accuracy: 0.9906 - lr: 5.0000e-04\n",
            "Epoch 31/60\n",
            "2776/2776 [==============================] - 5s 2ms/step - loss: 0.0440 - accuracy: 0.9867 - val_loss: 0.0481 - val_accuracy: 0.9895 - lr: 5.0000e-04\n",
            "Epoch 32/60\n",
            "2776/2776 [==============================] - 5s 2ms/step - loss: 0.0461 - accuracy: 0.9861 - val_loss: 0.0398 - val_accuracy: 0.9917 - lr: 5.0000e-04\n",
            "Epoch 33/60\n",
            "2776/2776 [==============================] - 5s 2ms/step - loss: 0.0440 - accuracy: 0.9865 - val_loss: 0.0451 - val_accuracy: 0.9896 - lr: 5.0000e-04\n",
            "Epoch 34/60\n",
            "2776/2776 [==============================] - 5s 2ms/step - loss: 0.0445 - accuracy: 0.9868 - val_loss: 0.0452 - val_accuracy: 0.9895 - lr: 5.0000e-04\n",
            "Epoch 35/60\n",
            "2776/2776 [==============================] - 5s 2ms/step - loss: 0.0438 - accuracy: 0.9870 - val_loss: 0.0439 - val_accuracy: 0.9897 - lr: 5.0000e-04\n",
            "Epoch 36/60\n",
            "2776/2776 [==============================] - 5s 2ms/step - loss: 0.0430 - accuracy: 0.9877 - val_loss: 0.0383 - val_accuracy: 0.9921 - lr: 5.0000e-04\n",
            "Epoch 37/60\n",
            "2776/2776 [==============================] - 5s 2ms/step - loss: 0.0433 - accuracy: 0.9873 - val_loss: 0.0419 - val_accuracy: 0.9913 - lr: 5.0000e-04\n",
            "Epoch 38/60\n",
            "2776/2776 [==============================] - 5s 2ms/step - loss: 0.0430 - accuracy: 0.9872 - val_loss: 0.0441 - val_accuracy: 0.9899 - lr: 5.0000e-04\n",
            "Epoch 39/60\n",
            "2776/2776 [==============================] - 5s 2ms/step - loss: 0.0430 - accuracy: 0.9872 - val_loss: 0.0399 - val_accuracy: 0.9915 - lr: 5.0000e-04\n",
            "Epoch 40/60\n",
            "2776/2776 [==============================] - 5s 2ms/step - loss: 0.0441 - accuracy: 0.9868 - val_loss: 0.0424 - val_accuracy: 0.9915 - lr: 5.0000e-04\n",
            "Epoch 41/60\n",
            "2776/2776 [==============================] - 5s 2ms/step - loss: 0.0420 - accuracy: 0.9871 - val_loss: 0.0418 - val_accuracy: 0.9910 - lr: 5.0000e-04\n",
            "Epoch 42/60\n",
            "2776/2776 [==============================] - 5s 2ms/step - loss: 0.0413 - accuracy: 0.9873 - val_loss: 0.0438 - val_accuracy: 0.9904 - lr: 5.0000e-04\n",
            "Epoch 43/60\n",
            "2776/2776 [==============================] - 5s 2ms/step - loss: 0.0404 - accuracy: 0.9880 - val_loss: 0.0424 - val_accuracy: 0.9920 - lr: 5.0000e-04\n",
            "Epoch 44/60\n",
            "2776/2776 [==============================] - 5s 2ms/step - loss: 0.0403 - accuracy: 0.9882 - val_loss: 0.0427 - val_accuracy: 0.9912 - lr: 5.0000e-04\n",
            "Epoch 45/60\n",
            "2776/2776 [==============================] - 5s 2ms/step - loss: 0.0410 - accuracy: 0.9879 - val_loss: 0.0415 - val_accuracy: 0.9903 - lr: 5.0000e-04\n",
            "Epoch 46/60\n",
            "2776/2776 [==============================] - 5s 2ms/step - loss: 0.0404 - accuracy: 0.9878 - val_loss: 0.0398 - val_accuracy: 0.9912 - lr: 5.0000e-04\n",
            "Epoch 47/60\n",
            "2776/2776 [==============================] - 5s 2ms/step - loss: 0.0408 - accuracy: 0.9878 - val_loss: 0.0409 - val_accuracy: 0.9910 - lr: 5.0000e-04\n",
            "Epoch 48/60\n",
            "2776/2776 [==============================] - 5s 2ms/step - loss: 0.0399 - accuracy: 0.9880 - val_loss: 0.0413 - val_accuracy: 0.9908 - lr: 5.0000e-04\n",
            "Epoch 49/60\n",
            "2776/2776 [==============================] - 5s 2ms/step - loss: 0.0390 - accuracy: 0.9887 - val_loss: 0.0459 - val_accuracy: 0.9885 - lr: 5.0000e-04\n",
            "Epoch 50/60\n",
            "2776/2776 [==============================] - 5s 2ms/step - loss: 0.0406 - accuracy: 0.9880 - val_loss: 0.0411 - val_accuracy: 0.9916 - lr: 5.0000e-04\n",
            "Epoch 51/60\n",
            "2776/2776 [==============================] - 5s 2ms/step - loss: 0.0396 - accuracy: 0.9882 - val_loss: 0.0418 - val_accuracy: 0.9908 - lr: 5.0000e-04\n",
            "Epoch 52/60\n",
            "2776/2776 [==============================] - 5s 2ms/step - loss: 0.0396 - accuracy: 0.9889 - val_loss: 0.0453 - val_accuracy: 0.9888 - lr: 5.0000e-04\n",
            "Epoch 53/60\n",
            "2776/2776 [==============================] - 6s 2ms/step - loss: 0.0382 - accuracy: 0.9893 - val_loss: 0.0406 - val_accuracy: 0.9918 - lr: 5.0000e-04\n",
            "Epoch 54/60\n",
            "2776/2776 [==============================] - 5s 2ms/step - loss: 0.0396 - accuracy: 0.9883 - val_loss: 0.0410 - val_accuracy: 0.9916 - lr: 5.0000e-04\n",
            "Epoch 55/60\n",
            "2776/2776 [==============================] - 5s 2ms/step - loss: 0.0391 - accuracy: 0.9884 - val_loss: 0.0446 - val_accuracy: 0.9890 - lr: 5.0000e-04\n",
            "Epoch 56/60\n",
            "2776/2776 [==============================] - 5s 2ms/step - loss: 0.0393 - accuracy: 0.9883 - val_loss: 0.0407 - val_accuracy: 0.9921 - lr: 5.0000e-04\n",
            "Epoch 57/60\n",
            "2776/2776 [==============================] - 5s 2ms/step - loss: 0.0388 - accuracy: 0.9886 - val_loss: 0.0440 - val_accuracy: 0.9910 - lr: 5.0000e-04\n",
            "Epoch 58/60\n",
            "2776/2776 [==============================] - 5s 2ms/step - loss: 0.0383 - accuracy: 0.9888 - val_loss: 0.0412 - val_accuracy: 0.9909 - lr: 5.0000e-04\n",
            "Epoch 59/60\n",
            "2776/2776 [==============================] - 5s 2ms/step - loss: 0.0373 - accuracy: 0.9891 - val_loss: 0.0441 - val_accuracy: 0.9919 - lr: 5.0000e-04\n",
            "Epoch 60/60\n",
            "2776/2776 [==============================] - 5s 2ms/step - loss: 0.0387 - accuracy: 0.9886 - val_loss: 0.0461 - val_accuracy: 0.9897 - lr: 5.0000e-04\n",
            "342/342 [==============================] - 0s 1ms/step - loss: 0.0461 - accuracy: 0.9897\n",
            "loss=0.04613960534334183, acc=0.9897463917732239\n"
          ]
        }
      ],
      "source": [
        "input_shape=(X_train_scaled.shape[1],)\n",
        "\n",
        "model = tf.keras.Sequential(\n",
        "      [Dense(128, activation=\"relu\",input_shape = input_shape),\n",
        "       Dropout(0.2),\n",
        "       Dense(64, activation=\"relu\"),\n",
        "       Dropout(0.2),\n",
        "       Dense(32, activation=\"relu\"),\n",
        "       Dropout(0.2),\n",
        "       Dense(1, activation=\"sigmoid\"),\n",
        "      ]\n",
        "  )\n",
        "model.summary()\n",
        "reduce_lr = ReduceLROnPlateau(monitor='val_loss', factor=0.05, patience=2, min_lr=0.0005)\n",
        "model.compile(loss='binary_crossentropy', optimizer='adam', metrics=['accuracy'])\n",
        "history = model.fit(X_train_scaled, y_ada,\n",
        "        epochs=60,\n",
        "        validation_data=(X_test_scaled, y_test),\n",
        "        callbacks=[reduce_lr],\n",
        "        shuffle=True\n",
        "         )\n",
        "score = model.evaluate(X_test_scaled, y_test)\n",
        "print('loss={}, acc={}'.format(score[0],score[1]))\n"
      ]
    },
    {
      "cell_type": "code",
      "execution_count": null,
      "metadata": {
        "id": "yl7UNJ1aOHv3"
      },
      "outputs": [],
      "source": [
        "X_test_main = df_test\n",
        "X_test_main_scaled = mm.transform(X_test_main)"
      ]
    },
    {
      "cell_type": "code",
      "execution_count": null,
      "metadata": {
        "colab": {
          "base_uri": "https://localhost:8080/",
          "height": 363
        },
        "id": "HHL8lIg7D_kf",
        "outputId": "e9d3af8f-cf1c-4b9b-8650-1f627bf0ad5e"
      },
      "outputs": [
        {
          "output_type": "execute_result",
          "data": {
            "text/plain": [
              "        loss  accuracy  val_loss  val_accuracy      lr  epoch\n",
              "35  0.043471  0.986795  0.050111      0.987000  0.0005     35\n",
              "36  0.042288  0.987189  0.044411      0.989563  0.0005     36\n",
              "37  0.043226  0.986435  0.044147      0.990662  0.0005     37\n",
              "38  0.042809  0.987020  0.046809      0.988739  0.0005     38\n",
              "39  0.042089  0.987122  0.043368      0.990845  0.0005     39\n",
              "40  0.042276  0.987414  0.049668      0.987641  0.0005     40\n",
              "41  0.041708  0.987223  0.042430      0.991394  0.0005     41\n",
              "42  0.041736  0.987516  0.044309      0.991028  0.0005     42\n",
              "43  0.040897  0.987673  0.047169      0.989289  0.0005     43\n",
              "44  0.040893  0.987808  0.042152      0.991486  0.0005     44"
            ],
            "text/html": [
              "\n",
              "  <div id=\"df-4947845a-f721-4ad4-bbff-d52301a4162f\">\n",
              "    <div class=\"colab-df-container\">\n",
              "      <div>\n",
              "<style scoped>\n",
              "    .dataframe tbody tr th:only-of-type {\n",
              "        vertical-align: middle;\n",
              "    }\n",
              "\n",
              "    .dataframe tbody tr th {\n",
              "        vertical-align: top;\n",
              "    }\n",
              "\n",
              "    .dataframe thead th {\n",
              "        text-align: right;\n",
              "    }\n",
              "</style>\n",
              "<table border=\"1\" class=\"dataframe\">\n",
              "  <thead>\n",
              "    <tr style=\"text-align: right;\">\n",
              "      <th></th>\n",
              "      <th>loss</th>\n",
              "      <th>accuracy</th>\n",
              "      <th>val_loss</th>\n",
              "      <th>val_accuracy</th>\n",
              "      <th>lr</th>\n",
              "      <th>epoch</th>\n",
              "    </tr>\n",
              "  </thead>\n",
              "  <tbody>\n",
              "    <tr>\n",
              "      <th>35</th>\n",
              "      <td>0.043471</td>\n",
              "      <td>0.986795</td>\n",
              "      <td>0.050111</td>\n",
              "      <td>0.987000</td>\n",
              "      <td>0.0005</td>\n",
              "      <td>35</td>\n",
              "    </tr>\n",
              "    <tr>\n",
              "      <th>36</th>\n",
              "      <td>0.042288</td>\n",
              "      <td>0.987189</td>\n",
              "      <td>0.044411</td>\n",
              "      <td>0.989563</td>\n",
              "      <td>0.0005</td>\n",
              "      <td>36</td>\n",
              "    </tr>\n",
              "    <tr>\n",
              "      <th>37</th>\n",
              "      <td>0.043226</td>\n",
              "      <td>0.986435</td>\n",
              "      <td>0.044147</td>\n",
              "      <td>0.990662</td>\n",
              "      <td>0.0005</td>\n",
              "      <td>37</td>\n",
              "    </tr>\n",
              "    <tr>\n",
              "      <th>38</th>\n",
              "      <td>0.042809</td>\n",
              "      <td>0.987020</td>\n",
              "      <td>0.046809</td>\n",
              "      <td>0.988739</td>\n",
              "      <td>0.0005</td>\n",
              "      <td>38</td>\n",
              "    </tr>\n",
              "    <tr>\n",
              "      <th>39</th>\n",
              "      <td>0.042089</td>\n",
              "      <td>0.987122</td>\n",
              "      <td>0.043368</td>\n",
              "      <td>0.990845</td>\n",
              "      <td>0.0005</td>\n",
              "      <td>39</td>\n",
              "    </tr>\n",
              "    <tr>\n",
              "      <th>40</th>\n",
              "      <td>0.042276</td>\n",
              "      <td>0.987414</td>\n",
              "      <td>0.049668</td>\n",
              "      <td>0.987641</td>\n",
              "      <td>0.0005</td>\n",
              "      <td>40</td>\n",
              "    </tr>\n",
              "    <tr>\n",
              "      <th>41</th>\n",
              "      <td>0.041708</td>\n",
              "      <td>0.987223</td>\n",
              "      <td>0.042430</td>\n",
              "      <td>0.991394</td>\n",
              "      <td>0.0005</td>\n",
              "      <td>41</td>\n",
              "    </tr>\n",
              "    <tr>\n",
              "      <th>42</th>\n",
              "      <td>0.041736</td>\n",
              "      <td>0.987516</td>\n",
              "      <td>0.044309</td>\n",
              "      <td>0.991028</td>\n",
              "      <td>0.0005</td>\n",
              "      <td>42</td>\n",
              "    </tr>\n",
              "    <tr>\n",
              "      <th>43</th>\n",
              "      <td>0.040897</td>\n",
              "      <td>0.987673</td>\n",
              "      <td>0.047169</td>\n",
              "      <td>0.989289</td>\n",
              "      <td>0.0005</td>\n",
              "      <td>43</td>\n",
              "    </tr>\n",
              "    <tr>\n",
              "      <th>44</th>\n",
              "      <td>0.040893</td>\n",
              "      <td>0.987808</td>\n",
              "      <td>0.042152</td>\n",
              "      <td>0.991486</td>\n",
              "      <td>0.0005</td>\n",
              "      <td>44</td>\n",
              "    </tr>\n",
              "  </tbody>\n",
              "</table>\n",
              "</div>\n",
              "      <button class=\"colab-df-convert\" onclick=\"convertToInteractive('df-4947845a-f721-4ad4-bbff-d52301a4162f')\"\n",
              "              title=\"Convert this dataframe to an interactive table.\"\n",
              "              style=\"display:none;\">\n",
              "        \n",
              "  <svg xmlns=\"http://www.w3.org/2000/svg\" height=\"24px\"viewBox=\"0 0 24 24\"\n",
              "       width=\"24px\">\n",
              "    <path d=\"M0 0h24v24H0V0z\" fill=\"none\"/>\n",
              "    <path d=\"M18.56 5.44l.94 2.06.94-2.06 2.06-.94-2.06-.94-.94-2.06-.94 2.06-2.06.94zm-11 1L8.5 8.5l.94-2.06 2.06-.94-2.06-.94L8.5 2.5l-.94 2.06-2.06.94zm10 10l.94 2.06.94-2.06 2.06-.94-2.06-.94-.94-2.06-.94 2.06-2.06.94z\"/><path d=\"M17.41 7.96l-1.37-1.37c-.4-.4-.92-.59-1.43-.59-.52 0-1.04.2-1.43.59L10.3 9.45l-7.72 7.72c-.78.78-.78 2.05 0 2.83L4 21.41c.39.39.9.59 1.41.59.51 0 1.02-.2 1.41-.59l7.78-7.78 2.81-2.81c.8-.78.8-2.07 0-2.86zM5.41 20L4 18.59l7.72-7.72 1.47 1.35L5.41 20z\"/>\n",
              "  </svg>\n",
              "      </button>\n",
              "      \n",
              "  <style>\n",
              "    .colab-df-container {\n",
              "      display:flex;\n",
              "      flex-wrap:wrap;\n",
              "      gap: 12px;\n",
              "    }\n",
              "\n",
              "    .colab-df-convert {\n",
              "      background-color: #E8F0FE;\n",
              "      border: none;\n",
              "      border-radius: 50%;\n",
              "      cursor: pointer;\n",
              "      display: none;\n",
              "      fill: #1967D2;\n",
              "      height: 32px;\n",
              "      padding: 0 0 0 0;\n",
              "      width: 32px;\n",
              "    }\n",
              "\n",
              "    .colab-df-convert:hover {\n",
              "      background-color: #E2EBFA;\n",
              "      box-shadow: 0px 1px 2px rgba(60, 64, 67, 0.3), 0px 1px 3px 1px rgba(60, 64, 67, 0.15);\n",
              "      fill: #174EA6;\n",
              "    }\n",
              "\n",
              "    [theme=dark] .colab-df-convert {\n",
              "      background-color: #3B4455;\n",
              "      fill: #D2E3FC;\n",
              "    }\n",
              "\n",
              "    [theme=dark] .colab-df-convert:hover {\n",
              "      background-color: #434B5C;\n",
              "      box-shadow: 0px 1px 3px 1px rgba(0, 0, 0, 0.15);\n",
              "      filter: drop-shadow(0px 1px 2px rgba(0, 0, 0, 0.3));\n",
              "      fill: #FFFFFF;\n",
              "    }\n",
              "  </style>\n",
              "\n",
              "      <script>\n",
              "        const buttonEl =\n",
              "          document.querySelector('#df-4947845a-f721-4ad4-bbff-d52301a4162f button.colab-df-convert');\n",
              "        buttonEl.style.display =\n",
              "          google.colab.kernel.accessAllowed ? 'block' : 'none';\n",
              "\n",
              "        async function convertToInteractive(key) {\n",
              "          const element = document.querySelector('#df-4947845a-f721-4ad4-bbff-d52301a4162f');\n",
              "          const dataTable =\n",
              "            await google.colab.kernel.invokeFunction('convertToInteractive',\n",
              "                                                     [key], {});\n",
              "          if (!dataTable) return;\n",
              "\n",
              "          const docLinkHtml = 'Like what you see? Visit the ' +\n",
              "            '<a target=\"_blank\" href=https://colab.research.google.com/notebooks/data_table.ipynb>data table notebook</a>'\n",
              "            + ' to learn more about interactive tables.';\n",
              "          element.innerHTML = '';\n",
              "          dataTable['output_type'] = 'display_data';\n",
              "          await google.colab.output.renderOutput(dataTable, element);\n",
              "          const docLink = document.createElement('div');\n",
              "          docLink.innerHTML = docLinkHtml;\n",
              "          element.appendChild(docLink);\n",
              "        }\n",
              "      </script>\n",
              "    </div>\n",
              "  </div>\n",
              "  "
            ]
          },
          "metadata": {},
          "execution_count": 326
        }
      ],
      "source": [
        "hist = pd.DataFrame(history.history)\n",
        "hist['epoch'] = history.epoch\n",
        "hist.tail(10)"
      ]
    },
    {
      "cell_type": "code",
      "execution_count": null,
      "metadata": {
        "colab": {
          "base_uri": "https://localhost:8080/",
          "height": 527
        },
        "id": "lBvfSE1FGB90",
        "outputId": "1fe45c67-26c8-435d-bc8b-0587a50d1680"
      },
      "outputs": [
        {
          "output_type": "display_data",
          "data": {
            "text/plain": [
              "<Figure size 1080x576 with 1 Axes>"
            ],
            "image/png": "[encoded data removed]"
          },
          "metadata": {
            "needs_background": "light"
          }
        }
      ],
      "source": [
        "plt.figure(figsize=(15,8))\n",
        "plt.plot(history.history['accuracy'], color='y')\n",
        "plt.plot(history.history['val_accuracy'], color=(0.2, 0.4, 0.6, 0.6))\n",
        "plt.title('Keras Model Accurancy',size=20)\n",
        "plt.ylabel('Accurancy',size=20)\n",
        "plt.xlabel('Epoch',size=20)\n",
        "plt.grid(True,axis='y', color='w', linestyle='-', linewidth=1)\n",
        "plt.gca().patch.set_facecolor('0.8')\n",
        "plt.legend(['Train', 'Cross Validation'],fontsize='x-large', loc='lower right')\n",
        "plt.show()\n"
      ]
    },
    {
      "cell_type": "code",
      "execution_count": null,
      "metadata": {
        "colab": {
          "base_uri": "https://localhost:8080/",
          "height": 527
        },
        "id": "IDo2QUnfGbm2",
        "outputId": "14673004-6b6a-41fa-c051-a9c0265d7181"
      },
      "outputs": [
        {
          "output_type": "display_data",
          "data": {
            "text/plain": [
              "<Figure size 1080x576 with 1 Axes>"
            ],
            "image/png": "[encoded data removed]"
          },
          "metadata": {
            "needs_background": "light"
          }
        }
      ],
      "source": [
        "plt.figure(figsize=(15,8))\n",
        "plt.plot(history.history['loss'], color='red')\n",
        "plt.plot(history.history['val_loss'], color=(0.2, 0.4, 0.6, 0.6))\n",
        "plt.title('Keras Model Loss',size=20)\n",
        "plt.ylabel('Loss',size=20)\n",
        "plt.xlabel('Epoch',size=20)\n",
        "plt.grid(True,axis='y', color='w', linestyle='-', linewidth=1)\n",
        "plt.gca().patch.set_facecolor('0.8')\n",
        "plt.legend(['Train', 'Cross Validation'],fontsize='x-large', loc='upper right')\n",
        "plt.show()"
      ]
    },
    {
      "cell_type": "code",
      "source": [
        "X_test_main_scaled.shape"
      ],
      "metadata": {
        "colab": {
          "base_uri": "https://localhost:8080/"
        },
        "id": "nkbA4NepY168",
        "outputId": "c8df6618-fb1c-4aac-c94b-f763384f07f3"
      },
      "execution_count": null,
      "outputs": [
        {
          "output_type": "execute_result",
          "data": {
            "text/plain": [
              "(45000, 24)"
            ]
          },
          "metadata": {},
          "execution_count": 332
        }
      ]
    },
    {
      "cell_type": "code",
      "source": [
        "X_test_scaled_df = pd.DataFrame(X_test_scaled)"
      ],
      "metadata": {
        "id": "dDHJCMSlZK61"
      },
      "execution_count": null,
      "outputs": []
    },
    {
      "cell_type": "code",
      "source": [
        "X_test_main_scaled_df = pd.DataFrame(X_test_main_scaled)"
      ],
      "metadata": {
        "id": "KUIhB8k2Zm6R"
      },
      "execution_count": null,
      "outputs": []
    },
    {
      "cell_type": "code",
      "source": [
        "X_test_scaled_df.head()"
      ],
      "metadata": {
        "colab": {
          "base_uri": "https://localhost:8080/",
          "height": 299
        },
        "id": "xSMO6vG7ZxHF",
        "outputId": "dc9afca1-a17e-41fc-ac1b-b149edd79050"
      },
      "execution_count": null,
      "outputs": [
        {
          "output_type": "execute_result",
          "data": {
            "text/plain": [
              "    0         1         2         3    4         5    6         7         8   \\\n",
              "0  0.0  0.000682  0.000000  0.005445  0.0  1.000000  0.0  1.000000  0.939569   \n",
              "1  0.0  0.000000  0.000000  0.032192  0.0  0.224685  0.0  0.044376  0.754708   \n",
              "2  0.0  0.000682  0.000227  0.012890  0.0  0.480527  0.0  0.046440  0.470031   \n",
              "3  0.0  0.000000  0.000000  0.058229  0.0  0.375674  0.0  0.034056  0.485908   \n",
              "4  1.0  0.000568  0.000000  0.003134  0.0  0.651049  0.0  0.051600  1.000000   \n",
              "\n",
              "    9   ...        14        15        16   17   18   19   20        21  \\\n",
              "0  0.0  ...  0.191781  0.000011  1.000000  1.0  0.0  0.0  1.0  0.323232   \n",
              "1  0.0  ...  0.136986  0.378808  0.036513  0.0  0.0  1.0  0.0  0.171717   \n",
              "2  0.0  ...  0.054795  0.000000  0.011753  1.0  0.0  0.0  1.0  0.373737   \n",
              "3  0.0  ...  0.684932  0.000011  0.049977  0.0  0.0  1.0  0.0  0.262626   \n",
              "4  0.0  ...  0.191781  0.000000  0.382131  1.0  0.0  0.0  1.0  0.353535   \n",
              "\n",
              "         22        23  \n",
              "0  0.363636  0.866667  \n",
              "1  0.545455  0.600000  \n",
              "2  0.818182  0.833333  \n",
              "3  0.545455  0.866667  \n",
              "4  0.363636  0.766667  \n",
              "\n",
              "[5 rows x 24 columns]"
            ],
            "text/html": [
              "\n",
              "  <div id=\"df-ed5ee1f9-ffd4-40e3-a46b-c468aea8d1e4\">\n",
              "    <div class=\"colab-df-container\">\n",
              "      <div>\n",
              "<style scoped>\n",
              "    .dataframe tbody tr th:only-of-type {\n",
              "        vertical-align: middle;\n",
              "    }\n",
              "\n",
              "    .dataframe tbody tr th {\n",
              "        vertical-align: top;\n",
              "    }\n",
              "\n",
              "    .dataframe thead th {\n",
              "        text-align: right;\n",
              "    }\n",
              "</style>\n",
              "<table border=\"1\" class=\"dataframe\">\n",
              "  <thead>\n",
              "    <tr style=\"text-align: right;\">\n",
              "      <th></th>\n",
              "      <th>0</th>\n",
              "      <th>1</th>\n",
              "      <th>2</th>\n",
              "      <th>3</th>\n",
              "      <th>4</th>\n",
              "      <th>5</th>\n",
              "      <th>6</th>\n",
              "      <th>7</th>\n",
              "      <th>8</th>\n",
              "      <th>9</th>\n",
              "      <th>...</th>\n",
              "      <th>14</th>\n",
              "      <th>15</th>\n",
              "      <th>16</th>\n",
              "      <th>17</th>\n",
              "      <th>18</th>\n",
              "      <th>19</th>\n",
              "      <th>20</th>\n",
              "      <th>21</th>\n",
              "      <th>22</th>\n",
              "      <th>23</th>\n",
              "    </tr>\n",
              "  </thead>\n",
              "  <tbody>\n",
              "    <tr>\n",
              "      <th>0</th>\n",
              "      <td>0.0</td>\n",
              "      <td>0.000682</td>\n",
              "      <td>0.000000</td>\n",
              "      <td>0.005445</td>\n",
              "      <td>0.0</td>\n",
              "      <td>1.000000</td>\n",
              "      <td>0.0</td>\n",
              "      <td>1.000000</td>\n",
              "      <td>0.939569</td>\n",
              "      <td>0.0</td>\n",
              "      <td>...</td>\n",
              "      <td>0.191781</td>\n",
              "      <td>0.000011</td>\n",
              "      <td>1.000000</td>\n",
              "      <td>1.0</td>\n",
              "      <td>0.0</td>\n",
              "      <td>0.0</td>\n",
              "      <td>1.0</td>\n",
              "      <td>0.323232</td>\n",
              "      <td>0.363636</td>\n",
              "      <td>0.866667</td>\n",
              "    </tr>\n",
              "    <tr>\n",
              "      <th>1</th>\n",
              "      <td>0.0</td>\n",
              "      <td>0.000000</td>\n",
              "      <td>0.000000</td>\n",
              "      <td>0.032192</td>\n",
              "      <td>0.0</td>\n",
              "      <td>0.224685</td>\n",
              "      <td>0.0</td>\n",
              "      <td>0.044376</td>\n",
              "      <td>0.754708</td>\n",
              "      <td>0.0</td>\n",
              "      <td>...</td>\n",
              "      <td>0.136986</td>\n",
              "      <td>0.378808</td>\n",
              "      <td>0.036513</td>\n",
              "      <td>0.0</td>\n",
              "      <td>0.0</td>\n",
              "      <td>1.0</td>\n",
              "      <td>0.0</td>\n",
              "      <td>0.171717</td>\n",
              "      <td>0.545455</td>\n",
              "      <td>0.600000</td>\n",
              "    </tr>\n",
              "    <tr>\n",
              "      <th>2</th>\n",
              "      <td>0.0</td>\n",
              "      <td>0.000682</td>\n",
              "      <td>0.000227</td>\n",
              "      <td>0.012890</td>\n",
              "      <td>0.0</td>\n",
              "      <td>0.480527</td>\n",
              "      <td>0.0</td>\n",
              "      <td>0.046440</td>\n",
              "      <td>0.470031</td>\n",
              "      <td>0.0</td>\n",
              "      <td>...</td>\n",
              "      <td>0.054795</td>\n",
              "      <td>0.000000</td>\n",
              "      <td>0.011753</td>\n",
              "      <td>1.0</td>\n",
              "      <td>0.0</td>\n",
              "      <td>0.0</td>\n",
              "      <td>1.0</td>\n",
              "      <td>0.373737</td>\n",
              "      <td>0.818182</td>\n",
              "      <td>0.833333</td>\n",
              "    </tr>\n",
              "    <tr>\n",
              "      <th>3</th>\n",
              "      <td>0.0</td>\n",
              "      <td>0.000000</td>\n",
              "      <td>0.000000</td>\n",
              "      <td>0.058229</td>\n",
              "      <td>0.0</td>\n",
              "      <td>0.375674</td>\n",
              "      <td>0.0</td>\n",
              "      <td>0.034056</td>\n",
              "      <td>0.485908</td>\n",
              "      <td>0.0</td>\n",
              "      <td>...</td>\n",
              "      <td>0.684932</td>\n",
              "      <td>0.000011</td>\n",
              "      <td>0.049977</td>\n",
              "      <td>0.0</td>\n",
              "      <td>0.0</td>\n",
              "      <td>1.0</td>\n",
              "      <td>0.0</td>\n",
              "      <td>0.262626</td>\n",
              "      <td>0.545455</td>\n",
              "      <td>0.866667</td>\n",
              "    </tr>\n",
              "    <tr>\n",
              "      <th>4</th>\n",
              "      <td>1.0</td>\n",
              "      <td>0.000568</td>\n",
              "      <td>0.000000</td>\n",
              "      <td>0.003134</td>\n",
              "      <td>0.0</td>\n",
              "      <td>0.651049</td>\n",
              "      <td>0.0</td>\n",
              "      <td>0.051600</td>\n",
              "      <td>1.000000</td>\n",
              "      <td>0.0</td>\n",
              "      <td>...</td>\n",
              "      <td>0.191781</td>\n",
              "      <td>0.000000</td>\n",
              "      <td>0.382131</td>\n",
              "      <td>1.0</td>\n",
              "      <td>0.0</td>\n",
              "      <td>0.0</td>\n",
              "      <td>1.0</td>\n",
              "      <td>0.353535</td>\n",
              "      <td>0.363636</td>\n",
              "      <td>0.766667</td>\n",
              "    </tr>\n",
              "  </tbody>\n",
              "</table>\n",
              "<p>5 rows × 24 columns</p>\n",
              "</div>\n",
              "      <button class=\"colab-df-convert\" onclick=\"convertToInteractive('df-ed5ee1f9-ffd4-40e3-a46b-c468aea8d1e4')\"\n",
              "              title=\"Convert this dataframe to an interactive table.\"\n",
              "              style=\"display:none;\">\n",
              "        \n",
              "  <svg xmlns=\"http://www.w3.org/2000/svg\" height=\"24px\"viewBox=\"0 0 24 24\"\n",
              "       width=\"24px\">\n",
              "    <path d=\"M0 0h24v24H0V0z\" fill=\"none\"/>\n",
              "    <path d=\"M18.56 5.44l.94 2.06.94-2.06 2.06-.94-2.06-.94-.94-2.06-.94 2.06-2.06.94zm-11 1L8.5 8.5l.94-2.06 2.06-.94-2.06-.94L8.5 2.5l-.94 2.06-2.06.94zm10 10l.94 2.06.94-2.06 2.06-.94-2.06-.94-.94-2.06-.94 2.06-2.06.94z\"/><path d=\"M17.41 7.96l-1.37-1.37c-.4-.4-.92-.59-1.43-.59-.52 0-1.04.2-1.43.59L10.3 9.45l-7.72 7.72c-.78.78-.78 2.05 0 2.83L4 21.41c.39.39.9.59 1.41.59.51 0 1.02-.2 1.41-.59l7.78-7.78 2.81-2.81c.8-.78.8-2.07 0-2.86zM5.41 20L4 18.59l7.72-7.72 1.47 1.35L5.41 20z\"/>\n",
              "  </svg>\n",
              "      </button>\n",
              "      \n",
              "  <style>\n",
              "    .colab-df-container {\n",
              "      display:flex;\n",
              "      flex-wrap:wrap;\n",
              "      gap: 12px;\n",
              "    }\n",
              "\n",
              "    .colab-df-convert {\n",
              "      background-color: #E8F0FE;\n",
              "      border: none;\n",
              "      border-radius: 50%;\n",
              "      cursor: pointer;\n",
              "      display: none;\n",
              "      fill: #1967D2;\n",
              "      height: 32px;\n",
              "      padding: 0 0 0 0;\n",
              "      width: 32px;\n",
              "    }\n",
              "\n",
              "    .colab-df-convert:hover {\n",
              "      background-color: #E2EBFA;\n",
              "      box-shadow: 0px 1px 2px rgba(60, 64, 67, 0.3), 0px 1px 3px 1px rgba(60, 64, 67, 0.15);\n",
              "      fill: #174EA6;\n",
              "    }\n",
              "\n",
              "    [theme=dark] .colab-df-convert {\n",
              "      background-color: #3B4455;\n",
              "      fill: #D2E3FC;\n",
              "    }\n",
              "\n",
              "    [theme=dark] .colab-df-convert:hover {\n",
              "      background-color: #434B5C;\n",
              "      box-shadow: 0px 1px 3px 1px rgba(0, 0, 0, 0.15);\n",
              "      filter: drop-shadow(0px 1px 2px rgba(0, 0, 0, 0.3));\n",
              "      fill: #FFFFFF;\n",
              "    }\n",
              "  </style>\n",
              "\n",
              "      <script>\n",
              "        const buttonEl =\n",
              "          document.querySelector('#df-ed5ee1f9-ffd4-40e3-a46b-c468aea8d1e4 button.colab-df-convert');\n",
              "        buttonEl.style.display =\n",
              "          google.colab.kernel.accessAllowed ? 'block' : 'none';\n",
              "\n",
              "        async function convertToInteractive(key) {\n",
              "          const element = document.querySelector('#df-ed5ee1f9-ffd4-40e3-a46b-c468aea8d1e4');\n",
              "          const dataTable =\n",
              "            await google.colab.kernel.invokeFunction('convertToInteractive',\n",
              "                                                     [key], {});\n",
              "          if (!dataTable) return;\n",
              "\n",
              "          const docLinkHtml = 'Like what you see? Visit the ' +\n",
              "            '<a target=\"_blank\" href=https://colab.research.google.com/notebooks/data_table.ipynb>data table notebook</a>'\n",
              "            + ' to learn more about interactive tables.';\n",
              "          element.innerHTML = '';\n",
              "          dataTable['output_type'] = 'display_data';\n",
              "          await google.colab.output.renderOutput(dataTable, element);\n",
              "          const docLink = document.createElement('div');\n",
              "          docLink.innerHTML = docLinkHtml;\n",
              "          element.appendChild(docLink);\n",
              "        }\n",
              "      </script>\n",
              "    </div>\n",
              "  </div>\n",
              "  "
            ]
          },
          "metadata": {},
          "execution_count": 341
        }
      ]
    },
    {
      "cell_type": "code",
      "source": [
        "X_test_main_scaled_df.head()"
      ],
      "metadata": {
        "colab": {
          "base_uri": "https://localhost:8080/",
          "height": 299
        },
        "id": "EgpGpz6YZ8UC",
        "outputId": "19987410-e714-4da2-8321-db5cbbb1dc4e"
      },
      "execution_count": null,
      "outputs": [
        {
          "output_type": "execute_result",
          "data": {
            "text/plain": [
              "    0         1         2         3    4         5         6         7   \\\n",
              "0  0.0  0.002159  0.000000  0.011001  0.0  0.560336  0.049525  0.028896   \n",
              "1  0.0  0.000000  0.000000  0.003889  1.0  0.453685  0.000000  0.029928   \n",
              "2  0.0  0.000795  0.000568  0.002111  0.0  0.310965  0.010000  0.003096   \n",
              "3  1.0  0.000227  0.000000  0.005445  0.0  0.790054  0.000000  0.016512   \n",
              "4  0.0  0.000000  0.000000  0.064063  0.0  0.790054  0.000000  0.004128   \n",
              "\n",
              "         8    9   ...        14        15        16   17   18   19   20  \\\n",
              "0  0.133415  0.0  ...  0.086758  0.000000  0.533775  1.0  0.0  0.0  1.0   \n",
              "1  0.472862  0.0  ...  0.136986  0.000011  0.020424  0.0  0.0  1.0  0.0   \n",
              "2  0.276431  0.0  ...  0.123288  0.000011  0.368325  1.0  0.0  0.0  1.0   \n",
              "3  0.154462  0.0  ...  0.027397  0.000011  0.044386  1.0  0.0  0.0  1.0   \n",
              "4  0.154462  0.0  ...  0.333333  0.000011  0.008101  0.0  1.0  0.0  0.0   \n",
              "\n",
              "         21        22        23  \n",
              "0  0.343434  0.181818  0.266667  \n",
              "1  0.222222  1.000000  0.433333  \n",
              "2  0.343434  0.636364  0.800000  \n",
              "3  0.282828  0.454545  0.900000  \n",
              "4  0.333333  0.363636  0.033333  \n",
              "\n",
              "[5 rows x 24 columns]"
            ],
            "text/html": [
              "\n",
              "  <div id=\"df-a4f206f5-713b-4245-b924-a57d1b89aa9b\">\n",
              "    <div class=\"colab-df-container\">\n",
              "      <div>\n",
              "<style scoped>\n",
              "    .dataframe tbody tr th:only-of-type {\n",
              "        vertical-align: middle;\n",
              "    }\n",
              "\n",
              "    .dataframe tbody tr th {\n",
              "        vertical-align: top;\n",
              "    }\n",
              "\n",
              "    .dataframe thead th {\n",
              "        text-align: right;\n",
              "    }\n",
              "</style>\n",
              "<table border=\"1\" class=\"dataframe\">\n",
              "  <thead>\n",
              "    <tr style=\"text-align: right;\">\n",
              "      <th></th>\n",
              "      <th>0</th>\n",
              "      <th>1</th>\n",
              "      <th>2</th>\n",
              "      <th>3</th>\n",
              "      <th>4</th>\n",
              "      <th>5</th>\n",
              "      <th>6</th>\n",
              "      <th>7</th>\n",
              "      <th>8</th>\n",
              "      <th>9</th>\n",
              "      <th>...</th>\n",
              "      <th>14</th>\n",
              "      <th>15</th>\n",
              "      <th>16</th>\n",
              "      <th>17</th>\n",
              "      <th>18</th>\n",
              "      <th>19</th>\n",
              "      <th>20</th>\n",
              "      <th>21</th>\n",
              "      <th>22</th>\n",
              "      <th>23</th>\n",
              "    </tr>\n",
              "  </thead>\n",
              "  <tbody>\n",
              "    <tr>\n",
              "      <th>0</th>\n",
              "      <td>0.0</td>\n",
              "      <td>0.002159</td>\n",
              "      <td>0.000000</td>\n",
              "      <td>0.011001</td>\n",
              "      <td>0.0</td>\n",
              "      <td>0.560336</td>\n",
              "      <td>0.049525</td>\n",
              "      <td>0.028896</td>\n",
              "      <td>0.133415</td>\n",
              "      <td>0.0</td>\n",
              "      <td>...</td>\n",
              "      <td>0.086758</td>\n",
              "      <td>0.000000</td>\n",
              "      <td>0.533775</td>\n",
              "      <td>1.0</td>\n",
              "      <td>0.0</td>\n",
              "      <td>0.0</td>\n",
              "      <td>1.0</td>\n",
              "      <td>0.343434</td>\n",
              "      <td>0.181818</td>\n",
              "      <td>0.266667</td>\n",
              "    </tr>\n",
              "    <tr>\n",
              "      <th>1</th>\n",
              "      <td>0.0</td>\n",
              "      <td>0.000000</td>\n",
              "      <td>0.000000</td>\n",
              "      <td>0.003889</td>\n",
              "      <td>1.0</td>\n",
              "      <td>0.453685</td>\n",
              "      <td>0.000000</td>\n",
              "      <td>0.029928</td>\n",
              "      <td>0.472862</td>\n",
              "      <td>0.0</td>\n",
              "      <td>...</td>\n",
              "      <td>0.136986</td>\n",
              "      <td>0.000011</td>\n",
              "      <td>0.020424</td>\n",
              "      <td>0.0</td>\n",
              "      <td>0.0</td>\n",
              "      <td>1.0</td>\n",
              "      <td>0.0</td>\n",
              "      <td>0.222222</td>\n",
              "      <td>1.000000</td>\n",
              "      <td>0.433333</td>\n",
              "    </tr>\n",
              "    <tr>\n",
              "      <th>2</th>\n",
              "      <td>0.0</td>\n",
              "      <td>0.000795</td>\n",
              "      <td>0.000568</td>\n",
              "      <td>0.002111</td>\n",
              "      <td>0.0</td>\n",
              "      <td>0.310965</td>\n",
              "      <td>0.010000</td>\n",
              "      <td>0.003096</td>\n",
              "      <td>0.276431</td>\n",
              "      <td>0.0</td>\n",
              "      <td>...</td>\n",
              "      <td>0.123288</td>\n",
              "      <td>0.000011</td>\n",
              "      <td>0.368325</td>\n",
              "      <td>1.0</td>\n",
              "      <td>0.0</td>\n",
              "      <td>0.0</td>\n",
              "      <td>1.0</td>\n",
              "      <td>0.343434</td>\n",
              "      <td>0.636364</td>\n",
              "      <td>0.800000</td>\n",
              "    </tr>\n",
              "    <tr>\n",
              "      <th>3</th>\n",
              "      <td>1.0</td>\n",
              "      <td>0.000227</td>\n",
              "      <td>0.000000</td>\n",
              "      <td>0.005445</td>\n",
              "      <td>0.0</td>\n",
              "      <td>0.790054</td>\n",
              "      <td>0.000000</td>\n",
              "      <td>0.016512</td>\n",
              "      <td>0.154462</td>\n",
              "      <td>0.0</td>\n",
              "      <td>...</td>\n",
              "      <td>0.027397</td>\n",
              "      <td>0.000011</td>\n",
              "      <td>0.044386</td>\n",
              "      <td>1.0</td>\n",
              "      <td>0.0</td>\n",
              "      <td>0.0</td>\n",
              "      <td>1.0</td>\n",
              "      <td>0.282828</td>\n",
              "      <td>0.454545</td>\n",
              "      <td>0.900000</td>\n",
              "    </tr>\n",
              "    <tr>\n",
              "      <th>4</th>\n",
              "      <td>0.0</td>\n",
              "      <td>0.000000</td>\n",
              "      <td>0.000000</td>\n",
              "      <td>0.064063</td>\n",
              "      <td>0.0</td>\n",
              "      <td>0.790054</td>\n",
              "      <td>0.000000</td>\n",
              "      <td>0.004128</td>\n",
              "      <td>0.154462</td>\n",
              "      <td>0.0</td>\n",
              "      <td>...</td>\n",
              "      <td>0.333333</td>\n",
              "      <td>0.000011</td>\n",
              "      <td>0.008101</td>\n",
              "      <td>0.0</td>\n",
              "      <td>1.0</td>\n",
              "      <td>0.0</td>\n",
              "      <td>0.0</td>\n",
              "      <td>0.333333</td>\n",
              "      <td>0.363636</td>\n",
              "      <td>0.033333</td>\n",
              "    </tr>\n",
              "  </tbody>\n",
              "</table>\n",
              "<p>5 rows × 24 columns</p>\n",
              "</div>\n",
              "      <button class=\"colab-df-convert\" onclick=\"convertToInteractive('df-a4f206f5-713b-4245-b924-a57d1b89aa9b')\"\n",
              "              title=\"Convert this dataframe to an interactive table.\"\n",
              "              style=\"display:none;\">\n",
              "        \n",
              "  <svg xmlns=\"http://www.w3.org/2000/svg\" height=\"24px\"viewBox=\"0 0 24 24\"\n",
              "       width=\"24px\">\n",
              "    <path d=\"M0 0h24v24H0V0z\" fill=\"none\"/>\n",
              "    <path d=\"M18.56 5.44l.94 2.06.94-2.06 2.06-.94-2.06-.94-.94-2.06-.94 2.06-2.06.94zm-11 1L8.5 8.5l.94-2.06 2.06-.94-2.06-.94L8.5 2.5l-.94 2.06-2.06.94zm10 10l.94 2.06.94-2.06 2.06-.94-2.06-.94-.94-2.06-.94 2.06-2.06.94z\"/><path d=\"M17.41 7.96l-1.37-1.37c-.4-.4-.92-.59-1.43-.59-.52 0-1.04.2-1.43.59L10.3 9.45l-7.72 7.72c-.78.78-.78 2.05 0 2.83L4 21.41c.39.39.9.59 1.41.59.51 0 1.02-.2 1.41-.59l7.78-7.78 2.81-2.81c.8-.78.8-2.07 0-2.86zM5.41 20L4 18.59l7.72-7.72 1.47 1.35L5.41 20z\"/>\n",
              "  </svg>\n",
              "      </button>\n",
              "      \n",
              "  <style>\n",
              "    .colab-df-container {\n",
              "      display:flex;\n",
              "      flex-wrap:wrap;\n",
              "      gap: 12px;\n",
              "    }\n",
              "\n",
              "    .colab-df-convert {\n",
              "      background-color: #E8F0FE;\n",
              "      border: none;\n",
              "      border-radius: 50%;\n",
              "      cursor: pointer;\n",
              "      display: none;\n",
              "      fill: #1967D2;\n",
              "      height: 32px;\n",
              "      padding: 0 0 0 0;\n",
              "      width: 32px;\n",
              "    }\n",
              "\n",
              "    .colab-df-convert:hover {\n",
              "      background-color: #E2EBFA;\n",
              "      box-shadow: 0px 1px 2px rgba(60, 64, 67, 0.3), 0px 1px 3px 1px rgba(60, 64, 67, 0.15);\n",
              "      fill: #174EA6;\n",
              "    }\n",
              "\n",
              "    [theme=dark] .colab-df-convert {\n",
              "      background-color: #3B4455;\n",
              "      fill: #D2E3FC;\n",
              "    }\n",
              "\n",
              "    [theme=dark] .colab-df-convert:hover {\n",
              "      background-color: #434B5C;\n",
              "      box-shadow: 0px 1px 3px 1px rgba(0, 0, 0, 0.15);\n",
              "      filter: drop-shadow(0px 1px 2px rgba(0, 0, 0, 0.3));\n",
              "      fill: #FFFFFF;\n",
              "    }\n",
              "  </style>\n",
              "\n",
              "      <script>\n",
              "        const buttonEl =\n",
              "          document.querySelector('#df-a4f206f5-713b-4245-b924-a57d1b89aa9b button.colab-df-convert');\n",
              "        buttonEl.style.display =\n",
              "          google.colab.kernel.accessAllowed ? 'block' : 'none';\n",
              "\n",
              "        async function convertToInteractive(key) {\n",
              "          const element = document.querySelector('#df-a4f206f5-713b-4245-b924-a57d1b89aa9b');\n",
              "          const dataTable =\n",
              "            await google.colab.kernel.invokeFunction('convertToInteractive',\n",
              "                                                     [key], {});\n",
              "          if (!dataTable) return;\n",
              "\n",
              "          const docLinkHtml = 'Like what you see? Visit the ' +\n",
              "            '<a target=\"_blank\" href=https://colab.research.google.com/notebooks/data_table.ipynb>data table notebook</a>'\n",
              "            + ' to learn more about interactive tables.';\n",
              "          element.innerHTML = '';\n",
              "          dataTable['output_type'] = 'display_data';\n",
              "          await google.colab.output.renderOutput(dataTable, element);\n",
              "          const docLink = document.createElement('div');\n",
              "          docLink.innerHTML = docLinkHtml;\n",
              "          element.appendChild(docLink);\n",
              "        }\n",
              "      </script>\n",
              "    </div>\n",
              "  </div>\n",
              "  "
            ]
          },
          "metadata": {},
          "execution_count": 342
        }
      ]
    },
    {
      "cell_type": "code",
      "source": [
        "X_test_scaled.shape"
      ],
      "metadata": {
        "colab": {
          "base_uri": "https://localhost:8080/"
        },
        "id": "J3fHxloHY9ul",
        "outputId": "190b98e4-a92a-4890-a903-e7ae4c8a579d"
      },
      "execution_count": null,
      "outputs": [
        {
          "output_type": "execute_result",
          "data": {
            "text/plain": [
              "(10923, 24)"
            ]
          },
          "metadata": {},
          "execution_count": 333
        }
      ]
    },
    {
      "cell_type": "code",
      "execution_count": null,
      "metadata": {
        "colab": {
          "base_uri": "https://localhost:8080/",
          "height": 530
        },
        "id": "v5IQKiUbGg7s",
        "outputId": "e9876269-62dc-497a-a0bf-e879739358d8"
      },
      "outputs": [
        {
          "output_type": "stream",
          "name": "stdout",
          "text": [
            "342/342 [==============================] - 0s 879us/step\n"
          ]
        },
        {
          "output_type": "display_data",
          "data": {
            "text/plain": [
              "<Figure size 576x576 with 2 Axes>"
            ],
            "image/png": "[encoded data removed]"
          },
          "metadata": {
            "needs_background": "light"
          }
        }
      ],
      "source": [
        "# Plot a heatmap in order to see the correct and wrong classifications.\n",
        "fig, ax=plt.subplots(figsize=(8,8))\n",
        "predict_results = model.predict(X_test_scaled)\n",
        "predict_results = (predict_results >0.5)\n",
        "cm = confusion_matrix(y_test, predict_results)\n",
        "sns.heatmap(cm,\n",
        "            fmt='.0f',\n",
        "            linewidths=0.1,\n",
        "            linecolor='gray',\n",
        "            annot=True,\n",
        "            ax=ax)\n",
        "ax.set_xlabel('Predicted labels')\n",
        "ax.set_ylabel('True labels')\n",
        "ax.set_title('Confusion Matrix')\n",
        "ax.xaxis.set_ticklabels(['Positive', 'Negative'])\n",
        "ax.yaxis.set_ticklabels(['True', 'False'])\n",
        "plt.show()"
      ]
    },
    {
      "cell_type": "code",
      "source": [
        "preds = model.predict(X_test_main_scaled)"
      ],
      "metadata": {
        "colab": {
          "base_uri": "https://localhost:8080/"
        },
        "id": "3jgW9nlPbWP2",
        "outputId": "c153443d-dbb8-405e-ed48-e0309a5bd629"
      },
      "execution_count": null,
      "outputs": [
        {
          "output_type": "stream",
          "name": "stdout",
          "text": [
            "1407/1407 [==============================] - 1s 875us/step\n"
          ]
        }
      ]
    },
    {
      "cell_type": "code",
      "execution_count": null,
      "metadata": {
        "id": "Epnha_cgIp4o"
      },
      "outputs": [],
      "source": [
        "preds_df = pd.DataFrame(preds)"
      ]
    },
    {
      "cell_type": "code",
      "source": [
        "preds2 = (model.predict(X_test_main_scaled) > 0.5).astype(\"int32\")"
      ],
      "metadata": {
        "colab": {
          "base_uri": "https://localhost:8080/"
        },
        "id": "t4DD4b6pfwnq",
        "outputId": "9871e087-5226-405f-d26d-054d28119d47"
      },
      "execution_count": null,
      "outputs": [
        {
          "output_type": "stream",
          "name": "stdout",
          "text": [
            "1407/1407 [==============================] - 1s 889us/step\n"
          ]
        }
      ]
    },
    {
      "cell_type": "code",
      "source": [
        "preds2_df = pd.DataFrame(preds2)"
      ],
      "metadata": {
        "id": "sB6W0_5qgOAn"
      },
      "execution_count": null,
      "outputs": []
    },
    {
      "cell_type": "code",
      "source": [
        "preds2_df.head()"
      ],
      "metadata": {
        "colab": {
          "base_uri": "https://localhost:8080/",
          "height": 206
        },
        "id": "wD0mvNJNgZ0b",
        "outputId": "3c99a2e6-ad55-4a6b-ad49-1c69ee908912"
      },
      "execution_count": null,
      "outputs": [
        {
          "output_type": "execute_result",
          "data": {
            "text/plain": [
              "   0\n",
              "0  1\n",
              "1  0\n",
              "2  1\n",
              "3  0\n",
              "4  0"
            ],
            "text/html": [
              "\n",
              "  <div id=\"df-c56868d0-1368-4707-923d-de8840ec8252\">\n",
              "    <div class=\"colab-df-container\">\n",
              "      <div>\n",
              "<style scoped>\n",
              "    .dataframe tbody tr th:only-of-type {\n",
              "        vertical-align: middle;\n",
              "    }\n",
              "\n",
              "    .dataframe tbody tr th {\n",
              "        vertical-align: top;\n",
              "    }\n",
              "\n",
              "    .dataframe thead th {\n",
              "        text-align: right;\n",
              "    }\n",
              "</style>\n",
              "<table border=\"1\" class=\"dataframe\">\n",
              "  <thead>\n",
              "    <tr style=\"text-align: right;\">\n",
              "      <th></th>\n",
              "      <th>0</th>\n",
              "    </tr>\n",
              "  </thead>\n",
              "  <tbody>\n",
              "    <tr>\n",
              "      <th>0</th>\n",
              "      <td>1</td>\n",
              "    </tr>\n",
              "    <tr>\n",
              "      <th>1</th>\n",
              "      <td>0</td>\n",
              "    </tr>\n",
              "    <tr>\n",
              "      <th>2</th>\n",
              "      <td>1</td>\n",
              "    </tr>\n",
              "    <tr>\n",
              "      <th>3</th>\n",
              "      <td>0</td>\n",
              "    </tr>\n",
              "    <tr>\n",
              "      <th>4</th>\n",
              "      <td>0</td>\n",
              "    </tr>\n",
              "  </tbody>\n",
              "</table>\n",
              "</div>\n",
              "      <button class=\"colab-df-convert\" onclick=\"convertToInteractive('df-c56868d0-1368-4707-923d-de8840ec8252')\"\n",
              "              title=\"Convert this dataframe to an interactive table.\"\n",
              "              style=\"display:none;\">\n",
              "        \n",
              "  <svg xmlns=\"http://www.w3.org/2000/svg\" height=\"24px\"viewBox=\"0 0 24 24\"\n",
              "       width=\"24px\">\n",
              "    <path d=\"M0 0h24v24H0V0z\" fill=\"none\"/>\n",
              "    <path d=\"M18.56 5.44l.94 2.06.94-2.06 2.06-.94-2.06-.94-.94-2.06-.94 2.06-2.06.94zm-11 1L8.5 8.5l.94-2.06 2.06-.94-2.06-.94L8.5 2.5l-.94 2.06-2.06.94zm10 10l.94 2.06.94-2.06 2.06-.94-2.06-.94-.94-2.06-.94 2.06-2.06.94z\"/><path d=\"M17.41 7.96l-1.37-1.37c-.4-.4-.92-.59-1.43-.59-.52 0-1.04.2-1.43.59L10.3 9.45l-7.72 7.72c-.78.78-.78 2.05 0 2.83L4 21.41c.39.39.9.59 1.41.59.51 0 1.02-.2 1.41-.59l7.78-7.78 2.81-2.81c.8-.78.8-2.07 0-2.86zM5.41 20L4 18.59l7.72-7.72 1.47 1.35L5.41 20z\"/>\n",
              "  </svg>\n",
              "      </button>\n",
              "      \n",
              "  <style>\n",
              "    .colab-df-container {\n",
              "      display:flex;\n",
              "      flex-wrap:wrap;\n",
              "      gap: 12px;\n",
              "    }\n",
              "\n",
              "    .colab-df-convert {\n",
              "      background-color: #E8F0FE;\n",
              "      border: none;\n",
              "      border-radius: 50%;\n",
              "      cursor: pointer;\n",
              "      display: none;\n",
              "      fill: #1967D2;\n",
              "      height: 32px;\n",
              "      padding: 0 0 0 0;\n",
              "      width: 32px;\n",
              "    }\n",
              "\n",
              "    .colab-df-convert:hover {\n",
              "      background-color: #E2EBFA;\n",
              "      box-shadow: 0px 1px 2px rgba(60, 64, 67, 0.3), 0px 1px 3px 1px rgba(60, 64, 67, 0.15);\n",
              "      fill: #174EA6;\n",
              "    }\n",
              "\n",
              "    [theme=dark] .colab-df-convert {\n",
              "      background-color: #3B4455;\n",
              "      fill: #D2E3FC;\n",
              "    }\n",
              "\n",
              "    [theme=dark] .colab-df-convert:hover {\n",
              "      background-color: #434B5C;\n",
              "      box-shadow: 0px 1px 3px 1px rgba(0, 0, 0, 0.15);\n",
              "      filter: drop-shadow(0px 1px 2px rgba(0, 0, 0, 0.3));\n",
              "      fill: #FFFFFF;\n",
              "    }\n",
              "  </style>\n",
              "\n",
              "      <script>\n",
              "        const buttonEl =\n",
              "          document.querySelector('#df-c56868d0-1368-4707-923d-de8840ec8252 button.colab-df-convert');\n",
              "        buttonEl.style.display =\n",
              "          google.colab.kernel.accessAllowed ? 'block' : 'none';\n",
              "\n",
              "        async function convertToInteractive(key) {\n",
              "          const element = document.querySelector('#df-c56868d0-1368-4707-923d-de8840ec8252');\n",
              "          const dataTable =\n",
              "            await google.colab.kernel.invokeFunction('convertToInteractive',\n",
              "                                                     [key], {});\n",
              "          if (!dataTable) return;\n",
              "\n",
              "          const docLinkHtml = 'Like what you see? Visit the ' +\n",
              "            '<a target=\"_blank\" href=https://colab.research.google.com/notebooks/data_table.ipynb>data table notebook</a>'\n",
              "            + ' to learn more about interactive tables.';\n",
              "          element.innerHTML = '';\n",
              "          dataTable['output_type'] = 'display_data';\n",
              "          await google.colab.output.renderOutput(dataTable, element);\n",
              "          const docLink = document.createElement('div');\n",
              "          docLink.innerHTML = docLinkHtml;\n",
              "          element.appendChild(docLink);\n",
              "        }\n",
              "      </script>\n",
              "    </div>\n",
              "  </div>\n",
              "  "
            ]
          },
          "metadata": {},
          "execution_count": 350
        }
      ]
    },
    {
      "cell_type": "code",
      "source": [
        "preds2.shape"
      ],
      "metadata": {
        "colab": {
          "base_uri": "https://localhost:8080/"
        },
        "id": "vIw1uwt2goJ3",
        "outputId": "45a0b90f-bf04-4bd4-c7a1-c03e39cec8b1"
      },
      "execution_count": null,
      "outputs": [
        {
          "output_type": "execute_result",
          "data": {
            "text/plain": [
              "(45000, 1)"
            ]
          },
          "metadata": {},
          "execution_count": 351
        }
      ]
    },
    {
      "cell_type": "code",
      "source": [
        "df_test_cpy = df_test_cpy.drop('Default',axis=1)\n",
        "df_test_cpy['Default'] = preds2_df\n",
        "sample = df_test_cpy[['ID', 'Default']]\n",
        "sample.to_csv(\"loan_default_pred_nn.csv\")"
      ],
      "metadata": {
        "id": "lZ-YZdIug8x4"
      },
      "execution_count": null,
      "outputs": []
    },
    {
      "cell_type": "code",
      "execution_count": null,
      "metadata": {
        "colab": {
          "base_uri": "https://localhost:8080/",
          "height": 206
        },
        "id": "Qf0XwLSiItsy",
        "outputId": "4824df7c-e333-4de6-fd77-c804eb457def"
      },
      "outputs": [
        {
          "output_type": "execute_result",
          "data": {
            "text/plain": [
              "              0\n",
              "0  9.994704e-01\n",
              "1  5.164574e-07\n",
              "2  9.958088e-01\n",
              "3  6.938657e-09\n",
              "4  3.481263e-10"
            ],
            "text/html": [
              "\n",
              "  <div id=\"df-66f26ef7-7bc3-4248-bf77-02e5b3fb2713\">\n",
              "    <div class=\"colab-df-container\">\n",
              "      <div>\n",
              "<style scoped>\n",
              "    .dataframe tbody tr th:only-of-type {\n",
              "        vertical-align: middle;\n",
              "    }\n",
              "\n",
              "    .dataframe tbody tr th {\n",
              "        vertical-align: top;\n",
              "    }\n",
              "\n",
              "    .dataframe thead th {\n",
              "        text-align: right;\n",
              "    }\n",
              "</style>\n",
              "<table border=\"1\" class=\"dataframe\">\n",
              "  <thead>\n",
              "    <tr style=\"text-align: right;\">\n",
              "      <th></th>\n",
              "      <th>0</th>\n",
              "    </tr>\n",
              "  </thead>\n",
              "  <tbody>\n",
              "    <tr>\n",
              "      <th>0</th>\n",
              "      <td>9.994704e-01</td>\n",
              "    </tr>\n",
              "    <tr>\n",
              "      <th>1</th>\n",
              "      <td>5.164574e-07</td>\n",
              "    </tr>\n",
              "    <tr>\n",
              "      <th>2</th>\n",
              "      <td>9.958088e-01</td>\n",
              "    </tr>\n",
              "    <tr>\n",
              "      <th>3</th>\n",
              "      <td>6.938657e-09</td>\n",
              "    </tr>\n",
              "    <tr>\n",
              "      <th>4</th>\n",
              "      <td>3.481263e-10</td>\n",
              "    </tr>\n",
              "  </tbody>\n",
              "</table>\n",
              "</div>\n",
              "      <button class=\"colab-df-convert\" onclick=\"convertToInteractive('df-66f26ef7-7bc3-4248-bf77-02e5b3fb2713')\"\n",
              "              title=\"Convert this dataframe to an interactive table.\"\n",
              "              style=\"display:none;\">\n",
              "        \n",
              "  <svg xmlns=\"http://www.w3.org/2000/svg\" height=\"24px\"viewBox=\"0 0 24 24\"\n",
              "       width=\"24px\">\n",
              "    <path d=\"M0 0h24v24H0V0z\" fill=\"none\"/>\n",
              "    <path d=\"M18.56 5.44l.94 2.06.94-2.06 2.06-.94-2.06-.94-.94-2.06-.94 2.06-2.06.94zm-11 1L8.5 8.5l.94-2.06 2.06-.94-2.06-.94L8.5 2.5l-.94 2.06-2.06.94zm10 10l.94 2.06.94-2.06 2.06-.94-2.06-.94-.94-2.06-.94 2.06-2.06.94z\"/><path d=\"M17.41 7.96l-1.37-1.37c-.4-.4-.92-.59-1.43-.59-.52 0-1.04.2-1.43.59L10.3 9.45l-7.72 7.72c-.78.78-.78 2.05 0 2.83L4 21.41c.39.39.9.59 1.41.59.51 0 1.02-.2 1.41-.59l7.78-7.78 2.81-2.81c.8-.78.8-2.07 0-2.86zM5.41 20L4 18.59l7.72-7.72 1.47 1.35L5.41 20z\"/>\n",
              "  </svg>\n",
              "      </button>\n",
              "      \n",
              "  <style>\n",
              "    .colab-df-container {\n",
              "      display:flex;\n",
              "      flex-wrap:wrap;\n",
              "      gap: 12px;\n",
              "    }\n",
              "\n",
              "    .colab-df-convert {\n",
              "      background-color: #E8F0FE;\n",
              "      border: none;\n",
              "      border-radius: 50%;\n",
              "      cursor: pointer;\n",
              "      display: none;\n",
              "      fill: #1967D2;\n",
              "      height: 32px;\n",
              "      padding: 0 0 0 0;\n",
              "      width: 32px;\n",
              "    }\n",
              "\n",
              "    .colab-df-convert:hover {\n",
              "      background-color: #E2EBFA;\n",
              "      box-shadow: 0px 1px 2px rgba(60, 64, 67, 0.3), 0px 1px 3px 1px rgba(60, 64, 67, 0.15);\n",
              "      fill: #174EA6;\n",
              "    }\n",
              "\n",
              "    [theme=dark] .colab-df-convert {\n",
              "      background-color: #3B4455;\n",
              "      fill: #D2E3FC;\n",
              "    }\n",
              "\n",
              "    [theme=dark] .colab-df-convert:hover {\n",
              "      background-color: #434B5C;\n",
              "      box-shadow: 0px 1px 3px 1px rgba(0, 0, 0, 0.15);\n",
              "      filter: drop-shadow(0px 1px 2px rgba(0, 0, 0, 0.3));\n",
              "      fill: #FFFFFF;\n",
              "    }\n",
              "  </style>\n",
              "\n",
              "      <script>\n",
              "        const buttonEl =\n",
              "          document.querySelector('#df-66f26ef7-7bc3-4248-bf77-02e5b3fb2713 button.colab-df-convert');\n",
              "        buttonEl.style.display =\n",
              "          google.colab.kernel.accessAllowed ? 'block' : 'none';\n",
              "\n",
              "        async function convertToInteractive(key) {\n",
              "          const element = document.querySelector('#df-66f26ef7-7bc3-4248-bf77-02e5b3fb2713');\n",
              "          const dataTable =\n",
              "            await google.colab.kernel.invokeFunction('convertToInteractive',\n",
              "                                                     [key], {});\n",
              "          if (!dataTable) return;\n",
              "\n",
              "          const docLinkHtml = 'Like what you see? Visit the ' +\n",
              "            '<a target=\"_blank\" href=https://colab.research.google.com/notebooks/data_table.ipynb>data table notebook</a>'\n",
              "            + ' to learn more about interactive tables.';\n",
              "          element.innerHTML = '';\n",
              "          dataTable['output_type'] = 'display_data';\n",
              "          await google.colab.output.renderOutput(dataTable, element);\n",
              "          const docLink = document.createElement('div');\n",
              "          docLink.innerHTML = docLinkHtml;\n",
              "          element.appendChild(docLink);\n",
              "        }\n",
              "      </script>\n",
              "    </div>\n",
              "  </div>\n",
              "  "
            ]
          },
          "metadata": {},
          "execution_count": 346
        }
      ],
      "source": [
        "preds_df.head()"
      ]
    },
    {
      "cell_type": "code",
      "source": [],
      "metadata": {
        "id": "Y2YnqFPCg6sf"
      },
      "execution_count": null,
      "outputs": []
    },
    {
      "cell_type": "code",
      "execution_count": null,
      "metadata": {
        "id": "H84Hupf8JQsU"
      },
      "outputs": [],
      "source": [
        "# Create the Roc curve of the predictions.\n",
        "false_positive_rate, true_positive_rate, threshold = roc_curve(y_test, model.predict(X_test_main_scaled))\n",
        "print('roc_auc_score for Model: ', roc_auc_score(y_test, model.predict(X_test_main_scaled)))\n",
        "\n",
        "plt.figure(figsize=(12,8))\n",
        "plt.title(\"Model's - Roc\")\n",
        "plt.plot(false_positive_rate, true_positive_rate, linewidth=4)\n",
        "plt.plot([0, 1], ls=\"--\")\n",
        "plt.plot([0, 0], [1, 0] , c=\".7\"), plt.plot([1, 1] , c=\".7\")\n",
        "plt.ylabel('True Positive Rate')\n",
        "plt.xlabel('False Positive Rate')\n",
        "plt.grid(True,axis='y', color='w', linestyle='-', linewidth=0.5)\n",
        "plt.gca().patch.set_facecolor('0.8')\n",
        "plt.show()"
      ]
    },
    {
      "cell_type": "code",
      "execution_count": null,
      "metadata": {
        "id": "fxpHMmJeJmaP"
      },
      "outputs": [],
      "source": []
    }
  ],
  "metadata": {
    "accelerator": "GPU",
    "colab": {
      "provenance": [],
      "collapsed_sections": [
        "gmBnvEmYBkGs"
      ],
      "authorship_tag": "ABX9TyNbAxTmIeYJXSLMVarhX+sg",
      "include_colab_link": true
    },
    "gpuClass": "standard",
    "kernelspec": {
      "display_name": "Python 3",
      "name": "python3"
    },
    "language_info": {
      "name": "python"
    }
  },
  "nbformat": 4,
  "nbformat_minor": 0
}